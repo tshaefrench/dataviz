{
 "cells": [
  {
   "cell_type": "code",
   "execution_count": 25,
   "metadata": {},
   "outputs": [],
   "source": [
    "import pandas as pd\n",
    "import numpy as np\n",
    "import matplotlib.pyplot as plt\n",
    "import scipy.stats as stats\n",
    "%matplotlib inline"
   ]
  },
  {
   "cell_type": "code",
   "execution_count": 2,
   "metadata": {},
   "outputs": [],
   "source": [
    "df = pd.read_csv(\"https://raw.githubusercontent.com/Thinkful-Ed/data-201-resources/master/ESS_practice_data/ESSdata_Thinkful.csv\")"
   ]
  },
  {
   "cell_type": "code",
   "execution_count": 4,
   "metadata": {},
   "outputs": [
    {
     "data": {
      "text/html": [
       "<div>\n",
       "<style scoped>\n",
       "    .dataframe tbody tr th:only-of-type {\n",
       "        vertical-align: middle;\n",
       "    }\n",
       "\n",
       "    .dataframe tbody tr th {\n",
       "        vertical-align: top;\n",
       "    }\n",
       "\n",
       "    .dataframe thead th {\n",
       "        text-align: right;\n",
       "    }\n",
       "</style>\n",
       "<table border=\"1\" class=\"dataframe\">\n",
       "  <thead>\n",
       "    <tr style=\"text-align: right;\">\n",
       "      <th></th>\n",
       "      <th>cntry</th>\n",
       "      <th>idno</th>\n",
       "      <th>year</th>\n",
       "      <th>tvtot</th>\n",
       "      <th>ppltrst</th>\n",
       "      <th>pplfair</th>\n",
       "      <th>pplhlp</th>\n",
       "      <th>happy</th>\n",
       "      <th>sclmeet</th>\n",
       "      <th>sclact</th>\n",
       "      <th>gndr</th>\n",
       "      <th>agea</th>\n",
       "      <th>partner</th>\n",
       "    </tr>\n",
       "  </thead>\n",
       "  <tbody>\n",
       "    <tr>\n",
       "      <th>7834</th>\n",
       "      <td>SE</td>\n",
       "      <td>576.0</td>\n",
       "      <td>7</td>\n",
       "      <td>7.0</td>\n",
       "      <td>5.0</td>\n",
       "      <td>8.0</td>\n",
       "      <td>8.0</td>\n",
       "      <td>6.0</td>\n",
       "      <td>6.0</td>\n",
       "      <td>1.0</td>\n",
       "      <td>1.0</td>\n",
       "      <td>71.0</td>\n",
       "      <td>1.0</td>\n",
       "    </tr>\n",
       "    <tr>\n",
       "      <th>5538</th>\n",
       "      <td>NO</td>\n",
       "      <td>11130.0</td>\n",
       "      <td>6</td>\n",
       "      <td>2.0</td>\n",
       "      <td>3.0</td>\n",
       "      <td>3.0</td>\n",
       "      <td>2.0</td>\n",
       "      <td>9.0</td>\n",
       "      <td>6.0</td>\n",
       "      <td>4.0</td>\n",
       "      <td>1.0</td>\n",
       "      <td>54.0</td>\n",
       "      <td>1.0</td>\n",
       "    </tr>\n",
       "    <tr>\n",
       "      <th>2218</th>\n",
       "      <td>CZ</td>\n",
       "      <td>1015.0</td>\n",
       "      <td>7</td>\n",
       "      <td>2.0</td>\n",
       "      <td>8.0</td>\n",
       "      <td>4.0</td>\n",
       "      <td>3.0</td>\n",
       "      <td>5.0</td>\n",
       "      <td>3.0</td>\n",
       "      <td>2.0</td>\n",
       "      <td>2.0</td>\n",
       "      <td>40.0</td>\n",
       "      <td>2.0</td>\n",
       "    </tr>\n",
       "    <tr>\n",
       "      <th>6812</th>\n",
       "      <td>SE</td>\n",
       "      <td>225.0</td>\n",
       "      <td>6</td>\n",
       "      <td>6.0</td>\n",
       "      <td>10.0</td>\n",
       "      <td>8.0</td>\n",
       "      <td>10.0</td>\n",
       "      <td>10.0</td>\n",
       "      <td>6.0</td>\n",
       "      <td>1.0</td>\n",
       "      <td>1.0</td>\n",
       "      <td>80.0</td>\n",
       "      <td>2.0</td>\n",
       "    </tr>\n",
       "    <tr>\n",
       "      <th>3198</th>\n",
       "      <td>ES</td>\n",
       "      <td>818.0</td>\n",
       "      <td>6</td>\n",
       "      <td>3.0</td>\n",
       "      <td>8.0</td>\n",
       "      <td>7.0</td>\n",
       "      <td>8.0</td>\n",
       "      <td>8.0</td>\n",
       "      <td>6.0</td>\n",
       "      <td>4.0</td>\n",
       "      <td>2.0</td>\n",
       "      <td>22.0</td>\n",
       "      <td>2.0</td>\n",
       "    </tr>\n",
       "    <tr>\n",
       "      <th>1958</th>\n",
       "      <td>CZ</td>\n",
       "      <td>1418.0</td>\n",
       "      <td>6</td>\n",
       "      <td>7.0</td>\n",
       "      <td>0.0</td>\n",
       "      <td>2.0</td>\n",
       "      <td>2.0</td>\n",
       "      <td>8.0</td>\n",
       "      <td>6.0</td>\n",
       "      <td>4.0</td>\n",
       "      <td>1.0</td>\n",
       "      <td>46.0</td>\n",
       "      <td>1.0</td>\n",
       "    </tr>\n",
       "    <tr>\n",
       "      <th>4532</th>\n",
       "      <td>ES</td>\n",
       "      <td>1062.0</td>\n",
       "      <td>7</td>\n",
       "      <td>1.0</td>\n",
       "      <td>5.0</td>\n",
       "      <td>7.0</td>\n",
       "      <td>3.0</td>\n",
       "      <td>9.0</td>\n",
       "      <td>6.0</td>\n",
       "      <td>3.0</td>\n",
       "      <td>2.0</td>\n",
       "      <td>21.0</td>\n",
       "      <td>2.0</td>\n",
       "    </tr>\n",
       "    <tr>\n",
       "      <th>3693</th>\n",
       "      <td>ES</td>\n",
       "      <td>1954.0</td>\n",
       "      <td>6</td>\n",
       "      <td>3.0</td>\n",
       "      <td>5.0</td>\n",
       "      <td>8.0</td>\n",
       "      <td>7.0</td>\n",
       "      <td>9.0</td>\n",
       "      <td>3.0</td>\n",
       "      <td>3.0</td>\n",
       "      <td>2.0</td>\n",
       "      <td>57.0</td>\n",
       "      <td>1.0</td>\n",
       "    </tr>\n",
       "    <tr>\n",
       "      <th>5492</th>\n",
       "      <td>NO</td>\n",
       "      <td>10206.0</td>\n",
       "      <td>6</td>\n",
       "      <td>4.0</td>\n",
       "      <td>8.0</td>\n",
       "      <td>9.0</td>\n",
       "      <td>8.0</td>\n",
       "      <td>9.0</td>\n",
       "      <td>6.0</td>\n",
       "      <td>2.0</td>\n",
       "      <td>1.0</td>\n",
       "      <td>86.0</td>\n",
       "      <td>1.0</td>\n",
       "    </tr>\n",
       "    <tr>\n",
       "      <th>6787</th>\n",
       "      <td>SE</td>\n",
       "      <td>105.0</td>\n",
       "      <td>6</td>\n",
       "      <td>3.0</td>\n",
       "      <td>0.0</td>\n",
       "      <td>NaN</td>\n",
       "      <td>0.0</td>\n",
       "      <td>4.0</td>\n",
       "      <td>2.0</td>\n",
       "      <td>NaN</td>\n",
       "      <td>2.0</td>\n",
       "      <td>86.0</td>\n",
       "      <td>2.0</td>\n",
       "    </tr>\n",
       "  </tbody>\n",
       "</table>\n",
       "</div>"
      ],
      "text/plain": [
       "     cntry     idno  year  tvtot  ppltrst  pplfair  pplhlp  happy  sclmeet  \\\n",
       "7834    SE    576.0     7    7.0      5.0      8.0     8.0    6.0      6.0   \n",
       "5538    NO  11130.0     6    2.0      3.0      3.0     2.0    9.0      6.0   \n",
       "2218    CZ   1015.0     7    2.0      8.0      4.0     3.0    5.0      3.0   \n",
       "6812    SE    225.0     6    6.0     10.0      8.0    10.0   10.0      6.0   \n",
       "3198    ES    818.0     6    3.0      8.0      7.0     8.0    8.0      6.0   \n",
       "1958    CZ   1418.0     6    7.0      0.0      2.0     2.0    8.0      6.0   \n",
       "4532    ES   1062.0     7    1.0      5.0      7.0     3.0    9.0      6.0   \n",
       "3693    ES   1954.0     6    3.0      5.0      8.0     7.0    9.0      3.0   \n",
       "5492    NO  10206.0     6    4.0      8.0      9.0     8.0    9.0      6.0   \n",
       "6787    SE    105.0     6    3.0      0.0      NaN     0.0    4.0      2.0   \n",
       "\n",
       "      sclact  gndr  agea  partner  \n",
       "7834     1.0   1.0  71.0      1.0  \n",
       "5538     4.0   1.0  54.0      1.0  \n",
       "2218     2.0   2.0  40.0      2.0  \n",
       "6812     1.0   1.0  80.0      2.0  \n",
       "3198     4.0   2.0  22.0      2.0  \n",
       "1958     4.0   1.0  46.0      1.0  \n",
       "4532     3.0   2.0  21.0      2.0  \n",
       "3693     3.0   2.0  57.0      1.0  \n",
       "5492     2.0   1.0  86.0      1.0  \n",
       "6787     NaN   2.0  86.0      2.0  "
      ]
     },
     "execution_count": 4,
     "metadata": {},
     "output_type": "execute_result"
    }
   ],
   "source": [
    "df.sample(10)"
   ]
  },
  {
   "cell_type": "code",
   "execution_count": 12,
   "metadata": {},
   "outputs": [
    {
     "data": {
      "text/html": [
       "<div>\n",
       "<style scoped>\n",
       "    .dataframe tbody tr th:only-of-type {\n",
       "        vertical-align: middle;\n",
       "    }\n",
       "\n",
       "    .dataframe tbody tr th {\n",
       "        vertical-align: top;\n",
       "    }\n",
       "\n",
       "    .dataframe thead th {\n",
       "        text-align: right;\n",
       "    }\n",
       "</style>\n",
       "<table border=\"1\" class=\"dataframe\">\n",
       "  <thead>\n",
       "    <tr style=\"text-align: right;\">\n",
       "      <th></th>\n",
       "      <th>idno</th>\n",
       "      <th>year</th>\n",
       "      <th>tvtot</th>\n",
       "      <th>ppltrst</th>\n",
       "      <th>pplfair</th>\n",
       "      <th>pplhlp</th>\n",
       "      <th>happy</th>\n",
       "      <th>sclmeet</th>\n",
       "      <th>sclact</th>\n",
       "      <th>gndr</th>\n",
       "      <th>agea</th>\n",
       "      <th>partner</th>\n",
       "    </tr>\n",
       "  </thead>\n",
       "  <tbody>\n",
       "    <tr>\n",
       "      <th>count</th>\n",
       "      <td>8.594000e+03</td>\n",
       "      <td>8594.000000</td>\n",
       "      <td>8586.000000</td>\n",
       "      <td>8580.000000</td>\n",
       "      <td>8555.000000</td>\n",
       "      <td>8569.000000</td>\n",
       "      <td>8563.000000</td>\n",
       "      <td>8579.000000</td>\n",
       "      <td>8500.000000</td>\n",
       "      <td>8584.000000</td>\n",
       "      <td>8355.000000</td>\n",
       "      <td>8577.000000</td>\n",
       "    </tr>\n",
       "    <tr>\n",
       "      <th>mean</th>\n",
       "      <td>3.954938e+04</td>\n",
       "      <td>6.500000</td>\n",
       "      <td>3.861985</td>\n",
       "      <td>5.559907</td>\n",
       "      <td>6.005143</td>\n",
       "      <td>5.319874</td>\n",
       "      <td>7.694616</td>\n",
       "      <td>5.192563</td>\n",
       "      <td>2.748941</td>\n",
       "      <td>1.497204</td>\n",
       "      <td>47.470736</td>\n",
       "      <td>1.384867</td>\n",
       "    </tr>\n",
       "    <tr>\n",
       "      <th>std</th>\n",
       "      <td>6.267259e+05</td>\n",
       "      <td>0.500029</td>\n",
       "      <td>2.019689</td>\n",
       "      <td>2.233700</td>\n",
       "      <td>2.129866</td>\n",
       "      <td>2.173449</td>\n",
       "      <td>1.735904</td>\n",
       "      <td>1.457643</td>\n",
       "      <td>0.905477</td>\n",
       "      <td>0.500021</td>\n",
       "      <td>18.397369</td>\n",
       "      <td>0.486592</td>\n",
       "    </tr>\n",
       "    <tr>\n",
       "      <th>min</th>\n",
       "      <td>1.000000e+00</td>\n",
       "      <td>6.000000</td>\n",
       "      <td>0.000000</td>\n",
       "      <td>0.000000</td>\n",
       "      <td>0.000000</td>\n",
       "      <td>0.000000</td>\n",
       "      <td>0.000000</td>\n",
       "      <td>1.000000</td>\n",
       "      <td>1.000000</td>\n",
       "      <td>1.000000</td>\n",
       "      <td>15.000000</td>\n",
       "      <td>1.000000</td>\n",
       "    </tr>\n",
       "    <tr>\n",
       "      <th>25%</th>\n",
       "      <td>1.052000e+03</td>\n",
       "      <td>6.000000</td>\n",
       "      <td>2.000000</td>\n",
       "      <td>4.000000</td>\n",
       "      <td>5.000000</td>\n",
       "      <td>4.000000</td>\n",
       "      <td>7.000000</td>\n",
       "      <td>4.000000</td>\n",
       "      <td>2.000000</td>\n",
       "      <td>1.000000</td>\n",
       "      <td>33.000000</td>\n",
       "      <td>1.000000</td>\n",
       "    </tr>\n",
       "    <tr>\n",
       "      <th>50%</th>\n",
       "      <td>1.714000e+03</td>\n",
       "      <td>6.500000</td>\n",
       "      <td>4.000000</td>\n",
       "      <td>6.000000</td>\n",
       "      <td>6.000000</td>\n",
       "      <td>5.000000</td>\n",
       "      <td>8.000000</td>\n",
       "      <td>6.000000</td>\n",
       "      <td>3.000000</td>\n",
       "      <td>1.000000</td>\n",
       "      <td>47.000000</td>\n",
       "      <td>1.000000</td>\n",
       "    </tr>\n",
       "    <tr>\n",
       "      <th>75%</th>\n",
       "      <td>2.745000e+03</td>\n",
       "      <td>7.000000</td>\n",
       "      <td>5.000000</td>\n",
       "      <td>7.000000</td>\n",
       "      <td>8.000000</td>\n",
       "      <td>7.000000</td>\n",
       "      <td>9.000000</td>\n",
       "      <td>6.000000</td>\n",
       "      <td>3.000000</td>\n",
       "      <td>2.000000</td>\n",
       "      <td>62.000000</td>\n",
       "      <td>2.000000</td>\n",
       "    </tr>\n",
       "    <tr>\n",
       "      <th>max</th>\n",
       "      <td>1.100143e+07</td>\n",
       "      <td>7.000000</td>\n",
       "      <td>7.000000</td>\n",
       "      <td>10.000000</td>\n",
       "      <td>10.000000</td>\n",
       "      <td>10.000000</td>\n",
       "      <td>10.000000</td>\n",
       "      <td>7.000000</td>\n",
       "      <td>5.000000</td>\n",
       "      <td>2.000000</td>\n",
       "      <td>114.000000</td>\n",
       "      <td>2.000000</td>\n",
       "    </tr>\n",
       "  </tbody>\n",
       "</table>\n",
       "</div>"
      ],
      "text/plain": [
       "               idno         year        tvtot      ppltrst      pplfair  \\\n",
       "count  8.594000e+03  8594.000000  8586.000000  8580.000000  8555.000000   \n",
       "mean   3.954938e+04     6.500000     3.861985     5.559907     6.005143   \n",
       "std    6.267259e+05     0.500029     2.019689     2.233700     2.129866   \n",
       "min    1.000000e+00     6.000000     0.000000     0.000000     0.000000   \n",
       "25%    1.052000e+03     6.000000     2.000000     4.000000     5.000000   \n",
       "50%    1.714000e+03     6.500000     4.000000     6.000000     6.000000   \n",
       "75%    2.745000e+03     7.000000     5.000000     7.000000     8.000000   \n",
       "max    1.100143e+07     7.000000     7.000000    10.000000    10.000000   \n",
       "\n",
       "            pplhlp        happy      sclmeet       sclact         gndr  \\\n",
       "count  8569.000000  8563.000000  8579.000000  8500.000000  8584.000000   \n",
       "mean      5.319874     7.694616     5.192563     2.748941     1.497204   \n",
       "std       2.173449     1.735904     1.457643     0.905477     0.500021   \n",
       "min       0.000000     0.000000     1.000000     1.000000     1.000000   \n",
       "25%       4.000000     7.000000     4.000000     2.000000     1.000000   \n",
       "50%       5.000000     8.000000     6.000000     3.000000     1.000000   \n",
       "75%       7.000000     9.000000     6.000000     3.000000     2.000000   \n",
       "max      10.000000    10.000000     7.000000     5.000000     2.000000   \n",
       "\n",
       "              agea      partner  \n",
       "count  8355.000000  8577.000000  \n",
       "mean     47.470736     1.384867  \n",
       "std      18.397369     0.486592  \n",
       "min      15.000000     1.000000  \n",
       "25%      33.000000     1.000000  \n",
       "50%      47.000000     1.000000  \n",
       "75%      62.000000     2.000000  \n",
       "max     114.000000     2.000000  "
      ]
     },
     "execution_count": 12,
     "metadata": {},
     "output_type": "execute_result"
    }
   ],
   "source": [
    "df.describe()"
   ]
  },
  {
   "cell_type": "code",
   "execution_count": 21,
   "metadata": {},
   "outputs": [
    {
     "data": {
      "text/plain": [
       "cntry        0\n",
       "idno         0\n",
       "year         0\n",
       "tvtot        8\n",
       "ppltrst     14\n",
       "pplfair     39\n",
       "pplhlp      25\n",
       "happy       31\n",
       "sclmeet     15\n",
       "sclact      94\n",
       "gndr        10\n",
       "agea       239\n",
       "partner     17\n",
       "dtype: int64"
      ]
     },
     "execution_count": 21,
     "metadata": {},
     "output_type": "execute_result"
    }
   ],
   "source": [
    "df.isnull().sum()"
   ]
  },
  {
   "cell_type": "code",
   "execution_count": 36,
   "metadata": {},
   "outputs": [
    {
     "data": {
      "text/plain": [
       "cntry\n",
       "CH    1546\n",
       "CZ    1316\n",
       "DE      28\n",
       "ES    2426\n",
       "NO    1462\n",
       "SE    1816\n",
       "Name: idno, dtype: int64"
      ]
     },
     "execution_count": 36,
     "metadata": {},
     "output_type": "execute_result"
    }
   ],
   "source": [
    "df.groupby(df['cntry'])['idno'].count()"
   ]
  },
  {
   "cell_type": "code",
   "execution_count": 31,
   "metadata": {},
   "outputs": [
    {
     "data": {
      "text/plain": [
       "['CH', 'CZ', 'DE', 'ES', 'NO', 'SE']"
      ]
     },
     "execution_count": 31,
     "metadata": {},
     "output_type": "execute_result"
    }
   ],
   "source": [
    "countries = df.cntry.unique().tolist()\n",
    "countries"
   ]
  },
  {
   "cell_type": "markdown",
   "metadata": {},
   "source": [
    "### Were people more trusting in 2012, or 2014?"
   ]
  },
  {
   "cell_type": "code",
   "execution_count": 26,
   "metadata": {},
   "outputs": [
    {
     "data": {
      "image/png": "[encoded data removed]",
      "text/plain": [
       "<Figure size 360x144 with 2 Axes>"
      ]
     },
     "metadata": {},
     "output_type": "display_data"
    },
    {
     "name": "stderr",
     "output_type": "stream",
     "text": [
      "/anaconda3/lib/python3.6/site-packages/numpy/lib/histograms.py:754: RuntimeWarning: invalid value encountered in greater_equal\n",
      "  keep = (tmp_a >= first_edge)\n",
      "/anaconda3/lib/python3.6/site-packages/numpy/lib/histograms.py:755: RuntimeWarning: invalid value encountered in less_equal\n",
      "  keep &= (tmp_a <= last_edge)\n"
     ]
    },
    {
     "data": {
      "image/png": "[encoded data removed]",
      "text/plain": [
       "<Figure size 360x144 with 2 Axes>"
      ]
     },
     "metadata": {},
     "output_type": "display_data"
    },
    {
     "data": {
      "image/png": "[encoded data removed]",
      "text/plain": [
       "<Figure size 360x144 with 2 Axes>"
      ]
     },
     "metadata": {},
     "output_type": "display_data"
    },
    {
     "data": {
      "image/png": "[encoded data removed]",
      "text/plain": [
       "<Figure size 360x144 with 2 Axes>"
      ]
     },
     "metadata": {},
     "output_type": "display_data"
    },
    {
     "data": {
      "image/png": "[encoded data removed]",
      "text/plain": [
       "<Figure size 360x144 with 2 Axes>"
      ]
     },
     "metadata": {},
     "output_type": "display_data"
    },
    {
     "data": {
      "image/png": "[encoded data removed]",
      "text/plain": [
       "<Figure size 360x144 with 2 Axes>"
      ]
     },
     "metadata": {},
     "output_type": "display_data"
    }
   ],
   "source": [
    "for country in countries:\n",
    "    \n",
    "    fig, ax1 = plt.subplots(1, 2, figsize=(5, 2))\n",
    "\n",
    "    ax1[0].hist(df['ppltrst'][(df['cntry'] == country) & (df['year']==6)])\n",
    "    ax1[1].hist(df['ppltrst'][(df['cntry'] == country) & (df['year']==7)])\n",
    "\n",
    "    fig.text(0.5, 1, country)\n",
    "    ax1[0].set_title('2012')\n",
    "    ax1[1].set_title('2014')\n",
    "    \n",
    "    plt.show()"
   ]
  },
  {
   "cell_type": "code",
   "execution_count": 40,
   "metadata": {},
   "outputs": [
    {
     "name": "stdout",
     "output_type": "stream",
     "text": [
      "CH\n",
      "2012 mean: 5.677878395860285\n",
      "2014 mean: 5.751617076326003\n",
      "Ttest_relResult(statistic=-0.6586851756725737, pvalue=0.5102943511301135)\n",
      "CZ\n",
      "2012 mean: 4.362519201228879\n",
      "2014 mean: 4.424657534246576\n",
      "Ttest_relResult(statistic=-0.5001638336887216, pvalue=0.617129268240474)\n",
      "DE\n",
      "2012 mean: 5.214285714285714\n",
      "2014 mean: 5.357142857142857\n",
      "Ttest_relResult(statistic=-0.18399501804849683, pvalue=0.8568563797095805)\n",
      "ES\n",
      "2012 mean: 5.114591920857379\n",
      "2014 mean: 4.895127993393889\n",
      "Ttest_relResult(statistic=2.4561906976601646, pvalue=0.014181580725320284)\n",
      "NO\n",
      "2012 mean: 6.64931506849315\n",
      "2014 mean: 6.598630136986301\n",
      "Ttest_relResult(statistic=0.5073077081124404, pvalue=0.61209257015177)\n",
      "SE\n",
      "2012 mean: 6.058498896247241\n",
      "2014 mean: 6.257709251101321\n",
      "Ttest_relResult(statistic=-2.0671082026033982, pvalue=0.03900781670958545)\n"
     ]
    }
   ],
   "source": [
    "for country in countries:\n",
    "    print(country)\n",
    "    print('2012 mean: ' + str(df['ppltrst'][(df['cntry'] == country) & (df['year']==6)].mean()))\n",
    "    print('2014 mean: ' + str(df['ppltrst'][(df['cntry'] == country) & (df['year']==7)].mean()))  \n",
    "    print(stats.ttest_rel(df['ppltrst'][(df['cntry'] == country) & (df['year']==6)], \n",
    "                          df['ppltrst'][(df['cntry'] == country) & (df['year']==7)],\n",
    "                          nan_policy='omit'\n",
    "                         ))"
   ]
  },
  {
   "cell_type": "markdown",
   "metadata": {},
   "source": [
    "It seems that only Norway and Spain decreased in trust. However, Norway's decrease was slight. It does seem that Norway had a much smaller sample here, so the mean would be more sensitive that Spain's, and may have not experienced such a large decrease at all."
   ]
  },
  {
   "cell_type": "markdown",
   "metadata": {},
   "source": [
    "### Were people happier in 2012, or, 2014?"
   ]
  },
  {
   "cell_type": "code",
   "execution_count": 28,
   "metadata": {},
   "outputs": [
    {
     "name": "stderr",
     "output_type": "stream",
     "text": [
      "/anaconda3/lib/python3.6/site-packages/numpy/lib/histograms.py:754: RuntimeWarning: invalid value encountered in greater_equal\n",
      "  keep = (tmp_a >= first_edge)\n",
      "/anaconda3/lib/python3.6/site-packages/numpy/lib/histograms.py:755: RuntimeWarning: invalid value encountered in less_equal\n",
      "  keep &= (tmp_a <= last_edge)\n"
     ]
    },
    {
     "data": {
      "image/png": "[encoded data removed]",
      "text/plain": [
       "<Figure size 360x144 with 2 Axes>"
      ]
     },
     "metadata": {},
     "output_type": "display_data"
    },
    {
     "data": {
      "image/png": "[encoded data removed]",
      "text/plain": [
       "<Figure size 360x144 with 2 Axes>"
      ]
     },
     "metadata": {},
     "output_type": "display_data"
    },
    {
     "data": {
      "image/png": "[encoded data removed]",
      "text/plain": [
       "<Figure size 360x144 with 2 Axes>"
      ]
     },
     "metadata": {},
     "output_type": "display_data"
    },
    {
     "data": {
      "image/png": "[encoded data removed]",
      "text/plain": [
       "<Figure size 360x144 with 2 Axes>"
      ]
     },
     "metadata": {},
     "output_type": "display_data"
    },
    {
     "data": {
      "image/png": "[encoded data removed]",
      "text/plain": [
       "<Figure size 360x144 with 2 Axes>"
      ]
     },
     "metadata": {},
     "output_type": "display_data"
    },
    {
     "data": {
      "image/png": "[encoded data removed]",
      "text/plain": [
       "<Figure size 360x144 with 2 Axes>"
      ]
     },
     "metadata": {},
     "output_type": "display_data"
    }
   ],
   "source": [
    "for country in countries:\n",
    "    \n",
    "    fig, ax1 = plt.subplots(1, 2, figsize=(5, 2))\n",
    "\n",
    "    ax1[0].hist(df['happy'][(df['cntry'] == country) & (df['year']==6)])\n",
    "    ax1[1].hist(df['happy'][(df['cntry'] == country) & (df['year']==7)])\n",
    "\n",
    "    fig.text(0.5, 1, country)\n",
    "    ax1[0].set_title('2012')\n",
    "    ax1[1].set_title('2014')\n",
    "    \n",
    "    plt.show()"
   ]
  },
  {
   "cell_type": "code",
   "execution_count": 38,
   "metadata": {},
   "outputs": [
    {
     "name": "stdout",
     "output_type": "stream",
     "text": [
      "CH\n",
      "2012 mean: 8.088311688311688\n",
      "2014 mean: 8.116429495472186\n",
      "Ttest_relResult(statistic=-0.319412957862232, pvalue=0.7495001355429063)\n",
      "CZ\n",
      "2012 mean: 6.7708978328173375\n",
      "2014 mean: 6.914110429447852\n",
      "Ttest_relResult(statistic=-1.4561384833039597, pvalue=0.1458454843389451)\n",
      "DE\n",
      "2012 mean: 7.428571428571429\n",
      "2014 mean: 7.857142857142857\n",
      "Ttest_relResult(statistic=-0.8062257748298549, pvalue=0.4346138707734991)\n",
      "ES\n",
      "2012 mean: 7.548679867986799\n",
      "2014 mean: 7.41996699669967\n",
      "Ttest_relResult(statistic=1.613832417735418, pvalue=0.10682451556479494)\n",
      "NO\n",
      "2012 mean: 8.25171939477304\n",
      "2014 mean: 7.9151846785225715\n",
      "Ttest_relResult(statistic=4.2856826576235925, pvalue=2.067453013405473e-05)\n",
      "SE\n",
      "2012 mean: 7.907386990077177\n",
      "2014 mean: 7.946961325966851\n",
      "Ttest_relResult(statistic=-0.5581637086030012, pvalue=0.5768709591233714)\n"
     ]
    }
   ],
   "source": [
    "for country in countries:\n",
    "    print(country)\n",
    "    print('2012 mean: ' + str(df['happy'][(df['cntry'] == country) & (df['year']==6)].mean()))\n",
    "    print('2014 mean: ' + str(df['happy'][(df['cntry'] == country) & (df['year']==7)].mean()))  \n",
    "    print(stats.ttest_rel(df['happy'][(df['cntry'] == country) & (df['year']==6)], \n",
    "                          df['happy'][(df['cntry'] == country) & (df['year']==7)],\n",
    "                          nan_policy='omit'\n",
    "                         ))"
   ]
  },
  {
   "cell_type": "markdown",
   "metadata": {},
   "source": [
    "It seems that all countries, other than Spain and Norway again decreased in their mean here. other than that, all countries appeared happier. I used the Wilcoxn ranked test, since all histograms were non-normal."
   ]
  },
  {
   "cell_type": "code",
   "execution_count": 51,
   "metadata": {},
   "outputs": [
    {
     "name": "stderr",
     "output_type": "stream",
     "text": [
      "/anaconda3/lib/python3.6/site-packages/numpy/lib/histograms.py:754: RuntimeWarning: invalid value encountered in greater_equal\n",
      "  keep = (tmp_a >= first_edge)\n",
      "/anaconda3/lib/python3.6/site-packages/numpy/lib/histograms.py:755: RuntimeWarning: invalid value encountered in less_equal\n",
      "  keep &= (tmp_a <= last_edge)\n"
     ]
    },
    {
     "data": {
      "image/png": "[encoded data removed]",
      "text/plain": [
       "<Figure size 504x288 with 2 Axes>"
      ]
     },
     "metadata": {},
     "output_type": "display_data"
    }
   ],
   "source": [
    "male = df['tvtot'][(df['gndr'] == 1.0) & (df['year']==6)]\n",
    "female = df['tvtot'][(df['gndr'] == 2.0) & (df['year']==6)]\n",
    "\n",
    "fig, ax1 = plt.subplots(1, 2, figsize=(7, 4))\n",
    "\n",
    "ax1[0].hist(male)\n",
    "ax1[1].hist(female)\n",
    "\n",
    "fig.text(0.5, 1, 'TV')\n",
    "ax1[0].set_title('Male')\n",
    "ax1[1].set_title('Female')\n",
    "    \n",
    "plt.show()"
   ]
  },
  {
   "cell_type": "code",
   "execution_count": 68,
   "metadata": {},
   "outputs": [
    {
     "name": "stdout",
     "output_type": "stream",
     "text": [
      "Male mean: 3.901906090190609\n",
      "Male sample count: 2151\n",
      "female sample count: 2140\n",
      "Male variance: 3.9350242721070847\n",
      "Female variance: 4.2002724218234535\n",
      "Female mean: 3.944392523364486\n",
      "Ttest_indResult(statistic=-0.6899928109209502, pvalue=0.49023604027095813)\n"
     ]
    }
   ],
   "source": [
    "print('Male mean: ' + str( male.mean()))\n",
    "print('Male sample count:', male.count())\n",
    "print('Male variance:', male.var())\n",
    "print('Female variance:', female.var())\n",
    "print('Female mean: ' + str(female.mean()))\n",
    "print('female sample count:', female.count())\n",
    "print(stats.ttest_ind(male, \n",
    "                    female,\n",
    "                    nan_policy='omit'\n",
    "                    ))"
   ]
  },
  {
   "cell_type": "markdown",
   "metadata": {},
   "source": [
    "There is not much of a difference in the means for these samples. I used the t-test measure, because the samples and variances were similar."
   ]
  },
  {
   "cell_type": "markdown",
   "metadata": {},
   "source": [
    "### Who was more likely to believe people were fair in 2012, people living with a partner or people living alone?"
   ]
  },
  {
   "cell_type": "code",
   "execution_count": 74,
   "metadata": {},
   "outputs": [
    {
     "name": "stderr",
     "output_type": "stream",
     "text": [
      "/anaconda3/lib/python3.6/site-packages/numpy/lib/histograms.py:754: RuntimeWarning: invalid value encountered in greater_equal\n",
      "  keep = (tmp_a >= first_edge)\n",
      "/anaconda3/lib/python3.6/site-packages/numpy/lib/histograms.py:755: RuntimeWarning: invalid value encountered in less_equal\n",
      "  keep &= (tmp_a <= last_edge)\n"
     ]
    },
    {
     "data": {
      "image/png": "[encoded data removed]",
      "text/plain": [
       "<Figure size 504x288 with 2 Axes>"
      ]
     },
     "metadata": {},
     "output_type": "display_data"
    }
   ],
   "source": [
    "partner = df['pplfair'][(df['partner'] == 1.0)]\n",
    "no_partner = df['pplfair'][(df['partner'] == 2.0)]\n",
    "\n",
    "fig, ax1 = plt.subplots(1, 2, figsize=(7, 4))\n",
    "\n",
    "ax1[0].hist(partner)\n",
    "ax1[1].hist(no_partner)\n",
    "\n",
    "fig.text(0.5, 1, 'Are People Fair?')\n",
    "ax1[0].set_title('Partner')\n",
    "ax1[1].set_title('No Partner')\n",
    "    \n",
    "plt.show()"
   ]
  },
  {
   "cell_type": "code",
   "execution_count": 75,
   "metadata": {},
   "outputs": [
    {
     "name": "stdout",
     "output_type": "stream",
     "text": [
      "Partner mean: 6.063890473474045\n",
      "Partner sample count: 5259\n",
      "Partner variance: 4.451223431135867\n",
      "Partner Standard Deviation: 2.1097922720343507\n",
      "No Partner variance: 4.665807447987503\n",
      "No Partner mean: 5.911280487804878\n",
      "No Partner sample count: 3280\n",
      "No Partner Standard Deviation 2.1600480198337033\n",
      "Ttest_indResult(statistic=3.221397103615396, pvalue=0.001280455731833167)\n"
     ]
    }
   ],
   "source": [
    "print('Partner mean: ' + str(partner.mean()))\n",
    "print('Partner sample count:', partner.count())\n",
    "print('Partner variance:', partner.var())\n",
    "print('Partner Standard Deviation:', partner.std())\n",
    "print('No Partner variance:', no_partner.var())\n",
    "print('No Partner mean: ' + str(no_partner.mean()))\n",
    "print('No Partner sample count:', no_partner.count())\n",
    "print('No Partner Standard Deviation', no_partner.std())\n",
    "print(stats.ttest_ind(partner, \n",
    "                     no_partner,\n",
    "                     nan_policy='omit'))"
   ]
  },
  {
   "cell_type": "markdown",
   "metadata": {},
   "source": [
    "After looking at this, it would be reasonable to say that the data supports that people with partners find others more fair. I used a t-test because the means looked relatively normal (a small negative skewness) and the standard deviations were almost the same.  So, it would be reasonable to conclude that with the partner mean more than two above the no partner mean, they are different. However, the sample sizes are a bit off. However, they are both over 3000. "
   ]
  },
  {
   "cell_type": "markdown",
   "metadata": {},
   "source": [
    "### Pick three or four of the countries in the sample and compare how often people met socially in 2014. Are there differences, and if so, which countries stand out?"
   ]
  },
  {
   "cell_type": "code",
   "execution_count": 89,
   "metadata": {},
   "outputs": [
    {
     "data": {
      "image/png": "[encoded data removed]",
      "text/plain": [
       "<Figure size 576x432 with 3 Axes>"
      ]
     },
     "metadata": {},
     "output_type": "display_data"
    }
   ],
   "source": [
    "czech = df['sclmeet'][(df['cntry'] == 'CZ') & (df['year'] == 7)].dropna()\n",
    "norway = df['sclmeet'][(df['cntry'] == 'NO') & (df['year'] == 7)].dropna()\n",
    "spain = df['sclmeet'][(df['cntry'] == 'ES')& (df['year'] == 7)].dropna()\n",
    "\n",
    "\n",
    "fig, axs = plt.subplots(1, 3, figsize=(8, 6))\n",
    "\n",
    "axs[0].hist(czech)\n",
    "axs[1].hist(norway)\n",
    "axs[2].hist(spain)\n",
    "\n",
    "fig.text(0.25, 1, '2014 Social Meetings')\n",
    "axs[0].set_title('CZ')\n",
    "axs[1].set_title('NO')\n",
    "axs[2].set_title('SP')\n",
    "    \n",
    "plt.tight_layout()\n",
    "plt.show()"
   ]
  },
  {
   "cell_type": "code",
   "execution_count": 90,
   "metadata": {},
   "outputs": [
    {
     "name": "stdout",
     "output_type": "stream",
     "text": [
      "F score: 81.74680103458824\n",
      "P-value: 3.7301766062786706e-35\n"
     ]
    }
   ],
   "source": [
    "F, p = stats.f_oneway(czech, norway, spain)\n",
    "\n",
    "print('F score: ' + str(F))\n",
    "print('P-value: ' + str(p))"
   ]
  },
  {
   "cell_type": "code",
   "execution_count": 93,
   "metadata": {},
   "outputs": [
    {
     "name": "stdout",
     "output_type": "stream",
     "text": [
      "Czech Republic mean: 4.445801526717557\n",
      "Czech Republic count: 655\n",
      "Norway mean: 5.3023255813953485\n",
      "Norway count: 731\n",
      "Spain mean: 5.2601156069364166\n",
      "Spain count: 1211\n"
     ]
    }
   ],
   "source": [
    "print('Czech Republic mean: ' + str(czech.mean()))\n",
    "print('Czech Republic count: ' + str(czech.count()))\n",
    "print('Norway mean: ' + str(norway.mean()))\n",
    "print('Norway count: ' + str(norway.count()))\n",
    "print('Spain mean: ' + str(spain.mean()))\n",
    "print('Spain count: ' + str(spain.count()))"
   ]
  },
  {
   "cell_type": "code",
   "execution_count": 92,
   "metadata": {},
   "outputs": [
    {
     "name": "stdout",
     "output_type": "stream",
     "text": [
      "Norway and Czech Republic: Ttest_indResult(statistic=11.269186128577815, pvalue=3.0334022155191707e-28)\n",
      "Spain and Norway: Ttest_indResult(statistic=-0.632916395870007, pvalue=0.5268628350318294)\n",
      "Czech Republic and Spain: Ttest_indResult(statistic=-11.400026538179093, pvalue=3.7676844407353374e-29)\n"
     ]
    }
   ],
   "source": [
    "print('Norway and Czech Republic: ' + str(stats.ttest_ind(norway, czech)))\n",
    "print('Spain and Norway: ' + str(stats.ttest_ind(spain, norway)))\n",
    "print('Czech Republic and Spain: ' + str(stats.ttest_ind(czech, spain)))"
   ]
  },
  {
   "cell_type": "markdown",
   "metadata": {},
   "source": [
    "The Czech Republic had a much lower mean, but also a much smaller sample. Which made the better comparison between Norway and Spain, which was closer to acheiving significance."
   ]
  },
  {
   "cell_type": "markdown",
   "metadata": {},
   "source": [
    "### Pick three or four of the countries in the sample and compare how often people took part in social activities, relative to others their age, in 2014. Are there differences, and if so, which countries stand out?"
   ]
  },
  {
   "cell_type": "code",
   "execution_count": 94,
   "metadata": {},
   "outputs": [
    {
     "data": {
      "image/png": "[encoded data removed]",
      "text/plain": [
       "<Figure size 576x432 with 3 Axes>"
      ]
     },
     "metadata": {},
     "output_type": "display_data"
    }
   ],
   "source": [
    "czech = df['sclact'][(df['cntry'] == 'CZ') & (df['year'] == 7)].dropna()\n",
    "norway = df['sclact'][(df['cntry'] == 'NO') & (df['year'] == 7)].dropna()\n",
    "spain = df['sclact'][(df['cntry'] == 'ES')& (df['year'] == 7)].dropna()\n",
    "\n",
    "\n",
    "fig, axs = plt.subplots(1, 3, figsize=(8, 6))\n",
    "\n",
    "axs[0].hist(czech)\n",
    "axs[1].hist(norway)\n",
    "axs[2].hist(spain)\n",
    "\n",
    "fig.text(0.25, 1, '2014 Social Meetings by Age')\n",
    "axs[0].set_title('CZ')\n",
    "axs[1].set_title('NO')\n",
    "axs[2].set_title('SP')\n",
    "    \n",
    "plt.tight_layout()\n",
    "plt.show()"
   ]
  },
  {
   "cell_type": "code",
   "execution_count": 95,
   "metadata": {},
   "outputs": [
    {
     "name": "stdout",
     "output_type": "stream",
     "text": [
      "F score: 16.607418390848494\n",
      "P-value: 6.82063334451585e-08\n"
     ]
    }
   ],
   "source": [
    "F, p = stats.f_oneway(czech, norway, spain)\n",
    "\n",
    "print('F score: ' + str(F))\n",
    "print('P-value: ' + str(p))"
   ]
  },
  {
   "cell_type": "markdown",
   "metadata": {},
   "source": [
    "A low p value indicates a difference in the means."
   ]
  },
  {
   "cell_type": "code",
   "execution_count": 96,
   "metadata": {},
   "outputs": [
    {
     "name": "stdout",
     "output_type": "stream",
     "text": [
      "Czech Republic mean: 2.703076923076923\n",
      "Czech Republic count: 650\n",
      "Norway mean: 2.859097127222982\n",
      "Norway count: 731\n",
      "Spain mean: 2.6168776371308016\n",
      "Spain count: 1185\n"
     ]
    }
   ],
   "source": [
    "print('Czech Republic mean: ' + str(czech.mean()))\n",
    "print('Czech Republic count: ' + str(czech.count()))\n",
    "print('Norway mean: ' + str(norway.mean()))\n",
    "print('Norway count: ' + str(norway.count()))\n",
    "print('Spain mean: ' + str(spain.mean()))\n",
    "print('Spain count: ' + str(spain.count()))"
   ]
  },
  {
   "cell_type": "code",
   "execution_count": 97,
   "metadata": {},
   "outputs": [
    {
     "name": "stdout",
     "output_type": "stream",
     "text": [
      "Norway and Czech Republic: Ttest_indResult(statistic=3.44673561169421, pvalue=0.0005844634540645623)\n",
      "Spain and Norway: Ttest_indResult(statistic=-5.671149129663532, pvalue=1.6345881270312057e-08)\n",
      "Czech Republic and Spain: Ttest_indResult(statistic=1.9231457887987455, pvalue=0.05461649785517343)\n"
     ]
    }
   ],
   "source": [
    "print('Norway and Czech Republic: ' + str(stats.ttest_ind(norway, czech)))\n",
    "print('Spain and Norway: ' + str(stats.ttest_ind(spain, norway)))\n",
    "print('Czech Republic and Spain: ' + str(stats.ttest_ind(czech, spain)))"
   ]
  },
  {
   "cell_type": "code",
   "execution_count": null,
   "metadata": {},
   "outputs": [],
   "source": [
    "There is not a large difference in the means, but the pairwise t-tests"
   ]
  }
 ],
 "metadata": {
  "kernelspec": {
   "display_name": "Python [conda root]",
   "language": "python",
   "name": "conda-root-py"
  },
  "language_info": {
   "codemirror_mode": {
    "name": "ipython",
    "version": 3
   },
   "file_extension": ".py",
   "mimetype": "text/x-python",
   "name": "python",
   "nbconvert_exporter": "python",
   "pygments_lexer": "ipython3",
   "version": "3.6.6"
  }
 },
 "nbformat": 4,
 "nbformat_minor": 2
}
