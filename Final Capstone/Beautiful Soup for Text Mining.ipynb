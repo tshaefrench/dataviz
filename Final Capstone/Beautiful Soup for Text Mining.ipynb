{
 "cells": [
  {
   "cell_type": "code",
   "execution_count": 1,
   "metadata": {},
   "outputs": [
    {
     "name": "stdout",
     "output_type": "stream",
     "text": [
      "GET CONNECTION FROM THE LOCAL POOL\n",
      "PRAGMA foreign_keys = false\n",
      "BEGIN IMMEDIATE TRANSACTION\n",
      "SELECT \"Job\".\"id\", \"Job\".\"title\", \"Job\".\"job_description\", \"Job\".\"job_class\"\n",
      "FROM \"Job\" \"Job\"\n",
      "WHERE 0 = 1\n",
      "\n",
      "COMMIT\n",
      "PRAGMA foreign_keys = true\n",
      "CLOSE CONNECTION\n"
     ]
    }
   ],
   "source": [
    "import requests\n",
    "from urllib.request import urlopen\n",
    "from urllib.parse import urljoin\n",
    "page = requests.get('https://www.indeed.com/jobs?q=%22text+mining%22+and+%27text+analytics%27&start=')\n",
    "from time import sleep\n",
    "import time\n",
    "from random import randint\n",
    "from pony_main import *\n",
    "from urllib.request import urlopen\n",
    "import json\n",
    "from IPython.display import clear_output\n",
    "from bs4 import BeautifulSoup"
   ]
  },
  {
   "cell_type": "code",
   "execution_count": 2,
   "metadata": {},
   "outputs": [
    {
     "data": {
      "text/plain": [
       "200"
      ]
     },
     "execution_count": 2,
     "metadata": {},
     "output_type": "execute_result"
    }
   ],
   "source": [
    "page.status_code"
   ]
  },
  {
   "cell_type": "code",
   "execution_count": 3,
   "metadata": {},
   "outputs": [
    {
     "name": "stdout",
     "output_type": "stream",
     "text": [
      "GET CONNECTION FROM THE LOCAL POOL\n",
      "BEGIN IMMEDIATE TRANSACTION\n",
      "INSERT INTO \"Job\" (\"title\", \"job_description\", \"job_class\") VALUES (?, ?, ?)\n",
      "['<h3 class=\"icl-u-xs-mb--xs icl-u-xs-mt--none jobsearch-JobInfoHeader-title\">Industry Technical Architect - Director, Data &amp; AI COE</h3>', '<div class=\"jobsearch-JobComponent-description icl-u-xs-mt--md\"><b>Role Overview:</b><br/>\\nAs a Director, Industry Technical Architect for the Center of Excellence team, you will work with clients in a specific industry domain to translate their business strategy and requirements into solutions and services that realize clients’ vision for their business. This role is critical in creating new business value for our clients through diverse data and applied intelligence capabilities, such as data engineering, data modeling, analytics, automation, and/or artificial intelligence. You will work with diverse Avanade teams and senior leaders of client organizations to stitch diverse analytics capabilities and industry use cases into business-changing solutions. As an Industry Technical Architect, you will collaborate with Enterprise Architects to effectively blend data and analytics into business processes.\\n<br/><br/>\\n<b>Key Role Responsibilities:</b><br/>\\n<b>Day-to-day you will:</b><br/>\\n<ul>\\n<li>Develop overall project plans and strategic vision for industry specific applied intelligence solutions, providing a comprehensive roadmap for clients’ needs</li>\\n<li>Provide high-level architectural expertise to sales, project and other analytics teams.</li>\\n<li>Develop architectural products and deliverables for the enterprise and operational business lines.</li>\\n<li>Perform a key management and thought leadership role in the areas of advanced data techniques, including data modeling, data access, data integration, data visualization, text mining, data discovery, statistical methods, database design and implementation.</li>\\n<li>Define and achieve the strategy roadmap for the enterprise; including data modeling, implementation and data management for our enterprise data warehouse and advanced data analytics systems.</li>\\n<li>Develop strategy of system and the design infrastructure necessary to support that industry specific intelligent solutions.</li>\\n<li>Build relationships with architects across the company and collaborate on promoting architectural best practices across the company.</li>\\n</ul>\\n<b>Key Role Skill &amp; Capability Requirements:</b><br/>\\n<b>Qualifications:</b><br/>\\n<ul>\\n<li>Highly proficient with two or more predictive analytics tools including R, Python, SAS. Experience with analytics tools such as Power BI, Qlik, or Tableau</li>\\n<li>Demonstrable professional experience within industry as it relates to data mining, analysis, modeling, of large scale, complex data sets</li>\\n<li>Highly proficient in statistical analysis, quantitative analytics, forecasting/predictive analytics</li>\\n<li>Highly proficient in at least one high level programming languages such (i.e. S, C++, Python, Julia, etc)</li>\\n<li>Able to explain complex analytical methodologies and concepts in non-technical language</li>\\n<li>Experience with NoSQL databases and tools (i.e. Hadoop, Hive Spark, etc.)</li>\\n<li>Exceptional written and verbal communication and presentation skills</li>\\n<li>Experience partnering on analytics-related sales pursuits</li>\\n<li>Client consulting and project-leadership experience working with third-party clients</li>\\n</ul>\\n<b>Preferred Education Background:</b><br/>\\nYou likely possess a Master in a field such as computer science, applied mathematics, statistics, or machine learning. An equivalent combination of education and experience will also suffice.\\n<br/><br/>\\n<b>Preferred Years of Work Experience:</b><br/>\\nYou likely have about 8-10+ years of demonstrable experience mining and analyzing complex data sets, preferably in a consulting environment or a combination of experience and relevant education\\n<br/><br/>\\nYou likely have at at least 5-7 years of experience in a specific industry focus area (e.g. Retail, Retail Banking, Manufacturing).\\n<br/><br/>\\n<b>Scope of Work:</b><br/>\\n<b>Nature of Work:</b> Directs collective work efforts to accomplish strategic goals for given portfolio of projects, programs, and/or clients.\\n<br/><b>Scope of Work:</b> Translates high-level strategy into more localized strategy and operational objectives.\\n<br/><b>Complexity:</b> Highly complex problems, often requiring analysis of near-intangible factors, creative solutioning and significant networking to succeed.\\n<br/><b>Discretion:</b> Authority to establish standards and shift overall direction of projects and programs in response to functional strategy\\n<br/><b>Organizational Impact:</b> Work efforts are typically strategic in nature, and may have a lasting, long-term impact on Avanade and/or client operations and strategic direction. If client-facing, should drive client-relationship and sales outcomes.\\n<br/><b>Supervision Received:</b> Operates with extreme latitude in determining focus and approach to work objectives.\\n<br/><b>Supervision Provided:</b> Mentors and manages work efforts of more junior colleagues and team members as required by various workstreams; may formally supervise work of project teams. If managing team(s) of more junior employees full-time, then refer to the People &amp; Business Leadership leveling criteria. Often serves as Career Advisor.\\n<br/><b>Knowledge Applied:</b> Applies expert knowledge of a learned occupation / discipline and demonstrable, broad knowledge of business operations and organizational strategy.</div>', 'Text Mining']\n",
      "\n",
      "COMMIT\n",
      "RELEASE CONNECTION\n"
     ]
    }
   ],
   "source": [
    "starts = list(range(810, 1000, 10))\n",
    "requests = 0\n",
    "start = time.time()\n",
    "\n",
    "baseurl = 'https://www.indeed.com'\n",
    "\n",
    "textmining_jobs = []\n",
    "for start in starts:\n",
    "    my_urls = ('https://www.indeed.com/jobs?q=%22text+mining%22+and+%27text+analytics%27&start=' + str(start),)\n",
    "    my_url = my_urls[0]\n",
    "    for my_url in my_urls:\n",
    "        uClient = urlopen(my_url)\n",
    "        html_input = uClient.read()\n",
    "        uClient.close()\n",
    "        soup = BeautifulSoup(html_input, \"html.parser\")\n",
    "        cards = soup.findAll('div', {'class':'jobsearch-SerpJobCard'})\n",
    "        it = iter(cards)\n",
    "        next(it) # ads\n",
    "        next(it) # ads\n",
    "        for curr in it: \n",
    "\n",
    "            try:\n",
    "                link = curr.find('h2').find('a', href=True)['href']\n",
    "            except:\n",
    "                print('missing content @' + baseurl + str('href')) \n",
    "            #if not link:\n",
    "                #\n",
    "            #elif not curr:\n",
    "                #print('missing content @' + baseurl + str('href'))\n",
    "            with urlopen(baseurl + link) as uClient:\n",
    "                list_url = uClient.read()\n",
    "            listing = BeautifulSoup(list_url, 'html.parser')\n",
    "            title = listing.find('h3', \n",
    "                            {'class': 'icl-u-xs-mb--xs icl-u-xs-mt--none jobsearch-JobInfoHeader-title'})\n",
    "            if not title:\n",
    "                    print('missing content @ ' + baseurl + link)\n",
    "            body = listing.find('div', \n",
    "                            {'class': 'jobsearch-JobComponent-description icl-u-xs-mt--md'}\n",
    "                            )\n",
    "            if not body:\n",
    "                print('missing content @ ' + baseurl + link)\n",
    "            requests += 1\n",
    "            sleep(randint(8,10))\n",
    "            end = time.time()\n",
    "            #print(\"Done in\", end - start, \"seconds\")\n",
    "            print('Request: {}; Frequency: {} requests/s'.format(requests, requests/end))\n",
    "            clear_output(wait = True)\n",
    "            with db_session:\n",
    "                Job(title=str(title), \n",
    "                job_description=str(body), \n",
    "                job_class='Text Mining')"
   ]
  }
 ],
 "metadata": {
  "kernelspec": {
   "display_name": "Python [conda root]",
   "language": "python",
   "name": "conda-root-py"
  },
  "language_info": {
   "codemirror_mode": {
    "name": "ipython",
    "version": 3
   },
   "file_extension": ".py",
   "mimetype": "text/x-python",
   "name": "python",
   "nbconvert_exporter": "python",
   "pygments_lexer": "ipython3",
   "version": "3.6.6"
  }
 },
 "nbformat": 4,
 "nbformat_minor": 2
}
