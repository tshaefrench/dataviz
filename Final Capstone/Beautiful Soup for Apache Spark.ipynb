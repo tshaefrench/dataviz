{
 "cells": [
  {
   "cell_type": "code",
   "execution_count": 1,
   "metadata": {},
   "outputs": [
    {
     "name": "stdout",
     "output_type": "stream",
     "text": [
      "GET CONNECTION FROM THE LOCAL POOL\n",
      "PRAGMA foreign_keys = false\n",
      "BEGIN IMMEDIATE TRANSACTION\n",
      "SELECT \"Job\".\"id\", \"Job\".\"title\", \"Job\".\"job_description\", \"Job\".\"job_class\"\n",
      "FROM \"Job\" \"Job\"\n",
      "WHERE 0 = 1\n",
      "\n",
      "COMMIT\n",
      "PRAGMA foreign_keys = true\n",
      "CLOSE CONNECTION\n"
     ]
    }
   ],
   "source": [
    "import requests\n",
    "from urllib.request import urlopen\n",
    "from urllib.parse import urljoin\n",
    "page = requests.get('https://www.indeed.com/jobs?q=\"apache+spark\"&start=')\n",
    "from time import sleep\n",
    "import time\n",
    "from random import randint\n",
    "from pony_main import *\n",
    "from pony.orm import *\n",
    "from urllib.request import urlopen\n",
    "import json\n",
    "from IPython.display import clear_output\n",
    "from bs4 import BeautifulSoup"
   ]
  },
  {
   "cell_type": "code",
   "execution_count": 2,
   "metadata": {},
   "outputs": [
    {
     "data": {
      "text/plain": [
       "200"
      ]
     },
     "execution_count": 2,
     "metadata": {},
     "output_type": "execute_result"
    }
   ],
   "source": [
    "page.status_code"
   ]
  },
  {
   "cell_type": "code",
   "execution_count": 6,
   "metadata": {},
   "outputs": [
    {
     "name": "stdout",
     "output_type": "stream",
     "text": [
      "6.5\n",
      "GET CONNECTION FROM THE LOCAL POOL\n",
      "BEGIN IMMEDIATE TRANSACTION\n",
      "INSERT INTO \"Job\" (\"title\", \"job_description\", \"job_class\") VALUES (?, ?, ?)\n",
      "['<h3 class=\"icl-u-xs-mb--xs icl-u-xs-mt--none jobsearch-JobInfoHeader-title\">Master Software Engineer (Java, AWS)</h3>', '<div class=\"jobsearch-JobComponent-description icl-u-xs-mt--md\"><div>McLean 1 (19050), United States of America, McLean, Virginia<p></p><p>\\nAt Capital One, we’re building a leading information-based technology company. Still founder-led by Chairman and Chief Executive Officer Richard Fairbank, Capital One is on a mission to help our customers succeed by bringing ingenuity, simplicity, and humanity to banking. We measure our efforts by the success our customers enjoy and the advocacy they exhibit. We are succeeding because they are succeeding.<br/>\\n<br/>\\nGuided by our shared values, we thrive in an environment where collaboration and openness are valued. We believe that innovation is powered by perspective and that teamwork and respect for each other lead to superior results. We elevate each other and obsess about doing the right thing. Our associates serve with humility and a deep respect for their responsibility in helping our customers achieve their goals and realize their dreams. Together, we are on a quest to change banking for good.</p><p></p><p>\\nMaster Software Engineer (Java, AWS)</p><p></p><p>\\nDo you want to work for a tech company that writes its own code, develops its own software, and builds its own products? We experiment and innovate leveraging the latest technologies, engineer breakthrough customer experiences, and bring simplicity and humanity to banking. We make a difference for 65 million customers. At Capital One, you\\'ll be part of a group of makers, breakers, doers and disruptors, who love to solve real problems and meet real customer needs. We want you to be curious and ask “what if”?</p><p></p><p>\\nAs a Capital One Software Engineer, you\\'ll work on everything from customer-facing web and mobile applications using cutting-edge open source frameworks, to highly-available RESTful services, to back-end Java based systems using the hottest techniques in Big Data. You\\'ll bring solid experience in emerging and traditional technologies such as: node.js, Java, AngularJS, React, Python, REST, JSON, XML, Ruby, HTML / HTML5, CSS, NoSQL databases, relational databases, Hadoop, Chef, Maven, iOS, Android, and AWS/Cloud Infrastructure to name a few.</p><p></p><p>\\nWhat You’ll Do:</p><ul><li>\\nWork with product owners to understand desired application capabilities and testing scenarios</li><li>\\nContinuously improve software engineering practices</li><li>\\nWork within and across Agile teams to design, develop, test, implement, and support technical solutions across a full-stack of development tools and technologies</li><li>\\nLead the craftsmanship, availability, resilience, and scalability of your solutions</li><li>\\nBring a passion to stay on top of tech trends, experiment with and learn new technologies, participate in internal &amp; external technology communities, and mentor other members of the engineering community</li><li>\\nEncourage innovation, implementation of cutting-edge technologies, inclusion, outside-of-the-box thinking, teamwork, self-organization, and diversity</li></ul><p></p><p><b>\\nBasic Qualifications</b>:</p><ul><li>\\nBachelor’s Degree or military experience</li><li>\\nAt least 7 years of experience in developing applications using Java</li><li>\\nAt least 5 years of experience using open-source web services</li><li>\\nAt least 5 years of experience creating API\\'s using Java programming language</li><li>\\nAt least 2 year of experience building web-applications leveraging Angular\\n</li><li>At least 2 year of Agile experience</li><li>\\nAt least 1 year of AWS experience</li></ul><p></p><p><b>\\nPreferred Qualifications</b>:</p><ul><li>\\n10+ years of Java application development experience</li><li>\\n8+ years of experience with J2EE technologies</li><li>\\n6+ years of experience with performance tuning and monitoring</li><li>\\n2+ years of experience with Cloud computing (AWS) technologies</li><li>\\nWorking knowledge of the Hadoop Stack, Apache Spark, and other big data tools.</li><li>\\n2+ years of experience with cloud, Jenkins, and Git</li><li>\\n2+ years of experience with creating and maintaining CI/CD tooling</li><li>\\n2+ years of experience in Ruby/Cucumber<i>, </i>jQuery and JavaScript</li><li>\\nExposure to machine learning tools and technologies and their applications.</li><li>\\nCertified AWS Developer/Architect</li></ul><p></p><p><b>\\nWhat we have:</b></p><ul><li>\\nFlexible work schedules</li><li>\\nConvenient office locations</li><li>\\nGenerous salary and merit-based pay incentives</li><li>\\nA startup mindset with the wallet of a top 10 bank</li><li>\\nMonthly innovation challenges dedicated to test driving cutting edge technologies</li><li>\\nYour choice of equipment (MacBook/PC, iPhone/Android Device)</li></ul><p></p><p><i>\\nAt this time, Capital One will not consider sponsoring a new qualified applicant for employment authorization for this position.</i></p></div><p></p></div>', 'Apache Spark']\n",
      "\n",
      "COMMIT\n",
      "RELEASE CONNECTION\n"
     ]
    }
   ],
   "source": [
    "starts = list(range(610, 1000, 10))\n",
    "requests = 0\n",
    "start = time.time()\n",
    "\n",
    "baseurl = 'https://www.indeed.com/'\n",
    "\n",
    "nlp_jobs = []\n",
    "for start in starts:\n",
    "    my_urls = ('https://www.indeed.com/jobs?q=\"apache+spark\"&start=' + str(start),)\n",
    "    my_url = my_urls[0]\n",
    "    for my_url in my_urls:\n",
    "        uClient = urlopen(my_url)\n",
    "        html_input = uClient.read()\n",
    "        uClient.close()\n",
    "        soup = BeautifulSoup(html_input, \"html.parser\")\n",
    "        cards = soup.findAll('div', {'class':'jobsearch-SerpJobCard'})\n",
    "        it = iter(cards)\n",
    "        next(it) # ads\n",
    "        next(it) # ads\n",
    "        #next(it)\n",
    "        for curr in it: \n",
    "            try:\n",
    "                link = curr.find('h2').find('a', href=True)['href']\n",
    "            except:\n",
    "                pass\n",
    "            with urlopen(baseurl + link) as uClient:\n",
    "                list_url = uClient.read()\n",
    "            listing = BeautifulSoup(list_url, 'html.parser')\n",
    "            title = listing.find('h3', \n",
    "                            {'class': 'icl-u-xs-mb--xs icl-u-xs-mt--none jobsearch-JobInfoHeader-title'})\n",
    "            if not title:\n",
    "                    print('missing content @ ' + baseurl + link)\n",
    "            body = listing.find('div', \n",
    "                            {'class': 'jobsearch-JobComponent-description icl-u-xs-mt--md'}\n",
    "                            )\n",
    "            if not body:\n",
    "                print('missing content @ ' + baseurl + link) \n",
    "            requests += 1\n",
    "            sleep(randint(5,8))\n",
    "            end = time.time()\n",
    "            #print(\"Done in\", end, \"seconds\")\n",
    "            print('Request: {}; Frequency: {} requests/s'.format(requests, requests/end))\n",
    "            clear_output(wait = True)\n",
    "            time_left = ((390- requests)*5)/60\n",
    "            print(time_left)\n",
    "            with db_session:\n",
    "                Job(title=str(title), \n",
    "                job_description=str(body), \n",
    "                job_class='Apache Spark')"
   ]
  },
  {
   "cell_type": "code",
   "execution_count": null,
   "metadata": {},
   "outputs": [],
   "source": []
  }
 ],
 "metadata": {
  "kernelspec": {
   "display_name": "Python [conda root]",
   "language": "python",
   "name": "conda-root-py"
  },
  "language_info": {
   "codemirror_mode": {
    "name": "ipython",
    "version": 3
   },
   "file_extension": ".py",
   "mimetype": "text/x-python",
   "name": "python",
   "nbconvert_exporter": "python",
   "pygments_lexer": "ipython3",
   "version": "3.6.8"
  }
 },
 "nbformat": 4,
 "nbformat_minor": 2
}
