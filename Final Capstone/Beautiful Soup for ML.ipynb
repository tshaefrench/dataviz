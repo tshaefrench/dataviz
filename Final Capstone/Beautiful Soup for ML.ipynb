{
 "cells": [
  {
   "cell_type": "code",
   "execution_count": 1,
   "metadata": {},
   "outputs": [
    {
     "name": "stdout",
     "output_type": "stream",
     "text": [
      "GET CONNECTION FROM THE LOCAL POOL\n",
      "PRAGMA foreign_keys = false\n",
      "BEGIN IMMEDIATE TRANSACTION\n",
      "SELECT \"Job\".\"id\", \"Job\".\"title\", \"Job\".\"job_description\", \"Job\".\"job_class\"\n",
      "FROM \"Job\" \"Job\"\n",
      "WHERE 0 = 1\n",
      "\n",
      "COMMIT\n",
      "PRAGMA foreign_keys = true\n",
      "CLOSE CONNECTION\n"
     ]
    }
   ],
   "source": [
    "import requests\n",
    "from urllib.request import urlopen\n",
    "from urllib.parse import urljoin\n",
    "page = requests.get('https://www.indeed.com/jobs?q=%22machine+learning%22&start=10')\n",
    "from time import sleep\n",
    "import time\n",
    "from random import randint\n",
    "from pony_main import *\n",
    "from pony.orm import *\n",
    "from urllib.request import urlopen\n",
    "import json\n",
    "from IPython.display import clear_output\n",
    "from bs4 import BeautifulSoup"
   ]
  },
  {
   "cell_type": "code",
   "execution_count": 3,
   "metadata": {},
   "outputs": [
    {
     "data": {
      "text/plain": [
       "200"
      ]
     },
     "execution_count": 3,
     "metadata": {},
     "output_type": "execute_result"
    }
   ],
   "source": [
    "page.status_code"
   ]
  },
  {
   "cell_type": "code",
   "execution_count": 11,
   "metadata": {},
   "outputs": [
    {
     "name": "stdout",
     "output_type": "stream",
     "text": [
      "GET CONNECTION FROM THE LOCAL POOL\n",
      "BEGIN IMMEDIATE TRANSACTION\n",
      "INSERT INTO \"Job\" (\"title\", \"job_description\", \"job_class\") VALUES (?, ?, ?)\n",
      "['<h3 class=\"icl-u-xs-mb--xs icl-u-xs-mt--none jobsearch-JobInfoHeader-title\">Engineering Recruiter</h3>', '<div class=\"jobsearch-JobComponent-description icl-u-xs-mt--md\"><b>About Foursquare:</b><br/>\\nFoursquare is a technology company that enriches consumer experiences and informs business decisions through location intelligence. A community of more than 50 million people use the Foursquare City Guide and Foursquare Swarm apps and websites to discover new places, explore the world and check in. They have written more than 95 million tips and checked in over 12 billion times. Foursquare powers location data for Snapchat, Apple, Uber, Twitter and 125,000 other developers. Foursquare\\'s business solutions also include Pinpoint, Attribution, Pilgrim SDK and Foursquare Analytics, which empower brands to understand and connect to targeted audiences as well as measure foot traffic and advertising success.\\n<br/><br/>\\n<b>About the position:</b><br/>\\nWe\\'re seeking an experienced Engineering Recruiter with background supporting a variety of teams at either a small tech startup or large successful technology company. You should have a strong understanding of newer technologies, complicated tech stacks and coding languages, and have experience filling senior level Engineering talent in a fast-paced environment.\\n<br/><br/>\\nTo join our HR Team, you must have a 6th sense about people - you can separate the A-players from the rest, and you should be well-versed in proactively sourcing and maintaining your own recruiting pipeline. This is a full-cycle recruiting position and you\\'ll be responsible for every inch of the hiring process, from partnering with hiring managers, sourcing &amp; screening candidates, coordinating interviews, and working with hiring teams to evaluate and extend offers. You will also be asked to facilitate and lead meetings with recruiting and hiring teams to establish and maintain meaningful relationships with interviewers, senior leadership, and key cross-functional stakeholders.\\n<br/><br/>\\n<b>Responsibilities:</b><br/>\\n<ul>\\n<li>Manage the full-cycle recruiting process, from kick-off meetings with hiring managers, to sourcing/screening, through onboarding a new hire</li>\\n<li>Recruit mid to senior level Engineering talent, including Full-stack, Security, SRE, DevOps, Infrastructure, Data, Machine Learning, and all other Software Engineers</li>\\n<li>Evaluate and streamline existing recruiting processes and maintain a high close rate</li>\\n<li>Partner with hiring managers, interviewing teams, and senior leadership on hiring initiatives</li>\\n<li>Oversee and manage a detail-oriented process, ensuring no conversation or open position slips through the cracks and provide \"white-glove service\" to all candidates</li>\\n<li>Effectively communicate and negotiate all pieces of an offer package (including ISO stock options).</li>\\n<li>Manage recruitment across the entire engineering department and work on special projects as needed</li>\\n<li>Establish and build trust with hiring teams and important stakeholders to maintain a great working relationship</li>\\n</ul>\\n<b>Qualifications:</b><br/>\\n<ul>\\n<li>A minimum of 2-5 years experience managing a full-cycle recruitment process for engineering talent</li>\\n<li>Experience working for a fast-paced, tech startup or similar experience</li>\\n<li>Experience partnering with senior leadership and management teams on hiring initiatives</li>\\n<li>Experience working in a modern Applicant Tracking System (ATS) such as Greenhouse, Lever, or similar ATS</li>\\n<li>Strong knowledge of complex technical stacks, engineering infrastructure, and general engineering recruitment best practices.</li>\\n<li>Ability to write complex search queries and boolean search strings for sourcing across multiple platforms</li>\\n<li>Ability to effectively influence and communicate cross-functionally</li>\\n<li>Ability to proactively source top talent, gain candidate interest, and pitch candidates on Foursquare\\'s mission, values and goals</li>\\n<li>Ability to deliver complex offer packages, including Stock Option terminology and negotiation tactics</li>\\n<li>A team player with willingness to collaborate on great ideas and work towards company hiring goals together</li>\\n<li>Bachelor\\'s degree is required</li>\\n</ul>\\nFoursquare is proud to foster an inclusive environment that is free from discrimination. We strongly believe in order to build the best products, we need a diversity of perspectives and backgrounds. This leads to a more delightful experience for our users and team members. We value listening to every voice and we encourage everyone to come be a part of building a company and products we love.\\n<br/><br/>\\nFoursquare is an Equal Opportunity Employer. All qualified applicants will receive consideration for employment without regard to race, color, religion, sex, sexual orientation, gender identity, national origin, disability, protected Veteran status, or any other characteristic protected by law.</div>', 'Machine Learning']\n",
      "\n",
      "COMMIT\n",
      "RELEASE CONNECTION\n"
     ]
    }
   ],
   "source": [
    "starts = list(range(700, 1000, 10))\n",
    "requests = 0\n",
    "start = time.time()\n",
    "\n",
    "baseurl = 'https://www.indeed.com/'\n",
    "\n",
    "nlp_jobs = []\n",
    "for start in starts:\n",
    "    my_urls = ('https://www.indeed.com/jobs?q=%22machine+learning%22&start=' + str(start),)\n",
    "    my_url = my_urls[0]\n",
    "    for my_url in my_urls:\n",
    "        uClient = urlopen(my_url)\n",
    "        html_input = uClient.read()\n",
    "        uClient.close()\n",
    "        soup = BeautifulSoup(html_input, \"html.parser\")\n",
    "        cards = soup.findAll('div', {'class':'jobsearch-SerpJobCard'})\n",
    "        it = iter(cards)\n",
    "        next(it) # ads\n",
    "        next(it) # ads\n",
    "        #next(it)\n",
    "        for curr in it: \n",
    "            try:\n",
    "                link = curr.find('h2').find('a', href=True)['href']\n",
    "            except:\n",
    "                pass\n",
    "            with urlopen(baseurl + link) as uClient:\n",
    "                list_url = uClient.read()\n",
    "            listing = BeautifulSoup(list_url, 'html.parser')\n",
    "            title = listing.find('h3', \n",
    "                            {'class': 'icl-u-xs-mb--xs icl-u-xs-mt--none jobsearch-JobInfoHeader-title'})\n",
    "            if not title:\n",
    "                    print('missing content @ ' + baseurl + link)\n",
    "            body = listing.find('div', \n",
    "                            {'class': 'jobsearch-JobComponent-description icl-u-xs-mt--md'}\n",
    "                            )\n",
    "            if not body:\n",
    "                print('missing content @ ' + baseurl + link) \n",
    "            requests += 1\n",
    "            sleep(randint(5,7))\n",
    "            end = time.time()\n",
    "            #print(\"Done in\", end, \"seconds\")\n",
    "            print('Request: {}; Frequency: {} requests/s'.format(requests, requests/end))\n",
    "            clear_output(wait = True)\n",
    "            with db_session:\n",
    "                Job(title=str(title), \n",
    "                job_description=str(body), \n",
    "                job_class='Machine Learning')\n",
    "           "
   ]
  },
  {
   "cell_type": "code",
   "execution_count": 3,
   "metadata": {},
   "outputs": [
    {
     "name": "stdout",
     "output_type": "stream",
     "text": [
      "[]\n"
     ]
    }
   ],
   "source": [
    "print(nlp_jobs[:200])"
   ]
  },
  {
   "cell_type": "code",
   "execution_count": null,
   "metadata": {},
   "outputs": [],
   "source": []
  }
 ],
 "metadata": {
  "kernelspec": {
   "display_name": "Python [conda root]",
   "language": "python",
   "name": "conda-root-py"
  },
  "language_info": {
   "codemirror_mode": {
    "name": "ipython",
    "version": 3
   },
   "file_extension": ".py",
   "mimetype": "text/x-python",
   "name": "python",
   "nbconvert_exporter": "python",
   "pygments_lexer": "ipython3",
   "version": "3.6.6"
  }
 },
 "nbformat": 4,
 "nbformat_minor": 2
}
