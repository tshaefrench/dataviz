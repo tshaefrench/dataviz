{
 "cells": [
  {
   "cell_type": "markdown",
   "metadata": {},
   "source": [
    "# Thinkful Unit 4- Unsupervised Learning Capstone"
   ]
  },
  {
   "cell_type": "markdown",
   "metadata": {},
   "source": [
    "For my unsupervised learning capstone I took tweets from major news organizations to see how similar, or dissimilar, they might be. In this, I will clean the data, tokenize it, prepare it with Bag of Words and TF-IDF. Then, I will use unsupervised methods like KMeans Clustering, and Latent Semantic Analysis (LSA) to analyze the data, before using classifiers to determine how alike the tweets are, and if the news agencies are actually reporting similar information, and if the classifiers can accurately predict the source of the tweet."
   ]
  },
  {
   "cell_type": "code",
   "execution_count": 111,
   "metadata": {},
   "outputs": [],
   "source": [
    "#initial imports\n",
    "import tweepy\n",
    "import numpy as np\n",
    "import pandas as pd\n",
    "import json\n",
    "from collections import Counter\n",
    "import re\n",
    "import matplotlib.pyplot as plt\n",
    "import seaborn as sns\n",
    "%matplotlib inline\n",
    "#SpaCy\n",
    "import spacy\n",
    "#sklearn\n",
    "from sklearn.model_selection import train_test_split\n",
    "from sklearn.feature_extraction.text import TfidfVectorizer\n",
    "from sklearn.feature_extraction.text import CountVectorizer\n",
    "from sklearn.decomposition import TruncatedSVD\n",
    "from sklearn.pipeline import make_pipeline\n",
    "from sklearn.preprocessing import Normalizer\n",
    "from sklearn.feature_extraction.text import TfidfTransformer\n",
    "from sklearn.cluster import KMeans\n",
    "from sklearn.preprocessing import normalize\n",
    "from sklearn.decomposition import PCA\n",
    "from sklearn.cluster import MiniBatchKMeans\n",
    "from sklearn import metrics\n",
    "from sklearn.metrics import confusion_matrix\n",
    "from sklearn.metrics.pairwise import cosine_similarity\n",
    "from sklearn.model_selection import cross_val_score\n",
    "from sklearn import ensemble\n",
    "from sklearn.decomposition import PCA\n",
    "from sklearn.cluster import MeanShift\n",
    "from sklearn.cluster import estimate_bandwidth\n",
    "from sklearn.cluster import KMeans\n",
    "from sklearn.cluster import MiniBatchKMeans\n",
    "from sklearn.svm import SVC\n",
    "from sklearn.linear_model import LogisticRegression\n",
    "from sklearn.neighbors import KNeighborsClassifier\n",
    "from sklearn import neural_network\n",
    "from sklearn.model_selection import GridSearchCV\n",
    "from sklearn import ensemble\n",
    "from sklearn.decomposition import PCA\n",
    "from sklearn.cluster import MeanShift, estimate_bandwidth\n",
    "from sklearn.cluster import KMeans, MiniBatchKMeans\n",
    "from sklearn import metrics\n",
    "from sklearn.metrics import confusion_matrix\n",
    "from sklearn.metrics.pairwise import cosine_similarity\n",
    "from sklearn.model_selection import cross_val_score\n",
    "from sklearn.utils import shuffle\n",
    "#BeautifulSoup and NLTK\n",
    "from bs4 import BeautifulSoup\n",
    "from nltk.tokenize import WordPunctTokenizer\n",
    "from nltk.corpus import stopwords # Import the stop word list"
   ]
  },
  {
   "cell_type": "code",
   "execution_count": 41,
   "metadata": {},
   "outputs": [
    {
     "name": "stdout",
     "output_type": "stream",
     "text": [
      "datatf\n"
     ]
    }
   ],
   "source": []
  },
  {
   "cell_type": "markdown",
   "metadata": {},
   "source": [
    "\n",
    "\n",
    "#### Let's double check everything went through properly."
   ]
  },
  {
   "cell_type": "code",
   "execution_count": 42,
   "metadata": {},
   "outputs": [
    {
     "name": "stdout",
     "output_type": "stream",
     "text": [
      "datatf\n"
     ]
    }
   ],
   "source": [
    "user = api.me()\n",
    "print (user.name)"
   ]
  },
  {
   "cell_type": "markdown",
   "metadata": {},
   "source": [
    "#### Yep! Good to go. Let's pick the Twitter handles we'll analyze."
   ]
  },
  {
   "cell_type": "code",
   "execution_count": 43,
   "metadata": {},
   "outputs": [],
   "source": [
    "handles = ['CNN','FoxNews','NPR','Reuters','WSJ','NYTimes', 'USATODAY', 'washingtonpost', 'BBCWorld']"
   ]
  },
  {
   "cell_type": "markdown",
   "metadata": {},
   "source": [
    "#### We'll make some JSON files to store the tweets in to create a dataframe. "
   ]
  },
  {
   "cell_type": "code",
   "execution_count": 44,
   "metadata": {},
   "outputs": [],
   "source": [
    "#Open a blank .json file for each author, will append tweets later\n",
    "for handle in handles:\n",
    "    with open(f'/Users/tiffanyfrench/Desktop/Capstone/{handle}2.json', 'w') as f:\n",
    "        try: \n",
    "            json.load(f)\n",
    "        except ValueError:\n",
    "            empty = [] #Just added this line to handle exceptions, does nothing"
   ]
  },
  {
   "cell_type": "code",
   "execution_count": 45,
   "metadata": {},
   "outputs": [],
   "source": [
    "#Twitter's API only allows for 200 records per call\n",
    "TWEETS_PER_CALL = 200 \n",
    "\n",
    "def save_tweets(screen_nm, tweets):\n",
    "    # 'a' appends to the .json we wrote with 'w' above\n",
    "    with open(f'/Users/tiffanyfrench/Desktop/Capstone/{screen_nm}2.json', 'a') as f:\n",
    "        for tweet in tweets:\n",
    "            json.dump([tweet.text, screen_nm], f); f.write('\\n')\n",
    "\n",
    "def get_tweets(screen_nm, desired_ct):\n",
    "    \n",
    "    #desired_ct is the number of tweets the user wants to include\n",
    "    tweet_list = []\n",
    "\n",
    "    #grab the current maximum tweet id for provided screen name, which will be the id of the first tweet stored in the object\n",
    "    curr_max_id = api.user_timeline(screen_name = screen_nm)[0].id \n",
    "    \n",
    "    #may have to do more than 1 call to the API (if user wants > TWEETS_PER_CALL tweets)\n",
    "    remaining = desired_ct\n",
    "        \n",
    "    while remaining > 0:\n",
    "        tweets = api.user_timeline(screen_name = screen_nm, count = min(remaining, TWEETS_PER_CALL), max_id = curr_max_id, include_rts=False)\n",
    "        \n",
    "        #save these tweets in a json file for later, in case kernel crashes or want to reference at a later date\n",
    "        save_tweets(screen_nm, tweets)\n",
    "        \n",
    "        for tweet in tweets:\n",
    "            tweet_list.append([tweet.text, screen_nm])\n",
    "                \n",
    "        remaining = remaining - min(remaining, TWEETS_PER_CALL)\n",
    "        \n",
    "        #re-set the maximum id for every TWEETS_PER_CALL tweets, so that we don't include duplicate tweets\n",
    "        curr_max_id = tweets[-1].id \n",
    "\n",
    "    return tweet_list"
   ]
  },
  {
   "cell_type": "code",
   "execution_count": 46,
   "metadata": {},
   "outputs": [],
   "source": [
    "#Create tweet lists\n",
    "cnn = get_tweets('CNN', 3200)\n",
    "fox = get_tweets('FoxNews', 3200)\n",
    "reuters = get_tweets('Reuters', 3200)\n",
    "npr = get_tweets('NPR', 3200)\n",
    "nyt = get_tweets('NYTimes', 3200)\n",
    "wsj = get_tweets('WSJ', 3200)\n",
    "usa = get_tweets('USATODAY', 3200)\n",
    "wapo = get_tweets('washingtonpost', 3200)\n",
    "bbc = get_tweets('BBCWorld', 3200)"
   ]
  },
  {
   "cell_type": "code",
   "execution_count": 47,
   "metadata": {},
   "outputs": [],
   "source": [
    "#Combine all tweets into 1 list\n",
    "\n",
    "full_tweets = []\n",
    "for handle in handles:\n",
    "    with open('/Users/tiffanyfrench/Desktop/Capstone/{}2.json'.format(handle)) as f: \n",
    "        full_tweets.append([json.loads(line) for line in f])\n",
    "        \n",
    "\n",
    "all_tweets = []\n",
    "for auth in full_tweets:\n",
    "    all_tweets.extend(auth[:2500])\n",
    "    \n",
    "#Store in dataframe\n",
    "df = pd.DataFrame(all_tweets, columns = ['Tweets', 'Org'])"
   ]
  },
  {
   "cell_type": "code",
   "execution_count": 48,
   "metadata": {},
   "outputs": [
    {
     "data": {
      "text/html": [
       "<div>\n",
       "<style scoped>\n",
       "    .dataframe tbody tr th:only-of-type {\n",
       "        vertical-align: middle;\n",
       "    }\n",
       "\n",
       "    .dataframe tbody tr th {\n",
       "        vertical-align: top;\n",
       "    }\n",
       "\n",
       "    .dataframe thead th {\n",
       "        text-align: right;\n",
       "    }\n",
       "</style>\n",
       "<table border=\"1\" class=\"dataframe\">\n",
       "  <thead>\n",
       "    <tr style=\"text-align: right;\">\n",
       "      <th></th>\n",
       "      <th>Tweets</th>\n",
       "      <th>Org</th>\n",
       "    </tr>\n",
       "  </thead>\n",
       "  <tbody>\n",
       "    <tr>\n",
       "      <th>22490</th>\n",
       "      <td>Seven killed in raging fire along South Africa...</td>\n",
       "      <td>BBCWorld</td>\n",
       "    </tr>\n",
       "    <tr>\n",
       "      <th>22491</th>\n",
       "      <td>Pittsburgh shooting: Anger at Pence rally 'Jes...</td>\n",
       "      <td>BBCWorld</td>\n",
       "    </tr>\n",
       "    <tr>\n",
       "      <th>22492</th>\n",
       "      <td>Russian aircraft carrier Admiral Kuznetsov dam...</td>\n",
       "      <td>BBCWorld</td>\n",
       "    </tr>\n",
       "    <tr>\n",
       "      <th>22493</th>\n",
       "      <td>\"Until Saudi Arabia officially announced his d...</td>\n",
       "      <td>BBCWorld</td>\n",
       "    </tr>\n",
       "    <tr>\n",
       "      <th>22494</th>\n",
       "      <td>India journalist and police killed in 'Maoist ...</td>\n",
       "      <td>BBCWorld</td>\n",
       "    </tr>\n",
       "    <tr>\n",
       "      <th>22495</th>\n",
       "      <td>Filipina women detained at Halloween party in ...</td>\n",
       "      <td>BBCWorld</td>\n",
       "    </tr>\n",
       "    <tr>\n",
       "      <th>22496</th>\n",
       "      <td>Venice under water as Italy hit by fierce wind...</td>\n",
       "      <td>BBCWorld</td>\n",
       "    </tr>\n",
       "    <tr>\n",
       "      <th>22497</th>\n",
       "      <td>North and South Korea: The football game that ...</td>\n",
       "      <td>BBCWorld</td>\n",
       "    </tr>\n",
       "    <tr>\n",
       "      <th>22498</th>\n",
       "      <td>Julian Assange: Ecuador court rejects lawsuit ...</td>\n",
       "      <td>BBCWorld</td>\n",
       "    </tr>\n",
       "    <tr>\n",
       "      <th>22499</th>\n",
       "      <td>Geoffrey Rush: Actress 'frightened' by alleged...</td>\n",
       "      <td>BBCWorld</td>\n",
       "    </tr>\n",
       "  </tbody>\n",
       "</table>\n",
       "</div>"
      ],
      "text/plain": [
       "                                                  Tweets       Org\n",
       "22490  Seven killed in raging fire along South Africa...  BBCWorld\n",
       "22491  Pittsburgh shooting: Anger at Pence rally 'Jes...  BBCWorld\n",
       "22492  Russian aircraft carrier Admiral Kuznetsov dam...  BBCWorld\n",
       "22493  \"Until Saudi Arabia officially announced his d...  BBCWorld\n",
       "22494  India journalist and police killed in 'Maoist ...  BBCWorld\n",
       "22495  Filipina women detained at Halloween party in ...  BBCWorld\n",
       "22496  Venice under water as Italy hit by fierce wind...  BBCWorld\n",
       "22497  North and South Korea: The football game that ...  BBCWorld\n",
       "22498  Julian Assange: Ecuador court rejects lawsuit ...  BBCWorld\n",
       "22499  Geoffrey Rush: Actress 'frightened' by alleged...  BBCWorld"
      ]
     },
     "execution_count": 48,
     "metadata": {},
     "output_type": "execute_result"
    }
   ],
   "source": [
    "df.tail(10)"
   ]
  },
  {
   "cell_type": "code",
   "execution_count": 49,
   "metadata": {},
   "outputs": [
    {
     "data": {
      "text/html": [
       "<div>\n",
       "<style scoped>\n",
       "    .dataframe tbody tr th:only-of-type {\n",
       "        vertical-align: middle;\n",
       "    }\n",
       "\n",
       "    .dataframe tbody tr th {\n",
       "        vertical-align: top;\n",
       "    }\n",
       "\n",
       "    .dataframe thead th {\n",
       "        text-align: right;\n",
       "    }\n",
       "</style>\n",
       "<table border=\"1\" class=\"dataframe\">\n",
       "  <thead>\n",
       "    <tr style=\"text-align: right;\">\n",
       "      <th></th>\n",
       "      <th>Tweets</th>\n",
       "    </tr>\n",
       "    <tr>\n",
       "      <th>Org</th>\n",
       "      <th></th>\n",
       "    </tr>\n",
       "  </thead>\n",
       "  <tbody>\n",
       "    <tr>\n",
       "      <th>BBCWorld</th>\n",
       "      <td>2500</td>\n",
       "    </tr>\n",
       "    <tr>\n",
       "      <th>CNN</th>\n",
       "      <td>2500</td>\n",
       "    </tr>\n",
       "    <tr>\n",
       "      <th>FoxNews</th>\n",
       "      <td>2500</td>\n",
       "    </tr>\n",
       "    <tr>\n",
       "      <th>NPR</th>\n",
       "      <td>2500</td>\n",
       "    </tr>\n",
       "    <tr>\n",
       "      <th>NYTimes</th>\n",
       "      <td>2500</td>\n",
       "    </tr>\n",
       "    <tr>\n",
       "      <th>Reuters</th>\n",
       "      <td>2500</td>\n",
       "    </tr>\n",
       "    <tr>\n",
       "      <th>USATODAY</th>\n",
       "      <td>2500</td>\n",
       "    </tr>\n",
       "    <tr>\n",
       "      <th>WSJ</th>\n",
       "      <td>2500</td>\n",
       "    </tr>\n",
       "    <tr>\n",
       "      <th>washingtonpost</th>\n",
       "      <td>2500</td>\n",
       "    </tr>\n",
       "  </tbody>\n",
       "</table>\n",
       "</div>"
      ],
      "text/plain": [
       "                Tweets\n",
       "Org                   \n",
       "BBCWorld          2500\n",
       "CNN               2500\n",
       "FoxNews           2500\n",
       "NPR               2500\n",
       "NYTimes           2500\n",
       "Reuters           2500\n",
       "USATODAY          2500\n",
       "WSJ               2500\n",
       "washingtonpost    2500"
      ]
     },
     "execution_count": 49,
     "metadata": {},
     "output_type": "execute_result"
    }
   ],
   "source": [
    "#Checked to see how many tweets were from each organization. I dropped the AP because they had too few after RT's were \n",
    "#removed. Now, we'll just see the first 2,500 from each org, because they all had at least that many.\n",
    "df.groupby(['Org']).count()"
   ]
  },
  {
   "cell_type": "markdown",
   "metadata": {},
   "source": [
    "### Alright! We have our tweets. It looks like there are about 22,500 for us to train on. This should be a great start. First, let's clean and tokenize to prep for unsupervised learning."
   ]
  },
  {
   "cell_type": "code",
   "execution_count": 50,
   "metadata": {},
   "outputs": [
    {
     "data": {
      "text/html": [
       "<div>\n",
       "<style scoped>\n",
       "    .dataframe tbody tr th:only-of-type {\n",
       "        vertical-align: middle;\n",
       "    }\n",
       "\n",
       "    .dataframe tbody tr th {\n",
       "        vertical-align: top;\n",
       "    }\n",
       "\n",
       "    .dataframe thead th {\n",
       "        text-align: right;\n",
       "    }\n",
       "</style>\n",
       "<table border=\"1\" class=\"dataframe\">\n",
       "  <thead>\n",
       "    <tr style=\"text-align: right;\">\n",
       "      <th></th>\n",
       "      <th>Tweets</th>\n",
       "      <th>Org</th>\n",
       "    </tr>\n",
       "  </thead>\n",
       "  <tbody>\n",
       "    <tr>\n",
       "      <th>0</th>\n",
       "      <td>Republicans are divided on whether Trump shoul...</td>\n",
       "      <td>CNN</td>\n",
       "    </tr>\n",
       "    <tr>\n",
       "      <th>1</th>\n",
       "      <td>Why do Americans love #denim? See where the lo...</td>\n",
       "      <td>CNN</td>\n",
       "    </tr>\n",
       "    <tr>\n",
       "      <th>2</th>\n",
       "      <td>Former Texas Rep. Beto O'Rourke will be interv...</td>\n",
       "      <td>CNN</td>\n",
       "    </tr>\n",
       "    <tr>\n",
       "      <th>3</th>\n",
       "      <td>Mexico's gas shortage fuels long lines at the ...</td>\n",
       "      <td>CNN</td>\n",
       "    </tr>\n",
       "    <tr>\n",
       "      <th>4</th>\n",
       "      <td>National park visitors cut down protected Josh...</td>\n",
       "      <td>CNN</td>\n",
       "    </tr>\n",
       "    <tr>\n",
       "      <th>5</th>\n",
       "      <td>The current government shutdown has resulted f...</td>\n",
       "      <td>CNN</td>\n",
       "    </tr>\n",
       "    <tr>\n",
       "      <th>6</th>\n",
       "      <td>Sun-lovers and fans of Mickey and Minnie flock...</td>\n",
       "      <td>CNN</td>\n",
       "    </tr>\n",
       "    <tr>\n",
       "      <th>7</th>\n",
       "      <td>Investors thought Edible Arrangements would fa...</td>\n",
       "      <td>CNN</td>\n",
       "    </tr>\n",
       "    <tr>\n",
       "      <th>8</th>\n",
       "      <td>\"Oh my God. Oh my God. I'm shaking.\" This Milw...</td>\n",
       "      <td>CNN</td>\n",
       "    </tr>\n",
       "    <tr>\n",
       "      <th>9</th>\n",
       "      <td>A team of scientists discovered a series of re...</td>\n",
       "      <td>CNN</td>\n",
       "    </tr>\n",
       "  </tbody>\n",
       "</table>\n",
       "</div>"
      ],
      "text/plain": [
       "                                              Tweets  Org\n",
       "0  Republicans are divided on whether Trump shoul...  CNN\n",
       "1  Why do Americans love #denim? See where the lo...  CNN\n",
       "2  Former Texas Rep. Beto O'Rourke will be interv...  CNN\n",
       "3  Mexico's gas shortage fuels long lines at the ...  CNN\n",
       "4  National park visitors cut down protected Josh...  CNN\n",
       "5  The current government shutdown has resulted f...  CNN\n",
       "6  Sun-lovers and fans of Mickey and Minnie flock...  CNN\n",
       "7  Investors thought Edible Arrangements would fa...  CNN\n",
       "8  \"Oh my God. Oh my God. I'm shaking.\" This Milw...  CNN\n",
       "9  A team of scientists discovered a series of re...  CNN"
      ]
     },
     "execution_count": 50,
     "metadata": {},
     "output_type": "execute_result"
    }
   ],
   "source": [
    "df.head(10)"
   ]
  },
  {
   "cell_type": "markdown",
   "metadata": {},
   "source": [
    "### Prep for CountVectorizer"
   ]
  },
  {
   "cell_type": "markdown",
   "metadata": {},
   "source": [
    "#### Gets rid of numbers, urls and turns into lowercase"
   ]
  },
  {
   "cell_type": "code",
   "execution_count": 51,
   "metadata": {},
   "outputs": [],
   "source": [
    "tok = WordPunctTokenizer()\n",
    "pat1 = r'@[A-Za-z0-9]+'\n",
    "pat2 = r'https?://[A-Za-z0-9./]+'\n",
    "combined_pat = r'|'.join((pat1, pat2))\n",
    "\n",
    "def clean_tweet(raw_tweet):\n",
    "    # 1. Remove HTML\n",
    "    soup = BeautifulSoup(raw_tweet)\n",
    "    souped = soup.get_text()\n",
    "    #\n",
    "    # 2. Remove non-letters        \n",
    "    #letters_only = re.sub(\"[^a-zA-Z]\", \" \", review_text)\n",
    "    stripped = re.sub(combined_pat, '', souped)\n",
    "    try:\n",
    "        clean = stripped.decode(\"utf-8-sig\").replace(u\"\\ufffd\", \"?\")\n",
    "    except:\n",
    "        clean = stripped\n",
    "    letters_only = re.sub(\"[^a-zA-Z]\", \" \", clean)\n",
    "    #\n",
    "    # 3. Convert to lower case, split into individual words\n",
    "    lower_case = letters_only.lower()                             \n",
    "    #\n",
    "    # 4. In Python, searching a set is much faster than searching\n",
    "    #   a list, so convert the stop words to a set\n",
    "    stops = set(stopwords.words(\"english\"))                  \n",
    "    # \n",
    "    # 5. Remove stop words\n",
    "    #meaningful_words = [w for w in words if not w in stops]   \n",
    "    #\n",
    "    # 6. Join the words back into one string separated by space, \n",
    "    # and return the result.\n",
    "    #return( \" \".join( meaningful_words ))   \n",
    "    words = tok.tokenize(lower_case)\n",
    "    return (\" \".join(words)).strip()"
   ]
  },
  {
   "cell_type": "code",
   "execution_count": 52,
   "metadata": {},
   "outputs": [
    {
     "name": "stderr",
     "output_type": "stream",
     "text": [
      "/anaconda3/lib/python3.6/site-packages/bs4/__init__.py:336: UserWarning: \"https://t.co/8GojiZNjkA\" looks like a URL. Beautiful Soup is not an HTTP client. You should probably use an HTTP client like requests to get the document behind the URL, and feed that document to Beautiful Soup.\n",
      "  ' that document to Beautiful Soup.' % decoded_markup\n",
      "/anaconda3/lib/python3.6/site-packages/bs4/__init__.py:336: UserWarning: \"https://t.co/2z7sBzBP0M\" looks like a URL. Beautiful Soup is not an HTTP client. You should probably use an HTTP client like requests to get the document behind the URL, and feed that document to Beautiful Soup.\n",
      "  ' that document to Beautiful Soup.' % decoded_markup\n",
      "/anaconda3/lib/python3.6/site-packages/bs4/__init__.py:336: UserWarning: \"https://t.co/CAx557NiAN\" looks like a URL. Beautiful Soup is not an HTTP client. You should probably use an HTTP client like requests to get the document behind the URL, and feed that document to Beautiful Soup.\n",
      "  ' that document to Beautiful Soup.' % decoded_markup\n",
      "/anaconda3/lib/python3.6/site-packages/bs4/__init__.py:336: UserWarning: \"https://t.co/Usbq86JC9H\" looks like a URL. Beautiful Soup is not an HTTP client. You should probably use an HTTP client like requests to get the document behind the URL, and feed that document to Beautiful Soup.\n",
      "  ' that document to Beautiful Soup.' % decoded_markup\n",
      "/anaconda3/lib/python3.6/site-packages/bs4/__init__.py:336: UserWarning: \"https://t.co/uHOi2aKRzJ\" looks like a URL. Beautiful Soup is not an HTTP client. You should probably use an HTTP client like requests to get the document behind the URL, and feed that document to Beautiful Soup.\n",
      "  ' that document to Beautiful Soup.' % decoded_markup\n",
      "/anaconda3/lib/python3.6/site-packages/bs4/__init__.py:336: UserWarning: \"https://t.co/MzLk4AZCSO\" looks like a URL. Beautiful Soup is not an HTTP client. You should probably use an HTTP client like requests to get the document behind the URL, and feed that document to Beautiful Soup.\n",
      "  ' that document to Beautiful Soup.' % decoded_markup\n",
      "/anaconda3/lib/python3.6/site-packages/bs4/__init__.py:336: UserWarning: \"https://t.co/2WCw5bz8kW\" looks like a URL. Beautiful Soup is not an HTTP client. You should probably use an HTTP client like requests to get the document behind the URL, and feed that document to Beautiful Soup.\n",
      "  ' that document to Beautiful Soup.' % decoded_markup\n",
      "/anaconda3/lib/python3.6/site-packages/bs4/__init__.py:336: UserWarning: \"https://t.co/xlfR6VSRpt\" looks like a URL. Beautiful Soup is not an HTTP client. You should probably use an HTTP client like requests to get the document behind the URL, and feed that document to Beautiful Soup.\n",
      "  ' that document to Beautiful Soup.' % decoded_markup\n",
      "/anaconda3/lib/python3.6/site-packages/bs4/__init__.py:336: UserWarning: \"https://t.co/q4XaHbmDyG\" looks like a URL. Beautiful Soup is not an HTTP client. You should probably use an HTTP client like requests to get the document behind the URL, and feed that document to Beautiful Soup.\n",
      "  ' that document to Beautiful Soup.' % decoded_markup\n",
      "/anaconda3/lib/python3.6/site-packages/bs4/__init__.py:336: UserWarning: \"https://t.co/v4bPtm6l9T\" looks like a URL. Beautiful Soup is not an HTTP client. You should probably use an HTTP client like requests to get the document behind the URL, and feed that document to Beautiful Soup.\n",
      "  ' that document to Beautiful Soup.' % decoded_markup\n",
      "/anaconda3/lib/python3.6/site-packages/bs4/__init__.py:336: UserWarning: \"https://t.co/m9tAeWkV6w\" looks like a URL. Beautiful Soup is not an HTTP client. You should probably use an HTTP client like requests to get the document behind the URL, and feed that document to Beautiful Soup.\n",
      "  ' that document to Beautiful Soup.' % decoded_markup\n",
      "/anaconda3/lib/python3.6/site-packages/bs4/__init__.py:336: UserWarning: \"https://t.co/fn56YyB0O1\" looks like a URL. Beautiful Soup is not an HTTP client. You should probably use an HTTP client like requests to get the document behind the URL, and feed that document to Beautiful Soup.\n",
      "  ' that document to Beautiful Soup.' % decoded_markup\n",
      "/anaconda3/lib/python3.6/site-packages/bs4/__init__.py:336: UserWarning: \"https://t.co/EHXpsLy4M9\" looks like a URL. Beautiful Soup is not an HTTP client. You should probably use an HTTP client like requests to get the document behind the URL, and feed that document to Beautiful Soup.\n",
      "  ' that document to Beautiful Soup.' % decoded_markup\n",
      "/anaconda3/lib/python3.6/site-packages/bs4/__init__.py:336: UserWarning: \"https://t.co/jA33C0sNbZ\" looks like a URL. Beautiful Soup is not an HTTP client. You should probably use an HTTP client like requests to get the document behind the URL, and feed that document to Beautiful Soup.\n",
      "  ' that document to Beautiful Soup.' % decoded_markup\n",
      "/anaconda3/lib/python3.6/site-packages/bs4/__init__.py:336: UserWarning: \"https://t.co/Zq6U4gD3cZ\" looks like a URL. Beautiful Soup is not an HTTP client. You should probably use an HTTP client like requests to get the document behind the URL, and feed that document to Beautiful Soup.\n",
      "  ' that document to Beautiful Soup.' % decoded_markup\n",
      "/anaconda3/lib/python3.6/site-packages/bs4/__init__.py:336: UserWarning: \"https://t.co/eOfcbpeJLG\" looks like a URL. Beautiful Soup is not an HTTP client. You should probably use an HTTP client like requests to get the document behind the URL, and feed that document to Beautiful Soup.\n",
      "  ' that document to Beautiful Soup.' % decoded_markup\n"
     ]
    }
   ],
   "source": [
    "for i in df:\n",
    "    for i in range(len(df)):\n",
    "        df['Tweets'][i] = clean_tweet(df['Tweets'][i])"
   ]
  },
  {
   "cell_type": "code",
   "execution_count": 53,
   "metadata": {},
   "outputs": [
    {
     "data": {
      "text/html": [
       "<div>\n",
       "<style scoped>\n",
       "    .dataframe tbody tr th:only-of-type {\n",
       "        vertical-align: middle;\n",
       "    }\n",
       "\n",
       "    .dataframe tbody tr th {\n",
       "        vertical-align: top;\n",
       "    }\n",
       "\n",
       "    .dataframe thead th {\n",
       "        text-align: right;\n",
       "    }\n",
       "</style>\n",
       "<table border=\"1\" class=\"dataframe\">\n",
       "  <thead>\n",
       "    <tr style=\"text-align: right;\">\n",
       "      <th></th>\n",
       "      <th>Tweets</th>\n",
       "      <th>Org</th>\n",
       "    </tr>\n",
       "  </thead>\n",
       "  <tbody>\n",
       "    <tr>\n",
       "      <th>0</th>\n",
       "      <td>republicans are divided on whether trump shoul...</td>\n",
       "      <td>CNN</td>\n",
       "    </tr>\n",
       "    <tr>\n",
       "      <th>1</th>\n",
       "      <td>why do americans love denim see where the love...</td>\n",
       "      <td>CNN</td>\n",
       "    </tr>\n",
       "    <tr>\n",
       "      <th>2</th>\n",
       "      <td>former texas rep beto o rourke will be intervi...</td>\n",
       "      <td>CNN</td>\n",
       "    </tr>\n",
       "    <tr>\n",
       "      <th>3</th>\n",
       "      <td>mexico s gas shortage fuels long lines at the ...</td>\n",
       "      <td>CNN</td>\n",
       "    </tr>\n",
       "    <tr>\n",
       "      <th>4</th>\n",
       "      <td>national park visitors cut down protected josh...</td>\n",
       "      <td>CNN</td>\n",
       "    </tr>\n",
       "    <tr>\n",
       "      <th>5</th>\n",
       "      <td>the current government shutdown has resulted f...</td>\n",
       "      <td>CNN</td>\n",
       "    </tr>\n",
       "    <tr>\n",
       "      <th>6</th>\n",
       "      <td>sun lovers and fans of mickey and minnie flock...</td>\n",
       "      <td>CNN</td>\n",
       "    </tr>\n",
       "    <tr>\n",
       "      <th>7</th>\n",
       "      <td>investors thought edible arrangements would fa...</td>\n",
       "      <td>CNN</td>\n",
       "    </tr>\n",
       "    <tr>\n",
       "      <th>8</th>\n",
       "      <td>oh my god oh my god i m shaking this milwaukee...</td>\n",
       "      <td>CNN</td>\n",
       "    </tr>\n",
       "    <tr>\n",
       "      <th>9</th>\n",
       "      <td>a team of scientists discovered a series of re...</td>\n",
       "      <td>CNN</td>\n",
       "    </tr>\n",
       "  </tbody>\n",
       "</table>\n",
       "</div>"
      ],
      "text/plain": [
       "                                              Tweets  Org\n",
       "0  republicans are divided on whether trump shoul...  CNN\n",
       "1  why do americans love denim see where the love...  CNN\n",
       "2  former texas rep beto o rourke will be intervi...  CNN\n",
       "3  mexico s gas shortage fuels long lines at the ...  CNN\n",
       "4  national park visitors cut down protected josh...  CNN\n",
       "5  the current government shutdown has resulted f...  CNN\n",
       "6  sun lovers and fans of mickey and minnie flock...  CNN\n",
       "7  investors thought edible arrangements would fa...  CNN\n",
       "8  oh my god oh my god i m shaking this milwaukee...  CNN\n",
       "9  a team of scientists discovered a series of re...  CNN"
      ]
     },
     "execution_count": 53,
     "metadata": {},
     "output_type": "execute_result"
    }
   ],
   "source": [
    "df.head(10)"
   ]
  },
  {
   "cell_type": "code",
   "execution_count": 54,
   "metadata": {},
   "outputs": [
    {
     "data": {
      "text/plain": [
       "pandas.core.frame.DataFrame"
      ]
     },
     "execution_count": 54,
     "metadata": {},
     "output_type": "execute_result"
    }
   ],
   "source": [
    "type(df)"
   ]
  },
  {
   "cell_type": "markdown",
   "metadata": {},
   "source": [
    "### Splitting this up for later classifiers"
   ]
  },
  {
   "cell_type": "code",
   "execution_count": 55,
   "metadata": {},
   "outputs": [],
   "source": [
    "y = df.Org\n",
    "X = df.Tweets"
   ]
  },
  {
   "cell_type": "code",
   "execution_count": 56,
   "metadata": {},
   "outputs": [],
   "source": [
    "y_train, y_test = train_test_split(df.Org, test_size=0.25, random_state=42)"
   ]
  },
  {
   "cell_type": "code",
   "execution_count": 72,
   "metadata": {},
   "outputs": [],
   "source": [
    "#X_train, X_test = train_test_split(X, test_size=0.25, random_state=42)"
   ]
  },
  {
   "cell_type": "markdown",
   "metadata": {},
   "source": [
    "## Bag of Words Analysis"
   ]
  },
  {
   "cell_type": "markdown",
   "metadata": {},
   "source": [
    "### BoW with SKLearn CountVectorizer"
   ]
  },
  {
   "cell_type": "code",
   "execution_count": 73,
   "metadata": {},
   "outputs": [
    {
     "name": "stdout",
     "output_type": "stream",
     "text": [
      "['aaa', 'aaliyah', 'aapl', 'aaron', 'ab', 'aback', 'abandon', 'abandoned', 'abandoning', 'abandonment', 'abandons', 'abaya', 'abb', 'abbas', 'abbe', 'abbi', 'abbvie', 'abby', 'abc', 'abdicate', 'abdicated', 'abdicates', 'abdomen', 'abduct', 'abducted', 'abduction', 'abdul', 'abdullah', 'abdulwahab', 'abe', 'abenomics', 'abhishek', 'abidi', 'abiding', 'ability', 'abiy', 'abkhazia', 'able', 'abloh', 'abo', 'aboard', 'abolish', 'abolished', 'abomination', 'aboriginal', 'aborted', 'abortion', 'abortions', 'abou', 'abound', 'abraham', 'abrams', 'abridged', 'abroad', 'abrupt', 'abruptly', 'absence', 'absences', 'absent', 'absentee', 'absolute', 'absolutely', 'absolve', 'absorbing', 'absti', 'abstract', 'absurd', 'absurdity', 'abu', 'abundantly', 'abus', 'abuse', 'abused', 'abusers', 'abuses', 'abusing', 'abusive', 'abuzz', 'ac', 'aca', 'academi', 'academic', 'academy', 'acc', 'acce', 'accede', 'accelerated', 'accelerating', 'accenture', 'accept', 'acceptable', 'acceptance', 'accepted', 'accepting', 'accepts', 'access', 'accessed', 'accessing', 'accessory', 'accident', 'accidental', 'accidentally', 'accidents', 'accla', 'acclaimed', 'acco', 'accolades', 'accommodate', 'accompanied', 'accomplished', 'accomplishments', 'accor', 'accord', 'accordi', 'accordin', 'according', 'accordingly', 'accosts', 'account', 'accountability', 'accountable', 'accountant', 'accounts', 'accredi', 'accredit', 'accredited', 'accumulating', 'accurately', 'accus', 'accusatio', 'accusation', 'accusations', 'accuse', 'accused', 'accuser', 'accusers', 'accuses', 'accusing', 'accustomed', 'accuweather', 'achieve', 'achieved', 'achievement', 'achievements', 'acid', 'ackerman', 'acknowledge', 'acknowledged', 'acknowledges', 'acknowledging', 'acosta', 'acoustic', 'acquire', 'acquired', 'acquires', 'acquiring', 'acquisitions', 'acquits', 'acquitted', 'acre', 'acres', 'acrimony', 'acro', 'acsversace', 'act', 'actblue', 'acted', 'acti', 'acting', 'actio', 'action', 'actions', 'active', 'actively', 'activision', 'activism', 'activist', 'activists', 'activities', 'activity', 'actor', 'actors', 'actress', 'acts', 'actua', 'actual', 'actuall', 'actually', 'ad', 'adam', 'adams', 'adapt', 'adaptation', 'adaptations', 'adapting', 'add', 'adde', 'added', 'addicted', 'addiction', 'addictions', 'addictive', 'adding', 'addition', 'additional', 'address', 'addressed', 'addresses', 'addressing', 'adds', 'adelson', 'adenovirus', 'adequate', 'adequately', 'adhd', 'adhesive', 'adieu', 'adjourn', 'adjourned', 'adjourning', 'adjourns', 'adjusted', 'adjusting', 'adler', 'admini', 'administ', 'administra', 'administrat', 'administrati', 'administration', 'administrator', 'administrators', 'admiral', 'admiration', 'admire', 'admired', 'admissions', 'admit', 'admits', 'admitted', 'admitting', 'adolescence', 'adolescent', 'adolescents', 'adolf', 'adopt', 'adopted', 'adopter', 'adoptin', 'adopting', 'adoption', 'adoptive', 'adopts', 'adorable', 'adorns', 'adrej', 'adrian', 'adrift', 'ads', 'adult', 'adults', 'adva', 'advance', 'advanced', 'advancement', 'advances', 'advancing', 'advantage', 'advantages', 'advent', 'adventure', 'adventures', 'adventurous', 'adversaries', 'adversely', 'advert', 'advertisers', 'advertising', 'advice', 'advis', 'advise', 'advised', 'adviser', 'advisers', 'advises', 'advising', 'advisory', 'advocacy', 'advocate', 'advocates', 'advocating', 'aerobic', 'aeromexico', 'aerospace', 'aesthetically', 'aetna', 'af', 'afar', 'afc', 'afd', 'aff', 'affair', 'affairs', 'affect', 'affected', 'affecting', 'affects', 'affidavit', 'affiliated', 'affirm', 'affirmative', 'affirming', 'afflict', 'afford', 'affordable', 'affording', 'afghan', 'afghanistan', 'afloat', 'afm', 'afoul', 'afraid', 'afric', 'africa', 'african', 'africom', 'afro', 'afrocentri', 'afros', 'aft', 'afte', 'aftermath', 'aftermaths', 'afternoon', 'aftershocks', 'aftonbladet', 'ag', 'aga', 'agai', 'agains', 'agatha', 'age', 'aged', 'agencies', 'agency', 'agenda', 'agendas', 'agent', 'agents', 'ages', 'aggravated', 'aggressive', 'aggressively', 'aghast', 'agility', 'aging', 'agitated', 'agitators', 'agnew', 'ago', 'agonized', 'agony', 'agr', 'agra', 'agrarian', 'agree', 'agreed', 'agreeing', 'agreement', 'agrees', 'agricul', 'agricultural', 'agriculture', 'aground', 'aguilar', 'agut', 'ahe', 'ahead', 'ahmad', 'ahmadinejad', 'ahmed', 'ahuja', 'ai', 'aid', 'aide', 'aides', 'aids', 'ailes', 'ailey', 'ailments', 'ails', 'aim', 'aimed', 'aiming', 'aims', 'ain', 'air', 'airasia', 'airbag', 'airbnb', 'airborne', 'airbrushing', 'airbus', 'aircraft', 'aires', 'airfield', 'airfields', 'airguns', 'airing', 'airli', 'airlifted', 'airlifts', 'airlin', 'airline', 'airliners', 'airlines', 'airmen', 'airong', 'airplane', 'airplanes', 'airport', 'airports', 'airspace', 'airspeed', 'airstrike', 'airstrikes', 'airtime', 'airways', 'aisle', 'aisles', 'aka', 'akaraiwai', 'akihito', 'akil', 'akin', 'akli', 'akoya', 'akyol', 'akzo', 'al', 'alabama', 'alabamians', 'aladdin', 'alain', 'alan', 'alarm', 'alarmed', 'alarming', 'alarmist', 'alarms', 'alaska', 'alaskan', 'alaskans', 'alb', 'alba', 'albatross', 'alberto', 'albino', 'albu', 'album', 'albums', 'albutairi', 'alcohol', 'alcoholic', 'alcoholics', 'alcoholism', 'alderman', 'alderney', 'aldridge', 'aldyr', 'alec', 'alejandro', 'aleppo', 'alert', 'alerted', 'alerts', 'alex', 'alexa', 'alexander', 'alexandra', 'alexandre', 'alexandria', 'alexeyeva', 'alfonso', 'algeria', 'algorithm', 'algorithms', 'ali', 'alibaba', 'alicia', 'alien', 'aliens', 'aligned', 'aligning', 'aligns', 'alike', 'alison', 'aliv', 'alive', 'allah', 'alle', 'allegatio', 'allegation', 'allegations', 'allege', 'alleged', 'allegedly', 'alleges', 'allegiance', 'alleging', 'allen', 'allergan', 'allergy', 'alleviate', 'alley', 'alliance', 'alliances', 'allied', 'allies', 'allocate', 'allocated', 'allotments', 'allow', 'allowed', 'allowing', 'allows', 'allred', 'alls', 'alluding', 'allure', 'alluring', 'ally', 'alm', 'almanac', 'almanacs', 'almighty', 'almo', 'alo', 'alok', 'alongside', 'alonzo', 'alpha', 'alphabet', 'alphazero', 'alpine', 'alps', 'alqunun', 'alread', 'als', 'alstom', 'alt', 'alter', 'altercation', 'altered', 'alterna', 'alternat', 'alternate', 'alternative', 'altitude', 'altria', 'alum', 'aluminum', 'alw', 'alway', 'alyssa', 'alzheimer', 'ama', 'amadou', 'amal', 'amaral', 'amasses', 'amateur', 'amazing', 'amazon', 'ambani', 'ambassador', 'ambassadors', 'amber', 'ambition', 'ambitions', 'ambitious', 'ambulance', 'ambushed', 'amd', 'amelia', 'amend', 'amendment', 'amendments', 'amer', 'ameri', 'americ', 'america', 'american', 'americans', 'americanstyle', 'americas', 'ameritrade', 'amgen', 'amid', 'amish', 'ammunition', 'amnesty', 'amo', 'amoeba', 'amon', 'amoral', 'amos', 'amounted', 'amounts', 'amph', 'amphibian', 'amplific', 'amplified', 'amputee', 'amrita', 'amrith', 'ams', 'amsel', 'amsterdam', 'amtrak', 'amused', 'amuses', 'amusing', 'amy', 'anadolu', 'anaheim', 'anak', 'analogy', 'analysis', 'analyst', 'analysts', 'analytica', 'analyzed', 'analyzes', 'ancestor', 'ancestors', 'ancestral', 'ancestry', 'anch', 'anchor', 'anchorage', 'anchored', 'anchors', 'anchovies', 'ancient', 'andalusia', 'andaman', 'andamans', 'anderson', 'andme', 'andrea', 'andrew', 'andrews', 'andrii', 'android', 'andry', 'andy', 'anemic', 'aneurysm', 'angel', 'angela', 'angeles', 'angelina', 'angelo', 'anger', 'angering', 'angers', 'angle', 'angrily', 'angry', 'anguish', 'anheuser', 'anias', 'animal', 'animals', 'animated', 'animation', 'animations', 'aniston', 'anjem', 'ankara', 'anker', 'ankle', 'ann', 'anna', 'annapolis', 'anne', 'annegret', 'annie', 'anniversary', 'annotated', 'annou', 'announ', 'announc', 'announce', 'announced', 'announcement', 'announcer', 'announces', 'announcing', 'annoy', 'annoyed', 'annu', 'annual', 'anomaly', 'anonymou', 'anonymous', 'anot', 'ansari', 'ansel', 'answer', 'answered', 'answers', 'anta', 'antarctic', 'antarctica', 'anthem', 'anthems', 'anthony', 'anti', 'antibiotics', 'anticipa', 'anticipate', 'anticipated', 'anticipation', 'anticorruption', 'antics', 'antidote', 'antifa', 'antifreeze', 'antigen', 'antiquated', 'antiquities', 'antitank', 'antithetical', 'antitr', 'antitrust', 'antjuan', 'antoinette', 'anton', 'antonio', 'ants', 'antsy', 'anxi', 'anxieties', 'anxiety', 'anxious', 'anybody', 'anymore', 'anyon', 'anyt', 'anythi', 'anytime', 'aoc', 'ap', 'aparicio', 'apart', 'apartment', 'apartments', 'apec', 'apocalypse', 'apollo', 'apologies', 'apologises', 'apologize', 'apologized', 'apologizes', 'apologizing', 'apology', 'app', 'appalachia', 'appalachian', 'apparel', 'apparent', 'apparently', 'appeal', 'appealed', 'appealing', 'appeals', 'appear', 'appearance', 'appearances', 'appeared', 'appearing', 'appears', 'appease', 'appellate', 'appetite', 'appl', 'applaud', 'applause', 'apple', 'applia', 'appliance', 'applicant', 'applicants', 'applicat', 'application', 'applications', 'applied', 'apply', 'applying', 'appoint', 'appointed', 'appointees', 'appointing', 'appointment', 'appoints', 'apprais', 'appreciates', 'appreciation', 'apprehended', 'apprehensions', 'apprentice', 'apprenticeship', 'approach', 'approached', 'approaches', 'approaching', 'appropriate', 'appropriately', 'appropriation', 'approval', 'approvals', 'approve', 'approved', 'approves', 'approximately', 'apps', 'apr', 'april', 'apron', 'aps', 'apu', 'aquaman', 'aquarium', 'aquarius', 'ar', 'ara', 'arab', 'arabia', 'arabian', 'arabic', 'arbitrary', 'arbitration', 'arc', 'arcade', 'archaeological', 'archaeologists', 'archbishop', 'archdiocese', 'archeologists', 'archipelago', 'architect', 'architects', 'architecture', 'archive', 'archived', 'archrival', 'arctic', 'ardee', 'ardent', 'area', 'areas', 'aren', 'aret', 'areth', 'aretha', 'arg', 'argentina', 'argentine', 'argentinian', 'arguably', 'argue', 'argued', 'argues', 'arguing', 'argument', 'argumentative', 'arguments', 'ariana', 'arianna', 'arians', 'ariz', 'arizala', 'arizona', 'arkansas', 'arkhangelsk', 'arlington', 'arm', 'armageddon', 'armed', 'armenia', 'armenian', 'armie', 'armies', 'arming', 'armistice', 'armisticeday', 'armor', 'armored', 'arms', 'armstrong', 'army', 'arnold', 'aro', 'arou', 'aroun', 'arquette', 'arraignment', 'arran', 'arrange', 'arrangement', 'arrangements', 'array', 'arres', 'arrest', 'arrested', 'arrests', 'arrivabene', 'arrival', 'arrivals', 'arrive', 'arrived', 'arrives', 'arriving', 'arrow', 'arsalan', 'arsenal', 'arson', 'arsonist', 'art', 'artefact', 'artemenko', 'article', 'articles', 'articulated', 'artifact', 'artifacts', 'artific', 'artificial', 'artificially', 'artillery', 'artisans', 'artist', 'artistic', 'artistry', 'artists', 'artois', 'arts', 'artworks', 'asad', 'asbes', 'asbestos', 'ash', 'ashamed', 'ashcroft', 'ashdown', 'ashes', 'asheville', 'ashley', 'ashraf', 'ashworth', 'asia', 'asian', 'asians', 'aside', 'ask', 'aske', 'asked', 'aski', 'asking', 'asks', 'asleep', 'aspects', 'aspern', 'aspirational', 'aspire', 'aspiring', 'assad', 'assailants', 'assailing', 'assam', 'assange', 'assass', 'assassinate', 'assassination', 'assaul', 'assault', 'assaulted', 'assaulting', 'assaults', 'asse', 'assembly', 'assert', 'asserted', 'assertion', 'asserts', 'assess', 'assesses', 'assessing', 'assessments', 'asset', 'assets', 'assi', 'assigned', 'assignment', 'assistance', 'assistant', 'assistants', 'assisted', 'assists', 'associate', 'associated', 'associates', 'association', 'associations', 'assortment', 'asst', 'assume', 'assumed', 'assurance', 'assurances', 'assure', 'assured', 'assuring', 'ast', 'asteroid', 'aston', 'astonished', 'astonishing', 'astrazeneca', 'astronauts', 'astronomer', 'astronomers', 'astronomy', 'asylu', 'asylum', 'ata', 'atacama', 'ate', 'athens', 'atherosclerotic', 'athlete', 'athletes', 'athletic', 'atlanta', 'atlantic', 'atletico', 'atm', 'atmosphere', 'atmospheric', 'atom', 'atone', 'atop', 'atrocities', 'att', 'atta', 'attached', 'attachment', 'attachments', 'attack', 'attacked', 'attacker', 'attacking', 'attacks', 'attempt', 'attempted', 'attempting', 'attempts', 'attenborough', 'attend', 'attendance', 'attendant', 'attendants', 'attended', 'attending', 'attends', 'attention', 'attire', 'attitude', 'attitudes', 'attor', 'attorn', 'attorne', 'attorney', 'attorneys', 'attra', 'attract', 'attracted', 'attracting', 'attractions', 'attractive', 'attractively', 'attracts', 'attributed', 'atul', 'au', 'auburn', 'auc', 'auckland', 'auction', 'auctions', 'audie', 'audience', 'audiences', 'audio', 'audit', 'audits', 'aug', 'augier', 'augmented', 'august', 'augustinians', 'aunt', 'aurora', 'aussie', 'austen', 'austerity', 'austin', 'austral', 'australia', 'australian', 'australians', 'austria', 'austrian', 'ausvind', 'authent', 'authentic', 'authenticity', 'author', 'authorit', 'authoritarian', 'authoriti', 'authorities', 'authority', 'authorization', 'autis', 'autism', 'autistic', 'auto', 'autobiography', 'autocratic', 'autograph', 'autographed', 'automaker', 'automakers', 'automated', 'automatic', 'autonomous', 'autonomy', 'autopilot', 'autopsy', 'autumn', 'av', 'available', 'avalanche', 'ave', 'avenatti', 'avengers', 'aventura', 'avenue', 'average', 'avert', 'averted', 'avia', 'aviation', 'avicii', 'aviv', 'avocado', 'avocados', 'avoid', 'avoidance', 'avoided', 'avoiding', 'avoids', 'avowed', 'awa', 'await', 'awaited', 'awaiting', 'awaits', 'awake', 'awakening', 'award', 'awarded', 'awarding', 'awards', 'aware', 'awareness', 'away', 'awe', 'awed', 'awesome', 'awful', 'awkward', 'awoke', 'awry', 'ax', 'axa', 'axe', 'axis', 'ayako', 'ayaz', 'ayesha', 'ayodhya', 'azerbaijan', 'aziz', 'aztec', 'azzurra', 'ba', 'bab', 'baba', 'babcock', 'babe', 'babies', 'babis', 'babushkas', 'baby', 'babysit', 'babysitter', 'babysitting', 'bac', 'bacani', 'bach', 'bachelor', 'bachelors', 'backbone', 'backdrop', 'backed', 'backers', 'backfired', 'backfires', 'backflip', 'background', 'backgrounds', 'backing', 'backlash', 'backlogged', 'backpack', 'backpacks', 'backroom', 'backs', 'backseat', 'backstage', 'backstop', 'backstory', 'backup', 'backward', 'backwardness', 'backyard', 'bacteria', 'bacterial', 'bad', 'badass', 'badawi', 'baden', 'bader', 'badgering', 'badges', 'badgley', 'badicuao', 'badly', 'bae', 'baekgaard', 'baffled', 'bafta', 'bag', 'bagel', 'baggage', 'bagging', 'baghda', 'baghdad', 'baghdadi', 'bags', 'bahrain', 'baidoa', 'bail', 'bailey', 'bailout', 'bailouts', 'bait', 'bak', 'baked', 'baker', 'bakers', 'bakery', 'baking', 'bala', 'balaclava', 'balan', 'balance', 'balancing', 'balangiga', 'balcony', 'bald', 'baldwin', 'bale', 'balenciaga', 'bali', 'balk', 'balkanization', 'ball', 'ballerina', 'ballet', 'ballets', 'ballis', 'ballistic', 'balloon', 'ballooning', 'ballot', 'ballots', 'balls', 'baltimore', 'bama', 'bambi', 'bamboo', 'bamboozled', 'bamenda', 'ban', 'banana', 'bananas', 'banca', 'band', 'bandages', 'bandersnatch', 'bandleader', 'bandmates', 'bang', 'bangkok', 'bangladesh', 'banish', 'bank', 'banker', 'bankers', 'banking', 'bankrupt', 'bankruptcies', 'bankruptcy', 'banks', 'banksy', 'banned', 'banner', 'banners', 'banning', 'bannon', 'bans', 'baobab', 'baptist', 'bar', 'barack', 'barbara', 'barbarin', 'barbecue', 'barbed', 'barbie', 'barbiturates', 'barca', 'barcelona', 'barclays', 'bare', 'barefoot', 'barely', 'bargain', 'bargained', 'bargaining', 'bargains', 'bari', 'baring', 'barker', 'barking', 'barkley', 'barnes', 'barnet', 'barnie', 'barnier', 'baron', 'barr', 'barracks', 'barrage', 'barrasso', 'barred', 'barrel', 'barreled', 'barreling', 'barrels', 'barricaded', 'barricades', 'barrick', 'barrier', 'barriers', 'barring', 'barry', 'bars', 'bart', 'barton', 'barty', 'barzee', 'base', 'baseball', 'based', 'baseless', 'baselga', 'basement', 'bases', 'basf', 'bashar', 'bashed', 'bashes', 'bashir', 'basic', 'basically', 'basil', 'basilica', 'basin', 'basis', 'basketball', 'bastion', 'bat', 'batch', 'bath', 'bathed', 'bathing', 'bathroom', 'bathrooms', 'bathtub', 'batiste', 'batman', 'bats', 'batt', 'battalion', 'battalions', 'battered', 'batters', 'battery', 'battisti', 'battle', 'battled', 'battlefield', 'battleground', 'battles', 'battling', 'bau', 'baudelaire', 'bauer', 'bautista', 'bavarian', 'bawi', 'bay', 'bayard', 'bayer', 'bayern', 'baylor', 'bazelon', 'bb', 'bbc', 'bbcbizlive', 'bea', 'beach', 'beaches', 'beachfront', 'beachgoers', 'beacon', 'beagle', 'beal', 'beale', 'bean', 'beans', 'bear', 'beard', 'bearer', 'bearers', 'bearing', 'bearish', 'bears', 'beast', 'beat', 'beaten', 'beatifications', 'beating', 'beatles', 'beats', 'beaumont', 'beautician', 'beautiful', 'beauty', 'bebe', 'becau', 'becaus', 'bechdel', 'beckett', 'beckham', 'becky', 'bed', 'bedminster', 'bedroom', 'beds', 'bee', 'beef', 'beefed', 'beefsteak', 'beer', 'beers', 'bees', 'beeswax', 'bef', 'befriended', 'befriending', 'beg', 'begala', 'began', 'begets', 'begging', 'begin', 'beginning', 'beginnings', 'begins', 'beguiling', 'begun', 'beh', 'behalf', 'behar', 'behaved', 'behaving', 'behavior', 'behavioral', 'behaviour', 'beheaded', 'behin', 'behold', 'behoove', 'behrendt', 'bei', 'beijin', 'beijing', 'bein', 'beingmonitored', 'beings', 'beirut', 'bel', 'belarus', 'beleaguer', 'beleaguered', 'belgian', 'belgium', 'belgrade', 'belie', 'belief', 'beliefs', 'believe', 'believed', 'believer', 'believers', 'believes', 'belinelli', 'belize', 'belk', 'bell', 'bella', 'belle', 'belligerence', 'bellini', 'bells', 'belly', 'belonged', 'belonging', 'belongings', 'belongs', 'beloved', 'belt', 'beltran', 'bem', 'bemoan', 'bempah', 'bemused', 'ben', 'benalla', 'bench', 'benching', 'benchmark', 'bend', 'bending', 'bendis', 'beneath', 'beneficiary', 'benefit', 'benefited', 'benefiti', 'benefits', 'bengal', 'benin', 'benjamin', 'bennett', 'benny', 'beno', 'benoit', 'berdych', 'beret', 'berezin', 'bergen', 'berkeley', 'berkley', 'berlin', 'bermuda', 'bernard', 'bernice', 'bernie', 'berreth', 'berries', 'berry', 'bert', 'berta', 'bes', 'beset', 'besieged', 'beso', 'best', 'bestial', 'bestof', 'bet', 'bethenny', 'bethlehem', 'beto', 'betr', 'betray', 'betrayal', 'betrayed', 'betrays', 'bets', 'betsy', 'better', 'betting', 'betw', 'betwe', 'beverage', 'beverages', 'beverley', 'bevo', 'beware', 'bewildered', 'beyonc', 'beyonce', 'bezo', 'bezos', 'bhutan', 'bhutanese', 'bi', 'bialik', 'bias', 'biased', 'biasing', 'bibi', 'bible', 'biblical', 'bickerstaff', 'bicycle', 'bicycles', 'bid', 'bidder', 'bidding', 'biden', 'bids', 'bieber', 'bien', 'big', 'bigger', 'biggest', 'biggs', 'bigotry', 'bijan', 'bike', 'biker', 'bikes', 'biking', 'bikini', 'bil', 'bilbao', 'bilby', 'bild', 'biles', 'bilingual', 'billboard', 'billboards', 'billed', 'billie', 'billio', 'billion', 'billionaire', 'billionaires', 'billions', 'bills', 'billy', 'bin', 'binary', 'bind', 'binding', 'binge', 'binging', 'binotto', 'bins', 'bint', 'biodegrade', 'biodiversity', 'biographies', 'biography', 'biologically', 'biologist', 'biometric', 'biopharmaceutical', 'biopic', 'biopics', 'bipa', 'biparti', 'bipartisan', 'bipartisanship', 'biracial', 'bird', 'birdbox', 'birdman', 'birds', 'birth', 'birthd', 'birthday', 'birthdays', 'birthplace', 'birthrate', 'birthright', 'biscuits', 'bishop', 'bishops', 'biskupski', 'bit', 'bitcoin', 'bite', 'biter', 'bites', 'biting', 'bits', 'bitter', 'bitterness', 'bittersweet', 'bizarre', 'bjp', 'bl', 'bla', 'black', 'blackburn', 'blackface', 'blacklisted', 'blackness', 'blackout', 'blackpool', 'blackrock', 'blacks', 'blackwater', 'blade', 'blake', 'blakinger', 'blame', 'blamed', 'blames', 'blaming', 'blanco', 'bland', 'blank', 'blanket', 'blanketing', 'blankets', 'blase', 'blasey', 'blasio', 'blasphemy', 'blast', 'blasted', 'blasting', 'blasts', 'blaze', 'blazes', 'bleaching', 'bleak', 'bleed', 'bleeding', 'bleeds', 'blend', 'bler', 'bless', 'blesses', 'blessing', 'blevins', 'blew', 'blexit', 'blind', 'blindsided', 'bling', 'blink', 'blip', 'blissful', 'blistering', 'blithely', 'blitz', 'blitzer', 'blizzard', 'bloc', 'block', 'blockade', 'blockades', 'blockbust', 'blockbuster', 'blockchain', 'blocked', 'blockers', 'blocking', 'blocks', 'blog', 'blogger', 'bloggers', 'blood', 'bloodborne', 'bloodshed', 'bloodstream', 'bloody', 'bloom', 'bloomberg', 'blow', 'blowfly', 'blowing', 'blowout', 'blows', 'blue', 'bluebird', 'bluebottle', 'bluefin', 'blueprint', 'blueprints', 'blues', 'bluest', 'blunder', 'blunders', 'blunt', 'bluster', 'bly', 'blyth', 'blythe', 'bmw', 'bn', 'bo', 'boa', 'boar', 'board', 'boarded', 'boarding', 'boardroom', 'boards', 'boasts', 'boat', 'boats', 'bob', 'bobbitt', 'bobby', 'bobi', 'bobo', 'bode', 'bodies', 'body', 'bodyguard', 'bodyslams', 'bodysurfing', 'boeing', 'boesing', 'boggling', 'bogot', 'boh', 'bohemian', 'boilen', 'boiling', 'boils', 'boj', 'bojack', 'bold', 'bolder', 'boldest', 'bolivia', 'boll', 'bollywood', 'bolognese', 'bolsonaro', 'bolster', 'bolstered', 'bolsters', 'bolt', 'bolton', 'bomb', 'bomber', 'bombers', 'bombing', 'bombings', 'bombs', 'bona', 'bond', 'bonds', 'bone', 'bones', 'bongo', 'bonkers', 'bonus', 'booed', 'booger', 'book', 'bookconcierge', 'booked', 'bookended', 'booker', 'booking', 'books', 'bookseller', 'bookstore', 'boom', 'booming', 'boon', 'boondocks', 'boone', 'boost', 'boosted', 'boosting', 'boosts', 'boot', 'booted', 'booth', 'booting', 'boots', 'boozy', 'borat', 'bord', 'borde', 'border', 'borderline', 'borders', 'bored', 'boring', 'born', 'bornonthisday', 'borrowed', 'borrowers', 'borrowing', 'boruchowitz', 'borussia', 'bosch', 'boseman', 'bosnia', 'boss', 'bosses', 'bossfiles', 'bostic', 'boston', 'botched', 'botham', 'bothers', 'botone', 'bots', 'botswana', 'bottle', 'bottled', 'bottleneck', 'bottlenecks', 'bottles', 'bought', 'boulevard', 'boulton', 'bounce', 'bounces', 'bouncing', 'bound', 'boundaries', 'boundary', 'bourbon', 'bourke', 'bourne', 'bout', 'bouts', 'bow', 'bowers', 'bowie', 'bowl', 'bowler', 'bowli', 'bowling', 'bowls', 'bows', 'bowser', 'box', 'boxer', 'boxes', 'boxing', 'boxingday', 'boy', 'boycott', 'boycotting', 'boyfriends', 'boyle', 'boys', 'bozeman', 'br', 'brace', 'bracelet', 'braces', 'bracing', 'bracket', 'brackets', 'brad', 'bradford', 'bradley', 'brady', 'bragged', 'bragging', 'brahim', 'brain', 'brainchild', 'brainless', 'brains', 'brakes', 'branch', 'brand', 'brandi', 'brandishes', 'brandon', 'brands', 'brass', 'braun', 'braunstein', 'brave', 'braved', 'bravery', 'bravo', 'braxton', 'bray', 'braz', 'brazen', 'brazil', 'brazilian', 'brazilians', 'bre', 'brea', 'breach', 'breached', 'breaches', 'bread', 'breadth', 'break', 'breakaway', 'breakdown', 'breakfast', 'breaking', 'breakingviews', 'breakout', 'breaks', 'breakthrough', 'breakthroughs', 'breakups', 'breast', 'breastfeeding', 'breath', 'breathe', 'breathing', 'breathless', 'breathtaking', 'breed', 'breeder', 'breeders', 'breen', 'brees', 'breezy', 'brenberg', 'brendan', 'brenneck', 'brenner', 'brent', 'bret', 'brethren', 'brett', 'brevard', 'brewer', 'breweries', 'brewery', 'brewing', 'brews', 'brexit', 'brexiteers', 'bri', 'brian', 'bribe', 'bribery', 'bribes', 'bridal', 'bride', 'bridesmaids', 'bridge', 'bridgers', 'bridges', 'brie', 'brief', 'briefing', 'briefly', 'brigade', 'bright', 'brightest', 'brighton', 'brilliant', 'brilliantly', 'brimming', 'bring', 'bringing', 'brings', 'brink', 'brinkmanship', 'brisbane', 'bristles', 'bristol', 'britain', 'british', 'britney', 'briton', 'britons', 'brits', 'broad', 'broadcast', 'broadcaster', 'broadcasts', 'broadcom', 'broaden', 'broader', 'broadly', 'broadside', 'broadway', 'broke', 'brokeback', 'broken', 'broker', 'brokerages', 'brokered', 'brokers', 'bromance', 'broncos', 'bronwen', 'bronx', 'bronze', 'brook', 'brooklyn', 'brooklynites', 'brooks', 'broom', 'bros', 'brosnahan', 'broth', 'brothel', 'brother', 'brothers', 'brought', 'broward', 'browder', 'brown', 'browns', 'browse', 'bru', 'bruce', 'bruised', 'bruising', 'brunch', 'brunson', 'brushes', 'brussels', 'brutal', 'brutality', 'brutally', 'brutus', 'bruyne', 'bryan', 'bryant', 'bryce', 'brzezinski', 'bts', 'bu', 'bubble', 'bubbly', 'bubl', 'buccaneers', 'buck', 'bucks', 'buckwheat', 'bud', 'budapest', 'buddhist', 'buddhists', 'buddy', 'budge', 'budget', 'budgets', 'buena', 'buenos', 'buffalo', 'buffaloes', 'buffet', 'buffeted', 'buffett', 'bug', 'bugged', 'buggy', 'bugs', 'buhari', 'build', 'building', 'buildings', 'built', 'bulger', 'bull', 'bullard', 'bulldog', 'bulldogs', 'bullet', 'bullets', 'bullied', 'bullies', 'bullock', 'bullying', 'bulwark', 'bumble', 'bumblebee', 'bump', 'bumped', 'bumper', 'bumpier', 'bumps', 'bumrah', 'bunch', 'bunchems', 'bundle', 'bundt', 'bungie', 'bungled', 'bunn', 'bunny', 'buoyed', 'bur', 'burden', 'burdened', 'bureau', 'bureaucrats', 'burger', 'burglaries', 'burglarudolph', 'burglary', 'burial', 'buried', 'burke', 'burkina', 'burlingame', 'burn', 'burned', 'burnett', 'burning', 'burnley', 'burns', 'burr', 'burrito', 'burritos', 'burrous', 'burrows', 'burst', 'bursts', 'burt', 'burton', 'burundi', 'bury', 'burying', 'bus', 'busboy', 'busch', 'bused', 'buses', 'bush', 'bushel', 'bushels', 'bushfires', 'busiest', 'busine', 'business', 'businesses', 'businessman', 'businessmen', 'businesspeople', 'buskers', 'bust', 'busted', 'bustling', 'busts', 'busy', 'butch', 'butina', 'butler', 'butt', 'butter', 'butterfly', 'buttery', 'button', 'buttons', 'buttress', 'butts', 'buy', 'buyb', 'buyback', 'buye', 'buyer', 'buyers', 'buyi', 'buying', 'buyouts', 'buyoya', 'buys', 'buzz', 'buzzcocks', 'buzzed', 'buzzfeed', 'buzzing', 'buzzy', 'bye', 'byp', 'bypass', 'bypassing', 'bystander', 'ca', 'caal', 'cab', 'cabin', 'cabinet', 'cable', 'cables', 'caddo', 'cadillac', 'caesarea', 'cafaro', 'cafe', 'cafeteria', 'caffeine', 'cage', 'cahill', 'cahit', 'cair', 'cairo', 'caitlyn', 'caixin', 'cake', 'cakes', 'cal', 'calamity', 'calavera', 'calculating', 'caledonia', 'calendar', 'calendars', 'calf', 'calgary', 'calibrate', 'calif', 'califor', 'californ', 'california', 'californian', 'californians', 'caliphate', 'calle', 'called', 'caller', 'callers', 'calling', 'calls', 'calm', 'calmer', 'calories', 'calvin', 'cam', 'cambo', 'cambodia', 'cambodian', 'cambridge', 'came', 'camel', 'camels', 'cameo', 'camera', 'cameras', 'camerawoman', 'cameron', 'cameroon', 'camp', 'campa', 'campaign', 'campaigned', 'campaigners', 'campaigning', 'campaigns', 'campbell', 'campfire', 'camping', 'campoamor', 'camps', 'campus', 'campuses', 'cams', 'canad', 'canada', 'canadia', 'canadian', 'canadians', 'canary', 'canbe', 'canberra', 'canc', 'cancel', 'canceled', 'canceling', 'cancellation', 'cancelled', 'cancelling', 'cancels', 'cancer', 'cancerous', 'cancers', 'cancun', 'candice', 'candid', 'candida', 'candidacy', 'candidate', 'candidates', 'candies', 'candles', 'candor', 'candy', 'cane', 'canisters', 'cannabidiol', 'cannabis', 'canned', 'cannibalism', 'cannons', 'cans', 'cantrell', 'cantwell', 'canucks', 'canvassed', 'cap', 'capa', 'capable', 'capacity', 'cape', 'caperca', 'capernaum', 'capital', 'capitalism', 'capitalists', 'capitalize', 'capitals', 'capitol', 'capoeira', 'capping', 'capri', 'caps', 'capsized', 'capsule', 'captain', 'captains', 'caption', 'captivated', 'captivating', 'captive', 'captivity', 'captor', 'capture', 'captured', 'captures', 'capturing', 'car', 'carach', 'caramel', 'carat', 'caravan', 'caravans', 'carbon', 'carbonara', 'card', 'cardi', 'cardiac', 'cardinal', 'cardinals', 'cardiologist', 'cardiovascular', 'cards', 'care', 'cared', 'careens', 'career', 'careful', 'carefully', 'caregivers', 'carer', 'carers', 'cares', 'caretakers', 'carey', 'cargo', 'caribbean', 'carige', 'caring', 'carl', 'carlile', 'carlisle', 'carlo', 'carlos', 'carlsen', 'carlson', 'carlton', 'carmaker', 'carman', 'carnegie', 'carnival', 'carnivores', 'carol', 'carolina', 'carolinas', 'carolinians', 'carols', 'carousel', 'carpenter', 'carpet', 'carpetbagger', 'carrey', 'carriage', 'carrie', 'carried', 'carrier', 'carriers', 'carries', 'carrot', 'carrots', 'carry', 'carrying', 'cars', 'carson', 'cart', 'carted', 'cartel', 'cartels', 'carter', 'cartoon', 'cartoonist', 'cartoons', 'carts', 'carvana', 'carve', 'carved', 'carville', 'carvings', 'cas', 'casamonica', 'cascade', 'case', 'cases', 'casey', 'cash', 'cashed', 'cashew', 'cashier', 'cashing', 'casings', 'casino', 'caskets', 'caspian', 'casserole', 'casseroles', 'cassette', 'cassidy', 'cast', 'castes', 'castillo', 'casting', 'castle', 'castletown', 'castmate', 'castro', 'casts', 'casual', 'casualties', 'casualty', 'cat', 'cataclysmic', 'catalan', 'catalog', 'catalyst', 'catastrophe', 'catastrophes', 'catastrophic', 'catch', 'catchers', 'catches', 'catching', 'catchy', 'categories', 'category', 'cater', 'catering', 'cathay', 'cathedral', 'catherine', 'catholic', 'catholics', 'cathy', 'catron', 'cats', 'cattle', 'catwalk', 'catwoman', 'cauc', 'caucus', 'caucuses', 'caught', 'causal', 'cause', 'caused', 'causes', 'causing', 'caustic', 'caution', 'cautions', 'cautious', 'cautiously', 'cava', 'cave', 'caveat', 'caved', 'cavern', 'cavs', 'cavusoglu', 'cb', 'cbc', 'cbd', 'cbp', 'cbre', 'cbs', 'cctv', 'cdc', 'cdu', 'ce', 'cease', 'ceasefire', 'ceasing', 'cecil', 'cecile', 'cedars', 'ceding', 'ceiling', 'celebr', 'celebrat', 'celebrate', 'celebrated', 'celebrates', 'celebrati', 'celebratin', 'celebrating', 'celebration', 'celebrations', 'celebratory', 'celebrities', 'celebrity', 'celebs', 'celgene', 'celine', 'cell', 'cellist', 'cellphone', 'cells', 'celltrion', 'cellular', 'celtic', 'celtics', 'cement', 'cementing', 'cements', 'cemetery', 'cen', 'cenbank', 'cens', 'censor', 'censoring', 'censors', 'censorship', 'census', 'cent', 'centenary', 'center', 'centered', 'centerpiece', 'centers', 'central', 'centralized', 'centre', 'centred', 'cents', 'centur', 'centuri', 'centuries', 'century', 'centurylink', 'ceo', 'ceos', 'cereals', 'cerebral', 'ceremonial', 'ceremonies', 'ceremoniously', 'ceremony', 'ceres', 'cern', 'cert', 'certai', 'certain', 'certainly', 'certainty', 'certific', 'certificates', 'certified', 'certify', 'certifying', 'ces', 'cesar', 'cesare', 'cfb', 'cfo', 'cfp', 'cgi', 'ch', 'cha', 'chabahar', 'chad', 'chadwick', 'chain', 'chains', 'chair', 'chairm', 'chairma', 'chairman', 'chairmen', 'chairs', 'chairwoman', 'chaka', 'chalked', 'challenge', 'challenged', 'challenger', 'challengers', 'challenges', 'challenging', 'chamber', 'chambers', 'chamisa', 'chamomile', 'champ', 'champagne', 'champion', 'championed', 'champions', 'championship', 'champs', 'chan', 'chanc', 'chance', 'chancellor', 'chances', 'chanel', 'chang', 'change', 'changed', 'changes', 'changing', 'chann', 'channe', 'channel', 'channeling', 'channels', 'chanted', 'chants', 'chaos', 'chaotic', 'chapel', 'chapo', 'chappelle', 'chapter', 'char', 'charact', 'character', 'characters', 'charge', 'charged', 'chargers', 'charges', 'charging', 'chariot', 'charismatic', 'charitable', 'charities', 'charity', 'charle', 'charles', 'charley', 'charlie', 'charlotte', 'charlottesville', 'charm', 'charmed', 'chart', 'charter', 'chartered', 'charting', 'charts', 'chase', 'chased', 'chases', 'chasing', 'chattanooga', 'chatter', 'chattopadhyay', 'chau', 'chavez', 'che', 'cheap', 'cheaper', 'cheat', 'cheated', 'cheaters', 'cheati', 'cheating', 'chechnya', 'check', 'checker', 'checkered', 'checking', 'checkless', 'checkpoint', 'checkpoints', 'checks', 'cheer', 'cheerleader', 'cheerleading', 'cheers', 'cheese', 'cheesy', 'cheezitbowl', 'chef', 'chefs', 'chekatt', 'chelsea', 'chemi', 'chemical', 'chemicals', 'chemistry', 'chemotherapy', 'chen', 'chenault', 'cheney', 'chengzhi', 'cheque', 'cher', 'cherish', 'cherishing', 'cherokee', 'cherry', 'chesapeake', 'chesnut', 'chess', 'chests', 'chevy', 'chews', 'cheyre', 'chi', 'chic', 'chicago', 'chick', 'chicken', 'chickens', 'chico', 'chief', 'chiefs', 'chieftain', 'chigozie', 'chihuahua', 'chil', 'child', 'childbirth', 'childhood', 'children', 'chile', 'chill', 'chiller', 'chilling', 'chills', 'chilly', 'chimed', 'chimney', 'china', 'chines', 'chinese', 'chinos', 'chip', 'chipmaker', 'chipotle', 'chipped', 'chips', 'chipset', 'chirping', 'chiseled', 'cho', 'chochlikova', 'chocolate', 'choice', 'choices', 'choir', 'choke', 'choked', 'cholera', 'cholesterol', 'chongqing', 'choose', 'chooses', 'choosing', 'choosy', 'chop', 'chopra', 'choreographer', 'chores', 'chorus', 'chose', 'chosen', 'choudary', 'chr', 'chreasters', 'chris', 'chrissy', 'christ', 'christen', 'christia', 'christian', 'christiane', 'christianity', 'christianpulisic', 'christians', 'christie', 'christina', 'christine', 'christmas', 'christmaseve', 'christmastime', 'christopher', 'christy', 'chrom', 'chronic', 'chronicles', 'chronicling', 'chrysler', 'chubby', 'chuc', 'chuck', 'chunk', 'chunks', 'church', 'churches', 'churchgoers', 'churchill', 'churchwell', 'churned', 'churns', 'ci', 'cia', 'cigarette', 'cigarettes', 'cigars', 'cillizza', 'cincinnati', 'cinder', 'cinderella', 'cindy', 'cinema', 'cinnamon', 'cios', 'circle', 'circling', 'circuit', 'circuiting', 'circulation', 'circumcision', 'circumnavigate', 'circumnavigates', 'circumstances', 'circumvent', 'circumventing', 'circus', 'cirrus', 'cit', 'cite', 'cited', 'cites', 'citi', 'citie', 'cities', 'citigroup', 'citing', 'citiz', 'citizen', 'citizens', 'citizenship', 'city', 'civi', 'civic', 'civil', 'civilian', 'civilians', 'civilisations', 'civilization', 'civilized', 'ck', 'cl', 'cla', 'claas', 'claes', 'claim', 'claimed', 'claimin', 'claiming', 'claims', 'claire', 'clamp', 'clan', 'clandestine', 'clapping', 'claps', 'clara', 'clariant', 'clarifications', 'clarified', 'clarifies', 'clarify', 'clarity', 'clark', 'clarke', 'clarkson', 'clas', 'clash', 'clashed', 'clashes', 'clashing', 'class', 'classes', 'classi', 'classic', 'classical', 'classics', 'classified', 'classmate', 'classroom', 'classrooms', 'claus', 'clauses', 'clauson', 'clay', 'clayton', 'clean', 'cleaner', 'cleaning', 'cleans', 'cleanup', 'clear', 'clearance', 'cleared', 'clearer', 'clearly', 'clears', 'clemency', 'clement', 'clemente', 'clemson', 'clergy', 'cleric', 'clerical', 'clerk', 'clermont', 'cleveland', 'clever', 'click', 'clicks', 'client', 'clientele', 'clients', 'cliff', 'cliffs', 'climat', 'climate', 'climb', 'climbed', 'climbin', 'climbing', 'climbs', 'clin', 'clinch', 'clinches', 'clinching', 'clings', 'clingy', 'clinic', 'clinical', 'clinics', 'clint', 'clinton', 'clips', 'clive', 'clo', 'clock', 'cloning', 'clos', 'close', 'closed', 'closely', 'closer', 'closes', 'closest', 'closet', 'closets', 'closing', 'closings', 'closs', 'closure', 'closures', 'clothed', 'clothes', 'clothing', 'clou', 'cloud', 'cloudier', 'clouding', 'clouds', 'cloudy', 'clouse', 'clout', 'clown', 'club', 'clues', 'clung', 'cluster', 'clutter', 'clyne', 'cnbc', 'cnn', 'cnngo', 'cnnlivelonger', 'cnnnye', 'coac', 'coach', 'coachella', 'coaches', 'coaching', 'coal', 'coalition', 'coarse', 'coarser', 'coast', 'coastal', 'coasted', 'coaster', 'coastline', 'coasts', 'coat', 'coated', 'coats', 'cobra', 'coca', 'cocaine', 'cochise', 'cockfighting', 'cockpit', 'cocktail', 'cocktails', 'cocoa', 'coconut', 'coconuts', 'code', 'coded', 'codes', 'codify', 'coding', 'cody', 'codyparkey', 'coerced', 'coercion', 'coeure', 'coexistence', 'coffee', 'coffin', 'coffins', 'cogan', 'cohen', 'coin', 'coincidence', 'coincides', 'coins', 'coke', 'col', 'cola', 'colbert', 'cold', 'coldon', 'cole', 'coleman', 'coli', 'colin', 'collaboration', 'collaborations', 'collaboratively', 'collaborator', 'collahuasi', 'collapse', 'collapsed', 'collapses', 'collapsing', 'collar', 'collard', 'colleague', 'colleagues', 'collect', 'collected', 'collectible', 'collecting', 'collection', 'collective', 'collector', 'collectors', 'college', 'colleges', 'collide', 'collider', 'collides', 'collins', 'collision', 'collman', 'colluded', 'colludes', 'collusion', 'colman', 'colo', 'cologne', 'colombia', 'colombian', 'colon', 'colonel', 'colonial', 'colonialism', 'colonies', 'color', 'colorado', 'colored', 'colorful', 'coloring', 'colors', 'colossal', 'colour', 'colts', 'columbia', 'columbus', 'column', 'columnist', 'columnists', 'columns', 'com', 'comb', 'combat', 'combating', 'combination', 'combined', 'combines', 'combining', 'combo', 'come', 'comeback', 'comedian', 'comedies', 'comedy', 'comes', 'comet', 'comey', 'comfort', 'comfortable', 'comforted', 'comforting', 'comic', 'comics', 'coming', 'comm', 'command', 'commandeer', 'commander', 'commando', 'commands', 'comme', 'commemorate', 'commemoration', 'commemorative', 'commended', 'comment', 'commentaries', 'commentary', 'commentator', 'commentators', 'commenter', 'comments', 'commerc', 'commerce', 'commercial', 'commercials', 'commission', 'commissioned', 'commissioner', 'commissioners', 'commissions', 'commit', 'commitment', 'commitments', 'commits', 'committed', 'committee', 'committees', 'committing', 'commodities', 'commodity', 'common', 'commoner', 'commonplace', 'commun', 'communi', 'communicate', 'communicating', 'communication', 'communications', 'communist', 'communities', 'community', 'commute', 'commuter', 'commuters', 'commuting', 'comp', 'compact', 'compan', 'companie', 'companies', 'company', 'compar', 'comparable', 'compare', 'compared', 'compares', 'comparing', 'comparison', 'comparisons', 'compassion', 'compassionate', 'compe', 'compelling', 'compels', 'compensate', 'compensation', 'compete', 'competin', 'competing', 'competit', 'competition', 'competitions', 'competitive', 'competitor', 'competitors', 'compiegne', 'compiled', 'complain', 'complained', 'complaining', 'complaint', 'complaints', 'complement', 'complements', 'complete', 'completed', 'completely', 'completeness', 'complex', 'complexity', 'compliance', 'compliant', 'complicate', 'complicated', 'complicates', 'complicating', 'complications', 'complici', 'compliment', 'comply', 'components', 'compose', 'composed', 'composer', 'composers', 'composite', 'compositions', 'compote', 'compound', 'comprehensive', 'compromise', 'compromised', 'compton', 'computer', 'computers', 'computing', 'conc', 'concannon', 'conceals', 'concede', 'conceded', 'concedes', 'conceding', 'conceived', 'concentrated', 'concentration', 'concept', 'concepts', 'concern', 'concerned', 'concerning', 'concerns', 'concert', 'concertina', 'concerts', 'concess', 'concessions', 'concierge', 'conclude', 'concluded', 'concludes', 'conclusion', 'conclusions', 'concord', 'concrete', 'concurrent', 'concussion', 'conde', 'condemn', 'condemned', 'condemning', 'condemns', 'condition', 'conditional', 'conditions', 'condolences', 'conduct', 'conducted', 'conducting', 'conductors', 'conducts', 'confederate', 'conferenc', 'conference', 'confes', 'confesses', 'confessing', 'confession', 'confetti', 'confidence', 'confident', 'confidential', 'confirm', 'confirmation', 'confirmed', 'confirming', 'confirms', 'conflic', 'conflict', 'conflicted', 'conflicting', 'conflicts', 'conform', 'confounding', 'confront', 'confrontational', 'confronted', 'confronting', 'confronts', 'confus', 'confused', 'confusing', 'confusion', 'cong', 'conge', 'congestion', 'congo', 'congolese', 'congratulated', 'congratulations', 'congratulatory', 'congregation', 'congregations', 'congres', 'congress', 'congression', 'congressional', 'congressman', 'congressmen', 'congresswoman', 'congresswomen', 'conjoined', 'conn', 'connect', 'connected', 'connecticut', 'connecting', 'connection', 'connections', 'connects', 'connelly', 'conners', 'connie', 'connor', 'conquered', 'conquering', 'conquers', 'cons', 'conscience', 'conscientious', 'conscious', 'consecrated', 'consecutive', 'consensus', 'consent', 'consequence', 'consequences', 'consequent', 'consequential', 'conservat', 'conservati', 'conservation', 'conservative', 'conservatives', 'conservators', 'conservatory', 'consider', 'considerate', 'consideration', 'considered', 'considering', 'considers', 'consistent', 'consistently', 'consisting', 'consists', 'conspiracy', 'conspired', 'conspiring', 'constance', 'constant', 'constantly', 'constellation', 'consti', 'constituents', 'constitution', 'constitutional', 'constitutionally', 'constr', 'constraints', 'construct', 'constructed', 'construction', 'constructive', 'consular', 'consulate', 'consulates', 'consult', 'consultancy', 'consultants', 'consulting', 'consults', 'consume', 'consumed', 'consumer', 'consumers', 'consuming', 'consumption', 'cont', 'contact', 'contacted', 'contacting', 'contacts', 'contagious', 'contai', 'contain', 'contained', 'container', 'containers', 'containin', 'containing', 'containment', 'contains', 'contaminated', 'contamination', 'contemplating', 'contemporary', 'contempt', 'contended', 'contender', 'contenders', 'contending', 'contends', 'content', 'contentious', 'contest', 'contestant', 'contested', 'contesting', 'contests', 'context', 'conti', 'contin', 'continent', 'contingen', 'contingencies', 'contingency', 'continu', 'continual', 'continue', 'continued', 'continues', 'continuing', 'contr', 'contra', 'contraception', 'contract', 'contracted', 'contracting', 'contraction', 'contractor', 'contractors', 'contracts', 'contradicting', 'contradiction', 'contradictions', 'contrarian', 'contrary', 'contrast', 'contribute', 'contributed', 'contributing', 'contributions', 'contributors', 'contro', 'control', 'controlled', 'controllers', 'controlling', 'controls', 'controv', 'controversial', 'controversies', 'controversy', 'convened', 'convenes', 'convenience', 'conveniences', 'convenient', 'conveniently', 'convention', 'conventional', 'conversatio', 'conversation', 'conversations', 'conversion', 'convert', 'converted', 'convertible', 'converting', 'converts', 'conveying', 'conveys', 'convicte', 'convicted', 'convicting', 'conviction', 'convictions', 'convicts', 'convince', 'convinced', 'convoy', 'conway', 'coo', 'coogler', 'cook', 'cookbook', 'cooke', 'cooked', 'cooker', 'cooki', 'cookie', 'cookiers', 'cookies', 'cooking', 'cooks', 'cool', 'coolest', 'cooling', 'coons', 'coop', 'cooper', 'cooperate', 'cooperated', 'cooperating', 'cooperation', 'cooperative', 'coordinate', 'coordinated', 'coordinating', 'coordination', 'coordinator', 'coors', 'cop', 'copay', 'cope', 'copeland', 'copenhagen', 'copernicus', 'copes', 'coping', 'copley', 'copper', 'cops', 'copter', 'coptic', 'copts', 'copy', 'copycat', 'copyright', 'copyrights', 'coquito', 'cor', 'coral', 'corbett', 'corbyn', 'cordelia', 'cordial', 'cords', 'core', 'corey', 'corinaldo', 'cork', 'corker', 'corn', 'cornel', 'cornell', 'corner', 'cornerback', 'corners', 'cornerstone', 'cornhuskers', 'cornish', 'corona', 'coronation', 'coroner', 'corp', 'corporat', 'corporate', 'corporation', 'corporations', 'corps', 'corpses', 'correct', 'corrected', 'correction', 'correctional', 'corrections', 'correctly', 'corrects', 'correspondent', 'correspondents', 'corrupt', 'corruption', 'corset', 'cortese', 'cortez', 'corvette', 'cory', 'cosby', 'cosmetic', 'cosmetics', 'cosmetology', 'cosmic', 'cosmology', 'cosmonauts', 'cost', 'costa', 'costanza', 'costco', 'costing', 'costliest', 'costly', 'costs', 'costume', 'costumes', 'cottage', 'cotton', 'cou', 'couch', 'cougar', 'coul', 'couldn', 'coulson', 'coulter', 'coulthirst', 'coun', 'council', 'councilwoman', 'counsel', 'count', 'countdown', 'counter', 'countera', 'countering', 'counterpart', 'counterparts', 'counterprotesters', 'counterterrorism', 'counties', 'counting', 'countless', 'countr', 'countries', 'country', 'countryside', 'counts', 'county', 'coup', 'couple', 'coupled', 'couples', 'coupons', 'cour', 'courier', 'course', 'courses', 'court', 'courtesy', 'courthouse', 'courthouses', 'courting', 'courts', 'courtship', 'cousi', 'cousin', 'cousins', 'cousy', 'couvertier', 'cov', 'cover', 'covera', 'coverage', 'covered', 'covering', 'coverings', 'covers', 'covert', 'coveted', 'covington', 'cow', 'cowbell', 'cowboy', 'cowboys', 'coworker', 'coworkers', 'coy', 'coyotes', 'cozy', 'cpr', 'cr', 'crab', 'crabs', 'crack', 'crackdown', 'crackdowns', 'cracked', 'cracking', 'cracks', 'craft', 'crafting', 'craftsmanship', 'craig', 'craigslist', 'cramer', 'crane', 'crank', 'crap', 'crash', 'crashed', 'crashes', 'crashing', 'crater', 'crave', 'craving', 'crawl', 'crawled', 'crawling', 'crawls', 'crawly', 'craze', 'crazed', 'craziest', 'crazy', 'cream', 'creamer', 'creams', 'creamy', 'create', 'created', 'creates', 'creati', 'creating', 'creation', 'creations', 'creative', 'creativity', 'creator', 'creators', 'credential', 'credib', 'credibility', 'credible', 'credit', 'credited', 'crediting', 'credits', 'cree', 'creed', 'creek', 'creeps', 'creepy', 'cremains', 'cremations', 'crenn', 'crenshaw', 'crete', 'crew', 'crews', 'cri', 'cricket', 'crickets', 'cried', 'cries', 'crime', 'crimea', 'crimes', 'crimi', 'criminal', 'criminalizing', 'criminally', 'criminals', 'crims', 'crimson', 'cringe', 'crippling', 'cris', 'crises', 'crisi', 'crisis', 'crisp', 'crisps', 'criss', 'cristian', 'cristiano', 'cristina', 'crit', 'criti', 'critic', 'critical', 'critically', 'criticised', 'criticises', 'criticism', 'criticisms', 'criticize', 'criticized', 'criticizes', 'criticizing', 'critics', 'criticschoice', 'critique', 'critters', 'croatia', 'croatian', 'crocheting', 'crockett', 'croissants', 'cromwell', 'cronies', 'crop', 'crops', 'cross', 'crossed', 'crossers', 'crosses', 'crosshairs', 'crossing', 'crossings', 'crow', 'crowd', 'crowded', 'crowdfund', 'crowdfunding', 'crowds', 'crown', 'crowned', 'crucial', 'crude', 'crudely', 'cruel', 'cruelty', 'cruise', 'cruiser', 'crumb', 'crumble', 'crumbles', 'crunch', 'crunchtime', 'crunchy', 'crush', 'crushed', 'crushes', 'crust', 'cruz', 'crying', 'cryptic', 'crypto', 'cryptoasset', 'cryptocurrencies', 'cryptocurrency', 'cryptomom', 'crystal', 'crystallizes', 'crytocurrency', 'ct', 'cu', 'cuar', 'cub', 'cuba', 'cuban', 'cube', 'cubic', 'cubs', 'cucumber', 'cuddles', 'cudicini', 'cue', 'cuff', 'cuisine', 'culberson', 'culinary', 'culkin', 'culpability', 'culprit', 'cult', 'cultural', 'culturally', 'culture', 'cultures', 'cumbersome', 'cummings', 'cumulative', 'cunning', 'cuoco', 'cuomo', 'cup', 'cupich', 'cupp', 'cups', 'curator', 'curators', 'curb', 'curbs', 'curbside', 'cure', 'curfew', 'curiosity', 'curious', 'curlers', 'curling', 'curre', 'currencies', 'currency', 'current', 'currently', 'currents', 'curriculum', 'curry', 'curse', 'cursing', 'curtailed', 'curve', 'cusp', 'cust', 'custody', 'custom', 'customer', 'customers', 'customs', 'cut', 'cute', 'cuteness', 'cuts', 'cutting', 'cv', 'cvs', 'cybe', 'cyber', 'cyberattac', 'cyberattack', 'cyberconflict', 'cyberespi', 'cybersecurity', 'cybill', 'cyborg', 'cycle', 'cycling', 'cyclist', 'cyclists', 'cyclone', 'cylinders', 'cynicism', 'cynthia', 'cyntoia', 'cypriots', 'cyran', 'cyrus', 'czar', 'czech', 'da', 'dabo', 'daca', 'dacus', 'dad', 'daddy', 'dade', 'dads', 'daiichi', 'daily', 'daimler', 'dain', 'dairy', 'daisy', 'dakota', 'dal', 'dale', 'dallas', 'dalton', 'daltrey', 'daly', 'dam', 'damage', 'damaged', 'damages', 'damaging', 'damascus', 'dame', 'damn', 'damned', 'damning', 'damon', 'damp', 'dampener', 'dan', 'dana', 'danai', 'dance', 'danced', 'dancer', 'dancers', 'dances', 'dancing', 'dang', 'danger', 'dangerous', 'dangers', 'dangling', 'dani', 'daniel', 'daniela', 'daniele', 'danielle', 'daniels', 'danish', 'dannels', 'dannemora', 'danny', 'danske', 'danso', 'dap', 'daphna', 'dara', 'dardis', 'dare', 'dared', 'daredevil', 'daring', 'dark', 'darkens', 'darker', 'darkest', 'darkness', 'darling', 'darlings', 'daron', 'darren', 'dartmouth', 'darwin', 'daryl', 'dash', 'dasher', 'dassault', 'data', 'database', 'databases', 'date', 'dated', 'dater', 'dates', 'dating', 'daughte', 'daughter', 'daughters', 'daunting', 'dave', 'davenport', 'david', 'davids', 'davidson', 'davis', 'davor', 'davos', 'dawn', 'dawned', 'dawson', 'daxing', 'day', 'daydreaming', 'daylight', 'daymond', 'dayofthedozens', 'days', 'daytime', 'dazzles', 'dazzling', 'dc', 'dea', 'deactivated', 'dead', 'deadl', 'deadlier', 'deadliest', 'deadlin', 'deadline', 'deadlines', 'deadlock', 'deadly', 'deadpool', 'deaf', 'deal', 'dealer', 'dealers', 'deali', 'dealing', 'dealings', 'dealmaker', 'deals', 'dealt', 'dean', 'deandre', 'dear', 'dearth', 'deat', 'death', 'deaths', 'deb', 'deba', 'debate', 'debates', 'debating', 'debit', 'deborah', 'debt', 'debts', 'debut', 'debuted', 'debuts', 'dec', 'decade', 'decadent', 'decades', 'decadeslong', 'decapitated', 'decatur', 'deceased', 'deceive', 'deceiving', 'decem', 'december', 'deception', 'deceptive', 'deceptively', 'deci', 'decide', 'decided', 'decider', 'decides', 'deciding', 'decimate', 'decis', 'decisi', 'decision', 'decisions', 'decisive', 'decisively', 'deck', 'decker', 'declaration', 'declare', 'declared', 'declares', 'declaring', 'decline', 'declined', 'declines', 'declining', 'deco', 'decorate', 'decorated', 'decorating', 'decorations', 'decreased', 'decree', 'decrepit', 'decried', 'decries', 'decriminalize', 'decriminalized', 'dedica', 'dedicated', 'dedication', 'deducted', 'deducting', 'dee', 'deeds', 'deemed', 'deena', 'deep', 'deepak', 'deepen', 'deepened', 'deepenin', 'deepening', 'deepens', 'deeper', 'deepest', 'deepika', 'deeply', 'deer', 'def', 'defamation', 'defaming', 'default', 'defazio', 'defe', 'defeat', 'defeated', 'defeati', 'defeatin', 'defeating', 'defeats', 'defect', 'defectin', 'defectio', 'defection', 'defective', 'defectors', 'defence', 'defences', 'defend', 'defendant', 'defendants', 'defended', 'defender', 'defenders', 'defending', 'defends', 'defense', 'defenses', 'defensive', 'deferring', 'defiance', 'defiant', 'defiantly', 'deficit', 'deficits', 'defied', 'defies', 'defiled', 'define', 'defined', 'defines', 'defining', 'definitely', 'definition', 'definitive', 'deflation', 'deflected', 'deforestation', 'defund', 'defusing', 'defy', 'defying', 'degeneres', 'degrading', 'degrasse', 'degre', 'degree', 'deh', 'dehydration', 'dei', 'deity', 'del', 'delaware', 'delay', 'delayed', 'delaying', 'delays', 'delegation', 'delete', 'deleted', 'deletes', 'delhi', 'deli', 'deliberate', 'deliberated', 'deliberately', 'delicacy', 'delicate', 'delicious', 'delight', 'delighted', 'delightful', 'deliver', 'delivere', 'delivered', 'deliveries', 'delivering', 'delivers', 'delivery', 'dell', 'deloitte', 'delta', 'deluged', 'dem', 'demand', 'demanded', 'demandi', 'demanding', 'demands', 'demczko', 'dementia', 'demi', 'demille', 'demirtas', 'demise', 'demo', 'democ', 'democr', 'democra', 'democrac', 'democracies', 'democracy', 'democrat', 'democrati', 'democratic', 'democrats', 'demographic', 'demolished', 'demonstra', 'demonstrably', 'demonstrating', 'demonstration', 'demonstrations', 'demonstrator', 'demonstrators', 'demoted', 'demotes', 'dems', 'denhollander', 'denholm', 'denials', 'denied', 'denies', 'denim', 'deniro', 'denis', 'denise', 'denmark', 'dennis', 'deno', 'denounced', 'denounces', 'denouncing', 'densely', 'density', 'dent', 'dental', 'dentist', 'dentures', 'denuclearisation', 'denuclearization', 'denuclearize', 'denver', 'deny', 'denying', 'dep', 'depart', 'departed', 'departing', 'departm', 'department', 'departments', 'departs', 'departure', 'departures', 'depend', 'dependencies', 'dependent', 'dependin', 'depending', 'depends', 'depicting', 'depictions', 'depicts', 'deploy', 'deployed', 'deploying', 'deployment', 'deploys', 'deport', 'deportatio', 'deportation', 'deported', 'deportees', 'deports', 'deposed', 'deposit', 'depot', 'depp', 'depres', 'depressed', 'depressin', 'depressing', 'depression', 'deprived', 'deprives', 'dept', 'deputi', 'deputies', 'deputy', 'der', 'derailed', 'deregulated', 'deregulatory', 'deripaska', 'derivative', 'derivatives', 'derived', 'dershowitz', 'derulo', 'des', 'desalination', 'desantis', 'desc', 'descendants', 'descending', 'descent', 'descri', 'described', 'describes', 'describing', 'description', 'descriptions', 'desensitization', 'desert', 'deserted', 'deserve', 'deserved', 'deserves', 'design', 'designated', 'designed', 'designer', 'designers', 'designs', 'desirable', 'desire', 'desired', 'desisa', 'desk', 'desks', 'despair', 'desperate', 'desperately', 'despicable', 'despised', 'despite', 'dessert', 'destabilising', 'destination', 'destinations', 'destroy', 'destroyed', 'destroyer', 'destroying', 'destroys', 'destruct', 'destruction', 'destructive', 'detac', 'detailed', 'detailing', 'details', 'detain', 'detained', 'detainees', 'detains', 'detected', 'detection', 'detective', 'detectives', 'detector', 'detectors', 'deten', 'detention', 'detentions', 'deter', 'deteriorates', 'deteriorating', 'determine', 'determined', 'determining', 'deterrent', 'detonated', 'detractors', 'detriment', 'detroit', 'deus', 'deutsche', 'dev', 'deval', 'devaluations', 'devasta', 'devastated', 'devastating', 'devastation', 'develop', 'developed', 'developers', 'developing', 'development', 'developments', 'develops', 'devestation', 'device', 'devices', 'devil', 'devilish', 'devils', 'devised', 'devolution', 'devos', 'devote', 'devoted', 'devotee', 'devotees', 'devotion', 'dexter', 'dhabi', 'dhs', 'di', 'diabetes', 'diabetics', 'diagno', 'diagnosed', 'diagnosis', 'diagram', 'dial', 'dialing', 'dialogue', 'dials', 'diamond', 'diana', 'diane', 'dianne', 'diapers', 'dias', 'diavik', 'diaz', 'dicaprio', 'dick', 'dictator', 'dictators', 'dictatorship', 'dictionary', 'did', 'didn', 'die', 'died', 'diego', 'dien', 'dies', 'diesel', 'diet', 'dieting', 'diets', 'dif', 'differ', 'difference', 'differences', 'different', 'differently', 'differs', 'difficul', 'difficult', 'difficulties', 'dig', 'digenova', 'digger', 'diggers', 'digital', 'digitally', 'digitized', 'digits', 'digs', 'dijulio', 'dilemma', 'dilemmas', 'dillingham', 'diminish', 'diminished', 'diminishing', 'dimmed', 'dine', 'diner', 'diners', 'dining', 'dinnage', 'dinner', 'dinners', 'dino', 'dinosaur', 'dinosaurs', 'diocese', 'dioceses', 'dion', 'dior', 'dioxide', 'dip', 'dipayan', 'diploma', 'diplomat', 'diplomatic', 'diplomats', 'dipped', 'dipping', 'dips', 'dirado', 'dire', 'direct', 'directed', 'directing', 'direction', 'directions', 'directly', 'director', 'directors', 'directs', 'dirt', 'dirtiest', 'dirty', 'dis', 'disab', 'disabilities', 'disability', 'disadvantaging', 'disagree', 'disagreement', 'disappe', 'disappear', 'disappearance', 'disappeared', 'disappearing', 'disappears', 'disappoint', 'disappointed', 'disappointing', 'disappointment', 'disarmament', 'disarray', 'disaster', 'disasters', 'disastrous', 'disband', 'disbelief', 'disc', 'discharged', 'discharges', 'discipline', 'disclose', 'disclosed', 'discloses', 'disclosure', 'disconnect', 'disconnected', 'discontent', 'discordant', 'discount', 'discounted', 'discouraged', 'discov', 'discove', 'discover', 'discovered', 'discoverers', 'discoveries', 'discovering', 'discovery', 'discredit', 'discrepancies', 'discriminate', 'discriminated', 'discrimination', 'discriminatory', 'discuss', 'discussed', 'discusses', 'discussing', 'discussion', 'discussions', 'disease', 'diseases', 'disembark', 'disengaged', 'disgrace', 'disgraced', 'disgruntled', 'disguise', 'disgusting', 'dish', 'dishes', 'dishonest', 'dishwasher', 'disillusioned', 'disincentivize', 'disinformation', 'disinterment', 'dislocated', 'dismal', 'dismantled', 'dismantling', 'dismay', 'dismayed', 'dismis', 'dismiss', 'dismissal', 'dismissed', 'dismisses', 'disney', 'disneyland', 'disobedience', 'disorder', 'disordered', 'disorders', 'disorganized', 'disorientated', 'disparity', 'dispatch', 'dispatched', 'dispatcher', 'dispel', 'dispensari', 'dispensing', 'displace', 'displaced', 'display', 'displayed', 'displaying', 'displays', 'dispo', 'disposal', 'disproportionately', 'dispute', 'disputed', 'disputes', 'disqualified', 'disregard', 'disrespect', 'disrespecting', 'disrupt', 'disrupted', 'disrupting', 'disruption', 'disruptions', 'disruptive', 'disrupts', 'dissent', 'dissident', 'dissolution', 'dissolve', 'dissolved', 'dist', 'distance', 'distancing', 'distant', 'distaste', 'distilleries', 'distillery', 'distinction', 'distinctions', 'distr', 'distract', 'distress', 'distribute', 'distributed', 'distributi', 'distribution', 'distributors', 'distric', 'district', 'districts', 'distrust', 'disturbed', 'disturbing', 'disturbingly', 'disunity', 'ditch', 'ditching', 'ditka', 'dive', 'divers', 'diverse', 'diversifies', 'diversify', 'diversity', 'divert', 'diverting', 'divide', 'divided', 'dividend', 'dividends', 'divides', 'dividing', 'divine', 'diving', 'division', 'divisional', 'divisions', 'divisive', 'divorce', 'divorced', 'divorces', 'divorcing', 'diwali', 'dixon', 'diy', 'dj', 'djokovic', 'dmz', 'dna', 'dniester', 'doc', 'docket', 'dockless', 'docs', 'doctor', 'doctors', 'doctrine', 'document', 'documentaries', 'documentary', 'documentation', 'documented', 'documenting', 'documents', 'docuseries', 'dodd', 'dodge', 'dodged', 'dodgers', 'dodging', 'doe', 'does', 'doesn', 'dog', 'dogg', 'dogs', 'doha', 'doing', 'doings', 'doink', 'doj', 'doll', 'dollar', 'dollars', 'dolly', 'dolphin', 'dom', 'domain', 'domestic', 'domicile', 'domina', 'dominance', 'dominant', 'dominate', 'dominated', 'dominik', 'dominique', 'don', 'dona', 'donal', 'donald', 'donate', 'donated', 'donation', 'donations', 'donegal', 'donkeys', 'donn', 'donna', 'donnelly', 'donnie', 'donning', 'donohoe', 'donor', 'donors', 'dons', 'donut', 'doo', 'doom', 'doomed', 'doomsday', 'doonesbury', 'door', 'doordash', 'doorknobs', 'doors', 'doorstep', 'doping', 'doran', 'dormitory', 'dorsey', 'dortmund', 'dose', 'dossier', 'dotdash', 'dots', 'double', 'doubled', 'doubleline', 'doubles', 'doublespeak', 'doubletree', 'doubling', 'doubt', 'doubtful', 'doubting', 'doubts', 'doug', 'dough', 'doughnut', 'doughnuts', 'douglas', 'douma', 'dour', 'dove', 'dover', 'dow', 'dowdupont', 'dowling', 'downed', 'downers', 'downfall', 'downgrade', 'downgraded', 'downgrades', 'downing', 'download', 'downloaded', 'downloading', 'downplays', 'downright', 'downs', 'downtown', 'downturn', 'downturns', 'downward', 'downy', 'doz', 'doze', 'dozen', 'dozens', 'dozier', 'dprk', 'dr', 'dra', 'dracula', 'draft', 'drafted', 'drafting', 'drag', 'dragged', 'dragging', 'dragicevic', 'dragon', 'dragonflies', 'dragons', 'drags', 'drain', 'drake', 'drama', 'dramas', 'dramatic', 'dramatically', 'drank', 'drastically', 'draw', 'drawdown', 'drawing', 'drawings', 'drawn', 'draws', 'dread', 'dreaded', 'dreadlocks', 'dream', 'dreamcast', 'dreamcatcher', 'dreamed', 'dreamers', 'dreaming', 'dreamliner', 'dreams', 'dreary', 'dress', 'dressed', 'dresses', 'dressing', 'dressy', 'drew', 'dreyfus', 'dried', 'drift', 'drillers', 'drilling', 'drills', 'drink', 'drinkers', 'drinking', 'drinks', 'drive', 'driven', 'driver', 'driverless', 'drivers', 'drives', 'driving', 'dro', 'drogo', 'drone', 'drones', 'drop', 'dropout', 'dropp', 'dropped', 'dropping', 'droppings', 'drops', 'drouet', 'drought', 'drove', 'droves', 'drown', 'drowning', 'drowns', 'drs', 'drug', 'drugmaker', 'drugmakers', 'drugs', 'drugstore', 'drum', 'drumbeat', 'drunk', 'drunken', 'drunkenly', 'drunks', 'dry', 'du', 'dual', 'dubai', 'dubbed', 'dubilier', 'dubiou', 'dubious', 'dublin', 'dubuque', 'ducey', 'duchess', 'duck', 'duckies', 'ducks', 'duckworth', 'duct', 'dud', 'dude', 'dudes', 'duds', 'dueling', 'duels', 'duet', 'dug', 'dui', 'duke', 'dull', 'dulles', 'duma', 'dumb', 'dumbbell', 'dumbo', 'dump', 'dumped', 'dumping', 'dumplin', 'dundalk', 'dunk', 'dunking', 'duo', 'duopoly', 'dup', 'duped', 'duplicate', 'dupont', 'dupree', 'duque', 'dur', 'duri', 'durian', 'durkin', 'dushku', 'dust', 'dutch', 'dutchman', 'duterte', 'duties', 'dutifully', 'dutoit', 'duty', 'duvetknowitschristmas', 'dvorak', 'dwayne', 'dwindling', 'dwyer', 'dying', 'dyke', 'dylan', 'dynamic', 'dynasty', 'dysfunction', 'dystopian', 'eac', 'eager', 'eagerly', 'eagerness', 'eagl', 'eagle', 'eagles', 'eared', 'earhart', 'earle', 'earlier', 'early', 'earn', 'earned', 'earnest', 'earning', 'earnings', 'earns', 'earrings', 'ears', 'earshot', 'earth', 'earthen', 'earthquake', 'earthquakes', 'earthrise', 'earthset', 'earthy', 'earworm', 'ease', 'eased', 'eases', 'easier', 'easiest', 'easily', 'easing', 'east', 'easter', 'eastern', 'easy', 'eat', 'eaten', 'eaters', 'eatin', 'eating', 'eaton', 'eats', 'ebola', 'ebw', 'ecb', 'eccentric', 'echo', 'echoes', 'eclipse', 'eclipses', 'eco', 'ecocash', 'econ', 'econo', 'econom', 'economic', 'economically', 'economics', 'economies', 'economist', 'economists', 'economy', 'ecosystem', 'ecstasy', 'ecstatic', 'ecuador', 'ecuadoran', 'ecuadorian', 'ecumenical', 'ed', 'eddie', 'eden', 'edge', 'edged', 'edges', 'edging', 'edib', 'edible', 'edict', 'edie', 'edina', 'edison', 'edited', 'editing', 'edition', 'editions', 'editor', 'editorial', 'editors', 'edmonton', 'edouard', 'eds', 'educat', 'education', 'educational', 'educator', 'educators', 'edward', 'edwards', 'eef', 'eels', 'eerie', 'ef', 'effec', 'effect', 'effectiv', 'effective', 'effectively', 'effectiveness', 'effects', 'effi', 'efficient', 'effort', 'efforts', 'egan', 'egg', 'egged', 'eggless', 'eggnog', 'eggs', 'egotism', 'egypt', 'egyptian', 'ehlers', 'ei', 'eia', 'eid', 'eiffel', 'eighth', 'eiler', 'einstein', 'eisenberg', 'eit', 'el', 'elbow', 'elde', 'elderly', 'elders', 'eldik', 'ele', 'elec', 'elect', 'electability', 'electe', 'elected', 'electi', 'electing', 'electio', 'election', 'electionday', 'electionnight', 'elections', 'elective', 'electoral', 'electric', 'electricity', 'electrified', 'electrify', 'electromagnetic', 'electronic', 'electronics', 'elects', 'elegance', 'elegant', 'element', 'elementary', 'elephant', 'elevate', 'elevated', 'elevates', 'eleventh', 'elf', 'eli', 'eligible', 'eliminate', 'eliminated', 'eliminating', 'eliot', 'elise', 'elite', 'eliza', 'elizabeth', 'elk', 'ella', 'ellen', 'elliott', 'ellipse', 'ellis', 'ellison', 'elon', 'elsie', 'elton', 'eluded', 'eluding', 'elusive', 'elvis', 'elya', 'elys', 'elysee', 'elysees', 'em', 'email', 'emailed', 'emails', 'emanating', 'emanon', 'emantic', 'emanuel', 'emb', 'embargo', 'embarks', 'embarrass', 'embarrasses', 'embarrassing', 'embarrassment', 'embassies', 'embassy', 'embattled', 'emblem', 'emblematic', 'embodied', 'embodies', 'emboldened', 'emboldening', 'embrace', 'embraced', 'embraces', 'embracing', 'embraer', 'embroidered', 'embroiled', 'emerald', 'emerge', 'emerged', 'emergen', 'emergence', 'emergencies', 'emergency', 'emerges', 'emergi', 'emerging', 'emi', 'emigrate', 'emigrated', 'emigre', 'emile', 'emily', 'eminem', 'eminent', 'emirates', 'emirati', 'emis', 'emission', 'emissions', 'emma', 'emmanuel', 'emmeline', 'emmet', 'emmy', 'emoji', 'emojis', 'emoluments', 'emotion', 'emotional', 'emotionally', 'emotions', 'emp', 'empath', 'empathetic', 'empathize', 'empathy', 'emperor', 'emphasis', 'emphasize', 'emphasizing', 'empire', 'employable', 'employed', 'employee', 'employees', 'employer', 'employers', 'employment', 'employs', 'emporium', 'empower', 'empowered', 'empowering', 'empowerment', 'empress', 'emptied', 'emptiness', 'emptying', 'emulating', 'en', 'enable', 'enablers', 'enables', 'enacted', 'enactment', 'enacts', 'enc', 'encampment', 'encampments', 'ench', 'enchiladas', 'enclose', 'enclosure', 'encounter', 'encountered', 'encounters', 'encoura', 'encourage', 'encouraged', 'encourages', 'encouraging', 'encroachment', 'encrypt', 'end', 'endangered', 'endangering', 'endangers', 'endeavor', 'ended', 'endgame', 'ending', 'endorsed', 'endorsement', 'endorsements', 'ends', 'endurance', 'endure', 'endured', 'enemies', 'enemy', 'energized', 'energy', 'enes', 'enforc', 'enforce', 'enforcement', 'enforces', 'enforcing', 'engage', 'engaged', 'engagement', 'engaging', 'engelb', 'engine', 'engineer', 'engineering', 'engineers', 'engines', 'england', 'engle', 'engli', 'english', 'enhance', 'enigmatic', 'enjoy', 'enjoyably', 'enjoyed', 'enlisted', 'enormous', 'enou', 'enquirer', 'enrages', 'enrol', 'enroll', 'enrollment', 'ensnared', 'ensu', 'ensuing', 'ensure', 'ensuring', 'ent', 'entangled', 'enten', 'enter', 'entered', 'entering', 'enters', 'entertaining', 'entertainment', 'enthusiasm', 'enthusiastically', 'enthusiasts', 'entire', 'entirely', 'entirety', 'entities', 'entitled', 'entity', 'entrance', 'entrancing', 'entrenched', 'entrepreneur', 'entrepreneurs', 'entrepreneurship', 'entries', 'entrusted', 'entry', 'envelopes', 'enveloping', 'environment', 'environmenta', 'environmental', 'environmentalist', 'environmentalists', 'environmentally', 'environs', 'envision', 'envisioned', 'envisions', 'envoy', 'envy', 'epa', 'epi', 'epic', 'epicenter', 'epidemic', 'epidemiologists', 'epipen', 'epiphanius', 'epiphany', 'episod', 'episode', 'episodes', 'eps', 'epstein', 'equa', 'equal', 'equaling', 'equality', 'equally', 'equifax', 'equipment', 'equipped', 'equipping', 'equities', 'equity', 'equivalent', 'er', 'era', 'eradicated', 'erase', 'erasing', 'erdogan', 'erected', 'eric', 'ericsso', 'ericsson', 'eritrea', 'ernest', 'ernie', 'eroding', 'erosion', 'erotic', 'erratic', 'erroneous', 'error', 'errors', 'ers', 'erstwhile', 'erupt', 'erupted', 'erupting', 'eruption', 'eruptions', 'erupts', 'es', 'escalated', 'escalates', 'escalating', 'escape', 'escaped', 'escapes', 'escaping', 'eschew', 'eschewing', 'escobar', 'escort', 'esp', 'especial', 'especially', 'espionage', 'espn', 'esports', 'espy', 'esque', 'essay', 'essentia', 'essential', 'essentially', 'est', 'establ', 'establish', 'establishing', 'establishment', 'estate', 'estimate', 'estimated', 'estimates', 'estimating', 'estranged', 'et', 'eternal', 'etf', 'etfs', 'eth', 'ethan', 'ethanol', 'ethical', 'ethics', 'ethiopia', 'ethiopian', 'ethiopians', 'ethnic', 'ethnically', 'etiquette', 'etna', 'etten', 'eu', 'eulogized', 'eulogy', 'euphoria', 'eur', 'eurail', 'euro', 'europe', 'europea', 'european', 'europeans', 'euros', 'eurosceptic', 'eurozone', 'ev', 'evacuate', 'evacuated', 'evacuation', 'evacuations', 'evade', 'evaded', 'evaluate', 'evaluated', 'evan', 'evangelical', 'evangelicals', 'evangelist', 'evans', 'evaporating', 'evasion', 'eve', 'evelyn', 'evening', 'evens', 'event', 'eventful', 'events', 'eventually', 'everest', 'evers', 'everybody', 'everyday', 'everyman', 'evicted', 'evicting', 'evictions', 'evidence', 'evil', 'evocative', 'evoke', 'evokes', 'evolution', 'evolve', 'evolved', 'evolving', 'ex', 'exacerbates', 'exact', 'exactly', 'exaggerated', 'exam', 'examine', 'examined', 'examiners', 'examines', 'examining', 'example', 'exams', 'exasperating', 'exc', 'excavation', 'exceeded', 'exceeding', 'exceptio', 'exception', 'exceptions', 'excerpt', 'excessive', 'exchan', 'exchange', 'exchanges', 'excise', 'excite', 'excited', 'excitement', 'exciting', 'exclamation', 'excluded', 'excludes', 'exclusi', 'exclusion', 'exclusions', 'exclusive', 'exclusively', 'excuse', 'excused', 'exec', 'execs', 'execut', 'executed', 'executes', 'execution', 'executions', 'executive', 'executives', 'exemption', 'exercise', 'exercised', 'exercises', 'exercising', 'exert', 'exerted', 'exhausting', 'exhibit', 'exhibited', 'exhibition', 'exhilarating', 'exhilaration', 'exhumed', 'exi', 'exile', 'exiled', 'exist', 'existed', 'existence', 'existential', 'existing', 'exit', 'exited', 'exiting', 'exodus', 'exoplanet', 'exotic', 'exp', 'expa', 'expan', 'expand', 'expanded', 'expanders', 'expanding', 'expands', 'expansi', 'expansion', 'expansive', 'expe', 'expec', 'expect', 'expectati', 'expectations', 'expected', 'expecting', 'expects', 'expedition', 'expel', 'expelled', 'expels', 'expens', 'expense', 'expenses', 'expensiv', 'expensive', 'exper', 'experian', 'experie', 'experience', 'experienced', 'experiences', 'experiencing', 'experiment', 'experimentation', 'experimenting', 'experiments', 'expert', 'expertise', 'experts', 'expire', 'expires', 'explain', 'explained', 'explainer', 'explaining', 'explains', 'explanation', 'expletive', 'explicit', 'explicitly', 'explode', 'exploded', 'explodes', 'exploding', 'exploit', 'exploitation', 'exploited', 'exploration', 'exploratory', 'explore', 'explored', 'explorer', 'explores', 'exploring', 'explosi', 'explosion', 'explosions', 'explosive', 'explosives', 'exponent', 'export', 'exporters', 'exports', 'expos', 'expose', 'exposed', 'exposes', 'exposing', 'exposure', 'express', 'expressed', 'expressing', 'expression', 'expulsion', 'expulsions', 'exqu', 'exquisitely', 'ext', 'extend', 'extended', 'extending', 'extends', 'extension', 'extensive', 'extent', 'exterminators', 'extinct', 'extinction', 'extorted', 'extortion', 'extr', 'extra', 'extract', 'extradite', 'extradites', 'extraditing', 'extradition', 'extraordinary', 'extras', 'extraterrestrial', 'extravagant', 'extravaganza', 'extreme', 'extremely', 'extremis', 'extremism', 'extremist', 'extremists', 'exuberant', 'exum', 'exurbs', 'exxon', 'ey', 'eyck', 'eye', 'eyebrows', 'eyed', 'eyeglasses', 'eyeing', 'eyelashes', 'eyeliner', 'eyes', 'eyewitness', 'fa', 'faa', 'fables', 'fabr', 'fabricated', 'fabrication', 'fabrics', 'fabulous', 'fac', 'facade', 'face', 'facebo', 'faceboo', 'facebook', 'faced', 'faces', 'facial', 'facili', 'facilitate', 'facilities', 'facility', 'facing', 'fact', 'factbox', 'faction', 'factor', 'factori', 'factories', 'factory', 'facts', 'faculty', 'fad', 'fade', 'fading', 'fager', 'fahad', 'fail', 'failed', 'failing', 'fails', 'failure', 'failures', 'faints', 'fair', 'fairfax', 'fairly', 'fairness', 'fairouz', 'fairy', 'fait', 'faith', 'faithful', 'faiths', 'fajitas', 'fake', 'fakes', 'fal', 'falco', 'falcon', 'falconry', 'falcons', 'fall', 'fallacy', 'fallen', 'falling', 'fallo', 'fallout', 'falls', 'false', 'falsehoods', 'falsely', 'falsified', 'falsifying', 'falwell', 'fam', 'fame', 'famed', 'famer', 'fami', 'familiar', 'families', 'family', 'famous', 'famously', 'fan', 'fancy', 'fandom', 'fanfare', 'fans', 'fantasizing', 'fantastic', 'fantastical', 'fantasy', 'faq', 'faqs', 'far', 'farah', 'farc', 'farce', 'farcically', 'fare', 'fares', 'farewe', 'farewell', 'fargo', 'farias', 'farm', 'farmer', 'farmers', 'farmhands', 'farming', 'farms', 'farout', 'farrelly', 'farther', 'farthest', 'fascinated', 'fascinating', 'fascination', 'fascist', 'fashion', 'fashionable', 'fashioned', 'fashionweek', 'faso', 'fast', 'faster', 'fastest', 'fastidious', 'fasting', 'fat', 'fata', 'fatal', 'fatalities', 'fatally', 'fatberg', 'fate', 'fateful', 'father', 'fathered', 'fathers', 'fathy', 'fatigue', 'fatone', 'fattah', 'faulkner', 'fault', 'faux', 'favo', 'favor', 'favored', 'favorit', 'favorite', 'favorites', 'favors', 'favou', 'favourite', 'fax', 'fayulu', 'faz', 'fbi', 'fc', 'fcc', 'fccj', 'fda', 'fe', 'fea', 'fear', 'feare', 'feared', 'fearful', 'fearing', 'fearless', 'fearmongering', 'fears', 'feast', 'feasting', 'feature', 'featured', 'features', 'featuring', 'feb', 'febru', 'february', 'feckless', 'fed', 'fede', 'feder', 'federa', 'federal', 'federalist', 'federally', 'federation', 'federer', 'fedex', 'feds', 'fee', 'feed', 'feedback', 'feeding', 'feeds', 'feel', 'feeling', 'feelings', 'feels', 'feeny', 'fees', 'feet', 'fehmida', 'feiffer', 'feinstein', 'feistier', 'fel', 'felicity', 'feline', 'felipe', 'felix', 'fell', 'fellow', 'felon', 'felons', 'felony', 'fels', 'felt', 'fema', 'female', 'feminism', 'feminist', 'feminists', 'fence', 'fences', 'fencing', 'fend', 'fenta', 'fentanyl', 'fer', 'feral', 'ferebee', 'fermi', 'fern', 'fernando', 'ferrari', 'ferraris', 'ferrell', 'ferries', 'ferrigno', 'ferry', 'ferryman', 'fertile', 'fertility', 'fest', 'festering', 'festival', 'festivals', 'festive', 'festivities', 'fetal', 'fetch', 'fetches', 'fete', 'feted', 'fethullah', 'fetters', 'fettle', 'fetus', 'feud', 'feuding', 'feuds', 'fever', 'fewer', 'fewest', 'fgm', 'fi', 'fian', 'fianc', 'fiance', 'fiancee', 'fianna', 'fiat', 'fiber', 'fiction', 'fictional', 'fide', 'fidesz', 'field', 'fields', 'fierce', 'fiercely', 'fiery', 'fiesta', 'fifa', 'fifth', 'figaro', 'fight', 'fightback', 'fighter', 'fighters', 'fighti', 'fightin', 'fighting', 'fights', 'figure', 'figured', 'figures', 'figuring', 'fikri', 'fil', 'file', 'filed', 'filers', 'files', 'filing', 'filings', 'filipina', 'filipino', 'filipinos', 'filled', 'filling', 'fillion', 'fills', 'film', 'filmed', 'filmgoer', 'filming', 'filmmaker', 'filmmakers', 'films', 'filtered', 'fin', 'fina', 'final', 'finale', 'finalists', 'finalize', 'finalized', 'finalizing', 'finally', 'finals', 'financ', 'finance', 'financed', 'finances', 'financia', 'financial', 'financially', 'financing', 'findin', 'finding', 'findingjesus', 'findings', 'finds', 'fine', 'fined', 'fines', 'finger', 'fingerprinted', 'fingerprints', 'fingers', 'finish', 'finished', 'finishes', 'finishing', 'finland', 'finnish', 'finra', 'fiona', 'fios', 'fir', 'firearms', 'firecrackers', 'fired', 'firefighter', 'firefighters', 'firefights', 'fireflies', 'firelog', 'firepower', 'fires', 'firewalls', 'fireworks', 'firing', 'firm', 'firmly', 'firms', 'firs', 'firstdayofwinter', 'firsthand', 'firsts', 'fiscal', 'fish', 'fisher', 'fisherman', 'fishermen', 'fishing', 'fist', 'fit', 'fitnes', 'fitness', 'fits', 'fitting', 'fittingly', 'fives', 'fix', 'fixation', 'fixed', 'fixer', 'fixes', 'fixture', 'fixtures', 'fizz', 'fjord', 'fjords', 'fl', 'fla', 'flacco', 'flag', 'flagged', 'flagging', 'flagr', 'flags', 'flagship', 'flailing', 'flair', 'flake', 'flakes', 'flamboyant', 'flames', 'flanagan', 'flank', 'flannel', 'flare', 'flaring', 'flash', 'flashing', 'flashlight', 'flashlights', 'flashpoint', 'flat', 'flats', 'flattened', 'flattening', 'flaunt', 'flavor', 'flavored', 'flawed', 'flawless', 'flaws', 'flay', 'flayed', 'fled', 'fledgling', 'flee', 'fleeing', 'flees', 'fleet', 'fleeting', 'fleets', 'flemons', 'fleshing', 'fletcher', 'flew', 'flexes', 'flexible', 'flick', 'flickered', 'flier', 'fliers', 'flies', 'flight', 'flights', 'flip', 'flipping', 'flips', 'flirtatious', 'flo', 'floated', 'floating', 'flock', 'flocked', 'flocking', 'flood', 'flooded', 'flooding', 'floods', 'floodwaters', 'floor', 'floors', 'flop', 'floppy', 'flops', 'flor', 'florence', 'flores', 'florida', 'floridians', 'floss', 'flossed', 'flounder', 'flour', 'flourishing', 'flow', 'flowed', 'flower', 'flowers', 'flowing', 'flown', 'flows', 'floyd', 'flu', 'flubs', 'fluctuate', 'fluorescent', 'flurry', 'flush', 'flustered', 'flux', 'fly', 'flybe', 'flyby', 'flyer', 'flyin', 'flying', 'flynn', 'flynt', 'flyover', 'fns', 'fo', 'foam', 'fob', 'focus', 'focused', 'focuses', 'focusing', 'fodder', 'foe', 'foes', 'fog', 'foie', 'foil', 'foiled', 'fol', 'fold', 'foldable', 'folding', 'folds', 'foles', 'foley', 'folk', 'folks', 'foll', 'follo', 'follow', 'followe', 'followed', 'followers', 'following', 'follows', 'fonda', 'fondly', 'fondness', 'food', 'foodies', 'foods', 'fool', 'fooled', 'foolish', 'foot', 'footage', 'footbal', 'football', 'footballer', 'footballs', 'foothold', 'footloose', 'footprint', 'footsteps', 'foray', 'forbes', 'forc', 'force', 'forced', 'forceful', 'forces', 'forcibly', 'forcing', 'ford', 'forearm', 'forec', 'foreca', 'forecast', 'forecasters', 'forecasting', 'forecasts', 'foreclosed', 'forefront', 'foreign', 'foreigner', 'foreigners', 'foremost', 'forensic', 'forensics', 'foreseea', 'foreshadowed', 'foreshadows', 'forest', 'forestry', 'forests', 'foretell', 'forever', 'forfeit', 'forge', 'forged', 'forget', 'forgetful', 'forgets', 'forgetting', 'forging', 'forgive', 'forgiveness', 'forgiving', 'forgot', 'forgotten', 'forklifts', 'form', 'forma', 'formal', 'formally', 'formed', 'formin', 'forming', 'forms', 'formula', 'formulaic', 'formulated', 'forrest', 'fort', 'fortaleza', 'forte', 'forth', 'forthcoming', 'fortnite', 'fortresses', 'fortunately', 'fortune', 'forum', 'forwa', 'forward', 'fosamax', 'fossil', 'foster', 'fostered', 'fou', 'fought', 'foul', 'foun', 'foundation', 'founded', 'founder', 'founders', 'founding', 'fountains', 'fourfold', 'fourth', 'fowler', 'fox', 'foxconn', 'foxnews', 'foxx', 'fr', 'frackers', 'fracking', 'fraction', 'fractional', 'fractious', 'fractured', 'fractures', 'fragile', 'frame', 'framed', 'framework', 'france', 'franchise', 'franchises', 'franchising', 'francis', 'francisco', 'franck', 'franco', 'frank', 'frankel', 'frankl', 'franklin', 'frankly', 'franks', 'fraser', 'frat', 'fraternity', 'fraud', 'fraudster', 'fraudulent', 'fraudulently', 'fraught', 'fray', 'frays', 'frazee', 'fre', 'freaked', 'freaking', 'frecon', 'fred', 'freddie', 'free', 'freebies', 'freed', 'freedom', 'freeing', 'freelance', 'freelancers', 'freely', 'freerunning', 'frees', 'freeze', 'freezes', 'freezing', 'freight', 'freitas', 'french', 'frenchman', 'frenetic', 'frenzy', 'freq', 'frequent', 'frequently', 'fresco', 'fresh', 'freshening', 'freshman', 'freshmen', 'freshprince', 'freshwater', 'fret', 'fretting', 'friction', 'frid', 'frida', 'friday', 'fridaymotivation', 'fridaythoughts', 'fridge', 'fried', 'friedberg', 'friend', 'friendlier', 'friendly', 'friends', 'friendshi', 'friendship', 'fries', 'frightened', 'frightening', 'frigid', 'frills', 'fringe', 'fro', 'frogs', 'frolic', 'fron', 'frontier', 'frontlines', 'frontman', 'frontpage', 'froome', 'frost', 'frosty', 'froze', 'frozen', 'frugality', 'fruit', 'fruitcake', 'fruitiness', 'fruitvale', 'frustrated', 'frustration', 'fryer', 'fsa', 'fsb', 'ft', 'ftc', 'ftse', 'fu', 'fudging', 'fuego', 'fuel', 'fueled', 'fueling', 'fuelled', 'fuels', 'fuentes', 'fugitive', 'fugue', 'fukubukuro', 'fukushima', 'fulfill', 'fulham', 'fully', 'fumes', 'fuming', 'fun', 'functi', 'functional', 'functioned', 'functioning', 'functions', 'fund', 'fundamental', 'fundamentally', 'funded', 'funding', 'fundraise', 'fundraiser', 'fundraisers', 'fundraises', 'fundraising', 'funds', 'funeral', 'funerals', 'fungi', 'fungus', 'funk', 'funke', 'funky', 'funny', 'fur', 'furious', 'furlough', 'furloughed', 'furloughs', 'furor', 'furore', 'furt', 'furtherance', 'fuselage', 'fussiness', 'futu', 'futur', 'future', 'futures', 'fuzhou', 'fuzzballs', 'fuzzy', 'fx', 'ga', 'gab', 'gabbard', 'gabby', 'gabon', 'gabriel', 'gabriela', 'gabriele', 'gadgets', 'gadsby', 'gaelic', 'gaffe', 'gag', 'gaga', 'gagliano', 'gain', 'gained', 'gaines', 'gainesville', 'gaining', 'gains', 'gal', 'galactic', 'galapagos', 'galaxies', 'galaxy', 'gales', 'galette', 'gallagher', 'gallery', 'gallon', 'gallons', 'gallup', 'galore', 'gambia', 'gamble', 'gambler', 'game', 'gameofthrones', 'gamer', 'gamers', 'games', 'gaming', 'gander', 'gandhi', 'gang', 'ganges', 'gangly', 'gangster', 'gannet', 'gap', 'gaps', 'garage', 'garbage', 'garcia', 'garda', 'garden', 'gardening', 'gardens', 'gardner', 'garff', 'garment', 'garnered', 'garo', 'garrison', 'garry', 'gary', 'gas', 'gases', 'gasification', 'gasoline', 'gasp', 'gastr', 'gastro', 'gate', 'gatekeeper', 'gates', 'gateway', 'gather', 'gathered', 'gathering', 'gatherings', 'gathers', 'gatica', 'gatti', 'gatwi', 'gatwick', 'gauge', 'gave', 'gavel', 'gavin', 'gay', 'gaye', 'gaza', 'gazette', 'gdp', 'ge', 'gear', 'geared', 'gears', 'geeky', 'geely', 'gehrig', 'geltzer', 'gemini', 'geminid', 'geminids', 'gems', 'gen', 'gender', 'gene', 'genealogy', 'gener', 'general', 'generalise', 'generally', 'generals', 'generate', 'generated', 'generates', 'generating', 'generation', 'generations', 'generator', 'generators', 'generic', 'generosity', 'generous', 'genes', 'genesis', 'genetic', 'genetically', 'genetics', 'genie', 'genius', 'genoa', 'genocide', 'genre', 'gentle', 'gentlemanly', 'gentleness', 'gentler', 'gentrification', 'genuine', 'genuinely', 'geoffrey', 'geographic', 'geologists', 'geop', 'geopolitical', 'georg', 'george', 'georgehwbushfuneral', 'georges', 'georgi', 'georgia', 'georgian', 'georgina', 'gerald', 'germain', 'german', 'germans', 'germany', 'germiest', 'germs', 'geronimo', 'gerry', 'gerrymandering', 'gesture', 'gestures', 'getaway', 'gets', 'gett', 'getting', 'getty', 'ghaisar', 'ghana', 'ghanaian', 'ghani', 'ghetto', 'ghibli', 'ghitis', 'ghosh', 'ghosn', 'ghost', 'ghosts', 'ghoulish', 'gia', 'gian', 'gianni', 'giant', 'giants', 'gibbon', 'gibraltar', 'gibran', 'giddily', 'gif', 'gifford', 'giffords', 'gift', 'gifted', 'gifting', 'gifts', 'gig', 'gigafactory', 'gilda', 'gilded', 'gilead', 'gilets', 'gill', 'gillibrand', 'gillis', 'gillum', 'gimbel', 'gimmick', 'gina', 'ginger', 'gingerbread', 'gingrich', 'ginni', 'ginsberg', 'ginsburg', 'gip', 'gir', 'giraffes', 'girard', 'girardeau', 'girl', 'girlfr', 'girlfriend', 'girlfriends', 'girls', 'gisele', 'gitmo', 'giuliani', 'giveaway', 'given', 'givenchy', 'gives', 'giving', 'giza', 'glacier', 'glaciers', 'glad', 'gladys', 'glamor', 'glamour', 'glance', 'glare', 'glaring', 'glass', 'glasses', 'glaxosmithkline', 'glazer', 'gle', 'glee', 'glen', 'glencore', 'glenn', 'glennie', 'glide', 'gliders', 'glimmer', 'glimpse', 'glitter', 'glitters', 'glittery', 'glitz', 'glo', 'glob', 'global', 'globalists', 'globalized', 'globally', 'globe', 'globes', 'globovision', 'gloom', 'gloomy', 'glor', 'glories', 'glory', 'glossin', 'gloves', 'glow', 'glowed', 'gluck', 'glucose', 'glue', 'gluten', 'gluttony', 'gm', 'goa', 'goal', 'goalie', 'goals', 'goaltender', 'goat', 'goats', 'gobustan', 'god', 'godfather', 'godmother', 'godsend', 'goers', 'goes', 'gofundme', 'goin', 'going', 'gold', 'golden', 'goldenbuzzer', 'goldenglobe', 'goldenglobes', 'goldman', 'golf', 'golfer', 'golsteyn', 'gomez', 'gone', 'gonen', 'gonna', 'gonzaga', 'good', 'goodall', 'goodbye', 'gooders', 'goodies', 'goodlatte', 'goods', 'google', 'googled', 'googlewalkout', 'goose', 'goosey', 'gop', 'gordon', 'gorgeous', 'gorilla', 'gorka', 'gospel', 'gosselaar', 'gossip', 'got', 'gotta', 'gotten', 'goudis', 'goulden', 'gourmet', 'gov', 'gove', 'gover', 'govern', 'governance', 'governing', 'governm', 'governme', 'governmen', 'government', 'governments', 'governo', 'governor', 'governors', 'governorships', 'govt', 'gown', 'gowns', 'gps', 'gr', 'grab', 'grabbed', 'grabs', 'grace', 'graceful', 'graceland', 'gracie', 'graciela', 'grad', 'grade', 'grader', 'graders', 'grades', 'grading', 'grads', 'gradual', 'gradually', 'graduate', 'graduation', 'graffiti', 'graft', 'graham', 'grain', 'grammy', 'grammys', 'granary', 'grand', 'grandaughter', 'grandchild', 'grandchildren', 'granddaughter', 'grande', 'grandfa', 'grandfather', 'grandkids', 'grandma', 'grandmother', 'grandmothering', 'grandparents', 'grandson', 'granny', 'grant', 'granted', 'granting', 'grants', 'grape', 'graph', 'graphic', 'graphics', 'grapple', 'grapples', 'grappling', 'gras', 'grasp', 'grass', 'grassley', 'grate', 'grateful', 'grating', 'gratitude', 'grave', 'gravel', 'gravely', 'graves', 'graveyard', 'gravity', 'gravy', 'gray', 'grayer', 'grazing', 'gre', 'grea', 'grease', 'greasy', 'great', 'greater', 'greatest', 'greatly', 'greats', 'gree', 'greece', 'greek', 'green', 'greenberg', 'greenbook', 'greenho', 'greenhouse', 'greenidge', 'greenish', 'greenla', 'greenland', 'greens', 'greet', 'greeted', 'greeting', 'greets', 'greg', 'gregg', 'grenade', 'grenades', 'greta', 'grew', 'grid', 'gridlock', 'grief', 'grievances', 'grieving', 'grievous', 'griezmann', 'griffin', 'griffiths', 'grill', 'grim', 'grinc', 'grinch', 'grind', 'grindr', 'grip', 'grit', 'gritty', 'grizzled', 'grizzlies', 'gro', 'grocer', 'groceries', 'grocers', 'grocery', 'groin', 'groomed', 'groping', 'gross', 'grossed', 'grosses', 'grossing', 'grossman', 'grouch', 'grouchy', 'ground', 'groundbrea', 'groundbreaking', 'grounded', 'groundhog', 'grounding', 'grounds', 'groundswell', 'groundwork', 'group', 'groupie', 'groups', 'grover', 'grow', 'growers', 'growing', 'grown', 'grownups', 'grows', 'growth', 'gruden', 'grueling', 'gruevski', 'gu', 'guacamole', 'guacho', 'guang', 'guangzhou', 'guantanamo', 'guar', 'guarantee', 'guaranteed', 'guarantees', 'guard', 'guardia', 'guardian', 'guardians', 'guardianship', 'guardrail', 'guards', 'guardsmen', 'guatemala', 'guatemalan', 'guber', 'gubernatorial', 'guernsey', 'guerra', 'guess', 'guesses', 'guessing', 'guesswork', 'guest', 'guests', 'guez', 'guidance', 'guide', 'guided', 'guideli', 'guidelines', 'guides', 'guiding', 'guido', 'guild', 'guilt', 'guilty', 'guinea', 'guitar', 'guitarist', 'gujarat', 'gulen', 'gulf', 'gulp', 'gum', 'gumbo', 'gummy', 'gun', 'gundlach', 'gunfight', 'gunfire', 'gunm', 'gunman', 'gunmen', 'gunned', 'gunpoint', 'guns', 'gunshot', 'gupta', 'guptas', 'gurira', 'guru', 'gurus', 'gustaf', 'gustavo', 'gut', 'gutierrez', 'gutless', 'gutsy', 'guttersnipe', 'guy', 'guyana', 'guys', 'guzman', 'gwen', 'gwyneth', 'gym', 'gymnastics', 'gymnasts', 'gymternet', 'gypsy', 'ha', 'haaland', 'habit', 'habitats', 'habits', 'hacienda', 'hack', 'hacked', 'hacker', 'hackers', 'hacking', 'haddish', 'hader', 'hadley', 'hadn', 'hadron', 'hai', 'haider', 'hail', 'hailed', 'hailey', 'hailing', 'hails', 'hair', 'haircut', 'hairspray', 'hairston', 'haiti', 'hakeem', 'hakuna', 'hal', 'halal', 'halep', 'haley', 'half', 'halftime', 'halfway', 'halibut', 'halifax', 'hall', 'halle', 'hallelujah', 'hallmark', 'halloween', 'halls', 'hallway', 'halsey', 'halt', 'halted', 'halting', 'halts', 'ham', 'hamas', 'hamburgers', 'hami', 'hamildrops', 'hamilton', 'hammer', 'hammond', 'hamou', 'hampering', 'hampshire', 'hampton', 'hamstring', 'han', 'hanawalt', 'hand', 'handbags', 'handcuffed', 'handcuffs', 'handed', 'handel', 'handelsblatt', 'handful', 'handing', 'handle', 'handled', 'handler', 'handlers', 'handles', 'handling', 'hands', 'handset', 'handsets', 'handshakes', 'handsome', 'handwritten', 'handy', 'handzyuk', 'hang', 'hangar', 'hanged', 'hanging', 'hangs', 'hanks', 'hannah', 'hannity', 'hanoi', 'hans', 'hansen', 'hanukkah', 'haphazard', 'happ', 'happe', 'happen', 'happene', 'happened', 'happening', 'happens', 'happier', 'happiest', 'happily', 'happiness', 'happy', 'happyhalloween', 'happynewyear', 'har', 'harass', 'harassed', 'harassing', 'harassment', 'harbaugh', 'harbin', 'harbor', 'harbour', 'hard', 'hardaway', 'harden', 'hardened', 'hardening', 'hardens', 'harder', 'hardes', 'hardest', 'hardline', 'hardliners', 'hardly', 'hardship', 'hardships', 'hardtack', 'hardware', 'hardwired', 'hargreaves', 'harlan', 'harm', 'harmed', 'harmful', 'harming', 'harmony', 'harms', 'harnessed', 'harnessing', 'harnett', 'harold', 'harp', 'harper', 'harrell', 'harris', 'harrowing', 'harry', 'harsh', 'harshest', 'hart', 'harvard', 'harvest', 'harvesting', 'harvests', 'harvey', 'hasan', 'hashim', 'hashtag', 'hasina', 'haslam', 'hasn', 'haspel', 'hassan', 'hassanen', 'hassett', 'hat', 'hatbox', 'hatch', 'hate', 'hated', 'hateful', 'haters', 'hathaway', 'hathloul', 'hatred', 'hats', 'hau', 'haughey', 'haul', 'haunt', 'haunting', 'hav', 'haven', 'havilland', 'having', 'havoc', 'haw', 'hawaii', 'hawaiian', 'hawk', 'hawke', 'hawking', 'hawks', 'hawley', 'hawthorne', 'hayes', 'haysom', 'hazardous', 'haze', 'hazier', 'hazing', 'hbo', 'hc', 'hea', 'head', 'headache', 'headaches', 'headed', 'headgear', 'heading', 'headlamps', 'headless', 'headley', 'headli', 'headlights', 'headline', 'headlines', 'headphones', 'headquarters', 'headrests', 'heads', 'headspace', 'headwinds', 'heady', 'heal', 'healed', 'healer', 'healing', 'healt', 'health', 'healthcare', 'healthier', 'healthiest', 'healthy', 'heap', 'hear', 'heard', 'hearing', 'hearings', 'heart', 'heartache', 'heartbreak', 'heartbreaking', 'heartbroken', 'hearten', 'hearts', 'heartwarming', 'hearty', 'heat', 'heated', 'heather', 'heathrow', 'heating', 'heats', 'heatwave', 'heaven', 'heavily', 'heavy', 'heavyweight', 'hebdo', 'hebei', 'hector', 'hedge', 'hedges', 'hedren', 'heels', 'heft', 'heftier', 'heidi', 'heightened', 'heightens', 'heights', 'heilongjiang', 'heir', 'heiress', 'heirloom', 'heisman', 'heist', 'heists', 'heithaus', 'heitkamp', 'hel', 'held', 'helge', 'helicopter', 'helier', 'heliosphere', 'hell', 'heller', 'hello', 'helm', 'helmand', 'helmed', 'helmet', 'help', 'helped', 'helpful', 'helpi', 'helpin', 'helping', 'helpless', 'helps', 'helus', 'helusm', 'hemingway', 'hemp', 'hemsworth', 'hen', 'henan', 'henderson', 'hendrick', 'henhouse', 'henry', 'hensarling', 'hep', 'hepatitis', 'herb', 'herbalife', 'herbs', 'herd', 'heritable', 'heritage', 'hermione', 'herndon', 'hero', 'heroes', 'heroic', 'heroically', 'heroics', 'heroin', 'heron', 'herpes', 'herrid', 'herridge', 'herring', 'hershey', 'herzer', 'hess', 'hesse', 'heyer', 'heysham', 'hezbollah', 'hgtv', 'hhs', 'hi', 'hiatus', 'hickey', 'hid', 'hidde', 'hidden', 'hide', 'hidin', 'hiding', 'hierarchy', 'hieroglyphics', 'higgins', 'high', 'highe', 'higher', 'highes', 'highest', 'highli', 'highlight', 'highlighted', 'highlighting', 'highlights', 'highly', 'highs', 'highway', 'highways', 'hiit', 'hijack', 'hijacked', 'hike', 'hikers', 'hikes', 'hiking', 'hilarious', 'hill', 'hillary', 'hills', 'hilton', 'himalayas', 'himse', 'himsel', 'hind', 'hinder', 'hindered', 'hindu', 'hinduism', 'hines', 'hint', 'hinted', 'hinterland', 'hinterlands', 'hinting', 'hints', 'hip', 'hire', 'hired', 'hires', 'hiri', 'hiring', 'hirings', 'hirono', 'hiroto', 'hirscher', 'hispanic', 'hissrich', 'hist', 'histor', 'histori', 'historian', 'historians', 'historic', 'historically', 'histories', 'history', 'hit', 'hitachi', 'hitch', 'hitches', 'hitchhiked', 'hitler', 'hitman', 'hits', 'hitting', 'hiv', 'hiya', 'hna', 'hnida', 'ho', 'hoards', 'hoax', 'hoaxer', 'hobble', 'hobbled', 'hobby', 'hoboken', 'hobson', 'hockey', 'hodeidah', 'hodge', 'hoffman', 'hogan', 'hogg', 'hoist', 'hol', 'holbrook', 'hold', 'holder', 'holderness', 'holders', 'holding', 'holdings', 'holds', 'hole', 'holes', 'holi', 'holiday', 'holidays', 'holl', 'holla', 'holly', 'hollywood', 'holme', 'holmes', 'holocaust', 'hologra', 'hologram', 'holy', 'hom', 'homage', 'homan', 'home', 'homecoming', 'homegrown', 'homeland', 'homeless', 'homelessness', 'homeowner', 'homers', 'homes', 'hometown', 'homework', 'homicide', 'homicides', 'homily', 'homogeneous', 'homopho', 'homophobic', 'honduran', 'hondurans', 'honduras', 'hone', 'honegg', 'honest', 'honestly', 'honesty', 'honeybee', 'honeybees', 'honeymoon', 'hong', 'honor', 'honored', 'honoring', 'honors', 'honour', 'honoured', 'honours', 'hood', 'hoodlums', 'hook', 'hooked', 'hooker', 'hoon', 'hooper', 'hop', 'hope', 'hoped', 'hopeful', 'hopefully', 'hopefuls', 'hopeless', 'hopes', 'hoping', 'hopkins', 'hopman', 'hoppers', 'hopping', 'hops', 'hordes', 'horizon', 'horizons', 'horizonta', 'horned', 'hornet', 'horns', 'horrible', 'horribly', 'horrific', 'horrified', 'horrifying', 'horror', 'horrors', 'horse', 'horseman', 'horses', 'horseshoe', 'hos', 'hose', 'hosko', 'hosp', 'hospice', 'hospital', 'hospitalized', 'hospitals', 'host', 'hostage', 'hostages', 'hosted', 'hosti', 'hostil', 'hostile', 'hostility', 'hosting', 'hosts', 'hot', 'hotel', 'hotels', 'hotline', 'hotly', 'hots', 'hottest', 'hou', 'hour', 'hours', 'hous', 'house', 'houseboat', 'housed', 'household', 'households', 'housemaid', 'houses', 'houseware', 'housework', 'housing', 'houston', 'houthi', 'houthis', 'hovering', 'howard', 'howling', 'hoyer', 'hq', 'hsbc', 'hsieh', 'hu', 'huach', 'huaw', 'huawei', 'huaying', 'hub', 'hubble', 'hubert', 'hubs', 'huckabee', 'hud', 'hudaydah', 'huddled', 'hudson', 'hue', 'hued', 'huejotzingo', 'huey', 'huffman', 'hug', 'huge', 'hugely', 'hugged', 'hugh', 'hugo', 'hulu', 'hum', 'human', 'humane', 'humani', 'humanit', 'humanitarian', 'humanity', 'humans', 'humayun', 'humble', 'humbled', 'humbling', 'humboldt', 'humes', 'humidity', 'humiliate', 'humiliated', 'humiliating', 'humility', 'humor', 'humour', 'humpback', 'humphrey', 'hun', 'hundreds', 'hung', 'hungarian', 'hungarians', 'hungary', 'hunger', 'hungry', 'hunt', 'hunter', 'hunters', 'hunting', 'huntington', 'huntress', 'hunts', 'huntsman', 'hurd', 'hurdle', 'hurdles', 'hurns', 'hurrica', 'hurricane', 'hurricanes', 'hurriyet', 'hurry', 'hurt', 'hurtin', 'hurting', 'hurtles', 'hurwitz', 'husb', 'husband', 'husbands', 'hush', 'husky', 'hustles', 'hut', 'hutchinson', 'huth', 'hw', 'hyde', 'hydro', 'hyland', 'hype', 'hyperloop', 'hypersonic', 'hypertension', 'hypocrisy', 'hypoxia', 'hysterical', 'hyundai', 'iac', 'ian', 'iaquinta', 'iata', 'ib', 'ibm', 'ic', 'icbc', 'ice', 'iced', 'iceland', 'icelandic', 'icing', 'ick', 'icky', 'icon', 'iconic', 'icons', 'icu', 'icy', 'icymi', 'id', 'idaho', 'idea', 'ideal', 'ideas', 'identifica', 'identification', 'identified', 'identify', 'identifying', 'identities', 'identity', 'ideological', 'idiocy', 'idiot', 'iditarod', 'idle', 'idled', 'idol', 'ids', 'ied', 'ification', 'igbo', 'ige', 'igne', 'ignited', 'ignorant', 'ignore', 'ignored', 'ignores', 'ignoring', 'igor', 'iguanas', 'ihop', 'ii', 'iii', 'il', 'ilana', 'ileana', 'ilhan', 'ill', 'illegal', 'illegality', 'illegally', 'illegitimate', 'illinois', 'illiteracy', 'illne', 'illness', 'illnesses', 'illogical', 'illuminated', 'illuminations', 'illusion', 'illustrated', 'illustrates', 'illustration', 'illustrations', 'illustrator', 'image', 'images', 'imagination', 'imaginations', 'imaginative', 'imagine', 'imagined', 'imagines', 'iman', 'imani', 'imbalance', 'imelda', 'imitating', 'immediate', 'immediatel', 'immediately', 'immense', 'immi', 'immig', 'immigr', 'immigra', 'immigrant', 'immigrants', 'immigrat', 'immigration', 'imminent', 'imminently', 'immoral', 'immorality', 'immortalized', 'immune', 'immuno', 'immunotherapy', 'imp', 'impact', 'impacted', 'impacting', 'impacts', 'impaired', 'impairment', 'impartiality', 'impass', 'impasse', 'impassioned', 'impeach', 'impeachable', 'impeached', 'impeaching', 'impeachment', 'impending', 'imperial', 'imperiled', 'imperiling', 'imperils', 'impersonating', 'implants', 'implement', 'implementation', 'implemented', 'implementing', 'implicated', 'implications', 'implied', 'imploded', 'implored', 'imploring', 'impolite', 'import', 'importan', 'importance', 'important', 'importantly', 'imported', 'importers', 'importing', 'imports', 'impose', 'imposed', 'imposes', 'imposition', 'impossible', 'imposter', 'impostor', 'impover', 'impregnable', 'impresario', 'impress', 'impressed', 'impression', 'impressive', 'imprisoned', 'impromptu', 'improperly', 'improve', 'improved', 'improvement', 'improvements', 'improves', 'improving', 'improvisation', 'improvise', 'improvised', 'impulse', 'impulsive', 'impunity', 'imran', 'imre', 'inaba', 'inability', 'inadvertent', 'inadvertently', 'inappropriate', 'inappropriatel', 'inaugural', 'inaugurated', 'inaugurates', 'inauguratio', 'inauguration', 'inauthentic', 'inbev', 'incarcerate', 'incarcerated', 'incarceration', 'incentive', 'incentives', 'incentivize', 'inch', 'inching', 'incident', 'incidents', 'incinerated', 'incite', 'incl', 'inclu', 'include', 'included', 'includes', 'includi', 'includin', 'including', 'inclusion', 'inclusive', 'income', 'incoming', 'incompetent', 'incomplete', 'inconsequential', 'inconsistent', 'inconvenience', 'inconveniencing', 'incorporate', 'incorporates', 'incorrect', 'incorrectly', 'increase', 'increased', 'increases', 'increasing', 'increasingl', 'increasingly', 'incredible', 'incredibles', 'incredibly', 'incremental', 'incumbent', 'indecent', 'indecisive', 'indefinite', 'indelible', 'indepe', 'independence', 'independent', 'independents', 'indescribable', 'index', 'indexes', 'india', 'indian', 'indiana', 'indianap', 'indianapolis', 'indians', 'indicated', 'indicating', 'indicator', 'indicators', 'indict', 'indicted', 'indictmen', 'indictment', 'indifference', 'indifferent', 'indigenous', 'indirectly', 'indispensable', 'individ', 'individu', 'individual', 'individuals', 'indoctrination', 'indon', 'indonesia', 'indonesian', 'indonesians', 'indoor', 'induced', 'inducing', 'indus', 'indust', 'industrial', 'industrials', 'industries', 'industry', 'ine', 'ineffec', 'ineffective', 'inequa', 'inequality', 'inevitable', 'inevitably', 'inexpensive', 'inexperienced', 'inf', 'infallible', 'infamous', 'infant', 'infants', 'infected', 'infection', 'infections', 'infectious', 'inferno', 'infiltrate', 'infiltrated', 'inflame', 'inflat', 'inflatable', 'inflated', 'inflation', 'inflators', 'inflict', 'inflows', 'influence', 'influenced', 'influencer', 'influencers', 'influences', 'influencing', 'influential', 'influenza', 'info', 'inform', 'informal', 'informant', 'information', 'informed', 'infowars', 'infrastruc', 'infrastructure', 'infrequently', 'infringing', 'infuriated', 'infuriating', 'infused', 'ing', 'inge', 'ingested', 'ingraham', 'ingredient', 'ingstad', 'inhabit', 'inhabited', 'inhabiting', 'inhaling', 'inherently', 'inherit', 'inherited', 'inhumane', 'initi', 'initial', 'initially', 'initiated', 'initiating', 'initiations', 'initiative', 'initiatives', 'inject', 'injection', 'injections', 'injects', 'injur', 'injured', 'injures', 'injuries', 'injuring', 'injury', 'injustice', 'inks', 'inmate', 'inmates', 'inne', 'inner', 'innes', 'inning', 'innocence', 'innocent', 'innovating', 'innovatio', 'innovation', 'innovations', 'innovative', 'innovator', 'input', 'inquiries', 'inquiry', 'ins', 'insane', 'insanity', 'inse', 'insect', 'insects', 'insecur', 'insecurities', 'insecurity', 'insensitive', 'inside', 'insider', 'insiders', 'insides', 'insight', 'insightful', 'insights', 'insist', 'insisted', 'insistence', 'insisting', 'insists', 'insp', 'inspect', 'inspections', 'inspectors', 'inspiration', 'inspirational', 'inspire', 'inspired', 'inspires', 'inspiring', 'inst', 'instability', 'instagram', 'instagrammable', 'instagrammer', 'install', 'installation', 'installed', 'installing', 'installs', 'instance', 'instances', 'instant', 'instantaneous', 'instantly', 'inste', 'instead', 'instigating', 'instill', 'instincts', 'institute', 'institutional', 'institutions', 'instructions', 'instructor', 'instrument', 'instrumenta', 'instrumental', 'instrumentalist', 'instruments', 'insular', 'insulin', 'insult', 'insulting', 'insults', 'insuran', 'insurance', 'insurer', 'insurers', 'insurgent', 'insurgents', 'insys', 'int', 'intact', 'inte', 'integral', 'integration', 'integrity', 'intel', 'intelle', 'intellectual', 'intellectuals', 'intelligence', 'intelligent', 'intended', 'intends', 'intense', 'intensely', 'intensified', 'intensifies', 'intensify', 'intensifying', 'intensity', 'intent', 'intention', 'intentionally', 'inter', 'interact', 'interactive', 'intercede', 'intercepted', 'intercepting', 'intercepts', 'interdigital', 'interested', 'interesting', 'interestingly', 'interests', 'interfaith', 'interfax', 'interference', 'interfering', 'interim', 'interior', 'intermediate', 'intern', 'internal', 'internatio', 'international', 'internationally', 'internet', 'interns', 'interpol', 'interpr', 'interpreters', 'interrogated', 'interrupted', 'interrupting', 'interruption', 'interrupts', 'intersections', 'intersex', 'interstate', 'interstellar', 'interval', 'intervene', 'intervention', 'intervi', 'interview', 'interviewed', 'interviewing', 'interviews', 'interwoven', 'intimat', 'intimate', 'intimidated', 'intimidating', 'intimidation', 'intl', 'intoxicated', 'intoxication', 'intransi', 'intricate', 'intriguing', 'intro', 'introduce', 'introduced', 'introduction', 'introverted', 'inundated', 'inv', 'invade', 'invaded', 'invader', 'invades', 'invalid', 'invalidate', 'invalidated', 'invasion', 'invasive', 'inve', 'invent', 'invented', 'inventive', 'inventor', 'inversion', 'inverted', 'inverts', 'inves', 'invest', 'investi', 'investig', 'investigat', 'investigate', 'investigated', 'investigates', 'investigating', 'investigatio', 'investigation', 'investigations', 'investigative', 'investigator', 'investigators', 'investing', 'investm', 'investment', 'investments', 'investor', 'investors', 'invincible', 'invisible', 'invitation', 'invited', 'invites', 'inviting', 'invoke', 'invoked', 'invoking', 'involv', 'involve', 'involved', 'involvement', 'involves', 'involving', 'invulnerable', 'iowa', 'iowans', 'ip', 'ipa', 'ipad', 'ipads', 'ipanema', 'iphon', 'iphone', 'iphones', 'ipo', 'ipos', 'ira', 'iran', 'iranian', 'iranians', 'iraq', 'iraqi', 'ire', 'ireland', 'iris', 'irish', 'irks', 'irna', 'iron', 'ironi', 'irony', 'irregularities', 'irresponsible', 'irreverence', 'irs', 'irving', 'irwin', 'isaac', 'isakson', 'isi', 'isis', 'isl', 'islam', 'islami', 'islamic', 'islamist', 'island', 'islands', 'isle', 'isles', 'isley', 'isn', 'isola', 'isolate', 'isolated', 'isolation', 'isolationism', 'israe', 'israel', 'israeli', 'israelis', 'iss', 'issu', 'issue', 'issued', 'issues', 'issuing', 'istanbul', 'italian', 'italy', 'item', 'items', 'itineraries', 'itinerary', 'itunes', 'iturbide', 'iv', 'ivanka', 'ivf', 'ivory', 'ivy', 'iwakuni', 'iwc', 'iwo', 'ix', 'ja', 'jack', 'jacket', 'jackets', 'jackie', 'jackiekennedy', 'jackman', 'jackpot', 'jackpots', 'jackson', 'jacky', 'jacob', 'jacobs', 'jacobson', 'jada', 'jadon', 'jae', 'jafar', 'jaguar', 'jail', 'jaile', 'jailed', 'jailing', 'jair', 'jake', 'jakelin', 'jakiv', 'jakiw', 'jalape', 'jam', 'jamaica', 'jamaican', 'jamaicans', 'jamal', 'jameek', 'jameela', 'james', 'jameson', 'jamil', 'jammeh', 'jamming', 'jamneanphol', 'jams', 'jan', 'jane', 'janeiro', 'janelle', 'janes', 'janet', 'janets', 'janitor', 'janitors', 'jannoud', 'january', 'jap', 'japan', 'japanese', 'jaras', 'jared', 'jaren', 'jarratt', 'jarring', 'jason', 'jaunes', 'java', 'javan', 'jaw', 'jay', 'jayden', 'jayhawks', 'jayme', 'jazmine', 'jazz', 'jba', 'jd', 'jean', 'jeanne', 'jeanneret', 'jeans', 'jeb', 'jeep', 'jeezy', 'jeff', 'jefferson', 'jeffrey', 'jeffries', 'jek', 'jellyfish', 'jemisin', 'jenkins', 'jenna', 'jenner', 'jennie', 'jennifer', 'jennings', 'jenny', 'jeopardize', 'jeopardy', 'jeremy', 'jericho', 'jerk', 'jermaine', 'jerome', 'jerry', 'jersey', 'jerseys', 'jerseyshore', 'jerusalem', 'jes', 'jessica', 'jessy', 'jesuits', 'jesus', 'jet', 'jetliners', 'jets', 'jetway', 'jetways', 'jeunesse', 'jewelry', 'jewels', 'jewish', 'jews', 'ji', 'jian', 'jiang', 'jiankui', 'jiggling', 'jihadi', 'jihadis', 'jiji', 'jillian', 'jim', 'jima', 'jimin', 'jimmy', 'jin', 'jinfu', 'jingping', 'jinping', 'jittery', 'jiwani', 'jo', 'joakim', 'joan', 'joanna', 'joanne', 'joao', 'job', 'jobless', 'jobs', 'jockeying', 'joe', 'joel', 'joey', 'jogger', 'jogging', 'joh', 'johansson', 'john', 'johnny', 'johns', 'johnson', 'johnston', 'joie', 'join', 'joined', 'joining', 'joins', 'joint', 'jointly', 'jok', 'joke', 'joked', 'jokes', 'joking', 'jolie', 'jolly', 'jon', 'jonathan', 'jonben', 'jonbenet', 'jones', 'jonestown', 'jong', 'joni', 'jonny', 'joplin', 'jordan', 'jos', 'jose', 'joseph', 'josh', 'joshu', 'joshua', 'jou', 'jouanno', 'journ', 'journa', 'journal', 'journalism', 'journalist', 'journalistic', 'journalists', 'journals', 'journey', 'journeys', 'joy', 'joyce', 'joyous', 'jpmorgan', 'jr', 'ju', 'juan', 'judd', 'judge', 'judges', 'judgment', 'judicial', 'judiciary', 'judy', 'juffali', 'juggling', 'juice', 'jujube', 'jules', 'julia', 'julian', 'julie', 'julien', 'july', 'jumadil', 'jump', 'jumped', 'jumper', 'jumping', 'jumps', 'jumpy', 'juncker', 'june', 'jungle', 'juniad', 'junior', 'junk', 'junkies', 'junkyard', 'juno', 'junta', 'jupin', 'jupiter', 'jurassic', 'jurors', 'jury', 'jus', 'just', 'justice', 'justiceforjamal', 'justified', 'justify', 'justin', 'justly', 'justyn', 'juul', 'juventus', 'juwan', 'juxtaposes', 'jv', 'kabila', 'kabul', 'kadyrbayev', 'kaepernick', 'kahlil', 'kaine', 'kaitlin', 'kaitlyn', 'kalamazoo', 'kaley', 'kalray', 'kaluuya', 'kamala', 'kamiya', 'kampala', 'kan', 'kanawha', 'kandarian', 'kang', 'kangaroo', 'kansas', 'kant', 'kanter', 'kanye', 'kaplan', 'kar', 'kara', 'karachi', 'karan', 'karate', 'kardashian', 'kareem', 'karen', 'karins', 'karl', 'karrenbauer', 'kart', 'karting', 'karuhimbi', 'karyn', 'kashmir', 'kashmiris', 'kasich', 'kate', 'kateryna', 'kathie', 'kathleen', 'kathy', 'katie', 'kavan', 'kavanaugh', 'kay', 'kazakhs', 'kazakhstan', 'kb', 'kbc', 'kc', 'kcbs', 'kcna', 'kdka', 'ke', 'keane', 'keating', 'keene', 'keenly', 'keeper', 'keeping', 'keeps', 'keitany', 'keith', 'kelleher', 'kelley', 'kelly', 'kellyanne', 'kelner', 'kelsey', 'kemp', 'ken', 'kenan', 'kendall', 'kendrick', 'kennedy', 'kenneth', 'kenny', 'kent', 'kentucky', 'kenya', 'kepler', 'kept', 'kerala', 'keri', 'kerik', 'kermanshah', 'keto', 'ketogenic', 'kettering', 'kevin', 'key', 'keyboard', 'keys', 'keystone', 'kfc', 'kg', 'kgb', 'khaan', 'khadija', 'khal', 'khalaf', 'khaled', 'khaleesi', 'khamenei', 'khan', 'khanna', 'khartoum', 'khashoggi', 'khawaja', 'khmer', 'khosrowshahi', 'khuang', 'ki', 'kic', 'kick', 'kickback', 'kickbacks', 'kicked', 'kicker', 'kicking', 'kickoff', 'kicks', 'kid', 'kiddos', 'kidman', 'kidnap', 'kidnapped', 'kidnapper', 'kidnapping', 'kidnappings', 'kidne', 'kidney', 'kids', 'kiev', 'kil', 'kilauea', 'kiley', 'kill', 'kille', 'killed', 'killer', 'killers', 'killing', 'killings', 'kills', 'kilomete', 'kim', 'kimberly', 'kimmel', 'kin', 'kind', 'kinder', 'kindergarten', 'kindness', 'kinds', 'king', 'kingdom', 'kingmaker', 'kingmakers', 'kingpin', 'kings', 'kingsbury', 'kirby', 'kirchner', 'kirill', 'kirk', 'kirkpatrick', 'kirsten', 'kirstjen', 'kiss', 'kisses', 'kit', 'kitchen', 'kitchens', 'kits', 'kitschy', 'kitten', 'kittens', 'kiwi', 'kiwis', 'kleege', 'klein', 'kliff', 'klm', 'klobuchar', 'km', 'kmov', 'kn', 'knee', 'kneels', 'knesset', 'knew', 'knickers', 'knicks', 'knife', 'knight', 'knights', 'knit', 'knitting', 'kno', 'knock', 'knocked', 'knocking', 'knocks', 'know', 'knowin', 'knowing', 'knowingly', 'knowledgeable', 'known', 'knows', 'knuckles', 'knuth', 'ko', 'koalas', 'kobach', 'kobe', 'kohl', 'kohli', 'kominsky', 'kondo', 'kong', 'kongers', 'kontar', 'kool', 'koran', 'kore', 'korea', 'korean', 'koreans', 'koreas', 'korobov', 'korolev', 'kosher', 'kosovo', 'kotex', 'kovrig', 'kqed', 'kr', 'kraka', 'krakatau', 'krakatu', 'kramp', 'kraninger', 'kreme', 'kremlin', 'krinsky', 'kris', 'krispy', 'kristallnacht', 'kristi', 'kristina', 'kristine', 'kroger', 'kroll', 'krugman', 'krystle', 'ku', 'kudlow', 'kudos', 'kuiper', 'kumar', 'kurdish', 'kurds', 'kuredjian', 'kurt', 'kusama', 'kushner', 'kuwait', 'kuznetsov', 'kwanzaa', 'ky', 'kyaw', 'kyi', 'kyl', 'kyler', 'kyrgyzstan', 'kyrie', 'kyrsten', 'kyung', 'la', 'lab', 'labaki', 'labeled', 'labelle', 'labor', 'laboratory', 'laborers', 'labour', 'labs', 'lack', 'lacked', 'lacking', 'lackluster', 'lacks', 'lacquered', 'lacrosse', 'lactating', 'ladder', 'laden', 'lady', 'laffer', 'lafleur', 'lag', 'lagging', 'lago', 'lags', 'laguardia', 'lahore', 'laid', 'laila', 'lair', 'lake', 'lakers', 'lakes', 'lakewood', 'lam', 'lamar', 'lambasted', 'lambastes', 'lambeau', 'lambert', 'lamborghini', 'lame', 'lament', 'lamentation', 'lamented', 'lamest', 'lampert', 'lamplighter', 'lamps', 'lan', 'land', 'landed', 'lander', 'landing', 'landings', 'landlord', 'landlords', 'landmar', 'landmark', 'landmarks', 'lands', 'landscape', 'landslide', 'landslides', 'lane', 'lang', 'langfang', 'langford', 'langlands', 'language', 'languages', 'languish', 'langur', 'lanka', 'lankan', 'lanny', 'lanterna', 'lanza', 'laos', 'lap', 'lapses', 'larcenies', 'lares', 'larg', 'large', 'largely', 'larger', 'largest', 'larry', 'lars', 'las', 'lashed', 'lashes', 'lasseter', 'lasted', 'lasting', 'lasts', 'laszlo', 'latam', 'latching', 'late', 'lately', 'later', 'latest', 'latifa', 'latin', 'latina', 'latinas', 'latte', 'latvia', 'lauda', 'lauded', 'lauer', 'laugh', 'laughed', 'laughing', 'laughs', 'launch', 'launched', 'launches', 'launching', 'launder', 'laundering', 'laundry', 'laura', 'laureate', 'laurel', 'lauren', 'lautner', 'lava', 'laverne', 'law', 'lawful', 'lawlessness', 'lawmak', 'lawmake', 'lawmaker', 'lawmakers', 'lawmaking', 'lawn', 'lawrence', 'laws', 'lawsuit', 'lawsuits', 'lawye', 'lawyer', 'lawyers', 'lax', 'lay', 'laying', 'layla', 'lays', 'lazear', 'laziness', 'lazy', 'lb', 'lcd', 'le', 'lead', 'leader', 'leaders', 'leadership', 'leading', 'leads', 'leaf', 'leafs', 'league', 'leak', 'leaked', 'leaking', 'leaks', 'lean', 'leaner', 'leaning', 'leap', 'leaps', 'lear', 'learn', 'learned', 'learners', 'learning', 'learns', 'learnt', 'leas', 'lease', 'leases', 'leav', 'leave', 'leaves', 'leaving', 'lebanese', 'lebanon', 'lebron', 'lecture', 'lecturers', 'led', 'leda', 'ledger', 'lee', 'leek', 'left', 'leftover', 'leftovers', 'leg', 'legacies', 'legacy', 'legal', 'legalise', 'legalising', 'legality', 'legalization', 'legalize', 'legalized', 'legalizing', 'legally', 'legend', 'legendary', 'legends', 'legions', 'legis', 'legislate', 'legislation', 'legislative', 'legislator', 'legislators', 'legislature', 'legislatures', 'legitimac', 'legitimate', 'legs', 'lehtinen', 'leicester', 'leigh', 'leissner', 'leitner', 'lelisa', 'lemon', 'lender', 'lenders', 'lending', 'lends', 'length', 'lengthy', 'leniency', 'lennar', 'lens', 'leo', 'leon', 'leonard', 'leonardo', 'leone', 'leonhardt', 'leopard', 'lepage', 'lepard', 'lepore', 'leppard', 'les', 'leslie', 'lesser', 'lessie', 'lesso', 'lesson', 'lessons', 'lessor', 'lessors', 'let', 'lethal', 'letitia', 'lets', 'letter', 'letters', 'letting', 'lettuce', 'levantine', 'levees', 'level', 'leveled', 'levels', 'lever', 'leverage', 'leveraged', 'levi', 'levin', 'levine', 'lewd', 'lewis', 'lexington', 'lg', 'lgb', 'lgbt', 'lgbtq', 'lgpa', 'li', 'liabilities', 'liability', 'liable', 'liam', 'lian', 'liang', 'liar', 'libel', 'liberal', 'liberals', 'liberat', 'liberation', 'liberia', 'libertarian', 'liberty', 'librarian', 'library', 'libya', 'libyan', 'licence', 'license', 'licenses', 'licken', 'lid', 'lie', 'lied', 'lies', 'lieutenant', 'lif', 'life', 'lifeboat', 'lifeline', 'lifelong', 'lifesaving', 'lifestyle', 'lifetime', 'lifetimes', 'lift', 'lifted', 'lifting', 'lifts', 'lig', 'liga', 'ligaya', 'light', 'lighted', 'lightening', 'lightens', 'lighter', 'lighthizer', 'lighthouse', 'lightly', 'lightning', 'lights', 'lihou', 'lik', 'likable', 'like', 'liked', 'likelihood', 'likely', 'liken', 'likened', 'likening', 'likes', 'lil', 'lila', 'lillian', 'lilly', 'lily', 'lim', 'limbaugh', 'limbo', 'limbs', 'limerick', 'limit', 'limited', 'limiting', 'limits', 'lin', 'lina', 'lincoln', 'linda', 'lindsay', 'lindsey', 'line', 'linearly', 'linebacker', 'lined', 'liners', 'lines', 'lineup', 'linger', 'lingered', 'lingering', 'lining', 'link', 'linke', 'linked', 'linking', 'links', 'lion', 'lions', 'lips', 'liqu', 'liquidate', 'liquidation', 'liquidator', 'liquidity', 'lis', 'lisa', 'lisbon', 'list', 'liste', 'listed', 'listen', 'listened', 'listeners', 'listening', 'lister', 'listeria', 'listing', 'listings', 'listless', 'lists', 'liszt', 'lit', 'litany', 'litecoin', 'literally', 'literary', 'literature', 'lithium', 'litiana', 'litig', 'litigation', 'litigations', 'litter', 'littered', 'littl', 'little', 'liu', 'liv', 'live', 'lived', 'livelihood', 'lively', 'liverpo', 'liverpool', 'livers', 'lives', 'livestock', 'livestream', 'living', 'livni', 'liz', 'lizard', 'lizards', 'lizzo', 'll', 'llorente', 'lloyd', 'lng', 'lo', 'loaded', 'loads', 'loan', 'loans', 'loath', 'loaves', 'lobbied', 'lobby', 'lobbying', 'lobbyist', 'lobbyists', 'loca', 'local', 'localized', 'localizing', 'locals', 'locate', 'located', 'location', 'locations', 'lockdown', 'lockdowns', 'locked', 'locker', 'locks', 'locksley', 'lockstep', 'locomotive', 'lode', 'lofty', 'log', 'logic', 'logical', 'logo', 'logrolling', 'lohan', 'loinger', 'lon', 'lond', 'london', 'londonfashionweek', 'lone', 'lonelier', 'loneliness', 'lonely', 'long', 'longed', 'longer', 'longest', 'longevity', 'longhorns', 'longline', 'longread', 'longshots', 'longstanding', 'longtime', 'lonzo', 'loo', 'look', 'looked', 'looking', 'lookout', 'looks', 'loom', 'looming', 'looms', 'loop', 'loopholes', 'loose', 'loosemore', 'loosen', 'loosey', 'looted', 'looting', 'lopez', 'lorax', 'lord', 'lore', 'loretta', 'lorne', 'lorre', 'los', 'lose', 'loser', 'losers', 'loses', 'losing', 'loss', 'losses', 'lost', 'lot', 'lots', 'lottery', 'lotto', 'lotz', 'lou', 'loud', 'louis', 'louisiana', 'louisville', 'loujain', 'lourd', 'lousy', 'louth', 'louvre', 'lov', 'lovato', 'love', 'loved', 'lovegilda', 'loveliest', 'lovely', 'lover', 'lovers', 'loves', 'loving', 'low', 'lowe', 'lower', 'lowered', 'lowers', 'lowery', 'lowest', 'lowlights', 'lowry', 'lows', 'loxo', 'loyal', 'loyalty', 'loyen', 'lt', 'lu', 'luck', 'luckily', 'lucky', 'lucrative', 'lucy', 'lug', 'luggage', 'lula', 'lullaby', 'lulu', 'lumentum', 'luminaries', 'lunar', 'lunatic', 'lunatics', 'lunch', 'lunches', 'lung', 'lupita', 'lure', 'lured', 'lurked', 'lurks', 'lushly', 'lusk', 'lusting', 'lutes', 'luther', 'lux', 'luxury', 'lyft', 'lying', 'lyme', 'lynch', 'lynched', 'lynching', 'lynyrd', 'lyon', 'lyricist', 'lyrics', 'lyudmila', 'ma', 'maas', 'maassen', 'mac', 'macadamia', 'macaroni', 'macaulay', 'macedonia', 'macedonian', 'machado', 'machiavelli', 'machine', 'machines', 'mackenzie', 'macon', 'macri', 'macroeconomic', 'macron', 'macy', 'mad', 'madagascar', 'madden', 'maddow', 'madeleine', 'madison', 'madness', 'madoff', 'madonna', 'madrid', 'maduro', 'maezawa', 'mafia', 'maga', 'magaz', 'magazine', 'magazines', 'maggie', 'maggy', 'magic', 'magical', 'magnanimous', 'magnet', 'magnetic', 'magnificent', 'magnifying', 'magnitogorsk', 'magnitsky', 'magnitude', 'magnitz', 'magnum', 'magnus', 'maguire', 'maha', 'mahershala', 'mahinda', 'mahomes', 'mai', 'maid', 'mail', 'mailed', 'mailer', 'mailing', 'mailings', 'main', 'maine', 'mainland', 'mainstream', 'maintain', 'maintained', 'maintaining', 'maintains', 'maintenance', 'maisel', 'maj', 'majesty', 'major', 'majorities', 'majority', 'mak', 'make', 'makenna', 'makennah', 'maker', 'makers', 'makes', 'makeshift', 'makeup', 'makin', 'making', 'maktoum', 'malaria', 'malaspina', 'malawi', 'malay', 'malayan', 'malaysia', 'malaysian', 'maldives', 'male', 'malek', 'males', 'malf', 'malfunctioned', 'mali', 'malibu', 'malicious', 'malign', 'maligna', 'malignant', 'malkovich', 'mall', 'mallet', 'malley', 'malls', 'mallya', 'malnourished', 'malnutrition', 'malpractice', 'malta', 'malware', 'mama', 'mambacita', 'mammal', 'man', 'manafort', 'manage', 'managed', 'management', 'manager', 'managerial', 'managers', 'managing', 'manama', 'manbij', 'manchester', 'manchin', 'mandarin', 'mandate', 'mandates', 'mandating', 'mandatory', 'mandy', 'maneuver', 'manger', 'mangi', 'mangum', 'manh', 'manhattan', 'manhunt', 'mania', 'manicure', 'manifestation', 'manila', 'manipulate', 'manipulating', 'manipulation', 'manipulative', 'manki', 'mankind', 'manner', 'manning', 'manoeuvre', 'mansa', 'mansion', 'manslaughter', 'mantle', 'mantras', 'manual', 'manuel', 'manuela', 'manufactured', 'manufacturer', 'manufacturers', 'manufacturing', 'manx', 'manxspca', 'manzini', 'mao', 'maoist', 'map', 'maple', 'mapped', 'maps', 'mapuche', 'maputo', 'maquiladoras', 'maquin', 'mar', 'mara', 'maradi', 'marathon', 'marburg', 'marc', 'marcel', 'marcellus', 'march', 'marched', 'marchers', 'marches', 'marching', 'marco', 'marcos', 'marcus', 'margaret', 'margi', 'margin', 'marginal', 'marginalizing', 'marginally', 'margins', 'margot', 'maria', 'mariah', 'mariana', 'marie', 'marietje', 'marijuana', 'marin', 'marine', 'mariners', 'marines', 'mario', 'marise', 'maritime', 'mariupol', 'marjory', 'mark', 'marked', 'markermeer', 'market', 'marketing', 'marketplace', 'marketplaces', 'markets', 'marking', 'markle', 'marks', 'marlboro', 'marlin', 'maroon', 'marquee', 'marred', 'marri', 'marriage', 'marriages', 'married', 'marriott', 'marry', 'marrying', 'mars', 'marseille', 'marsh', 'marsha', 'marshal', 'marshall', 'marshallese', 'marshals', 'marshes', 'marslanding', 'marsupial', 'marsy', 'marta', 'martha', 'martial', 'martian', 'martiesian', 'martin', 'martinez', 'martyr', 'martyrdom', 'marvel', 'marvelous', 'marvin', 'mary', 'maryla', 'maryland', 'marypoppinsreturns', 'masako', 'mascot', 'mascots', 'maseratis', 'mash', 'mask', 'masked', 'masks', 'masochistic', 'mason', 'masquerading', 'mass', 'massachu', 'massachusetts', 'massacre', 'massacres', 'masses', 'massey', 'massive', 'mast', 'mastanamma', 'master', 'mastercard', 'mastered', 'masterful', 'masterpie', 'masterpiece', 'masters', 'masterwork', 'mastery', 'mat', 'matata', 'match', 'matched', 'matchup', 'matchups', 'mate', 'material', 'materialism', 'materials', 'maternal', 'maternity', 'math', 'mathematics', 'mathew', 'mathieu', 'matt', 'matte', 'matteo', 'matter', 'mattered', 'matters', 'matthew', 'matti', 'mattis', 'mattress', 'mature', 'mauls', 'maurice', 'mauthausen', 'maverick', 'mavericks', 'mavis', 'mavs', 'max', 'maximum', 'maxine', 'maya', 'maybe', 'mayer', 'mayhem', 'mayim', 'mayor', 'mayoral', 'mayors', 'maytals', 'mayweather', 'mazie', 'mazzy', 'mba', 'mbomo', 'mboweni', 'mbs', 'mcaleenan', 'mcallen', 'mcauliffe', 'mcbryde', 'mcca', 'mccabe', 'mccaffery', 'mccain', 'mccampbell', 'mccardell', 'mccarrick', 'mccarthy', 'mccartney', 'mccaskill', 'mcchesney', 'mcchrystal', 'mcconaughey', 'mcconnell', 'mccormack', 'mccovey', 'mcdaniel', 'mcdermid', 'mcdonald', 'mcenany', 'mcenroe', 'mcfarland', 'mcgee', 'mcgurk', 'mcgurn', 'mcilroy', 'mcintyre', 'mciver', 'mckelvey', 'mckinsey', 'mclachlan', 'mclaughlin', 'mclor', 'mcmaste', 'mcmaster', 'mcpherson', 'mcsally', 'mcvay', 'md', 'mdb', 'mdc', 'mea', 'meacham', 'meadows', 'meagre', 'meal', 'meals', 'mean', 'meandering', 'meaning', 'meaningful', 'means', 'meant', 'meantime', 'measles', 'measure', 'measured', 'measures', 'measuring', 'meat', 'meatballs', 'meatless', 'meatpacking', 'mebane', 'mechanical', 'mechanism', 'med', 'medal', 'medalist', 'medals', 'meddle', 'meddling', 'media', 'medic', 'medicaid', 'medical', 'medicare', 'medication', 'medicinal', 'medicine', 'medicines', 'medics', 'medieval', 'mediocre', 'mediocrity', 'meditating', 'meditation', 'mediterranean', 'medium', 'medley', 'meet', 'meeting', 'meetings', 'meets', 'mefo', 'meg', 'mega', 'megabus', 'megachurch', 'megacity', 'megamillions', 'megan', 'megaphone', 'megaproject', 'meghan', 'megyn', 'mehmet', 'mehmood', 'mel', 'melania', 'melbourne', 'meld', 'meli', 'melissa', 'mellencamp', 'melt', 'meltdowns', 'melting', 'melts', 'meltzer', 'melvin', 'mem', 'memb', 'member', 'members', 'membership', 'meme', 'memes', 'memo', 'memoir', 'memoirs', 'memorable', 'memorial', 'memories', 'memorize', 'memory', 'memos', 'memphis', 'men', 'menace', 'menacing', 'mend', 'mendacity', 'mending', 'mendous', 'mendoza', 'menendez', 'meng', 'menghua', 'meningococcal', 'mennonite', 'menopause', 'menora', 'mensa', 'mensch', 'menstruation', 'menswear', 'mental', 'mentality', 'mentally', 'menthol', 'mention', 'mentor', 'mentored', 'menu', 'menus', 'mercedes', 'merchandise', 'merchant', 'merchants', 'merciful', 'merciless', 'merck', 'mercury', 'mere', 'merely', 'merge', 'merger', 'mergers', 'meringues', 'merit', 'meritless', 'merkel', 'merriam', 'merrier', 'merrill', 'merritt', 'merry', 'merrychristmas', 'meryl', 'mes', 'mesha', 'mesmerising', 'mess', 'message', 'messages', 'messaging', 'messenger', 'messes', 'messi', 'messing', 'mester', 'mestre', 'met', 'metabolisms', 'metal', 'metals', 'metaphor', 'metele', 'meteo', 'meteor', 'meteorologist', 'meteorologists', 'meteors', 'meter', 'meth', 'methane', 'method', 'methods', 'meticulous', 'metlife', 'metoo', 'metro', 'metropolitan', 'metz', 'mevlut', 'mexi', 'mexic', 'mexicali', 'mexican', 'mexicans', 'mexico', 'meyer', 'meza', 'mi', 'mia', 'miami', 'mibinternational', 'mic', 'mice', 'mich', 'michael', 'michaels', 'michel', 'michelle', 'michigan', 'mick', 'microbes', 'microbiology', 'microled', 'micron', 'microphone', 'microsoft', 'mid', 'midcareer', 'middle', 'middlemen', 'mideast', 'midfielder', 'midge', 'midnight', 'midseason', 'midsize', 'midst', 'midt', 'midterm', 'midterms', 'midwest', 'midwife', 'mifep', 'miffed', 'mig', 'migr', 'migra', 'migrant', 'migrants', 'migration', 'miguel', 'mihalek', 'mika', 'mikaela', 'mike', 'mikhail', 'mil', 'milad', 'milano', 'mild', 'milder', 'mildew', 'mile', 'miles', 'milestone', 'milestones', 'miley', 'mili', 'milit', 'milita', 'militant', 'militants', 'militaries', 'military', 'militarylike', 'militia', 'militias', 'milk', 'milky', 'millane', 'millennia', 'millennial', 'millennials', 'miller', 'milley', 'milli', 'millio', 'million', 'millionaire', 'millions', 'milwaukee', 'mimi', 'mimic', 'min', 'minaj', 'mincemeat', 'mind', 'mindfulness', 'minds', 'mineo', 'miner', 'miners', 'mines', 'minhaj', 'mini', 'miniature', 'minimal', 'minimally', 'minimize', 'minimum', 'mining', 'minister', 'ministers', 'ministry', 'minneapolis', 'minnesota', 'minor', 'minorities', 'minority', 'minors', 'minos', 'minted', 'minus', 'minuscule', 'minute', 'minutes', 'mira', 'mirack', 'miracle', 'miracu', 'miraculous', 'miraculously', 'miranda', 'mired', 'miriam', 'mirror', 'mirrors', 'mis', 'miscarriage', 'miscarriages', 'misconception', 'misconduc', 'misconduct', 'misdeed', 'misdeeds', 'misdemeanor', 'misdiagnosed', 'miserables', 'miserably', 'misery', 'misfortune', 'misgivings', 'misguided', 'mishan', 'mishap', 'misjudge', 'misleading', 'misleadingly', 'misled', 'mismanaged', 'mismanagement', 'misogynist', 'misplaced', 'mispronounced', 'misr', 'misreading', 'misreporting', 'misrepresented', 'miss', 'missed', 'misses', 'missile', 'missiles', 'missing', 'mission', 'missionaries', 'missionary', 'missions', 'mississippi', 'missouri', 'misspe', 'misspelled', 'misspellings', 'misspent', 'missphilippines', 'misspoke', 'misstated', 'misstatements', 'misstates', 'missuniverse', 'missy', 'mistake', 'mistaken', 'mistakes', 'mistletoe', 'mistreated', 'mistreatment', 'mistrust', 'misty', 'misuse', 'misused', 'misuses', 'mit', 'mitch', 'mitchell', 'mitigate', 'mitigati', 'mitt', 'mix', 'mixed', 'mixes', 'mixing', 'mixture', 'mlb', 'mlc', 'mls', 'mma', 'mnuchin', 'mo', 'moat', 'mob', 'mobile', 'mobileye', 'mobility', 'mobilize', 'mobs', 'mobster', 'mocha', 'mock', 'mocked', 'mocking', 'mockingbird', 'mocks', 'model', 'modeled', 'modeling', 'modelo', 'models', 'modem', 'moderate', 'moderation', 'modern', 'modernit', 'modest', 'modestly', 'modi', 'modified', 'moeller', 'moffat', 'mogadishu', 'mogul', 'mohammed', 'mohandas', 'moix', 'moki', 'molasses', 'molested', 'mollie', 'molly', 'mom', 'moment', 'momentary', 'moments', 'momentum', 'momoa', 'moms', 'mon', 'monaco', 'monaghan', 'monahan', 'monarch', 'monarchs', 'monarchy', 'monastery', 'monday', 'mondaymotivation', 'mondelez', 'money', 'monge', 'mongol', 'mongolia', 'mongolian', 'monika', 'moniker', 'monitor', 'monitored', 'monitoring', 'monitors', 'monk', 'monkees', 'monkey', 'monks', 'monopolies', 'monopoly', 'monoxide', 'monroe', 'monsanto', 'monster', 'monsters', 'monstrous', 'mont', 'montana', 'monte', 'month', 'monthly', 'months', 'monti', 'montreal', 'monument', 'monuments', 'mood', 'moon', 'moonrise', 'moonshot', 'moonves', 'moooooooove', 'moore', 'moose', 'mopti', 'mor', 'moral', 'morale', 'morally', 'moran', 'morata', 'morath', 'moratorium', 'morgan', 'morning', 'moro', 'moroccan', 'morocco', 'morphine', 'morris', 'morrison', 'morrisons', 'mortal', 'mortality', 'mortgage', 'mosaic', 'mosco', 'moscow', 'mosque', 'mosques', 'mossberg', 'mosseri', 'mosul', 'mot', 'motel', 'mothe', 'mother', 'motherf', 'motherhood', 'mothering', 'mothers', 'motion', 'motivated', 'motivates', 'motivating', 'motivation', 'motive', 'motor', 'motorbike', 'motorcycle', 'motorist', 'motorists', 'motors', 'motown', 'mount', 'mountain', 'mountains', 'mountainside', 'mounted', 'mounting', 'mounts', 'mourinho', 'mourn', 'mourners', 'mourning', 'mourns', 'moussa', 'mouth', 'mouthing', 'mov', 'moved', 'movement', 'movements', 'moves', 'movie', 'movies', 'moving', 'mozambican', 'mozambique', 'mp', 'mph', 'mprraccoon', 'mps', 'mr', 'mri', 'mrs', 'ms', 'msc', 'msf', 'msha', 'msnbc', 'mta', 'mtv', 'mu', 'muay', 'muc', 'mudslide', 'mudslides', 'mueller', 'mufg', 'mug', 'mugabe', 'mughal', 'muhammad', 'mukhtar', 'mukwege', 'mulhouse', 'mullahs', 'mullally', 'mulling', 'mulls', 'mulroney', 'multi', 'multicooker', 'multicookers', 'multicultural', 'multimedia', 'multimillion', 'multimillionaire', 'multinational', 'multiple', 'multiplex', 'multiplier', 'multiply', 'multipronged', 'multiracial', 'multiverse', 'mulva', 'mulvan', 'mulvaney', 'mum', 'mumbai', 'mumia', 'mummies', 'mums', 'munchies', 'mundane', 'mungau', 'munich', 'municipal', 'munoz', 'muppet', 'mur', 'mural', 'murcia', 'murder', 'murdere', 'murdered', 'murderer', 'murdering', 'murders', 'murillo', 'murky', 'murphy', 'murphysboro', 'murray', 'murrel', 'musa', 'muscle', 'muscles', 'museu', 'museum', 'museums', 'mushroom', 'mushrooms', 'music', 'musical', 'musicals', 'musiccitybowl', 'musici', 'musician', 'musicians', 'musk', 'muslim', 'muslims', 'mustafa', 'muted', 'muth', 'mutterings', 'mutual', 'mvp', 'mvps', 'myanmar', 'myer', 'myers', 'myong', 'myriad', 'mys', 'mysteries', 'mysterious', 'mysteriously', 'mystery', 'mysticism', 'myth', 'mythbusters', 'myths', 'na', 'nabi', 'nabra', 'nabs', 'nadal', 'nadine', 'nadler', 'nafta', 'nagy', 'nail', 'nails', 'naiman', 'nairobi', 'naked', 'naloxone', 'nam', 'named', 'names', 'naming', 'nancy', 'nancypelosi', 'nanny', 'nantucket', 'napa', 'napalm', 'naples', 'napoli', 'nar', 'narendra', 'narnia', 'narrated', 'narrates', 'narrative', 'narrow', 'narrowest', 'narrowing', 'narrowly', 'nasa', 'nasdaq', 'nashville', 'nasiri', 'nassar', 'nassau', 'nasty', 'nat', 'natapoff', 'nath', 'nathan', 'nati', 'natio', 'nation', 'nationa', 'national', 'nationalbuffetday', 'nationalchampionship', 'nationalism', 'nationalist', 'nationalistic', 'nationalists', 'nationality', 'nationally', 'nationalmaplesyrupday', 'nationals', 'nations', 'nationwide', 'native', 'natives', 'nativity', 'nato', 'nats', 'natural', 'naturalized', 'nature', 'naturel', 'nau', 'nauert', 'nautch', 'naval', 'navarro', 'navigate', 'navigates', 'navigating', 'navigation', 'navjot', 'navy', 'nawaz', 'nazarene', 'nazi', 'nazis', 'nba', 'nbc', 'nc', 'ncaa', 'nchez', 'ncis', 'nd', 'ndchen', 'ndez', 'ndrangheta', 'ne', 'nea', 'neal', 'near', 'nearby', 'nearest', 'nearing', 'nearly', 'nears', 'neatly', 'nebraska', 'nebula', 'necessar', 'necessarily', 'necessary', 'neck', 'necklace', 'necklaces', 'necrophilia', 'nee', 'need', 'needed', 'neediest', 'needing', 'needle', 'needles', 'needless', 'needn', 'needs', 'negative', 'negatively', 'neglect', 'negligent', 'negotiable', 'negotiat', 'negotiated', 'negotiates', 'negotiating', 'negotiation', 'negotiations', 'negotiator', 'negotiators', 'negresco', 'neighbo', 'neighbor', 'neighborhood', 'neighborhoods', 'neighbors', 'neighbour', 'neighbourhood', 'neighbours', 'neil', 'neill', 'neit', 'nel', 'nellie', 'nellis', 'nelson', 'nemesis', 'nenney', 'neo', 'neon', 'neos', 'nepal', 'nepalese', 'nephew', 'nerd', 'nerds', 'nerve', 'nervous', 'nestl', 'nests', 'net', 'netanyahu', 'netf', 'netflix', 'netherlands', 'neti', 'nets', 'netwo', 'network', 'networks', 'neudorf', 'neumann', 'neural', 'neurons', 'neutral', 'neutralised', 'neutralize', 'neutralizing', 'nevada', 'neve', 'new', 'newborn', 'newborns', 'newcomer', 'newcomers', 'newest', 'newly', 'newlywed', 'newlyweds', 'newman', 'newmar', 'newport', 'news', 'newsless', 'newsletter', 'newsom', 'newspap', 'newspaper', 'newspapers', 'newt', 'newton', 'newyears', 'newyearseve', 'newyearsresolutions', 'newyorkcity', 'nex', 'nfc', 'nfl', 'nflpa', 'nga', 'ngo', 'ngoc', 'ngos', 'nguyen', 'nhk', 'nhl', 'nhu', 'ni', 'nibble', 'nic', 'nicaragua', 'nicaraguan', 'nicaraguans', 'nice', 'niche', 'nichola', 'nicholas', 'nick', 'nickel', 'nicki', 'nickname', 'nicknamed', 'nicks', 'nico', 'nicol', 'nicolas', 'nicole', 'nicotine', 'nicu', 'niece', 'nielse', 'nielsen', 'nig', 'niger', 'nigeria', 'nigerian', 'night', 'nightclub', 'nightie', 'nightlife', 'nightmare', 'nights', 'nightshades', 'nighttime', 'nih', 'nihilism', 'nike', 'nikkei', 'nikki', 'nikol', 'nikola', 'nikpour', 'nilotpal', 'nimble', 'nina', 'nineteen', 'ninety', 'ninja', 'nintendo', 'ninth', 'nippon', 'niro', 'nishikori', 'nissan', 'nixon', 'nj', 'nm', 'noah', 'noakes', 'nobel', 'nobility', 'noble', 'noc', 'nod', 'nods', 'nodul', 'nodules', 'noelle', 'noera', 'noir', 'noise', 'noises', 'nokia', 'nolan', 'nomad', 'nomadic', 'nominate', 'nominated', 'nominates', 'nomination', 'nominations', 'nominee', 'nominees', 'non', 'nonagenarian', 'nonalcoholic', 'noncriminal', 'nonexistent', 'nonfiction', 'nonprofit', 'nonprofits', 'nonsense', 'nonsensical', 'nonstate', 'nooses', 'nope', 'norad', 'nord', 'nordic', 'nordstrom', 'norm', 'norma', 'normal', 'normality', 'normally', 'norman', 'norquist', 'north', 'northam', 'northeast', 'northeastern', 'northern', 'northwestern', 'norway', 'norwegian', 'nosed', 'nosedives', 'noses', 'nosey', 'nosrat', 'nostalgia', 'nostalgic', 'notab', 'notable', 'notably', 'notched', 'notches', 'note', 'notebook', 'notes', 'nothin', 'notice', 'noticed', 'notifies', 'notify', 'notifying', 'notion', 'notorious', 'notoriously', 'notre', 'noun', 'nouryon', 'nov', 'novak', 'novel', 'novelist', 'novels', 'november', 'npd', 'npr', 'nra', 'ns', 'ntilikina', 'nu', 'nuclear', 'nucor', 'nude', 'nudged', 'nudges', 'nugget', 'nuggets', 'nugroho', 'nukes', 'num', 'number', 'numbers', 'numerous', 'nun', 'nunchucks', 'nunes', 'nuns', 'nuri', 'nurse', 'nurseries', 'nurses', 'nursing', 'nuruddin', 'nut', 'nutel', 'nutmeg', 'nutrients', 'nutrition', 'nutritional', 'nutso', 'nutter', 'nutty', 'nvidia', 'nxp', 'ny', 'nyc', 'nye', 'nyong', 'nypd', 'nyse', 'nyt', 'nz', 'oak', 'oakland', 'oaks', 'oasis', 'oates', 'oath', 'oaxaca', 'ob', 'obama', 'obamacare', 'obamas', 'obeidallah', 'oberstdorf', 'obese', 'obesity', 'obeying', 'obiang', 'obioma', 'obituary', 'obj', 'obje', 'objec', 'object', 'objecte', 'objectify', 'objections', 'objectives', 'objectors', 'objects', 'obligation', 'obrador', 'observ', 'observatory', 'observers', 'obsessed', 'obsessing', 'obsession', 'obsolete', 'obstacle', 'obstacles', 'obstructing', 'obstruction', 'obta', 'obtain', 'obtained', 'obtaining', 'obvious', 'obviously', 'oc', 'ocasio', 'occ', 'occasional', 'occasions', 'occupant', 'occupied', 'occur', 'occurred', 'occurring', 'ocean', 'oceanic', 'oceans', 'oct', 'octo', 'october', 'octogenarian', 'octopus', 'octopuses', 'octuplets', 'odd', 'oddball', 'odds', 'ode', 'odebrecht', 'odis', 'odoi', 'odyssey', 'ofcom', 'offen', 'offend', 'offender', 'offenders', 'offens', 'offenses', 'offensive', 'offer', 'offered', 'offerin', 'offering', 'offerings', 'offers', 'offi', 'offic', 'office', 'officer', 'officers', 'offices', 'offici', 'officia', 'official', 'officially', 'officials', 'officiant', 'officiate', 'officiated', 'officiating', 'offline', 'offloads', 'offseason', 'offset', 'offshoots', 'offshore', 'offspring', 'ofo', 'ofte', 'oh', 'ohio', 'oil', 'ok', 'okada', 'okay', 'okays', 'okcupid', 'okerlund', 'okinawa', 'oklahoma', 'oks', 'oktoberfest', 'ol', 'oladipo', 'old', 'oldenburg', 'older', 'oldest', 'oldham', 'oldsters', 'oled', 'oleg', 'oligarch', 'olivia', 'olympic', 'olympics', 'olympus', 'om', 'omar', 'omarosa', 'omdurman', 'omen', 'ominous', 'omitted', 'oncology', 'ondo', 'onerous', 'ones', 'oneself', 'ongoing', 'onl', 'onlin', 'online', 'onscreen', 'onshore', 'onslaught', 'onstage', 'ontario', 'oo', 'oops', 'op', 'opal', 'ope', 'opec', 'open', 'opened', 'opener', 'openi', 'opening', 'openings', 'openly', 'openness', 'opens', 'oper', 'opera', 'operat', 'operated', 'operates', 'operatic', 'operating', 'operation', 'operations', 'operatives', 'operator', 'operators', 'opinion', 'opinions', 'opioid', 'opioids', 'opm', 'opp', 'opponent', 'opponents', 'oppor', 'opportunistic', 'opportunists', 'opportunities', 'opportunity', 'oppose', 'opposed', 'opposes', 'opposi', 'opposing', 'opposite', 'oppositio', 'opposition', 'oppression', 'oprah', 'opt', 'optical', 'optim', 'optimism', 'optimistic', 'opting', 'option', 'options', 'opus', 'oracle', 'oral', 'orange', 'orangutan', 'orban', 'orbi', 'orbit', 'orchard', 'orchestra', 'ord', 'ordeal', 'order', 'ordere', 'ordered', 'ordering', 'orders', 'ordin', 'ordinance', 'ordinances', 'ordinarily', 'ordinary', 'ore', 'oregon', 'oreo', 'oreos', 'org', 'organ', 'organic', 'organizati', 'organization', 'organizations', 'organized', 'organizer', 'organizers', 'organizes', 'organizing', 'organs', 'ori', 'oriented', 'origin', 'original', 'originally', 'origins', 'orlandi', 'orlando', 'orleans', 'ornaments', 'orphanage', 'orphaned', 'orrin', 'ortagus', 'orthodox', 'ortiz', 'orville', 'osato', 'osborne', 'oscar', 'oscars', 'osceola', 'oshawa', 'osmond', 'ostentatious', 'ot', 'otc', 'otd', 'oth', 'othe', 'otherworldly', 'ots', 'ott', 'ottavino', 'ottawa', 'otter', 'otto', 'ounces', 'oust', 'ousted', 'ouster', 'ousts', 'outage', 'outback', 'outbreak', 'outburst', 'outcast', 'outcome', 'outcomes', 'outcry', 'outdo', 'outdoor', 'outdoors', 'outer', 'outflows', 'outgoin', 'outgoing', 'outlander', 'outle', 'outlet', 'outlets', 'outlined', 'outlook', 'outnumber', 'outnumbere', 'outnumbered', 'outnumberedot', 'outnumbering', 'outpace', 'outperformed', 'outperforms', 'output', 'outputs', 'outr', 'outrage', 'outraged', 'outrageo', 'outreach', 'outs', 'outset', 'outside', 'outsiders', 'outsize', 'outsized', 'outsource', 'outspoken', 'outstanding', 'outward', 'ouvry', 'ov', 'oval', 'ovation', 'ove', 'ovejero', 'oven', 'overall', 'overboard', 'overbooking', 'overcome', 'overcomes', 'overcrowded', 'overdone', 'overdose', 'overdosed', 'overdoses', 'overdrive', 'overdue', 'overeating', 'overestimate', 'overflowing', 'overhaul', 'overhauling', 'overhauls', 'overhead', 'overheard', 'overjoy', 'overland', 'overlook', 'overlooked', 'overlooks', 'overnight', 'overplay', 'overpower', 'overreach', 'overreaction', 'overreliance', 'overrides', 'overriding', 'overrun', 'overs', 'oversaw', 'overseas', 'oversee', 'overseeing', 'overseen', 'overseers', 'oversees', 'overshadowed', 'overshadows', 'oversight', 'overspending', 'overstatement', 'overstates', 'overstayed', 'overstays', 'overstuffed', 'overtaken', 'overtime', 'overton', 'overturn', 'overturned', 'overvalued', 'overw', 'overweight', 'overwhelmed', 'overwhelming', 'overwhelmingly', 'overworked', 'owe', 'owen', 'owens', 'owned', 'owner', 'owners', 'ownership', 'owning', 'owns', 'owusu', 'oxygen', 'oyster', 'oysters', 'oz', 'pa', 'pabuk', 'pac', 'pace', 'pacers', 'pacific', 'pack', 'packa', 'packag', 'package', 'packages', 'packaging', 'packed', 'packers', 'packet', 'packing', 'packs', 'pact', 'pacts', 'pad', 'paddington', 'paddy', 'padilla', 'padukone', 'paean', 'page', 'pageant', 'pager', 'pages', 'paglen', 'pagos', 'paid', 'pain', 'paine', 'pained', 'painful', 'paining', 'painkiller', 'pains', 'painstakingly', 'paint', 'painted', 'painting', 'paintings', 'paints', 'pair', 'paired', 'pairs', 'pakis', 'pakistan', 'pakistani', 'pal', 'palace', 'paleo', 'paleontologists', 'palestine', 'palestinian', 'palestinians', 'palij', 'palin', 'pall', 'palm', 'palmer', 'palmyra', 'paloma', 'paltrow', 'palu', 'pam', 'pamela', 'pampered', 'pamphlets', 'pan', 'panacea', 'panama', 'panamera', 'pancake', 'panda', 'pandemic', 'panel', 'panels', 'panetta', 'panhandle', 'panhandling', 'panic', 'panicked', 'pankhurst', 'panning', 'pant', 'panther', 'panthers', 'pantone', 'pantry', 'pants', 'pantyhose', 'panu', 'paolello', 'papadopoulos', 'papal', 'pape', 'papenheim', 'paper', 'papers', 'papua', 'par', 'para', 'paracel', 'parachute', 'parachutes', 'parachutist', 'parade', 'paradise', 'paradox', 'paradoxical', 'paradoxically', 'paraglider', 'paraguas', 'paraguay', 'parallel', 'parallels', 'paralysis', 'paralyze', 'paralyzed', 'paralyzing', 'paraplegic', 'parasitic', 'parcels', 'pardon', 'pardoned', 'pardoning', 'pardons', 'pare', 'parent', 'parenthood', 'parenting', 'parentless', 'parents', 'parex', 'parham', 'paris', 'parish', 'parishes', 'park', 'parked', 'parker', 'parkes', 'parkey', 'parking', 'parkland', 'parkour', 'parks', 'parkway', 'parlay', 'parlayed', 'parliament', 'parliamentary', 'parlor', 'parody', 'parole', 'parsed', 'parted', 'parterre', 'parti', 'partia', 'partial', 'partially', 'particip', 'participa', 'participants', 'participate', 'participated', 'participating', 'participation', 'particle', 'particular', 'particularly', 'parties', 'parting', 'partisan', 'partisans', 'partisanship', 'partly', 'partner', 'partnering', 'partners', 'partnership', 'parton', 'partridge', 'parts', 'party', 'pasadena', 'pashinyan', 'paso', 'pass', 'passage', 'passages', 'passed', 'passenger', 'passengers', 'passes', 'passing', 'passion', 'passionate', 'passionately', 'passport', 'passports', 'password', 'passwords', 'past', 'pasta', 'paste', 'pastel', 'pasting', 'pastor', 'pastoral', 'pastors', 'pastur', 'pasture', 'pat', 'patch', 'patchy', 'patel', 'patent', 'patents', 'path', 'pathetic', 'pathogens', 'pathologist', 'paths', 'pathway', 'pati', 'patience', 'patient', 'patiently', 'patients', 'patr', 'patreon', 'patriarch', 'patriarchate', 'patric', 'patrice', 'patricia', 'patricio', 'patrick', 'patriot', 'patriotic', 'patriotism', 'patriots', 'patrol', 'patrols', 'patron', 'pattern', 'patterned', 'patterns', 'patterson', 'patti', 'paul', 'paula', 'paulo', 'paulson', 'pause', 'pauses', 'pave', 'paved', 'pavilion', 'paw', 'pawel', 'pawn', 'pawns', 'pay', 'paycheck', 'paychecks', 'payday', 'paying', 'payless', 'payment', 'payments', 'payne', 'payoff', 'payoffs', 'payout', 'payouts', 'paypal', 'payroll', 'payrolls', 'pays', 'payton', 'pbs', 'pct', 'pd', 'pdvsa', 'pe', 'pea', 'peabody', 'peace', 'peaceful', 'peacefully', 'peacekeeping', 'peacocks', 'peadar', 'peak', 'peaked', 'peaks', 'peanut', 'peanuts', 'pearce', 'pearl', 'pearls', 'pearson', 'peas', 'pecan', 'peck', 'pecking', 'pedal', 'pedestrianise', 'pedestrians', 'pediatric', 'pedigree', 'pedro', 'peduto', 'peeks', 'peel', 'peele', 'peers', 'peetz', 'pegged', 'peggy', 'peking', 'pelicans', 'pellet', 'pellets', 'pelosi', 'pen', 'penalized', 'penalizes', 'penalties', 'penalty', 'pence', 'penchant', 'pending', 'penguin', 'penguins', 'peninsula', 'penis', 'penn', 'penned', 'penney', 'pennstate', 'pennsylvania', 'penny', 'pennybags', 'penpix', 'pensa', 'pension', 'pensioner', 'pensions', 'penta', 'pentagon', 'penthouse', 'peop', 'people', 'peppermint', 'peppers', 'pepsico', 'perc', 'perce', 'perceive', 'percent', 'percentage', 'perception', 'percussionist', 'perera', 'peretti', 'perf', 'perfect', 'perfectly', 'perfluorohexanesulfonic', 'perform', 'performance', 'performances', 'performed', 'performer', 'performers', 'performing', 'peri', 'peril', 'perilous', 'perils', 'period', 'periodically', 'periods', 'perished', 'perjury', 'perkins', 'perks', 'perma', 'permaculture', 'permanent', 'permian', 'permission', 'permit', 'permits', 'permitted', 'permitting', 'pernicious', 'perp', 'perpetrators', 'perpetual', 'perpetuate', 'perplexed', 'perplexes', 'perplexing', 'persecution', 'persevered', 'persian', 'persimmon', 'persimmons', 'persist', 'persisted', 'persists', 'perso', 'person', 'persona', 'personal', 'personalities', 'personality', 'personally', 'personhood', 'personnel', 'persons', 'perspectiv', 'perspective', 'perspectives', 'persuade', 'persuasion', 'persuasions', 'pertaining', 'pertamina', 'peru', 'peruse', 'peruvian', 'pervades', 'pervasive', 'peshawar', 'pesky', 'peso', 'pessimism', 'pessimist', 'pessimistic', 'pest', 'pestering', 'pests', 'pet', 'pete', 'petedavidson', 'peter', 'peters', 'peterson', 'petition', 'petitions', 'petra', 'petri', 'petrified', 'petro', 'petrobras', 'petroleum', 'petronas', 'pets', 'pew', 'pewdiepie', 'pez', 'pfas', 'pfhxs', 'pfizer', 'pfohl', 'pg', 'phallic', 'pharmaceutical', 'pharoahs', 'phenomenal', 'phenomenon', 'pheonix', 'phil', 'phila', 'philad', 'philadelphia', 'philanthropi', 'philanthropist', 'philip', 'philippe', 'philippi', 'philippine', 'philippines', 'philipps', 'phillips', 'philly', 'philosophers', 'pho', 'phoebe', 'phoen', 'phoenix', 'phone', 'phonecall', 'phones', 'phoning', 'phony', 'photo', 'photograph', 'photographed', 'photographer', 'photographers', 'photographing', 'photographs', 'photography', 'photojournalist', 'photojournalists', 'photos', 'photoshop', 'phrase', 'phrases', 'phu', 'phys', 'physical', 'physically', 'physicians', 'physics', 'pi', 'pianist', 'piano', 'pic', 'picasso', 'pichai', 'pick', 'picked', 'pickers', 'picking', 'pickle', 'pickled', 'picks', 'pickup', 'pics', 'picture', 'pictures', 'picturesque', 'pie', 'piece', 'pieces', 'pierce', 'pies', 'pig', 'pigment', 'pigments', 'pigs', 'pile', 'piles', 'pileup', 'pilgrims', 'piling', 'pill', 'pillbox', 'pillow', 'pills', 'pilot', 'piloting', 'pilots', 'pimco', 'pimentel', 'pinch', 'pine', 'pink', 'pinnacle', 'pinners', 'pinochet', 'pinos', 'pinterest', 'pioneer', 'pioneering', 'piotrowski', 'pipe', 'pipedream', 'pipeline', 'pipers', 'pipher', 'piracy', 'piramal', 'pirates', 'pisa', 'pistol', 'pistols', 'pit', 'pitch', 'pitcher', 'pitching', 'pitfalls', 'pits', 'pitt', 'pitts', 'pittsbu', 'pittsburgh', 'pivot', 'pivotal', 'pivoted', 'pixar', 'pixel', 'pizza', 'pizzeria', 'pl', 'pla', 'place', 'placed', 'placeholder', 'placekicking', 'placement', 'places', 'placin', 'plagiarism', 'plagued', 'plagues', 'plaid', 'plain', 'plaintiffs', 'plan', 'plane', 'planes', 'planet', 'planetary', 'planets', 'plann', 'planned', 'planner', 'planners', 'plannin', 'planning', 'plans', 'plant', 'plantation', 'planted', 'plants', 'plaque', 'plas', 'plasti', 'plastic', 'plate', 'platfo', 'platform', 'platforms', 'plath', 'platinum', 'platnumz', 'platoon', 'play', 'playbook', 'playbooks', 'playe', 'played', 'player', 'players', 'playing', 'playli', 'playlis', 'playlist', 'playlists', 'playo', 'playoff', 'playoffs', 'plays', 'plaza', 'plea', 'plead', 'pleade', 'pleaded', 'pleading', 'pleads', 'pleas', 'pleased', 'pleaser', 'pleasing', 'pleasure', 'pledge', 'pledged', 'pledges', 'pledging', 'plenty', 'plessis', 'plight', 'pliskova', 'plo', 'plot', 'plots', 'plotting', 'ploughed', 'ploughs', 'plowed', 'plug', 'plugged', 'plum', 'plume', 'plumes', 'plummet', 'plummeted', 'plundered', 'plunge', 'plunged', 'plunges', 'plunging', 'plus', 'pluto', 'plymouth', 'pm', 'pmi', 'pmis', 'png', 'po', 'poac', 'poacher', 'poachers', 'poaching', 'poblano', 'pochettino', 'pocket', 'pocketbook', 'pocketbooks', 'pockets', 'pod', 'podcast', 'podcasts', 'podium', 'pods', 'poet', 'poetic', 'poetry', 'poi', 'point', 'pointed', 'pointer', 'pointers', 'pointing', 'pointless', 'points', 'poised', 'poison', 'poisoned', 'poisoning', 'poisonings', 'poisonous', 'poked', 'poker', 'pokes', 'pol', 'poland', 'polar', 'polarization', 'polarize', 'polarizing', 'polarland', 'pole', 'polemic', 'poles', 'poli', 'polic', 'police', 'policed', 'policeman', 'polici', 'policies', 'policy', 'policymakers', 'polio', 'poliquin', 'polis', 'polish', 'politic', 'politica', 'political', 'politically', 'politician', 'politicians', 'politicization', 'politicize', 'politicizes', 'politico', 'politics', 'poll', 'polling', 'pollino', 'polls', 'pollster', 'polluted', 'pollution', 'polynesian', 'pompeii', 'pompeo', 'poncho', 'pond', 'pondering', 'ponders', 'ponies', 'pontificating', 'poo', 'pooey', 'pool', 'pools', 'poop', 'poor', 'poorest', 'poorly', 'pop', 'pope', 'popkov', 'popped', 'popping', 'poppins', 'pops', 'popular', 'popularity', 'popularly', 'populated', 'population', 'populations', 'populism', 'populist', 'populists', 'por', 'porch', 'porcupine', 'pork', 'porn', 'pornography', 'poroshenko', 'porpoise', 'porsche', 'port', 'portable', 'portal', 'portend', 'porter', 'portfoli', 'portfolio', 'portico', 'portion', 'portions', 'portland', 'portlandification', 'portrait', 'portraits', 'portray', 'portrayals', 'portrayed', 'portraying', 'portrays', 'ports', 'portugal', 'portuguese', 'pos', 'pose', 'posed', 'poses', 'posi', 'posing', 'position', 'positioning', 'positions', 'positive', 'positively', 'positivity', 'poss', 'posse', 'possess', 'possession', 'possib', 'possibility', 'possibl', 'possible', 'possibly', 'possums', 'post', 'postal', 'postcard', 'postcrisis', 'posted', 'poster', 'posters', 'posting', 'postpartum', 'postpone', 'postponed', 'postpones', 'posts', 'postseason', 'posture', 'pot', 'potato', 'potatoes', 'potency', 'potent', 'potentia', 'potential', 'potentiall', 'potentially', 'potholes', 'potomac', 'pots', 'potter', 'potts', 'pound', 'pounds', 'pour', 'poured', 'pouring', 'poverty', 'powder', 'powe', 'powel', 'powell', 'power', 'powerball', 'powered', 'powerful', 'powerhouses', 'powerless', 'powerlifting', 'powerpoint', 'powers', 'powwow', 'pr', 'practical', 'practicall', 'practically', 'practice', 'practiced', 'practices', 'practicing', 'practitioner', 'prager', 'prague', 'prairies', 'praise', 'praised', 'praises', 'prank', 'pranks', 'pratt', 'pray', 'prayed', 'prayer', 'prayers', 'praying', 'pre', 'preacher', 'preachers', 'precarious', 'precautions', 'precedent', 'precinct', 'precious', 'precipitous', 'predates', 'predator', 'predators', 'predatory', 'predecessor', 'predecessors', 'predict', 'predictable', 'predictably', 'predicted', 'predicting', 'prediction', 'predictions', 'predicts', 'pref', 'prefer', 'preference', 'prefers', 'pregame', 'pregnancies', 'pregnancy', 'pregnant', 'preity', 'prejudice', 'preliminary', 'prelude', 'prematurely', 'premeditated', 'premier', 'premiere', 'premiered', 'premises', 'premium', 'preoccupation', 'prep', 'preparations', 'prepare', 'prepared', 'prepares', 'preparing', 'prepping', 'prequel', 'preregistration', 'pres', 'prescott', 'prescribe', 'prescribed', 'prescription', 'prescriptions', 'prese', 'presena', 'presence', 'present', 'presentati', 'presentation', 'presented', 'presenting', 'presents', 'preserved', 'preserving', 'presid', 'preside', 'presiden', 'presidency', 'president', 'presidential', 'presidents', 'presides', 'presiding', 'presle', 'presley', 'press', 'pressed', 'presses', 'pressing', 'pressure', 'pressured', 'pressures', 'pressuring', 'prestigious', 'presumed', 'presumptions', 'pretended', 'pretending', 'pretends', 'pretty', 'prev', 'prevailing', 'prevails', 'prevent', 'prevented', 'preventing', 'prevention', 'preview', 'previews', 'previou', 'previous', 'previously', 'prey', 'pri', 'price', 'priced', 'priceless', 'priceline', 'prices', 'pricey', 'pricing', 'pride', 'priest', 'priests', 'primarily', 'primary', 'prime', 'prince', 'princes', 'princess', 'princeton', 'principal', 'principle', 'principles', 'prine', 'print', 'printed', 'printing', 'prio', 'prior', 'priority', 'prison', 'prisoner', 'prisoners', 'prisons', 'pristine', 'pritzker', 'priv', 'privacy', 'private', 'privately', 'privi', 'privilege', 'priyanka', 'priz', 'prize', 'prizes', 'pro', 'prob', 'probability', 'probably', 'probe', 'probed', 'probes', 'probing', 'problem', 'problematic', 'problems', 'procedure', 'procedures', 'proceed', 'proceeded', 'process', 'processed', 'processes', 'processing', 'procession', 'processor', 'procrastination', 'procrastinators', 'prod', 'prodigy', 'produ', 'produc', 'produce', 'produced', 'producer', 'producers', 'producing', 'product', 'production', 'productions', 'productive', 'products', 'prof', 'profane', 'profanity', 'professio', 'professional', 'professionalism', 'professionally', 'professionals', 'professions', 'professor', 'professors', 'profile', 'profiled', 'profiles', 'profiling', 'profit', 'profitability', 'profitable', 'profited', 'profits', 'profound', 'prognosticators', 'program', 'programmer', 'programming', 'programs', 'progress', 'progressed', 'progressive', 'progressives', 'prohibi', 'prohibit', 'prohibited', 'proj', 'proje', 'project', 'projected', 'projecting', 'projection', 'projections', 'projectors', 'projects', 'prokopchuk', 'proliferation', 'prolific', 'prolonged', 'prolonging', 'prom', 'promedica', 'prominence', 'prominent', 'promise', 'promised', 'promises', 'promising', 'promote', 'promoted', 'promoters', 'promotes', 'promoting', 'promotion', 'prompt', 'prompted', 'prompting', 'prompts', 'pronounced', 'pronouncements', 'proof', 'propaganda', 'propel', 'proper', 'properly', 'propert', 'properties', 'property', 'prophecy', 'proponents', 'proportion', 'proposal', 'proposals', 'propose', 'proposed', 'proposes', 'proposing', 'proposition', 'propublica', 'pros', 'prosecu', 'prosecute', 'prosecuting', 'prosecution', 'prosecutions', 'prosecuto', 'prosecutor', 'prosecutors', 'prospect', 'prospective', 'prospects', 'prosperity', 'prosperous', 'prostitution', 'prot', 'protect', 'protected', 'protecting', 'protection', 'protections', 'protective', 'protector', 'protects', 'protein', 'proteins', 'protes', 'protest', 'protested', 'protester', 'protesters', 'protesting', 'protestors', 'protests', 'protocols', 'prototype', 'prototypes', 'protracted', 'proud', 'proudly', 'prov', 'provable', 'prove', 'proved', 'proven', 'proverbial', 'proves', 'provid', 'provide', 'provided', 'providence', 'provider', 'providers', 'provides', 'providing', 'province', 'proving', 'provisional', 'provocation', 'provoke', 'provoked', 'provokes', 'pruitt', 'pseu', 'pseudonym', 'psych', 'psyched', 'psychedelics', 'psychiatric', 'psychological', 'psychologist', 'psychology', 'psychosis', 'pterosaurs', 'ptolemaic', 'ptsd', 'pu', 'pub', 'publi', 'public', 'publication', 'publications', 'publicist', 'publicity', 'publicized', 'publicly', 'published', 'publisher', 'publishing', 'puebla', 'puerto', 'puffer', 'puffins', 'puffy', 'pug', 'pugilism', 'pujara', 'pulisic', 'pull', 'pullback', 'pulled', 'pullers', 'pulling', 'pullout', 'pulls', 'pulsating', 'pulse', 'pummeli', 'pump', 'pumped', 'pumpi', 'pumping', 'pumpkins', 'punch', 'punchbowl', 'punches', 'punching', 'punctual', 'puncture', 'punctured', 'punctures', 'punish', 'punished', 'punishes', 'punishing', 'punishment', 'punjab', 'punk', 'punnet', 'punt', 'pupils', 'puppet', 'puppeteer', 'puppets', 'puppies', 'puppy', 'pups', 'puptern', 'purchase', 'purchased', 'purchases', 'purchasing', 'purdue', 'pure', 'purely', 'purgatory', 'purge', 'purity', 'purpose', 'purposeful', 'purposes', 'purse', 'purses', 'pursue', 'pursues', 'pursuing', 'pursuit', 'pursuits', 'purwo', 'push', 'pushe', 'pushed', 'pushes', 'pushing', 'putin', 'puts', 'putting', 'puzzle', 'puzzling', 'pvh', 'pwc', 'pygmies', 'pygmy', 'pyongyang', 'pyramid', 'pyramids', 'pyrenees', 'python', 'qaeda', 'qahtani', 'qaida', 'qanta', 'qantas', 'qatar', 'qatari', 'qb', 'qbs', 'qiangdong', 'quadrantids', 'quadriplegic', 'quads', 'quake', 'qual', 'qualcomm', 'qualification', 'qualifications', 'qualifies', 'qualify', 'qualifying', 'quality', 'quantifiable', 'quantum', 'quanzhang', 'quar', 'quarter', 'quarterback', 'quarterbacks', 'quarters', 'quebec', 'queen', 'queens', 'queensland', 'queer', 'quell', 'quennedey', 'queries', 'quest', 'question', 'questionable', 'questioned', 'questioning', 'questionnaire', 'questions', 'queue', 'quic', 'quick', 'quickens', 'quicker', 'quickly', 'quickness', 'quiet', 'quieter', 'quietly', 'quimby', 'quintana', 'quintin', 'quirkiest', 'quirks', 'quirky', 'quit', 'quite', 'quits', 'quitt', 'quitting', 'quiz', 'qunun', 'quo', 'quotas', 'quote', 'quotes', 'quoting', 'quran', 'qutb', 'quynh', 'ra', 'rabbi', 'rabbit', 'rabbits', 'rac', 'raccoon', 'race', 'racecourses', 'racer', 'races', 'racetrack', 'racewalking', 'rachael', 'rachel', 'racia', 'racial', 'racially', 'racing', 'racism', 'racist', 'rack', 'radar', 'radic', 'radical', 'radicali', 'radicalization', 'radically', 'radil', 'radio', 'radiohead', 'radner', 'rafael', 'rafale', 'rafters', 'rage', 'rages', 'ragetweet', 'raging', 'rahaf', 'rahim', 'rahm', 'rai', 'raid', 'raidernation', 'raiders', 'raiding', 'raids', 'rail', 'railed', 'railguns', 'railroad', 'railroads', 'railway', 'rain', 'rainbow', 'rainforest', 'rainforests', 'raining', 'rains', 'rainstorm', 'rais', 'raise', 'raised', 'raises', 'raising', 'rajapaksa', 'rajoelina', 'rakes', 'rakhine', 'raking', 'raleigh', 'rall', 'rallied', 'rallies', 'rally', 'rallying', 'ralph', 'ram', 'ramaphosa', 'ramazani', 'rambling', 'rambo', 'rami', 'ramm', 'rammed', 'ramp', 'rampage', 'ramping', 'ramps', 'rams', 'ramsey', 'ran', 'ranch', 'rancher', 'rancor', 'rand', 'random', 'rang', 'range', 'ranged', 'ranger', 'rangers', 'ranges', 'rania', 'ranieri', 'ranil', 'ranked', 'ranking', 'rankings', 'ranks', 'ransacked', 'ransom', 'ransomware', 'rant', 'rants', 'ranveer', 'rap', 'rapaport', 'rape', 'raped', 'rapey', 'rapid', 'rapidly', 'raping', 'rapists', 'rapped', 'rapper', 'rappers', 'rappler', 'raptors', 'raqqa', 'rare', 'rarely', 'rarest', 'raseef', 'rash', 'rashida', 'rashness', 'rasmussen', 'rat', 'ratchet', 'ratcheting', 'rate', 'rated', 'ratelband', 'rates', 'rati', 'ratified', 'rating', 'ratings', 'ratio', 'rationing', 'ratios', 'rats', 'rattan', 'rattled', 'rattles', 'rattlesnake', 'rattling', 'rauschenberg', 'ravaged', 'ravages', 'rave', 'raven', 'ravens', 'ravindra', 'raw', 'ray', 'raymond', 'rays', 'raza', 'rbg', 'rbgmovie', 'rbi', 'rd', 'rea', 'reac', 'reach', 'reached', 'reaches', 'reaching', 'react', 'reacti', 'reacting', 'reaction', 'reactions', 'reacto', 'reacts', 'read', 'reader', 'readers', 'readies', 'reading', 'reads', 'ready', 'readying', 'reagan', 'real', 'realign', 'realistic', 'realistically', 'realities', 'reality', 'realize', 'realized', 'realizes', 'realizing', 'reall', 'really', 'realm', 'reams', 'rear', 'rearrange', 'reas', 'reason', 'reasonable', 'reasoning', 'reasons', 'reassert', 'reassessing', 'reassurance', 'reassure', 'reassures', 'reassuring', 'rebalance', 'rebates', 'rebel', 'rebelled', 'rebelling', 'rebellion', 'rebels', 'reboot', 'rebound', 'rebounded', 'rebounding', 'rebounds', 'rebuffing', 'rebuild', 'rebuildi', 'rebuilding', 'rebuilds', 'rebuke', 'rebuked', 'rebukes', 'rebuttal', 'rec', 'recall', 'recalled', 'recalling', 'recalls', 'recap', 'recapture', 'recasts', 'rece', 'receding', 'recei', 'receipts', 'receiv', 'receive', 'received', 'receiver', 'receives', 'receiving', 'recent', 'recently', 'recep', 'reception', 'recession', 'recidivism', 'recipe', 'recipes', 'recipient', 'recipients', 'recite', 'recited', 'reckoning', 'reclaim', 'reclaimed', 'reclaiming', 'reclaims', 'reclassified', 'reclusive', 'reco', 'recognises', 'recognition', 'recognize', 'recognized', 'recognizes', 'recognizing', 'recommend', 'recommendation', 'recommendations', 'recommended', 'recommends', 'reconcile', 'reconciliation', 'reconciling', 'reconnect', 'reconnected', 'reconsid', 'reconsider', 'reconstruction', 'reconvene', 'record', 'recorded', 'recorder', 'recording', 'recordings', 'records', 'recount', 'recounts', 'recoupling', 'recover', 'recovered', 'recovering', 'recovers', 'recovery', 'recrea', 'recreate', 'recreated', 'recreationa', 'recreational', 'recruit', 'recruited', 'recruiters', 'recruiting', 'recruitment', 'recruits', 'recs', 'recuse', 'recusing', 'recycling', 'red', 'redacted', 'redactions', 'reddit', 'redeemer', 'redefine', 'redefined', 'redemption', 'redesign', 'redistricting', 'reds', 'redskins', 'redstone', 'redu', 'reduce', 'reduced', 'reducing', 'reduction', 'reed', 'reef', 'reefs', 'reel', 'reelection', 'reeling', 'reels', 'reese', 'reevaluating', 'ref', 'referee', 'referenc', 'reference', 'referenced', 'referendum', 'referrals', 'referred', 'referring', 'refers', 'refinance', 'refiner', 'refinery', 'refl', 'refle', 'reflect', 'reflected', 'reflecting', 'reflection', 'reflections', 'reflects', 'reflux', 'refocusing', 'reform', 'reformed', 'reforms', 'refounded', 'refrained', 'refreshed', 'refresher', 'refreshing', 'refreshment', 'refrigeration', 'refu', 'refuels', 'refuge', 'refugee', 'refugees', 'refuges', 'refun', 'refund', 'refunded', 'refunds', 'refuse', 'refused', 'refuses', 'refusing', 'refutes', 'reg', 'regain', 'regaining', 'regains', 'regard', 'regarded', 'regarding', 'regardless', 'regards', 'regeneron', 'reggae', 'regime', 'regimens', 'regina', 'region', 'regional', 'regions', 'register', 'registered', 'regressive', 'regret', 'regrets', 'regu', 'regular', 'regularly', 'regulate', 'regulated', 'regulation', 'regulations', 'regulator', 'regulators', 'regulatory', 'regurgitator', 'rehab', 'rehearsals', 'reid', 'reign', 'reigning', 'reignite', 'reignited', 'reignites', 'reigns', 'reilly', 'reimburse', 'reimposed', 'rein', 'reindeer', 'reiner', 'reinforce', 'reinforced', 'reinstate', 'reinstatement', 'reinstates', 'reinvented', 'reis', 'reiterated', 'reiterates', 'reje', 'reject', 'rejected', 'rejecting', 'rejects', 'rejoice', 'rekin', 'rekindled', 'rel', 'rela', 'relapse', 'relat', 'relatable', 'relate', 'related', 'relati', 'relations', 'relationship', 'relationships', 'relative', 'relatively', 'relatives', 'relax', 'relaxed', 'rele', 'release', 'released', 'releases', 'releasing', 'relegated', 'relent', 'relented', 'relentless', 'relentlessness', 'relevant', 'reliable', 'reliably', 'reliance', 'reliant', 'relied', 'relief', 'relies', 'relieve', 'relieved', 'religion', 'religious', 'relinquish', 'relinquished', 'relishing', 'reliving', 'relocated', 'relocation', 'relotius', 'reluctantly', 'rely', 'relying', 'rema', 'remai', 'remain', 'remained', 'remaining', 'remains', 'remake', 'remark', 'remarkable', 'remarkably', 'remarks', 'remarry', 'rematch', 'remedy', 'remember', 'remembered', 'remembering', 'remembers', 'remembrance', 'remembrances', 'remind', 'reminder', 'reminders', 'reminding', 'reminds', 'reminisce', 'reminisces', 'remix', 'remnants', 'remodel', 'remold', 'remors', 'remote', 'remotes', 'removal', 'remove', 'removed', 'removes', 'removing', 'renae', 'renaming', 'renault', 'rendell', 'render', 'rendering', 'rendition', 'rene', 'reneged', 'reneging', 'renegotiate', 'renegotiating', 'renegotiation', 'renewed', 'renews', 'reniqua', 'renovation', 'renown', 'renowned', 'rent', 'rental', 'rentals', 'rented', 'renting', 'rents', 'renzo', 'reo', 'reopen', 'reopened', 'reopening', 'reopens', 'reorganize', 'rep', 'repackaged', 'repair', 'repairs', 'repatriation', 'repay', 'repaying', 'repeal', 'repealed', 'repealing', 'repeat', 'repeate', 'repeated', 'repeatedly', 'repeating', 'repeats', 'repel', 'repellent', 'repercussions', 'repetitive', 'replac', 'replace', 'replaced', 'replacement', 'replacements', 'replaces', 'replacing', 'replaying', 'replenish', 'replica', 'replicate', 'replied', 'reply', 'repo', 'repor', 'report', 'reporte', 'reported', 'reportedly', 'reporter', 'reporters', 'reporting', 'reports', 'represent', 'representation', 'representative', 'representatives', 'represented', 'representing', 'represents', 'repression', 'reprieve', 'reprimanded', 'reprisal', 'reproduce', 'reps', 'reptiles', 'repub', 'republ', 'republi', 'republic', 'republican', 'republicans', 'repudiate', 'repudiation', 'reputation', 'request', 'requested', 'requesting', 'requests', 'requir', 'require', 'required', 'requirement', 'requirements', 'requires', 'requiri', 'requiring', 'rereading', 'rerouted', 'rerun', 'res', 'rescind', 'rescinding', 'rescinds', 'rescue', 'rescued', 'rescuers', 'rescues', 'research', 'researche', 'researcher', 'researchers', 'resembled', 'resembles', 'resents', 'reservation', 'reservations', 'reserve', 'reserved', 'reserves', 'reservoir', 'reset', 'resettled', 'resettlement', 'resettling', 'reshape', 'reshaped', 'reshaping', 'resid', 'reside', 'residency', 'resident', 'residential', 'residents', 'residing', 'resig', 'resign', 'resignatio', 'resignation', 'resigned', 'resigning', 'resigns', 'resilience', 'resiliency', 'resist', 'resistance', 'resistant', 'reso', 'resoluti', 'resolution', 'resolutions', 'resolve', 'resolved', 'resolving', 'resort', 'resorting', 'resorts', 'resource', 'resources', 'resp', 'respect', 'respected', 'respectf', 'respecting', 'respects', 'respite', 'respo', 'respon', 'respond', 'responded', 'respondents', 'responders', 'responding', 'responds', 'response', 'responses', 'responsibilit', 'responsibility', 'responsible', 'responsibly', 'rest', 'restaffs', 'restart', 'restarted', 'restarting', 'restarts', 'restaurant', 'restaurants', 'restaurateur', 'restaurateurs', 'resting', 'restitut', 'restless', 'restore', 'restored', 'restores', 'restoring', 'restrained', 'restric', 'restrict', 'restricted', 'restricting', 'restrictions', 'restrictive', 'restricts', 'restroom', 'restrooms', 'restructure', 'restructuring', 'rests', 'resu', 'result', 'resulted', 'resulting', 'results', 'resume', 'resumed', 'resumes', 'resuming', 'resur', 'resurfaced', 'resurgent', 'resurrect', 'resurrecting', 'resuscitate', 'ret', 'retail', 'retailer', 'retailers', 'retain', 'retained', 'retains', 'retake', 'retaliated', 'retaliation', 'retention', 'retesting', 'rethink', 'rethinking', 'reticence', 'retir', 'retire', 'retired', 'retiree', 'retirement', 'retires', 'retiring', 'retract', 'retraining', 'retreat', 'retreating', 'retreats', 'retrial', 'retried', 'retrieve', 'retrieved', 'retro', 'retrospectives', 'retry', 'return', 'returned', 'returning', 'returns', 'retweeted', 'reuben', 'reunification', 'reunion', 'reunite', 'reunited', 'reunites', 'reuniting', 'reuters', 'reutersbackstory', 'reutersces', 'rev', 'revamp', 'revamped', 'reve', 'reveal', 'revealed', 'revealing', 'reveals', 'revelati', 'revelation', 'revelations', 'revelers', 'revellers', 'revelry', 'revenge', 'revenue', 'revenues', 'revered', 'reversal', 'reverse', 'reversed', 'reverses', 'reversing', 'reverts', 'revi', 'review', 'reviewed', 'reviewer', 'reviewers', 'reviewing', 'reviews', 'revise', 'revised', 'revises', 'revising', 'revision', 'revisit', 'revisited', 'revisiting', 'revisits', 'reviv', 'revival', 'revive', 'revived', 'revives', 'revoir', 'revokes', 'revolt', 'revolution', 'revolutionaries', 'revolutionary', 'revolutionize', 'revvin', 'reward', 'rewarding', 'rewards', 'rework', 'reworking', 'rewrite', 'rewrote', 'reynolds', 'rfk', 'rhapsody', 'rhetoric', 'rhino', 'rhinoceros', 'rhinos', 'rhode', 'rhodes', 'rhythms', 'ri', 'rialto', 'riaz', 'rib', 'ribeiro', 'ribery', 'rica', 'rican', 'ricardel', 'ricardo', 'rice', 'rich', 'richard', 'richards', 'richer', 'richest', 'richness', 'richt', 'rick', 'rickety', 'rickshaw', 'ricky', 'rico', 'rid', 'ride', 'rides', 'ridiculous', 'ridiculously', 'riding', 'rif', 'rife', 'rifle', 'rifles', 'rig', 'rigged', 'rigging', 'right', 'rightful', 'rightly', 'rights', 'rightward', 'rigs', 'rikers', 'riley', 'rime', 'ring', 'ringing', 'ringo', 'rings', 'rinks', 'rio', 'riot', 'rioted', 'riots', 'rip', 'ripped', 'ripper', 'ripping', 'ripple', 'ripples', 'rips', 'ris', 'risch', 'rise', 'risen', 'risers', 'rises', 'rising', 'risk', 'risked', 'riskier', 'riskin', 'risking', 'risks', 'risky', 'ritchie', 'rites', 'rival', 'rivalry', 'rivals', 'riven', 'river', 'rivers', 'riveted', 'rm', 'rmbs', 'rn', 'rnc', 'ro', 'roaches', 'road', 'roadblocks', 'roadkill', 'roadmap', 'roads', 'roadside', 'roadtrip', 'roared', 'roaring', 'roast', 'roasted', 'roasting', 'rob', 'robbed', 'robberies', 'robbers', 'robbery', 'robbie', 'robbins', 'robby', 'robert', 'roberts', 'robes', 'robin', 'robinson', 'robocallers', 'robocalls', 'robot', 'robotic', 'robotics', 'robots', 'robow', 'robust', 'robusta', 'robyn', 'rochester', 'rock', 'rockaway', 'rocked', 'rockefeller', 'rockers', 'rocket', 'rockets', 'rockettes', 'rockin', 'rocks', 'rocky', 'rod', 'rodef', 'rodgers', 'rodr', 'rodri', 'rodrigo', 'rodriguez', 'roe', 'roethlisberger', 'roger', 'rogers', 'rogue', 'rohingya', 'rois', 'roker', 'rol', 'roland', 'role', 'roles', 'roll', 'rollable', 'rollback', 'rollbacks', 'rolled', 'roller', 'rolling', 'rollout', 'rolls', 'rom', 'roma', 'romaine', 'roman', 'romance', 'romanchuk', 'romancing', 'romania', 'romanian', 'romano', 'romantic', 'rome', 'romero', 'romney', 'romo', 'ron', 'ronald', 'ronaldo', 'ronan', 'ronil', 'ronna', 'ronnebeck', 'roo', 'roof', 'roofs', 'rookie', 'rookies', 'room', 'roommate', 'rooms', 'rooney', 'roosevelt', 'root', 'rooted', 'rooting', 'roots', 'rope', 'ros', 'rosanell', 'rosario', 'roscommon', 'rose', 'roseannadanna', 'roseanne', 'rosen', 'rosendale', 'rosengren', 'rosenstein', 'rosenthal', 'roses', 'rosogolla', 'ross', 'rotem', 'roth', 'rotterdam', 'rotting', 'rotunda', 'rouge', 'rough', 'roughly', 'rouhani', 'round', 'rounded', 'rounder', 'rounds', 'roundtable', 'roundu', 'roundup', 'rourke', 'rout', 'route', 'routes', 'routin', 'routine', 'routinely', 'routs', 'rovaniemi', 'rover', 'row', 'rowland', 'rowling', 'roxli', 'roxy', 'roy', 'roya', 'royal', 'royals', 'royalty', 'royce', 'rt', 'ru', 'rubber', 'rubbish', 'rubble', 'ruben', 'rubin', 'rubio', 'ruby', 'rudd', 'rudely', 'rudolph', 'rudy', 'rufus', 'rugby', 'rugged', 'rugs', 'ruin', 'ruined', 'ruins', 'rukban', 'rule', 'rulebook', 'rulebooks', 'ruled', 'ruler', 'rulers', 'rules', 'ruling', 'rum', 'rumble', 'rumbles', 'rumors', 'rumour', 'rumours', 'rumsfeld', 'run', 'runaway', 'rundown', 'runner', 'runners', 'running', 'runs', 'runway', 'rupaul', 'ruptured', 'rural', 'rus', 'rusal', 'rusbridger', 'rush', 'rushed', 'rushing', 'russ', 'russe', 'russell', 'russes', 'russi', 'russia', 'russian', 'russians', 'rust', 'rustic', 'rustin', 'ruth', 'rutherford', 'ruthless', 'rutte', 'rvs', 'rwanda', 'rwandan', 'rwigara', 'ryan', 'rybolovlev', 'sa', 'saa', 'saba', 'saban', 'sabara', 'sabarimala', 'saber', 'saboteur', 'sabres', 'sabrina', 'sacha', 'sachs', 'sack', 'sacked', 'sacking', 'sacks', 'sacramento', 'sacred', 'sacrifice', 'sacrificing', 'sad', 'saddle', 'safe', 'safely', 'safer', 'safesport', 'safest', 'safety', 'saga', 'sagawards', 'sags', 'sahara', 'said', 'saikawa', 'sail', 'sailboat', 'sailed', 'sailing', 'sailings', 'sailor', 'sailors', 'sails', 'sainsbury', 'saint', 'saints', 'sajjan', 'sal', 'salah', 'salamander', 'salaries', 'salary', 'salazar', 'sale', 'sales', 'salesforce', 'salesman', 'salesperson', 'salilama', 'salim', 'salman', 'salmon', 'salmonella', 'salon', 'salt', 'salty', 'salute', 'salutes', 'saluting', 'salvador', 'salvadoran', 'salvage', 'salve', 'salvini', 'salvo', 'sam', 'samantha', 'samaritan', 'samberg', 'samin', 'sample', 'samples', 'sampling', 'samsung', 'samuel', 'san', 'sancti', 'sanctioned', 'sanctions', 'sanctuary', 'sanctum', 'sand', 'sandcastles', 'sanders', 'sandler', 'sandra', 'sands', 'sandwich', 'sandwiches', 'sandy', 'sane', 'sang', 'sanitary', 'sanitation', 'sanitizing', 'sank', 'sanofi', 'sans', 'santa', 'santander', 'santas', 'saoirse', 'saphier', 'saporito', 'sapporo', 'saps', 'saqqara', 'sarah', 'sarcastic', 'sarcophagi', 'sare', 'sark', 'sarkozy', 'sarri', 'sasami', 'sat', 'satan', 'satanic', 'sate', 'satel', 'satellite', 'satellites', 'satire', 'satisfaction', 'satisfied', 'satisfying', 'satterfield', 'sattler', 'satu', 'satur', 'saturated', 'saturda', 'saturday', 'saturdays', 'saturn', 'sauc', 'sauce', 'saucer', 'sauces', 'saucy', 'saud', 'saudi', 'saudis', 'sausage', 'sausages', 'savage', 'save', 'saved', 'saverahaf', 'saves', 'saving', 'savings', 'savior', 'savvy', 'saw', 'sawadi', 'sawyer', 'saxony', 'saxophonist', 'say', 'sayadi', 'saying', 'sayoc', 'says', 'sayyid', 'sc', 'scaffolding', 'scale', 'scaled', 'scales', 'scaling', 'scalise', 'scam', 'scammer', 'scammers', 'scams', 'scandal', 'scandalous', 'scandals', 'scandinavian', 'scanner', 'scant', 'scar', 'scaramucci', 'scarce', 'scarcity', 'scardina', 'scare', 'scared', 'scares', 'scarf', 'scarlett', 'scarred', 'scary', 'scathing', 'scattered', 'scenario', 'scenarios', 'scene', 'scenery', 'scenes', 'scent', 'sch', 'schaake', 'schauffele', 'schedule', 'scheduled', 'schedules', 'scheduling', 'scheme', 'schemed', 'schemes', 'scheming', 'schiff', 'schilhabel', 'schindler', 'schistosomiasis', 'schizophrenia', 'schlapp', 'schlee', 'schlitz', 'scho', 'schoen', 'schoenherr', 'scholars', 'scholarship', 'scholarships', 'scholz', 'school', 'schoolchildren', 'schooled', 'schoolers', 'schools', 'schoolwork', 'schu', 'schubert', 'schultz', 'schumer', 'schwarzman', 'schwerin', 'sci', 'science', 'sciences', 'scientific', 'scientist', 'scientists', 'scientology', 'scolded', 'scoop', 'scooping', 'scoot', 'scooter', 'scooters', 'scope', 'score', 'scored', 'scores', 'scoring', 'scot', 'scott', 'scottish', 'scourge', 'scouring', 'scout', 'scouting', 'scouts', 'scowl', 'scramble', 'scrambles', 'scrambling', 'scrap', 'scrapped', 'scrapping', 'scraps', 'scratch', 'scream', 'screaming', 'screams', 'screen', 'screeners', 'screening', 'screenings', 'screenplay', 'screens', 'screenwriter', 'screenwriters', 'screws', 'script', 'scripted', 'scroll', 'scrubbed', 'scrubbin', 'scrutinize', 'scrutinized', 'scrutinizing', 'scrutiny', 'sculptor', 'sculpture', 'sculptures', 'scum', 'sdlp', 'se', 'sea', 'seacrest', 'seafood', 'seahawks', 'seal', 'sealed', 'sealing', 'seals', 'sean', 'seaplane', 'search', 'searches', 'searching', 'sears', 'seas', 'seaside', 'season', 'seasonal', 'seasons', 'seat', 'seatback', 'seating', 'seats', 'seattle', 'seawright', 'sec', 'second', 'seconds', 'secret', 'secreta', 'secretaries', 'secretary', 'secretive', 'secretly', 'secrets', 'section', 'sections', 'sector', 'secu', 'secular', 'secur', 'secure', 'secured', 'secures', 'securi', 'securing', 'securit', 'securities', 'security', 'sedan', 'sedans', 'seduction', 'seed', 'seeded', 'seeds', 'seedy', 'seeherwo', 'seeing', 'seek', 'seeker', 'seekers', 'seeking', 'seeks', 'seemingly', 'seen', 'seer', 'sees', 'seesawed', 'seesaws', 'seethe', 'seething', 'segev', 'segment', 'segregated', 'segregation', 'sehgal', 'seinfeld', 'seismic', 'seize', 'seized', 'seizes', 'seizing', 'seizure', 'seizures', 'sel', 'selahattin', 'seldom', 'select', 'selected', 'selecting', 'selection', 'selectively', 'self', 'selfi', 'selfie', 'selfies', 'sell', 'sellable', 'seller', 'sellers', 'selling', 'selloff', 'sells', 'selves', 'semi', 'semifinal', 'semifinals', 'seminary', 'semitic', 'semitism', 'semitrucks', 'sen', 'senate', 'senator', 'senators', 'send', 'sending', 'sendrow', 'sends', 'senegal', 'senio', 'senior', 'seniors', 'sens', 'sensat', 'sensation', 'sensations', 'sense', 'senseless', 'sensible', 'sensing', 'sensitive', 'sensitivi', 'sensitivity', 'sensor', 'sensors', 'sent', 'sentence', 'sentenced', 'sentences', 'sentencing', 'sentiment', 'sentinel', 'sentinelese', 'seoul', 'separat', 'separate', 'separated', 'separately', 'separating', 'separation', 'sepsis', 'sept', 'septembe', 'september', 'septuagenarians', 'sequel', 'sequencing', 'serbia', 'serbian', 'serebrennikov', 'serena', 'sergeant', 'sergio', 'seri', 'serial', 'series', 'seriousl', 'seriously', 'seriousness', 'sermon', 'serve', 'served', 'server', 'serves', 'servic', 'service', 'services', 'serving', 'sesam', 'sesame', 'sessio', 'session', 'sessions', 'set', 'setback', 'seth', 'sets', 'setters', 'settimo', 'setting', 'settings', 'settle', 'settled', 'settlement', 'settlements', 'settles', 'settling', 'setu', 'seuss', 'seve', 'seven', 'seventeen', 'seventh', 'seventy', 'severa', 'severance', 'severe', 'severed', 'severely', 'sevilla', 'sewe', 'sewer', 'sex', 'sexism', 'sexist', 'sexting', 'sexua', 'sexual', 'sexualized', 'sexuall', 'sexually', 'sgt', 'sh', 'sha', 'shabab', 'shack', 'shackling', 'shadary', 'shade', 'shades', 'shadow', 'shadowing', 'shadows', 'shadowy', 'shady', 'shafi', 'shahid', 'shake', 'shaken', 'shakes', 'shakeup', 'shakey', 'shaking', 'shakira', 'shaky', 'shalala', 'shale', 'shall', 'shallow', 'shalom', 'shame', 'shamed', 'shameful', 'shameless', 'shamers', 'shames', 'shamings', 'shamrock', 'shanahan', 'shanghai', 'shankman', 'shannade', 'shape', 'shaped', 'shapes', 'shaping', 'shapiro', 'shaquille', 'shar', 'sharapova', 'share', 'sharechat', 'shared', 'shareholder', 'shareholders', 'shareholding', 'shares', 'sharice', 'sharif', 'sharing', 'shark', 'sharks', 'sharktank', 'sharon', 'sharp', 'sharpened', 'sharpening', 'sharper', 'sharply', 'shatner', 'shatter', 'shattered', 'shattering', 'shaughnessy', 'shave', 'shavings', 'sheared', 'shed', 'shedding', 'sheen', 'sheep', 'sheeran', 'sheet', 'sheets', 'sheikh', 'sheikha', 'shelby', 'shelf', 'shell', 'shelled', 'shelley', 'shells', 'shelter', 'sheltered', 'sheltering', 'shelters', 'shelves', 'shepard', 'shepherd', 'shepherded', 'sheree', 'sheriff', 'sheriffs', 'sherrod', 'shi', 'shia', 'shias', 'shield', 'shiffrin', 'shift', 'shifted', 'shifting', 'shifts', 'shiite', 'shikoku', 'shimmering', 'shine', 'shingles', 'shiny', 'ship', 'shipbuilding', 'shipment', 'shipments', 'shipped', 'shippers', 'shipping', 'ships', 'shirley', 'shirt', 'shirts', 'shirtwaist', 'shivers', 'sho', 'shock', 'shocked', 'shocker', 'shocking', 'shocks', 'shoe', 'shoes', 'shoo', 'shook', 'shoot', 'shooter', 'shooti', 'shootin', 'shooting', 'shootings', 'shootout', 'shoots', 'shop', 'shoppers', 'shopping', 'shops', 'shore', 'shoreline', 'shores', 'short', 'shortage', 'shortages', 'shortbread', 'shortcake', 'shortcomings', 'shorten', 'shortened', 'shorter', 'shortest', 'shortfall', 'shortfalls', 'shorthanded', 'shortlist', 'shortlived', 'shortly', 'shorts', 'shortz', 'shot', 'shots', 'shou', 'shoul', 'shoulder', 'shoulderin', 'shouldn', 'shoup', 'shout', 'shouted', 'shouting', 'shouts', 'shovels', 'shoving', 'showcase', 'showcases', 'showcasing', 'showdown', 'showed', 'shower', 'showers', 'showing', 'showings', 'showman', 'shown', 'showroom', 'shows', 'showstopping', 'showtime', 'shreveport', 'shrimp', 'shrink', 'shrinking', 'shrinks', 'shrouded', 'shrug', 'shrunk', 'shrunken', 'shu', 'shuai', 'shuffled', 'shuffling', 'shun', 'shunned', 'shunted', 'shunting', 'shut', 'shutd', 'shutdo', 'shutdown', 'shutdowns', 'shuts', 'shutter', 'shuttered', 'shutting', 'shweikani', 'shy', 'si', 'siberia', 'siblin', 'sibling', 'siblings', 'sichuan', 'sicily', 'sick', 'sickened', 'sickening', 'sickens', 'sided', 'sidekick', 'sidelined', 'sidelines', 'sidelining', 'sides', 'sidestep', 'sidestepping', 'sidesteps', 'sidewalk', 'sidhu', 'siding', 'sidmouth', 'sidney', 'siegel', 'siemens', 'sierra', 'sietsema', 'sigh', 'sight', 'sighting', 'sightings', 'sights', 'sign', 'signa', 'signage', 'signal', 'signale', 'signaled', 'signalers', 'signaling', 'signals', 'signature', 'signatures', 'signed', 'signif', 'significance', 'significant', 'significantly', 'signing', 'signings', 'signs', 'sika', 'sikh', 'silence', 'silencing', 'silent', 'silicon', 'silicone', 'silke', 'silky', 'silly', 'silt', 'silver', 'silverado', 'silversneakers', 'silvia', 'sim', 'simcha', 'similar', 'similarities', 'simmering', 'simmons', 'simon', 'simone', 'simple', 'simplest', 'simply', 'simpsons', 'simulator', 'simultaneously', 'sin', 'sinai', 'sinc', 'sincerely', 'sinclair', 'sindh', 'sinead', 'sinema', 'sing', 'singapore', 'singaporean', 'singe', 'singer', 'singers', 'singh', 'singing', 'single', 'singled', 'singles', 'sings', 'sinister', 'sink', 'sinkhole', 'sinking', 'sinks', 'sinn', 'sino', 'sinochem', 'sioux', 'sip', 'sir', 'siriano', 'sirisena', 'siriusxm', 'sisi', 'sissi', 'sister', 'sisters', 'sisto', 'sit', 'sitcom', 'site', 'sites', 'sits', 'sitting', 'situation', 'situations', 'sixth', 'siz', 'size', 'sized', 'sizes', 'sizzle', 'skate', 'skateboarding', 'skater', 'skating', 'skeletal', 'skeleton', 'skeletons', 'skeptical', 'skepticism', 'skeptics', 'sketch', 'sketches', 'sketchy', 'skewer', 'skewering', 'skewers', 'ski', 'skidded', 'skier', 'skiers', 'skies', 'skiing', 'skill', 'skilled', 'skills', 'skimming', 'skin', 'skinniest', 'skins', 'skip', 'skull', 'skunk', 'skunks', 'sky', 'skydance', 'skyline', 'skynyrd', 'skyrocketing', 'skyrockets', 'skyscraper', 'skywalk', 'skyward', 'skywatchers', 'sl', 'sla', 'slab', 'slack', 'slain', 'slam', 'slammed', 'slams', 'slander', 'slaps', 'slas', 'slash', 'slashed', 'slashes', 'slashing', 'slat', 'slate', 'slated', 'slatten', 'slaughter', 'slaughterhouse', 'slaughterhouses', 'slaughtering', 'slave', 'slavery', 'slaves', 'slavonic', 'slaying', 'slayings', 'slee', 'sleek', 'sleep', 'sleeper', 'sleeping', 'sleepwalking', 'sleepy', 'sleet', 'sleeves', 'sleig', 'sleigh', 'slender', 'slept', 'sleuths', 'slice', 'slices', 'slide', 'sliding', 'slig', 'slightly', 'sligo', 'slime', 'slimy', 'slingshot', 'slinky', 'slip', 'slipped', 'slippers', 'slippery', 'slipping', 'slips', 'sliver', 'slo', 'sloan', 'slope', 'slot', 'sloth', 'sloths', 'slovakia', 'slovakian', 'slow', 'slowdown', 'slowed', 'slower', 'slowest', 'slowin', 'slowing', 'slowly', 'slows', 'slug', 'slugger', 'sluggish', 'slump', 'slumping', 'slumps', 'slur', 'slurs', 'smacking', 'small', 'smaller', 'smallest', 'smart', 'smarter', 'smarting', 'smartpho', 'smartphone', 'smartphones', 'smash', 'smashing', 'smear', 'smell', 'smells', 'smelter', 'smile', 'smiled', 'smiles', 'smiley', 'smith', 'smithsonian', 'smocking', 'smog', 'smoke', 'smokey', 'smoking', 'smoky', 'smooth', 'smucker', 'smuggle', 'smuggled', 'smuggler', 'smugglers', 'smuggling', 'smutty', 'sn', 'snack', 'snacks', 'snafu', 'snags', 'snail', 'snake', 'snakes', 'snap', 'snapped', 'snapping', 'snaps', 'snarl', 'sneak', 'sneaking', 'snider', 'sniff', 'sniffer', 'sniffing', 'sniffles', 'snipes', 'snl', 'snoop', 'snooze', 'snoring', 'snout', 'snow', 'snowball', 'snowfall', 'snowflake', 'snowflakes', 'snowm', 'snowman', 'snowstorm', 'snowstorms', 'snub', 'snubbed', 'snubbing', 'snubs', 'snyder', 'soaking', 'soar', 'soared', 'soaring', 'soars', 'sober', 'sobriety', 'soccer', 'soci', 'socia', 'social', 'socially', 'sociedad', 'societal', 'society', 'sociopaths', 'socked', 'socks', 'soda', 'sodium', 'sodomy', 'soe', 'sofa', 'sofas', 'sofia', 'soft', 'softball', 'softbank', 'softe', 'softening', 'software', 'soggy', 'sohini', 'soil', 'sol', 'solange', 'solar', 'solari', 'solas', 'sold', 'soldier', 'soldiered', 'soldiers', 'sole', 'solely', 'solicits', 'solid', 'solidarity', 'solider', 'sollfrank', 'solo', 'solskjaer', 'solstice', 'solution', 'solutions', 'solvay', 'solve', 'solved', 'solving', 'som', 'somali', 'somalia', 'somebody', 'someday', 'somerville', 'somet', 'somewhat', 'sommelier', 'son', 'song', 'songs', 'songwriter', 'songwriters', 'songy', 'sono', 'sonogram', 'sons', 'sony', 'soon', 'soone', 'sooner', 'sophia', 'sophisticated', 'sophomore', 'sopping', 'sopr', 'sopranos', 'soranet', 'sore', 'sorkin', 'soros', 'sorrel', 'sorrows', 'sorry', 'sort', 'sorts', 'sos', 'soto', 'sou', 'sought', 'soul', 'soulful', 'soulja', 'soulless', 'souls', 'sound', 'sounded', 'sounding', 'soundproof', 'sounds', 'soundtrack', 'soup', 'soups', 'sour', 'sourc', 'source', 'sources', 'sout', 'south', 'southe', 'southeast', 'southeastern', 'southern', 'southw', 'southwest', 'southwestern', 'souza', 'sovereign', 'sovereignty', 'soviet', 'soviets', 'sowing', 'sox', 'soy', 'soya', 'soybeans', 'soyuz', 'sp', 'spa', 'space', 'spacecraft', 'spacex', 'spacey', 'spaghetti', 'spain', 'spam', 'span', 'spanish', 'spans', 'spar', 'sparck', 'spare', 'spared', 'spark', 'sparked', 'sparking', 'sparkling', 'sparkly', 'sparks', 'sparring', 'sparrows', 'sparta', 'spartans', 'spat', 'spataro', 'spate', 'spavor', 'spawn', 'spe', 'speak', 'speake', 'speaker', 'speakers', 'speakership', 'speaking', 'speaks', 'spearhead', 'spears', 'spec', 'specia', 'special', 'specialists', 'specializing', 'specially', 'specialreport', 'specials', 'specialty', 'species', 'specific', 'specifically', 'speck', 'spectacular', 'spectacularly', 'spectrum', 'speculated', 'speculatio', 'speculation', 'sped', 'spee', 'speech', 'speeches', 'speed', 'speedier', 'speeding', 'speeds', 'speier', 'spell', 'spelled', 'spen', 'spencer', 'spend', 'spending', 'spends', 'spent', 'sperm', 'spice', 'spiced', 'spices', 'spider', 'spiderman', 'spied', 'spiegel', 'spielberg', 'spies', 'spieth', 'spike', 'spiked', 'spikes', 'spilled', 'spills', 'spin', 'spinach', 'spine', 'spinning', 'spinoff', 'spins', 'spirit', 'spirits', 'spiritual', 'spiro', 'spit', 'spite', 'spitting', 'splash', 'splashes', 'spli', 'split', 'splitting', 'splurge', 'splurges', 'spock', 'spoiler', 'spoils', 'spoke', 'spoken', 'spokesman', 'spokesperson', 'spokeswoman', 'sponsor', 'sponsored', 'sponsors', 'sponsorship', 'sponsorships', 'spontaneous', 'spool', 'sport', 'sports', 'sportscaster', 'sportswear', 'spot', 'spotify', 'spotlight', 'spotlights', 'spots', 'spott', 'spotted', 'spouse', 'spouts', 'sprain', 'sprawling', 'sprayed', 'sprea', 'spread', 'spreading', 'spreads', 'spree', 'spring', 'springs', 'springsteen', 'sprint', 'sprinted', 'sprouts', 'spur', 'spurred', 'spurring', 'spurs', 'sputters', 'spy', 'spying', 'sqm', 'squ', 'squabbling', 'squad', 'squadron', 'squads', 'square', 'squarely', 'squatting', 'squeegeeing', 'squeeze', 'squeezed', 'squibb', 'squirm', 'squirms', 'squirrel', 'squirrels', 'sri', 'ss', 'ssona', 'st', 'sta', 'stab', 'stabbed', 'stabbing', 'stabbings', 'stabenow', 'stability', 'stabilize', 'stabilizes', 'stable', 'stacey', 'stack', 'stacking', 'stadium', 'staf', 'staff', 'staffed', 'staffer', 'staffers', 'staffing', 'stafford', 'stage', 'staged', 'stages', 'stagger', 'staggering', 'staging', 'stagnated', 'stagnation', 'stairwell', 'stake', 'stakes', 'stal', 'stalemate', 'stalemated', 'staley', 'stalin', 'stalked', 'stalking', 'stall', 'stalled', 'stalls', 'stamp', 'stampede', 'stamps', 'stan', 'stance', 'stand', 'standard', 'standards', 'standifer', 'standing', 'standings', 'standoff', 'standoffs', 'standout', 'stands', 'standstill', 'stanl', 'stanley', 'staple', 'staples', 'star', 'starboard', 'starbucks', 'stardom', 'stargazers', 'stark', 'starling', 'starr', 'starred', 'starring', 'stars', 'starstruck', 'start', 'started', 'starters', 'starting', 'startles', 'startling', 'starts', 'startup', 'startups', 'starwood', 'stasi', 'stat', 'state', 'stated', 'statehood', 'statehouse', 'statement', 'statements', 'staten', 'states', 'statesman', 'statewide', 'stati', 'static', 'stating', 'station', 'stationed', 'stations', 'statist', 'statistics', 'stats', 'statue', 'statues', 'status', 'statute', 'staunch', 'stave', 'staving', 'stay', 'staycation', 'stayed', 'staying', 'stays', 'steadily', 'steady', 'steak', 'steal', 'stealing', 'steals', 'steam', 'steamrolled', 'steel', 'steele', 'steelers', 'steep', 'steeped', 'steepest', 'steer', 'steering', 'stefani', 'stefanik', 'stefanowski', 'steil', 'stein', 'steinbeck', 'steinway', 'stella', 'stellar', 'stem', 'stemcentrx', 'stemmed', 'stemming', 'step', 'stephanie', 'stephen', 'stephens', 'stepmother', 'stepped', 'stepping', 'steps', 'stereotypes', 'sterile', 'sterilized', 'sterling', 'sterlite', 'steve', 'steven', 'stevie', 'stewarding', 'stewart', 'stews', 'steyer', 'sti', 'stick', 'sticker', 'stickers', 'sticking', 'sticks', 'stiff', 'stigma', 'stigmatized', 'stillbirth', 'stillbirths', 'stiller', 'stimulate', 'stimulus', 'sting', 'stings', 'stinky', 'stint', 'stints', 'stipend', 'stipulate', 'stir', 'stirred', 'stirring', 'stirs', 'stitches', 'stitt', 'sto', 'stobart', 'stoc', 'stock', 'stockholm', 'stocking', 'stockpile', 'stockpiles', 'stocks', 'stocktake', 'stoddard', 'stoic', 'stoically', 'stoke', 'stokes', 'stoking', 'stole', 'stolen', 'stomach', 'stomachs', 'stone', 'stoneman', 'stones', 'stoney', 'stoning', 'stood', 'stop', 'stopes', 'stopgap', 'stopped', 'stopping', 'stops', 'stor', 'storage', 'store', 'stored', 'storekeepers', 'stores', 'storied', 'stories', 'storing', 'storm', 'stormed', 'storming', 'storms', 'stormy', 'story', 'storytelling', 'str', 'stra', 'straight', 'strain', 'strained', 'strains', 'strait', 'strand', 'stranded', 'stranding', 'strange', 'strangely', 'stranger', 'strangers', 'strangest', 'strangled', 'strasbou', 'strasbourg', 'strategic', 'strategies', 'strategist', 'strategists', 'strategy', 'stratfor', 'strava', 'straw', 'strawberry', 'straws', 'stray', 'stre', 'streak', 'streaking', 'stream', 'streamed', 'streamer', 'streaming', 'streamline', 'streams', 'stree', 'streep', 'street', 'streets', 'strength', 'strengthen', 'strengthening', 'stress', 'stressed', 'stresses', 'stressful', 'stressing', 'stret', 'stretch', 'stretches', 'stretching', 'strict', 'stricter', 'strictest', 'strictly', 'strife', 'strik', 'strike', 'strikes', 'strikin', 'striking', 'string', 'strip', 'stripes', 'stripped', 'strips', 'strive', 'strives', 'stroke', 'strong', 'stronger', 'strongest', 'strongly', 'strongman', 'strongmen', 'strove', 'struck', 'structural', 'structure', 'struggle', 'struggles', 'struggling', 'stuart', 'stub', 'stubb', 'stubborn', 'stubbornness', 'stubhub', 'stubs', 'stuck', 'studded', 'stude', 'student', 'students', 'studied', 'studies', 'studio', 'studios', 'study', 'studying', 'stuff', 'stumble', 'stumbled', 'stumbling', 'stump', 'stumps', 'stumptown', 'stun', 'stung', 'stunned', 'stunner', 'stunning', 'stuns', 'stunt', 'stunts', 'stupid', 'stupidity', 'stuttgart', 'stutthof', 'style', 'styles', 'stylists', 'stymie', 'su', 'sub', 'subaru', 'subban', 'subdued', 'subject', 'subjected', 'subjects', 'submarine', 'submarines', 'submission', 'submit', 'submits', 'submitted', 'submitting', 'subpoena', 'subprime', 'subscribe', 'subscribers', 'subscriptions', 'subset', 'subsided', 'subsidiaries', 'subsidiary', 'subsidies', 'subsidy', 'substance', 'substances', 'substant', 'substantial', 'substantive', 'substation', 'substitutes', 'subtle', 'suburb', 'suburban', 'suburbanites', 'subway', 'subways', 'subzero', 'succ', 'succeed', 'succeeded', 'succes', 'success', 'successe', 'successes', 'successf', 'successful', 'successfully', 'successor', 'succumb', 'suchiate', 'suck', 'sucked', 'suckers', 'sudan', 'sudanese', 'sudden', 'suddenly', 'sue', 'sued', 'sues', 'suf', 'suffer', 'suffered', 'suffering', 'suffers', 'sufficient', 'suffolk', 'sugar', 'sugars', 'sugg', 'suggest', 'suggested', 'suggesting', 'suggestion', 'suggestions', 'suggests', 'suhai', 'sui', 'suicidal', 'suicide', 'suicides', 'suing', 'suisse', 'suit', 'suitable', 'suitcase', 'suitcases', 'suits', 'sullivan', 'sully', 'sultan', 'sum', 'sumatra', 'sumatran', 'summary', 'summed', 'summer', 'summers', 'summit', 'summits', 'summon', 'summoned', 'summoning', 'summons', 'sumner', 'sums', 'sun', 'suna', 'sunda', 'sundance', 'sundar', 'sunday', 'sundayfutures', 'sunderland', 'suneung', 'sung', 'sunil', 'sunny', 'sunset', 'sunshine', 'sununu', 'sunwatchers', 'sup', 'super', 'superfan', 'superficiality', 'superhero', 'superheroes', 'superior', 'superlungs', 'superman', 'supermarket', 'supermarkets', 'supermax', 'supermodel', 'supermoon', 'superpower', 'superpowers', 'superstar', 'superstitions', 'supervised', 'supervisor', 'supervisory', 'superwoman', 'supplement', 'supplementing', 'supplements', 'supplier', 'suppliers', 'supplies', 'supply', 'supplying', 'support', 'supported', 'supporter', 'supporters', 'supporting', 'supportive', 'supports', 'supposed', 'supposedly', 'suppress', 'suppression', 'supremacist', 'supremacists', 'supremacy', 'supreme', 'sur', 'sure', 'surefire', 'surf', 'surface', 'surfaced', 'surfaces', 'surfers', 'surfing', 'surfs', 'surge', 'surged', 'surgeon', 'surgeons', 'surgery', 'surges', 'surgical', 'surging', 'surpassed', 'surpasses', 'surpassing', 'surplus', 'surprise', 'surprised', 'surprises', 'surprising', 'surprisingly', 'surreal', 'surrealist', 'surrender', 'surrenders', 'surrogate', 'surrounding', 'surrounds', 'surv', 'surveillance', 'survey', 'surveyed', 'surveying', 'surveys', 'survival', 'survive', 'survived', 'survives', 'surviving', 'survivor', 'survivors', 'susan', 'susanna', 'susie', 'susp', 'suspect', 'suspected', 'suspects', 'suspend', 'suspended', 'suspends', 'suspense', 'suspension', 'suspensions', 'suspicion', 'suspicions', 'suspicious', 'suspiciously', 'sussex', 'sust', 'sustainable', 'sustainably', 'sustained', 'sutopo', 'suu', 'suv', 'svalbard', 'svensson', 'sw', 'swahili', 'swallowed', 'swalwell', 'swamp', 'swamps', 'swan', 'swanky', 'swansong', 'swap', 'swaps', 'swath', 'swaths', 'sway', 'swear', 'swearing', 'swears', 'sweater', 'sweateredgoats', 'sweaters', 'sweatpants', 'sweden', 'swedish', 'sweeney', 'sweep', 'sweeping', 'sweeps', 'sweepstakes', 'sweet', 'sweetened', 'sweetgreen', 'sweetheart', 'swell', 'swelling', 'swells', 'swept', 'swetnick', 'swi', 'swift', 'swim', 'swimmer', 'swimmers', 'swimming', 'swims', 'swimsuit', 'swine', 'swing', 'swinging', 'swings', 'swinney', 'swipe', 'swiped', 'swipes', 'swirl', 'swirling', 'swisher', 'swiss', 'switch', 'switching', 'switzerland', 'swoon', 'sword', 'swords', 'swore', 'sworn', 'swung', 'sydney', 'syed', 'sylvia', 'symbol', 'symbolic', 'symbolism', 'symbolize', 'symp', 'sympathy', 'symphony', 'symposium', 'symptoms', 'synagogue', 'synagogues', 'syndrome', 'syndromes', 'synergy', 'synthetic', 'syphilis', 'syri', 'syria', 'syrian', 'syrians', 'syrup', 'sys', 'systematically', 'systemic', 'systems', 'sza', 'ta', 'tab', 'tabac', 'tabl', 'table', 'tables', 'tablets', 'tabloid', 'taboo', 'tackle', 'tackles', 'tackling', 'taco', 'tactic', 'tactical', 'tactician', 'tactics', 'tadjer', 'taekwondo', 'taft', 'tag', 'tagovailoa', 'tags', 'tahiti', 'tahoe', 'tail', 'tailgating', 'tails', 'tailwind', 'tainted', 'taiwan', 'taiwanese', 'tak', 'takata', 'takeaways', 'takeda', 'taken', 'takeoff', 'takeover', 'takes', 'takeways', 'taking', 'tal', 'talal', 'talc', 'tale', 'talent', 'tales', 'taliban', 'talk', 'talked', 'talking', 'talks', 'talladega', 'tallahassee', 'tallest', 'tallies', 'tally', 'talpur', 'tamara', 'tamau', 'tamaulipas', 'tami', 'tammy', 'tampa', 'tampere', 'tampering', 'tampons', 'tanf', 'tang', 'tangled', 'tank', 'tanker', 'tanks', 'tanna', 'tantalizing', 'tantrum', 'tanzania', 'tanzanian', 'tap', 'tape', 'taped', 'tapered', 'tapes', 'tapings', 'tappan', 'tapped', 'tapping', 'taps', 'tar', 'tara', 'tarana', 'tarantula', 'tardiness', 'target', 'targeted', 'targeting', 'targets', 'tariff', 'tariffs', 'tarmac', 'tarrant', 'task', 'tasked', 'tasks', 'tasmanian', 'taste', 'tasted', 'taster', 'tastes', 'tasting', 'tata', 'tattoo', 'tattoos', 'tatum', 'taug', 'taught', 'taunts', 'tax', 'taxes', 'taxi', 'taxiing', 'taxing', 'taxis', 'taxpayer', 'taxpayers', 'taylor', 'tayyip', 'tbilisi', 'tcm', 'tcu', 'td', 'te', 'tea', 'teach', 'teachable', 'teache', 'teacher', 'teachers', 'teaches', 'teaching', 'team', 'teamed', 'teaming', 'teammate', 'teammates', 'teams', 'tear', 'tearf', 'tearful', 'teargas', 'tears', 'teased', 'tebow', 'tec', 'tech', 'techlash', 'technical', 'technicians', 'technique', 'techniques', 'techno', 'technolo', 'technological', 'technologies', 'technology', 'teck', 'tectonic', 'ted', 'teddy', 'tee', 'teeming', 'teen', 'teenage', 'teenager', 'teenagers', 'teens', 'teeny', 'teetering', 'teeth', 'teething', 'teigen', 'tekashi', 'tel', 'telecom', 'telecommunications', 'telegraph', 'telenovela', 'telephone', 'telepsychiatry', 'telescope', 'telescopes', 'telev', 'televised', 'television', 'televisions', 'tell', 'teller', 'telling', 'tells', 'temasek', 'temblor', 'temp', 'temper', 'temperature', 'temperatures', 'tempered', 'temple', 'temporarily', 'temporary', 'tenants', 'tend', 'tended', 'tender', 'tenderly', 'tenders', 'tends', 'tenn', 'tennessee', 'tennille', 'tennis', 'tens', 'tense', 'tension', 'tensions', 'tent', 'tenth', 'tents', 'tenure', 'tepid', 'tequila', 'ter', 'terabytes', 'terence', 'term', 'termin', 'terminal', 'terminally', 'terminals', 'termination', 'terminator', 'terms', 'terr', 'terrain', 'terrence', 'terri', 'terrible', 'terrific', 'terrified', 'terrify', 'terrifying', 'terrifyingly', 'territ', 'territories', 'territory', 'terror', 'terroris', 'terrorised', 'terrorism', 'terrorist', 'terrorists', 'terrorized', 'terrorizing', 'terry', 'tes', 'tesco', 'tesla', 'teslas', 'tess', 'tessa', 'test', 'tested', 'tester', 'testicular', 'testified', 'testifies', 'testify', 'testifying', 'testimony', 'testing', 'tests', 'testy', 'texan', 'texans', 'texas', 'text', 'textiles', 'texting', 'texts', 'textured', 'teylor', 'tezlyn', 'th', 'tha', 'thackeray', 'thai', 'thaila', 'thailand', 'thais', 'thank', 'thanks', 'thanksgiving', 'thanos', 'thatcher', 'theater', 'theaters', 'theatrical', 'thefive', 'theft', 'thefts', 'thei', 'themaskedsinger', 'theme', 'themed', 'themes', 'thems', 'theodore', 'theological', 'theories', 'theory', 'therapists', 'therapy', 'therem', 'theresa', 'thes', 'theshortlist', 'thestory', 'thevoice', 'thi', 'thiamine', 'thibodeau', 'thief', 'thieves', 'thigh', 'thighs', 'thile', 'thing', 'things', 'think', 'thinker', 'thinking', 'thinks', 'thinner', 'thinning', 'thirds', 'thirst', 'thirty', 'thistle', 'thobe', 'thom', 'thomas', 'thompson', 'thoreau', 'thorough', 'thoroughly', 'thoroughness', 'thos', 'thought', 'thoughtful', 'thoughts', 'thous', 'thousa', 'thousand', 'thousands', 'thr', 'thrashed', 'thrashing', 'thre', 'threa', 'thread', 'threat', 'threaten', 'threatene', 'threatened', 'threatening', 'threatens', 'threats', 'threshold', 'threw', 'thrift', 'thrill', 'thrilled', 'thriller', 'thrilling', 'thrive', 'thrived', 'thro', 'thrombectomy', 'throne', 'thrones', 'throug', 'througho', 'throw', 'throwing', 'thrown', 'throws', 'thrust', 'thule', 'thumb', 'thun', 'thunder', 'thunderstorm', 'thune', 'thur', 'thurs', 'thursday', 'thursdaymotivation', 'thwart', 'thwarted', 'thwarting', 'thwarts', 'thy', 'ti', 'tiananmen', 'tibbetts', 'tiberius', 'ticked', 'ticket', 'tickets', 'ticks', 'ticonderoga', 'tide', 'tidy', 'tie', 'tied', 'tier', 'ties', 'tiffany', 'tiger', 'tigers', 'tigh', 'tight', 'tighten', 'tightening', 'tightens', 'tighter', 'tightly', 'tijuana', 'tiles', 'till', 'tillie', 'tilling', 'tillis', 'tilt', 'tilting', 'tilts', 'tim', 'timber', 'timberwolves', 'time', 'timeframe', 'timeline', 'timeliness', 'timely', 'times', 'timeshare', 'timetable', 'timing', 'timothy', 'timtebow', 'tina', 'tinder', 'tinkerbell', 'tino', 'tinsel', 'tintin', 'tiny', 'tinydesk', 'tip', 'tipped', 'tippi', 'tipping', 'tips', 'tipster', 'tiptop', 'tir', 'tire', 'tired', 'tirelessly', 'tires', 'tis', 'tish', 'tissue', 'titan', 'titanic', 'titanium', 'titans', 'titicaca', 'title', 'titles', 'tito', 'tko', 'tlaib', 'tlaxiaco', 'tmz', 'tn', 'toads', 'toast', 'tobacco', 'toblerone', 'tod', 'toda', 'today', 'toddler', 'toe', 'toes', 'tog', 'toge', 'togethe', 'toilet', 'toilets', 'token', 'toking', 'tokyo', 'tol', 'told', 'toledo', 'tolerance', 'tolerate', 'toles', 'toliver', 'toll', 'tom', 'tomasz', 'tomatoes', 'tomb', 'tombs', 'tombstone', 'tome', 'tommy', 'tomo', 'tomorr', 'tomorrow', 'ton', 'tone', 'tong', 'tongue', 'tongues', 'toni', 'tonigh', 'tonight', 'tonnel', 'tonnes', 'tons', 'tony', 'took', 'tool', 'tools', 'toomer', 'tooth', 'toothb', 'toots', 'topanga', 'topic', 'topics', 'topped', 'topping', 'topple', 'toppler', 'topples', 'toppling', 'tops', 'topsy', 'tor', 'torch', 'torment', 'torn', 'tornado', 'tornadoes', 'toron', 'toronto', 'torrance', 'torrent', 'tortilla', 'tortoises', 'torture', 'tortured', 'toss', 'tossing', 'tossup', 'total', 'totaled', 'totally', 'totals', 'totoro', 'touch', 'touchdown', 'touched', 'touches', 'touching', 'tough', 'toughen', 'tougher', 'toughest', 'toughness', 'tour', 'toured', 'touri', 'touring', 'tourism', 'tourist', 'tourists', 'tourn', 'tournament', 'tours', 'tout', 'touted', 'touting', 'touts', 'tower', 'towering', 'towers', 'town', 'towns', 'township', 'toxic', 'toxicity', 'toy', 'toymaker', 'toyota', 'toys', 'toysrus', 'tr', 'tra', 'trace', 'traced', 'traces', 'tracing', 'track', 'tracked', 'tracker', 'tracking', 'trackpad', 'tracks', 'tractor', 'tracy', 'trad', 'trade', 'traded', 'trademark', 'trademarked', 'trademarks', 'trader', 'traders', 'trades', 'trading', 'tradition', 'traditional', 'traditionally', 'traditions', 'traffic', 'trafficker', 'traffickers', 'trafficking', 'tragedies', 'tragedy', 'tragic', 'trai', 'trail', 'trailblazer', 'trailer', 'trailers', 'trailing', 'trails', 'train', 'trained', 'trainers', 'training', 'trainor', 'trains', 'traitor', 'traits', 'tram', 'trampoline', 'trance', 'tranmere', 'tranquil', 'trans', 'transaction', 'transactions', 'transcript', 'transcripts', 'transfer', 'transferred', 'transfers', 'transform', 'transforma', 'transformation', 'transformed', 'transformer', 'transformers', 'transforming', 'transforms', 'transgen', 'transgender', 'transit', 'transition', 'transitioning', 'translation', 'transmit', 'transmitted', 'transonic', 'transparency', 'transpiring', 'transplant', 'transplanted', 'transport', 'transportation', 'transported', 'transporting', 'trap', 'trapdoor', 'trapped', 'trappings', 'traps', 'trash', 'trashed', 'trashy', 'trauma', 'traumatic', 'traumatized', 'trav', 'trave', 'travel', 'traveled', 'traveler', 'travelers', 'traveling', 'travels', 'traversing', 'travesty', 'travis', 'travolta', 'treacherous', 'treading', 'treason', 'treasur', 'treasure', 'treasured', 'treasures', 'treasury', 'treat', 'treated', 'treating', 'treatment', 'treatments', 'treats', 'treaty', 'trebek', 'tree', 'treehouse', 'treehouses', 'trees', 'trejo', 'trek', 'trekked', 'trekki', 'treks', 'tremendous', 'tremors', 'tren', 'trend', 'trending', 'trends', 'trent', 'trevor', 'triage', 'trial', 'trials', 'triangle', 'triangles', 'tribal', 'tribe', 'tribes', 'tribunal', 'tribune', 'tribute', 'tributes', 'tric', 'trick', 'tricked', 'trickier', 'trickle', 'trickles', 'tricks', 'tricky', 'trie', 'tried', 'triennial', 'tries', 'trieste', 'trigge', 'trigger', 'triggered', 'triggering', 'triggerman', 'triggers', 'trillion', 'trimester', 'trims', 'trinity', 'triomphe', 'trip', 'triple', 'tripled', 'trippers', 'trips', 'trish', 'triumph', 'triumphs', 'trivia', 'troika', 'troll', 'trolley', 'trolls', 'tron', 'troo', 'troop', 'trooper', 'troops', 'trophies', 'trophy', 'tropical', 'tropics', 'trou', 'trouble', 'troubled', 'troublemaker', 'troubles', 'troublin', 'troubling', 'trounced', 'trove', 'tru', 'truce', 'truck', 'truckers', 'trucking', 'trucks', 'trudeau', 'true', 'truly', 'trum', 'truman', 'trump', 'trumpaddress', 'trumpeting', 'trumpiest', 'trumpish', 'trumpism', 'trumps', 'trunk', 'trust', 'trustbusters', 'trusted', 'trustees', 'trusting', 'trusts', 'truth', 'truths', 'try', 'tryin', 'trying', 'tsa', 'tsai', 'tseng', 'tshisekedi', 'tso', 'tsunami', 'tsunamis', 'tt', 'tu', 'tua', 'tuam', 'tuba', 'tube', 'tubs', 'tuchman', 'tucker', 'tue', 'tuesda', 'tuesday', 'tuesdaymotivation', 'tuition', 'tulips', 'tulsa', 'tulsi', 'tumble', 'tumbled', 'tumbling', 'tumen', 'tumor', 'tumult', 'tumultu', 'tumultuous', 'tuna', 'tune', 'tunes', 'tung', 'tuning', 'tunis', 'tunnel', 'tunnels', 'tupperware', 'turbulence', 'turbulent', 'turchie', 'turf', 'turhan', 'turkey', 'turkeys', 'turkish', 'turley', 'turmoil', 'turn', 'turnaround', 'turned', 'turner', 'turning', 'turnout', 'turnover', 'turnovers', 'turns', 'turow', 'turtle', 'turtles', 'turvy', 'tuscany', 'tusk', 'tussle', 'tv', 'tvs', 'tw', 'tweak', 'tweel', 'tween', 'tweet', 'tweeted', 'tweeting', 'tweets', 'tweetstorm', 'twelfth', 'twice', 'twin', 'twins', 'twirling', 'twist', 'twists', 'twit', 'twitch', 'twitter', 'tx', 'tycoon', 'tydings', 'tying', 'tyler', 'type', 'typhoon', 'typical', 'typically', 'tyrann', 'tyranny', 'tyrants', 'tyrion', 'tyson', 'uae', 'uber', 'ubiquitous', 'ubs', 'ucla', 'uconn', 'ucuzoglu', 'uf', 'ufc', 'uga', 'uganda', 'uglier', 'ugly', 'uighur', 'uk', 'ukr', 'ukraine', 'ukrainian', 'ultima', 'ultimate', 'ultimately', 'ultr', 'ultra', 'ultralight', 'ultranationalist', 'ultraviolent', 'umami', 'umarayn', 'umbilical', 'umbrella', 'umbrellas', 'unable', 'unabomber', 'unacceptable', 'unaccepted', 'unaccounted', 'unaffected', 'unaided', 'unanimous', 'unanimously', 'unannounced', 'unanswered', 'unapologetic', 'unapologetically', 'unarmed', 'unassisted', 'unassuming', 'unattended', 'unauthorized', 'unbelievable', 'unbelievably', 'unblocks', 'unbothered', 'unc', 'uncalled', 'uncensored', 'uncerta', 'uncertain', 'uncertainty', 'uncharacteristically', 'uncharitable', 'uncharted', 'unchecked', 'uncivil', 'uncle', 'unclear', 'uncles', 'uncomfo', 'uncomfortable', 'uncomfortably', 'uncommitted', 'uncommon', 'unconscious', 'unconstitutional', 'uncontrolled', 'unconve', 'unconven', 'unconventional', 'unconvinced', 'uncoupling', 'uncouth', 'uncover', 'uncovered', 'und', 'undampened', 'unde', 'undead', 'undecided', 'undeclared', 'undecorated', 'undefeated', 'undeniable', 'undercooked', 'undercount', 'undercover', 'underfunded', 'undergoes', 'undergoing', 'undergone', 'undergrou', 'underground', 'underlining', 'underlying', 'undermined', 'undermines', 'undermining', 'underneath', 'underperforming', 'underperforms', 'underpinnings', 'underreported', 'underreporting', 'underscore', 'underscored', 'underscores', 'undersea', 'understand', 'understanding', 'understands', 'understood', 'undertrained', 'undervalued', 'underwater', 'underway', 'underwear', 'underwent', 'underwhelming', 'underwood', 'undesirable', 'undiagnosed', 'undisciplined', 'undoc', 'undocumented', 'undone', 'undrafted', 'une', 'unearthed', 'unease', 'uneasy', 'unemployed', 'unemployment', 'unesco', 'unethical', 'unevenly', 'unexpected', 'unexpectedly', 'unexplainable', 'unexploded', 'unfair', 'unfairly', 'unfamiliar', 'unfavorable', 'unfiltered', 'unfinished', 'unfit', 'unflappable', 'unfo', 'unfolded', 'unfolding', 'unfolds', 'unforgettable', 'unfortunately', 'unfounded', 'unfreezes', 'ungar', 'unhappy', 'unhcr', 'unhealthy', 'unheard', 'unheeded', 'uni', 'unicef', 'unicorn', 'unidentified', 'unification', 'unified', 'unifier', 'uniform', 'unify', 'unilateral', 'unilateralism', 'unimpressed', 'uninspiring', 'uninsured', 'unintended', 'unintentional', 'uninvestable', 'uninvited', 'union', 'unionization', 'unionize', 'unions', 'unique', 'uniquely', 'unis', 'unison', 'unit', 'unite', 'united', 'unitedhealthcare', 'unites', 'units', 'unity', 'univ', 'univer', 'universal', 'universally', 'universe', 'universi', 'universities', 'university', 'unjust', 'unjustifiable', 'unjustly', 'unknown', 'unlawfully', 'unleashed', 'unleashes', 'unleashing', 'unless', 'unlicensed', 'unlik', 'unlike', 'unlikeliest', 'unlikely', 'unlimited', 'unlock', 'unmistakable', 'unmoored', 'unn', 'unnerves', 'unnoticed', 'unofficial', 'unofficially', 'unorthodox', 'unpaid', 'unpicking', 'unplanned', 'unpopular', 'unprecedented', 'unpredictability', 'unpredictable', 'unprepared', 'unproductive', 'unprofessional', 'unpublished', 'unrav', 'unravel', 'unraveled', 'unraveling', 'unreasonable', 'unrecognisable', 'unrecognizable', 'unregistered', 'unregulated', 'unrelated', 'unreleased', 'unremarkable', 'unrepentant', 'unreported', 'unresolved', 'unrest', 'unruly', 'unsafe', 'unsanctioned', 'unscheduled', 'unscripted', 'unseal', 'unsealed', 'unseat', 'unseated', 'unsold', 'unsolicited', 'unsolved', 'unspeakable', 'unspecified', 'unspent', 'unstaffed', 'unsubstantiated', 'unsupervised', 'unsupp', 'unsupported', 'unsure', 'unsuspecting', 'unsworth', 'unthinkable', 'unti', 'untimely', 'unto', 'untouched', 'unusual', 'unusually', 'unveil', 'unveiled', 'unveils', 'unwanted', 'unwavering', 'unwelcome', 'unwelcomed', 'unwilling', 'unwitti', 'unwitting', 'upbeat', 'upcoming', 'update', 'updated', 'updates', 'updating', 'upend', 'upended', 'upending', 'upends', 'upfront', 'upg', 'upgra', 'upgrade', 'upgraded', 'upgrades', 'upgrading', 'upheaval', 'upheld', 'uphold', 'uplifting', 'upper', 'uppsala', 'upright', 'uprising', 'uproar', 'uproots', 'ups', 'upscale', 'upset', 'upsetting', 'upside', 'upstart', 'upstate', 'upturned', 'urban', 'urbi', 'uretsky', 'urge', 'urged', 'urgency', 'urgent', 'urgently', 'urges', 'urging', 'urinal', 'urinating', 'urine', 'urjit', 'urns', 'usa', 'usain', 'usatoday', 'usc', 'usda', 'use', 'used', 'useful', 'user', 'users', 'uses', 'usgs', 'ushering', 'usi', 'using', 'usmca', 'usoc', 'usps', 'uss', 'ustr', 'usual', 'usually', 'usurper', 'utah', 'utilities', 'utility', 'utopian', 'utqia', 'utter', 'uttered', 'utterly', 'uzbeks', 'va', 'vacancies', 'vacant', 'vacation', 'vacationing', 'vacations', 'vacaville', 'vaccinate', 'vaccinated', 'vaccinations', 'vaccine', 'vaccines', 'vacuum', 'vacuums', 'vagina', 'vahid', 'vain', 'val', 'valcambi', 'valentina', 'validated', 'vallelonga', 'valley', 'valsabbina', 'valsartan', 'valuable', 'value', 'valueact', 'valued', 'values', 'valuing', 'van', 'vanadium', 'vance', 'vandalised', 'vandalism', 'vandalized', 'vanessa', 'vanguar', 'vanguard', 'vanished', 'vanishes', 'vanishing', 'vanity', 'vanna', 'vanquished', 'vans', 'vanuatu', 'vape', 'vaped', 'vapi', 'vaping', 'var', 'varadkar', 'variation', 'varieties', 'variety', 'various', 'varney', 'varsity', 'vas', 'vasilevskiy', 'vast', 'vatican', 'vats', 'vaughan', 'vault', 've', 'veb', 'vedanta', 'veep', 'veg', 'vegan', 'vegans', 'vegas', 'vege', 'vegetabl', 'vegetables', 'vegetarian', 'vegetarians', 'vegetative', 'vehi', 'vehic', 'vehicle', 'vehicles', 'veil', 'veiled', 'velvet', 'vending', 'vendors', 'venezuela', 'venezuelan', 'venezuelans', 'venice', 'venlo', 'vent', 'ventura', 'venture', 'ventures', 'venues', 'ver', 'vera', 'veracruz', 'verbally', 'verdict', 'verified', 'verify', 'verizon', 'vermont', 'verna', 'vernaza', 'vernita', 'vernon', 'veronica', 'versa', 'versace', 'verse', 'version', 'versions', 'versus', 'verve', 'vespa', 'vessel', 'vest', 'vests', 'vet', 'veteran', 'veterans', 'veto', 'vets', 'vetted', 'vi', 'viable', 'viaduct', 'vibrant', 'vice', 'vicio', 'vict', 'victim', 'victims', 'victor', 'victoria', 'victorian', 'victorians', 'victories', 'victory', 'vid', 'video', 'videogame', 'videogames', 'videos', 'vie', 'vies', 'vietnam', 'vietnamese', 'view', 'viewe', 'viewed', 'viewer', 'viewers', 'viewing', 'viewpoint', 'views', 'viewsroom', 'vigad', 'vigil', 'vigilant', 'vigilante', 'vigils', 'vigorous', 'vik', 'viking', 'vikings', 'viktor', 'vil', 'vile', 'vilify', 'vilifying', 'villa', 'village', 'villager', 'villagers', 'villages', 'villain', 'villains', 'villas', 'villav', 'vince', 'vincenzo', 'vinci', 'vineyard', 'vineyards', 'vinik', 'vinograd', 'vintage', 'violate', 'violated', 'violating', 'violation', 'violations', 'violence', 'violent', 'violet', 'violinist', 'vip', 'viral', 'virat', 'virgil', 'virgin', 'virginia', 'virgins', 'virtual', 'virtually', 'virtue', 'virtues', 'virus', 'visa', 'visas', 'visible', 'vision', 'visionary', 'visions', 'visit', 'visited', 'visiting', 'visitor', 'visitors', 'visits', 'visual', 'visualizations', 'visuals', 'vital', 'vitamin', 'vitamins', 'vithiananthan', 'vitol', 'vivid', 'vividly', 'vivienne', 'vivre', 'vix', 'vladimir', 'vmware', 'vo', 'vocabularies', 'vocal', 'vocalist', 'vodka', 'voice', 'voiced', 'voices', 'void', 'volatile', 'volatility', 'volc', 'volcanic', 'volcano', 'volcanologist', 'volkswagen', 'volt', 'volume', 'volumes', 'volun', 'voluntarily', 'voluntary', 'volunteer', 'volunteers', 'volvo', 'von', 'vonn', 'vorac', 'voraciously', 'vortex', 'vot', 'vote', 'voted', 'voter', 'voters', 'votes', 'votin', 'voting', 'voucher', 'vouchers', 'vow', 'vowed', 'vowell', 'vowing', 'vows', 'vox', 'voyager', 'voyageurs', 'vp', 'vs', 'vucic', 'vuitton', 'vulaca', 'vulnerability', 'vulnerable', 'vw', 'wa', 'wackier', 'wacky', 'wade', 'waded', 'wades', 'wafers', 'waffle', 'waffles', 'wage', 'wager', 'wages', 'waging', 'wagon', 'wahlberg', 'wai', 'wainwright', 'waist', 'wait', 'waited', 'waiting', 'waitress', 'waits', 'waiver', 'waivers', 'wake', 'walden', 'waleed', 'wales', 'walgreens', 'walk', 'walkaway', 'walked', 'walker', 'walking', 'walkout', 'walks', 'wall', 'wallace', 'wallet', 'wallin', 'wallows', 'walls', 'walmar', 'walmart', 'walnut', 'walt', 'walter', 'waltz', 'wan', 'wanchaleom', 'wanda', 'wandera', 'wandering', 'wane', 'wang', 'wanna', 'want', 'wanted', 'wanting', 'wants', 'wanzhou', 'wapner', 'war', 'ward', 'warden', 'warehouse', 'warehouses', 'warfare', 'warhol', 'warlord', 'warm', 'warmbier', 'warmer', 'warmest', 'warmi', 'warming', 'warms', 'warn', 'warned', 'warner', 'warning', 'warnings', 'warnock', 'warns', 'warplanes', 'warra', 'warraich', 'warrant', 'warren', 'warring', 'warrior', 'warriors', 'wars', 'warsaw', 'warship', 'warships', 'wartime', 'wary', 'wash', 'washed', 'washi', 'washin', 'washing', 'washingt', 'washington', 'wasn', 'wasser', 'waste', 'wasteland', 'wasting', 'wat', 'watch', 'watchdog', 'watchdogs', 'watched', 'watches', 'watching', 'watchlist', 'watchmaker', 'water', 'watered', 'waterfalls', 'waterford', 'waterfront', 'watergate', 'waters', 'watership', 'waterspout', 'waterway', 'watson', 'wave', 'waver', 'waves', 'wawa', 'way', 'waymo', 'wayne', 'ways', 'wbur', 'wbz', 'weak', 'weaken', 'weakening', 'weakens', 'weaker', 'weakest', 'weakness', 'weaknesses', 'wealth', 'wealthiest', 'wealthy', 'weapon', 'weaponize', 'weaponized', 'weaponry', 'weapons', 'wear', 'wearable', 'wearables', 'wearing', 'wears', 'weary', 'weather', 'weatherly', 'weatherman', 'web', 'webb', 'weber', 'website', 'websites', 'webster', 'wechat', 'wedding', 'weddings', 'weddle', 'wedging', 'wedne', 'wednesday', 'wednesdaymotivation', 'wednesdaywisdom', 'wee', 'weed', 'week', 'weekday', 'weekend', 'weekly', 'weeknight', 'weeks', 'weevils', 'wei', 'weigh', 'weighed', 'weighing', 'weighs', 'weight', 'weinberg', 'weinstein', 'weird', 'weirder', 'weirdest', 'weirdly', 'weisz', 'welcome', 'welcomed', 'welcomes', 'welcoming', 'welfare', 'wells', 'welsh', 'wen', 'wendell', 'wendy', 'went', 'weren', 'wesco', 'wesley', 'wesson', 'west', 'westbrook', 'westchester', 'western', 'westerner', 'westerners', 'westeros', 'westmoreland', 'westside', 'westwood', 'wet', 'wetlands', 'wettest', 'wework', 'wexford', 'wexton', 'wfp', 'wh', 'wha', 'whacker', 'whale', 'whales', 'whali', 'whaling', 'whataburger', 'whateve', 'whatsapp', 'whe', 'wheat', 'wheel', 'wheelch', 'wheelchair', 'wheelchairs', 'wheeled', 'wheeler', 'wheels', 'whelan', 'whereabouts', 'whet', 'wheth', 'whi', 'whic', 'whimper', 'whirlwind', 'whishaw', 'whisk', 'whiskey', 'whisper', 'whistleblower', 'whistles', 'whitaker', 'white', 'whitener', 'whiteout', 'whites', 'whitey', 'whitfield', 'whitman', 'whitney', 'whittler', 'whiz', 'whol', 'wholly', 'whoops', 'whopping', 'whyless', 'wi', 'wicked', 'wickremesinghe', 'wide', 'widely', 'widening', 'widens', 'wider', 'widespread', 'widmer', 'widow', 'widower', 'widows', 'wield', 'wielding', 'wif', 'wife', 'wifi', 'wiggins', 'wigs', 'wijegunaratne', 'wikileaks', 'wil', 'wild', 'wilderness', 'wildest', 'wildfire', 'wildfires', 'wildlife', 'wildly', 'wiley', 'wilkerson', 'wilkie', 'wilkinson', 'wilks', 'willi', 'william', 'williams', 'williamsburg', 'willie', 'willing', 'willingness', 'willy', 'wilson', 'wimbledon', 'win', 'winans', 'wind', 'winding', 'window', 'windows', 'winds', 'windsor', 'wine', 'wines', 'winfrey', 'wing', 'winger', 'wings', 'winiecki', 'winklevosses', 'winn', 'winner', 'winners', 'winnin', 'winning', 'wins', 'wint', 'winter', 'winters', 'wintersolstice', 'wintertime', 'wintry', 'wipe', 'wiped', 'wipeout', 'wipes', 'wiping', 'wire', 'wired', 'wireless', 'wirtanen', 'wis', 'wiscon', 'wisconsin', 'wisdom', 'wise', 'wiseau', 'wish', 'wished', 'wishes', 'wishing', 'wit', 'witch', 'witchcraft', 'witches', 'withdraw', 'withdrawal', 'withdrawing', 'withdrawn', 'withdraws', 'withheld', 'withholding', 'withholds', 'withou', 'witi', 'witness', 'witnessed', 'witnesses', 'witten', 'witter', 'wives', 'wizards', 'wjw', 'wnba', 'wnyc', 'wo', 'woes', 'woke', 'wolf', 'wolverines', 'wolves', 'wom', 'woma', 'woman', 'wombats', 'wome', 'women', 'won', 'wonder', 'wondered', 'wonderful', 'wonderfully', 'wondering', 'wonderland', 'wonders', 'wondrous', 'wonka', 'woo', 'wood', 'woodland', 'woods', 'woodstock', 'woodward', 'wooing', 'wool', 'woolrich', 'woolsey', 'woolseyfire', 'wor', 'worcester', 'word', 'worded', 'words', 'wore', 'work', 'workarounds', 'worked', 'worker', 'workers', 'workforce', 'worki', 'workin', 'working', 'workout', 'workpla', 'workplace', 'works', 'worksites', 'workspace', 'workweek', 'worl', 'world', 'worlds', 'worldwide', 'worms', 'wormwood', 'worn', 'worr', 'worried', 'worries', 'worry', 'worrying', 'wors', 'worse', 'worsen', 'worsening', 'worsens', 'worship', 'worshippers', 'worshipping', 'worst', 'worth', 'worthy', 'wou', 'woul', 'wouldn', 'wound', 'wounded', 'wounding', 'wow', 'wowed', 'wr', 'wracking', 'wranglers', 'wrangling', 'wrap', 'wrapped', 'wrapping', 'wraps', 'wrath', 'wray', 'wreak', 'wreaths', 'wreck', 'wreckage', 'wrecked', 'wrecking', 'wren', 'wrenching', 'wresting', 'wrestled', 'wrestler', 'wrestles', 'wrestling', 'wri', 'wring', 'wrinkle', 'writ', 'write', 'writer', 'writers', 'writes', 'writing', 'writt', 'written', 'wron', 'wrong', 'wrongful', 'wrongfully', 'wrongly', 'wrote', 'wsj', 'wsjcoin', 'wta', 'wto', 'wu', 'wuerl', 'wuerttemberg', 'ww', 'wwe', 'wwii', 'wxin', 'wylie', 'wyoming', 'xi', 'xiaobo', 'xiaomi', 'xiaoxuan', 'xinjiang', 'xl', 'xprize', 'xr', 'xtravaganza', 'xvi', 'xyza', 'yacht', 'yael', 'yahoo', 'yair', 'yale', 'yandex', 'yang', 'yankees', 'yanking', 'yann', 'yanny', 'yanxi', 'yards', 'yaseen', 'ye', 'yea', 'yeah', 'year', 'yearlong', 'yearly', 'years', 'yearslong', 'yeast', 'yelled', 'yelling', 'yellow', 'yellowstone', 'yemen', 'yemeni', 'yemenis', 'yen', 'yep', 'yes', 'yesterday', 'yield', 'yielding', 'yields', 'yikes', 'yimou', 'yo', 'yoga', 'yogurt', 'yong', 'yonhap', 'yoo', 'york', 'yorker', 'yorkers', 'yorkshire', 'yosemite', 'yougov', 'young', 'younge', 'younger', 'youngest', 'yourse', 'youssef', 'youth', 'youths', 'youtu', 'youtube', 'ysidro', 'yuan', 'yuck', 'yuletide', 'yum', 'yusaku', 'yvette', 'zach', 'zachary', 'zaddy', 'zainab', 'zalika', 'zall', 'zama', 'zamanbol', 'zanchetta', 'zandi', 'zanzibar', 'zavaleta', 'zeal', 'zealand', 'zee', 'zeigesty', 'zeigler', 'zeke', 'zen', 'zero', 'zeros', 'zhang', 'zhangjiakou', 'zhou', 'zhu', 'zi', 'ziegler', 'ziers', 'zigzag', 'zimababwe', 'zimbabwe', 'zimmerman', 'zimmern', 'zinke', 'zinni', 'zinta', 'zion', 'zipline', 'zirinsky', 'zoe', 'zom', 'zomato', 'zombanakis', 'zombie', 'zone', 'zones', 'zoning', 'zoo', 'zookeepers', 'zoological', 'zoox', 'zuckerberg', 'zuma', 'zura']\n"
     ]
    }
   ],
   "source": [
    "from sklearn.feature_extraction.text import CountVectorizer\n",
    "\n",
    "vectorizer = CountVectorizer(stop_words=\"english\", analyzer='word', \n",
    "                            ngram_range=(1, 1), max_df=1.0, min_df=1, max_features=None)\n",
    "bow = vectorizer.fit_transform(X_train)\n",
    "print(vectorizer.get_feature_names())"
   ]
  },
  {
   "cell_type": "code",
   "execution_count": 59,
   "metadata": {},
   "outputs": [],
   "source": [
    "X_train, X_test = train_test_split(bow, test_size=0.25, random_state=42)"
   ]
  },
  {
   "cell_type": "code",
   "execution_count": 74,
   "metadata": {},
   "outputs": [
    {
     "data": {
      "text/plain": [
       "(16875, 19272)"
      ]
     },
     "execution_count": 74,
     "metadata": {},
     "output_type": "execute_result"
    }
   ],
   "source": [
    "bow.shape"
   ]
  },
  {
   "cell_type": "markdown",
   "metadata": {},
   "source": [
    "### Mean Shift with Bag of Words"
   ]
  },
  {
   "cell_type": "code",
   "execution_count": 33,
   "metadata": {},
   "outputs": [
    {
     "ename": "KeyboardInterrupt",
     "evalue": "",
     "output_type": "error",
     "traceback": [
      "\u001b[0;31m---------------------------------------------------------------------------\u001b[0m",
      "\u001b[0;31mKeyboardInterrupt\u001b[0m                         Traceback (most recent call last)",
      "\u001b[0;32m<ipython-input-33-27b48fa4153e>\u001b[0m in \u001b[0;36m<module>\u001b[0;34m()\u001b[0m\n\u001b[1;32m      7\u001b[0m \u001b[0;31m# Declare and fit the model.\u001b[0m\u001b[0;34m\u001b[0m\u001b[0;34m\u001b[0m\u001b[0;34m\u001b[0m\u001b[0m\n\u001b[1;32m      8\u001b[0m \u001b[0mms\u001b[0m \u001b[0;34m=\u001b[0m \u001b[0mMeanShift\u001b[0m\u001b[0;34m(\u001b[0m\u001b[0mbandwidth\u001b[0m\u001b[0;34m=\u001b[0m\u001b[0mbandwidth\u001b[0m\u001b[0;34m,\u001b[0m \u001b[0mbin_seeding\u001b[0m\u001b[0;34m=\u001b[0m\u001b[0;32mTrue\u001b[0m\u001b[0;34m)\u001b[0m\u001b[0;34m\u001b[0m\u001b[0;34m\u001b[0m\u001b[0m\n\u001b[0;32m----> 9\u001b[0;31m \u001b[0mms\u001b[0m\u001b[0;34m.\u001b[0m\u001b[0mfit\u001b[0m\u001b[0;34m(\u001b[0m\u001b[0mX_train\u001b[0m\u001b[0;34m.\u001b[0m\u001b[0mtodense\u001b[0m\u001b[0;34m(\u001b[0m\u001b[0;34m)\u001b[0m\u001b[0;34m)\u001b[0m\u001b[0;34m\u001b[0m\u001b[0;34m\u001b[0m\u001b[0m\n\u001b[0m\u001b[1;32m     10\u001b[0m \u001b[0;34m\u001b[0m\u001b[0m\n\u001b[1;32m     11\u001b[0m \u001b[0;31m# Extract cluster assignments for each data point.\u001b[0m\u001b[0;34m\u001b[0m\u001b[0;34m\u001b[0m\u001b[0;34m\u001b[0m\u001b[0m\n",
      "\u001b[0;32m/anaconda3/lib/python3.6/site-packages/sklearn/cluster/mean_shift_.py\u001b[0m in \u001b[0;36mfit\u001b[0;34m(self, X, y)\u001b[0m\n\u001b[1;32m    423\u001b[0m                        \u001b[0mmin_bin_freq\u001b[0m\u001b[0;34m=\u001b[0m\u001b[0mself\u001b[0m\u001b[0;34m.\u001b[0m\u001b[0mmin_bin_freq\u001b[0m\u001b[0;34m,\u001b[0m\u001b[0;34m\u001b[0m\u001b[0;34m\u001b[0m\u001b[0m\n\u001b[1;32m    424\u001b[0m                        \u001b[0mbin_seeding\u001b[0m\u001b[0;34m=\u001b[0m\u001b[0mself\u001b[0m\u001b[0;34m.\u001b[0m\u001b[0mbin_seeding\u001b[0m\u001b[0;34m,\u001b[0m\u001b[0;34m\u001b[0m\u001b[0;34m\u001b[0m\u001b[0m\n\u001b[0;32m--> 425\u001b[0;31m                        cluster_all=self.cluster_all, n_jobs=self.n_jobs)\n\u001b[0m\u001b[1;32m    426\u001b[0m         \u001b[0;32mreturn\u001b[0m \u001b[0mself\u001b[0m\u001b[0;34m\u001b[0m\u001b[0;34m\u001b[0m\u001b[0m\n\u001b[1;32m    427\u001b[0m \u001b[0;34m\u001b[0m\u001b[0m\n",
      "\u001b[0;32m/anaconda3/lib/python3.6/site-packages/sklearn/cluster/mean_shift_.py\u001b[0m in \u001b[0;36mmean_shift\u001b[0;34m(X, bandwidth, seeds, bin_seeding, min_bin_freq, cluster_all, max_iter, n_jobs)\u001b[0m\n\u001b[1;32m    203\u001b[0m     all_res = Parallel(n_jobs=n_jobs)(\n\u001b[1;32m    204\u001b[0m         \u001b[0mdelayed\u001b[0m\u001b[0;34m(\u001b[0m\u001b[0m_mean_shift_single_seed\u001b[0m\u001b[0;34m)\u001b[0m\u001b[0;34m\u001b[0m\u001b[0;34m\u001b[0m\u001b[0m\n\u001b[0;32m--> 205\u001b[0;31m         (seed, X, nbrs, max_iter) for seed in seeds)\n\u001b[0m\u001b[1;32m    206\u001b[0m     \u001b[0;31m# copy results in a dictionary\u001b[0m\u001b[0;34m\u001b[0m\u001b[0;34m\u001b[0m\u001b[0;34m\u001b[0m\u001b[0m\n\u001b[1;32m    207\u001b[0m     \u001b[0;32mfor\u001b[0m \u001b[0mi\u001b[0m \u001b[0;32min\u001b[0m \u001b[0mrange\u001b[0m\u001b[0;34m(\u001b[0m\u001b[0mlen\u001b[0m\u001b[0;34m(\u001b[0m\u001b[0mseeds\u001b[0m\u001b[0;34m)\u001b[0m\u001b[0;34m)\u001b[0m\u001b[0;34m:\u001b[0m\u001b[0;34m\u001b[0m\u001b[0;34m\u001b[0m\u001b[0m\n",
      "\u001b[0;32m/anaconda3/lib/python3.6/site-packages/sklearn/externals/joblib/parallel.py\u001b[0m in \u001b[0;36m__call__\u001b[0;34m(self, iterable)\u001b[0m\n\u001b[1;32m    918\u001b[0m                 \u001b[0mself\u001b[0m\u001b[0;34m.\u001b[0m\u001b[0m_iterating\u001b[0m \u001b[0;34m=\u001b[0m \u001b[0mself\u001b[0m\u001b[0;34m.\u001b[0m\u001b[0m_original_iterator\u001b[0m \u001b[0;32mis\u001b[0m \u001b[0;32mnot\u001b[0m \u001b[0;32mNone\u001b[0m\u001b[0;34m\u001b[0m\u001b[0;34m\u001b[0m\u001b[0m\n\u001b[1;32m    919\u001b[0m \u001b[0;34m\u001b[0m\u001b[0m\n\u001b[0;32m--> 920\u001b[0;31m             \u001b[0;32mwhile\u001b[0m \u001b[0mself\u001b[0m\u001b[0;34m.\u001b[0m\u001b[0mdispatch_one_batch\u001b[0m\u001b[0;34m(\u001b[0m\u001b[0miterator\u001b[0m\u001b[0;34m)\u001b[0m\u001b[0;34m:\u001b[0m\u001b[0;34m\u001b[0m\u001b[0;34m\u001b[0m\u001b[0m\n\u001b[0m\u001b[1;32m    921\u001b[0m                 \u001b[0;32mpass\u001b[0m\u001b[0;34m\u001b[0m\u001b[0;34m\u001b[0m\u001b[0m\n\u001b[1;32m    922\u001b[0m \u001b[0;34m\u001b[0m\u001b[0m\n",
      "\u001b[0;32m/anaconda3/lib/python3.6/site-packages/sklearn/externals/joblib/parallel.py\u001b[0m in \u001b[0;36mdispatch_one_batch\u001b[0;34m(self, iterator)\u001b[0m\n\u001b[1;32m    757\u001b[0m                 \u001b[0;32mreturn\u001b[0m \u001b[0;32mFalse\u001b[0m\u001b[0;34m\u001b[0m\u001b[0;34m\u001b[0m\u001b[0m\n\u001b[1;32m    758\u001b[0m             \u001b[0;32melse\u001b[0m\u001b[0;34m:\u001b[0m\u001b[0;34m\u001b[0m\u001b[0;34m\u001b[0m\u001b[0m\n\u001b[0;32m--> 759\u001b[0;31m                 \u001b[0mself\u001b[0m\u001b[0;34m.\u001b[0m\u001b[0m_dispatch\u001b[0m\u001b[0;34m(\u001b[0m\u001b[0mtasks\u001b[0m\u001b[0;34m)\u001b[0m\u001b[0;34m\u001b[0m\u001b[0;34m\u001b[0m\u001b[0m\n\u001b[0m\u001b[1;32m    760\u001b[0m                 \u001b[0;32mreturn\u001b[0m \u001b[0;32mTrue\u001b[0m\u001b[0;34m\u001b[0m\u001b[0;34m\u001b[0m\u001b[0m\n\u001b[1;32m    761\u001b[0m \u001b[0;34m\u001b[0m\u001b[0m\n",
      "\u001b[0;32m/anaconda3/lib/python3.6/site-packages/sklearn/externals/joblib/parallel.py\u001b[0m in \u001b[0;36m_dispatch\u001b[0;34m(self, batch)\u001b[0m\n\u001b[1;32m    714\u001b[0m         \u001b[0;32mwith\u001b[0m \u001b[0mself\u001b[0m\u001b[0;34m.\u001b[0m\u001b[0m_lock\u001b[0m\u001b[0;34m:\u001b[0m\u001b[0;34m\u001b[0m\u001b[0;34m\u001b[0m\u001b[0m\n\u001b[1;32m    715\u001b[0m             \u001b[0mjob_idx\u001b[0m \u001b[0;34m=\u001b[0m \u001b[0mlen\u001b[0m\u001b[0;34m(\u001b[0m\u001b[0mself\u001b[0m\u001b[0;34m.\u001b[0m\u001b[0m_jobs\u001b[0m\u001b[0;34m)\u001b[0m\u001b[0;34m\u001b[0m\u001b[0;34m\u001b[0m\u001b[0m\n\u001b[0;32m--> 716\u001b[0;31m             \u001b[0mjob\u001b[0m \u001b[0;34m=\u001b[0m \u001b[0mself\u001b[0m\u001b[0;34m.\u001b[0m\u001b[0m_backend\u001b[0m\u001b[0;34m.\u001b[0m\u001b[0mapply_async\u001b[0m\u001b[0;34m(\u001b[0m\u001b[0mbatch\u001b[0m\u001b[0;34m,\u001b[0m \u001b[0mcallback\u001b[0m\u001b[0;34m=\u001b[0m\u001b[0mcb\u001b[0m\u001b[0;34m)\u001b[0m\u001b[0;34m\u001b[0m\u001b[0;34m\u001b[0m\u001b[0m\n\u001b[0m\u001b[1;32m    717\u001b[0m             \u001b[0;31m# A job can complete so quickly than its callback is\u001b[0m\u001b[0;34m\u001b[0m\u001b[0;34m\u001b[0m\u001b[0;34m\u001b[0m\u001b[0m\n\u001b[1;32m    718\u001b[0m             \u001b[0;31m# called before we get here, causing self._jobs to\u001b[0m\u001b[0;34m\u001b[0m\u001b[0;34m\u001b[0m\u001b[0;34m\u001b[0m\u001b[0m\n",
      "\u001b[0;32m/anaconda3/lib/python3.6/site-packages/sklearn/externals/joblib/_parallel_backends.py\u001b[0m in \u001b[0;36mapply_async\u001b[0;34m(self, func, callback)\u001b[0m\n\u001b[1;32m    180\u001b[0m     \u001b[0;32mdef\u001b[0m \u001b[0mapply_async\u001b[0m\u001b[0;34m(\u001b[0m\u001b[0mself\u001b[0m\u001b[0;34m,\u001b[0m \u001b[0mfunc\u001b[0m\u001b[0;34m,\u001b[0m \u001b[0mcallback\u001b[0m\u001b[0;34m=\u001b[0m\u001b[0;32mNone\u001b[0m\u001b[0;34m)\u001b[0m\u001b[0;34m:\u001b[0m\u001b[0;34m\u001b[0m\u001b[0;34m\u001b[0m\u001b[0m\n\u001b[1;32m    181\u001b[0m         \u001b[0;34m\"\"\"Schedule a func to be run\"\"\"\u001b[0m\u001b[0;34m\u001b[0m\u001b[0;34m\u001b[0m\u001b[0m\n\u001b[0;32m--> 182\u001b[0;31m         \u001b[0mresult\u001b[0m \u001b[0;34m=\u001b[0m \u001b[0mImmediateResult\u001b[0m\u001b[0;34m(\u001b[0m\u001b[0mfunc\u001b[0m\u001b[0;34m)\u001b[0m\u001b[0;34m\u001b[0m\u001b[0;34m\u001b[0m\u001b[0m\n\u001b[0m\u001b[1;32m    183\u001b[0m         \u001b[0;32mif\u001b[0m \u001b[0mcallback\u001b[0m\u001b[0;34m:\u001b[0m\u001b[0;34m\u001b[0m\u001b[0;34m\u001b[0m\u001b[0m\n\u001b[1;32m    184\u001b[0m             \u001b[0mcallback\u001b[0m\u001b[0;34m(\u001b[0m\u001b[0mresult\u001b[0m\u001b[0;34m)\u001b[0m\u001b[0;34m\u001b[0m\u001b[0;34m\u001b[0m\u001b[0m\n",
      "\u001b[0;32m/anaconda3/lib/python3.6/site-packages/sklearn/externals/joblib/_parallel_backends.py\u001b[0m in \u001b[0;36m__init__\u001b[0;34m(self, batch)\u001b[0m\n\u001b[1;32m    547\u001b[0m         \u001b[0;31m# Don't delay the application, to avoid keeping the input\u001b[0m\u001b[0;34m\u001b[0m\u001b[0;34m\u001b[0m\u001b[0;34m\u001b[0m\u001b[0m\n\u001b[1;32m    548\u001b[0m         \u001b[0;31m# arguments in memory\u001b[0m\u001b[0;34m\u001b[0m\u001b[0;34m\u001b[0m\u001b[0;34m\u001b[0m\u001b[0m\n\u001b[0;32m--> 549\u001b[0;31m         \u001b[0mself\u001b[0m\u001b[0;34m.\u001b[0m\u001b[0mresults\u001b[0m \u001b[0;34m=\u001b[0m \u001b[0mbatch\u001b[0m\u001b[0;34m(\u001b[0m\u001b[0;34m)\u001b[0m\u001b[0;34m\u001b[0m\u001b[0;34m\u001b[0m\u001b[0m\n\u001b[0m\u001b[1;32m    550\u001b[0m \u001b[0;34m\u001b[0m\u001b[0m\n\u001b[1;32m    551\u001b[0m     \u001b[0;32mdef\u001b[0m \u001b[0mget\u001b[0m\u001b[0;34m(\u001b[0m\u001b[0mself\u001b[0m\u001b[0;34m)\u001b[0m\u001b[0;34m:\u001b[0m\u001b[0;34m\u001b[0m\u001b[0;34m\u001b[0m\u001b[0m\n",
      "\u001b[0;32m/anaconda3/lib/python3.6/site-packages/sklearn/externals/joblib/parallel.py\u001b[0m in \u001b[0;36m__call__\u001b[0;34m(self)\u001b[0m\n\u001b[1;32m    223\u001b[0m         \u001b[0;32mwith\u001b[0m \u001b[0mparallel_backend\u001b[0m\u001b[0;34m(\u001b[0m\u001b[0mself\u001b[0m\u001b[0;34m.\u001b[0m\u001b[0m_backend\u001b[0m\u001b[0;34m,\u001b[0m \u001b[0mn_jobs\u001b[0m\u001b[0;34m=\u001b[0m\u001b[0mself\u001b[0m\u001b[0;34m.\u001b[0m\u001b[0m_n_jobs\u001b[0m\u001b[0;34m)\u001b[0m\u001b[0;34m:\u001b[0m\u001b[0;34m\u001b[0m\u001b[0;34m\u001b[0m\u001b[0m\n\u001b[1;32m    224\u001b[0m             return [func(*args, **kwargs)\n\u001b[0;32m--> 225\u001b[0;31m                     for func, args, kwargs in self.items]\n\u001b[0m\u001b[1;32m    226\u001b[0m \u001b[0;34m\u001b[0m\u001b[0m\n\u001b[1;32m    227\u001b[0m     \u001b[0;32mdef\u001b[0m \u001b[0m__len__\u001b[0m\u001b[0;34m(\u001b[0m\u001b[0mself\u001b[0m\u001b[0;34m)\u001b[0m\u001b[0;34m:\u001b[0m\u001b[0;34m\u001b[0m\u001b[0;34m\u001b[0m\u001b[0m\n",
      "\u001b[0;32m/anaconda3/lib/python3.6/site-packages/sklearn/externals/joblib/parallel.py\u001b[0m in \u001b[0;36m<listcomp>\u001b[0;34m(.0)\u001b[0m\n\u001b[1;32m    223\u001b[0m         \u001b[0;32mwith\u001b[0m \u001b[0mparallel_backend\u001b[0m\u001b[0;34m(\u001b[0m\u001b[0mself\u001b[0m\u001b[0;34m.\u001b[0m\u001b[0m_backend\u001b[0m\u001b[0;34m,\u001b[0m \u001b[0mn_jobs\u001b[0m\u001b[0;34m=\u001b[0m\u001b[0mself\u001b[0m\u001b[0;34m.\u001b[0m\u001b[0m_n_jobs\u001b[0m\u001b[0;34m)\u001b[0m\u001b[0;34m:\u001b[0m\u001b[0;34m\u001b[0m\u001b[0;34m\u001b[0m\u001b[0m\n\u001b[1;32m    224\u001b[0m             return [func(*args, **kwargs)\n\u001b[0;32m--> 225\u001b[0;31m                     for func, args, kwargs in self.items]\n\u001b[0m\u001b[1;32m    226\u001b[0m \u001b[0;34m\u001b[0m\u001b[0m\n\u001b[1;32m    227\u001b[0m     \u001b[0;32mdef\u001b[0m \u001b[0m__len__\u001b[0m\u001b[0;34m(\u001b[0m\u001b[0mself\u001b[0m\u001b[0;34m)\u001b[0m\u001b[0;34m:\u001b[0m\u001b[0;34m\u001b[0m\u001b[0;34m\u001b[0m\u001b[0m\n",
      "\u001b[0;32m/anaconda3/lib/python3.6/site-packages/sklearn/cluster/mean_shift_.py\u001b[0m in \u001b[0;36m_mean_shift_single_seed\u001b[0;34m(my_mean, X, nbrs, max_iter)\u001b[0m\n\u001b[1;32m    100\u001b[0m             \u001b[0;32mbreak\u001b[0m  \u001b[0;31m# Depending on seeding strategy this condition may occur\u001b[0m\u001b[0;34m\u001b[0m\u001b[0;34m\u001b[0m\u001b[0m\n\u001b[1;32m    101\u001b[0m         \u001b[0mmy_old_mean\u001b[0m \u001b[0;34m=\u001b[0m \u001b[0mmy_mean\u001b[0m  \u001b[0;31m# save the old mean\u001b[0m\u001b[0;34m\u001b[0m\u001b[0;34m\u001b[0m\u001b[0m\n\u001b[0;32m--> 102\u001b[0;31m         \u001b[0mmy_mean\u001b[0m \u001b[0;34m=\u001b[0m \u001b[0mnp\u001b[0m\u001b[0;34m.\u001b[0m\u001b[0mmean\u001b[0m\u001b[0;34m(\u001b[0m\u001b[0mpoints_within\u001b[0m\u001b[0;34m,\u001b[0m \u001b[0maxis\u001b[0m\u001b[0;34m=\u001b[0m\u001b[0;36m0\u001b[0m\u001b[0;34m)\u001b[0m\u001b[0;34m\u001b[0m\u001b[0;34m\u001b[0m\u001b[0m\n\u001b[0m\u001b[1;32m    103\u001b[0m         \u001b[0;31m# If converged or at max_iter, adds the cluster\u001b[0m\u001b[0;34m\u001b[0m\u001b[0;34m\u001b[0m\u001b[0;34m\u001b[0m\u001b[0m\n\u001b[1;32m    104\u001b[0m         if (np.linalg.norm(my_mean - my_old_mean) < stop_thresh or\n",
      "\u001b[0;32m/anaconda3/lib/python3.6/site-packages/numpy/core/fromnumeric.py\u001b[0m in \u001b[0;36mmean\u001b[0;34m(a, axis, dtype, out, keepdims)\u001b[0m\n\u001b[1;32m   2918\u001b[0m \u001b[0;34m\u001b[0m\u001b[0m\n\u001b[1;32m   2919\u001b[0m     return _methods._mean(a, axis=axis, dtype=dtype,\n\u001b[0;32m-> 2920\u001b[0;31m                           out=out, **kwargs)\n\u001b[0m\u001b[1;32m   2921\u001b[0m \u001b[0;34m\u001b[0m\u001b[0m\n\u001b[1;32m   2922\u001b[0m \u001b[0;34m\u001b[0m\u001b[0m\n",
      "\u001b[0;32m/anaconda3/lib/python3.6/site-packages/numpy/core/_methods.py\u001b[0m in \u001b[0;36m_mean\u001b[0;34m(a, axis, dtype, out, keepdims)\u001b[0m\n\u001b[1;32m     73\u001b[0m             \u001b[0mis_float16_result\u001b[0m \u001b[0;34m=\u001b[0m \u001b[0;32mTrue\u001b[0m\u001b[0;34m\u001b[0m\u001b[0;34m\u001b[0m\u001b[0m\n\u001b[1;32m     74\u001b[0m \u001b[0;34m\u001b[0m\u001b[0m\n\u001b[0;32m---> 75\u001b[0;31m     \u001b[0mret\u001b[0m \u001b[0;34m=\u001b[0m \u001b[0mumr_sum\u001b[0m\u001b[0;34m(\u001b[0m\u001b[0marr\u001b[0m\u001b[0;34m,\u001b[0m \u001b[0maxis\u001b[0m\u001b[0;34m,\u001b[0m \u001b[0mdtype\u001b[0m\u001b[0;34m,\u001b[0m \u001b[0mout\u001b[0m\u001b[0;34m,\u001b[0m \u001b[0mkeepdims\u001b[0m\u001b[0;34m)\u001b[0m\u001b[0;34m\u001b[0m\u001b[0;34m\u001b[0m\u001b[0m\n\u001b[0m\u001b[1;32m     76\u001b[0m     \u001b[0;32mif\u001b[0m \u001b[0misinstance\u001b[0m\u001b[0;34m(\u001b[0m\u001b[0mret\u001b[0m\u001b[0;34m,\u001b[0m \u001b[0mmu\u001b[0m\u001b[0;34m.\u001b[0m\u001b[0mndarray\u001b[0m\u001b[0;34m)\u001b[0m\u001b[0;34m:\u001b[0m\u001b[0;34m\u001b[0m\u001b[0;34m\u001b[0m\u001b[0m\n\u001b[1;32m     77\u001b[0m         ret = um.true_divide(\n",
      "\u001b[0;31mKeyboardInterrupt\u001b[0m: "
     ]
    }
   ],
   "source": [
    "from sklearn.cluster import MeanShift, estimate_bandwidth\n",
    "\n",
    "# Here we set the bandwidth. This function automatically derives a bandwidth\n",
    "# number based on an inspection of the distances among points in the data.\n",
    "bandwidth = estimate_bandwidth(X_train.todense(), quantile=0.2, n_samples=500)\n",
    "\n",
    "# Declare and fit the model.\n",
    "ms = MeanShift(bandwidth=bandwidth, bin_seeding=True)\n",
    "ms.fit(X_train.todense())\n",
    "\n",
    "# Extract cluster assignments for each data point.\n",
    "labels = ms.labels_\n",
    "\n",
    "# Coordinates of the cluster centers.\n",
    "cluster_centers = ms.cluster_centers_\n",
    "\n",
    "# Count our clusters.\n",
    "n_clusters_ = len(np.unique(labels))\n",
    "\n",
    "print(\"Number of estimated clusters: {}\".format(n_clusters_))"
   ]
  },
  {
   "cell_type": "markdown",
   "metadata": {},
   "source": [
    "### K Means with Bag of Words"
   ]
  },
  {
   "cell_type": "code",
   "execution_count": null,
   "metadata": {},
   "outputs": [],
   "source": [
    "# Normalize the data.\n",
    "X_norm = normalize(X_train)"
   ]
  },
  {
   "cell_type": "code",
   "execution_count": null,
   "metadata": {},
   "outputs": [],
   "source": [
    "# Reduce it to two components.\n",
    "X_pca_bow = PCA(2).fit_transform(X_norm.todense())\n",
    "\n",
    "# Calculate predicted values.\n",
    "y_pred = KMeans(n_clusters=9, random_state=42).fit_predict(X_pca_bow)\n",
    "\n",
    "# Plot the solution.\n",
    "plt.scatter(X_pca_bow[:, 0], X_pca_bow[:, 1], c=y_pred)\n",
    "plt.show()"
   ]
  },
  {
   "cell_type": "markdown",
   "metadata": {},
   "source": [
    "### LSA with BoW"
   ]
  },
  {
   "cell_type": "code",
   "execution_count": 79,
   "metadata": {},
   "outputs": [
    {
     "name": "stdout",
     "output_type": "stream",
     "text": [
      "Concept 0:\n",
      "trump\n",
      "president\n",
      "new\n",
      "border\n",
      "wall\n",
      "says\n",
      "year\n",
      "house\n",
      "shutdown\n",
      "government\n",
      " \n",
      "Concept 1:\n",
      "new\n",
      "year\n",
      "york\n",
      "old\n",
      "city\n",
      "eve\n",
      "people\n",
      "world\n",
      "man\n",
      "day\n",
      " \n",
      "Concept 2:\n",
      "year\n",
      "old\n",
      "christmas\n",
      "man\n",
      "girl\n",
      "boy\n",
      "best\n",
      "border\n",
      "death\n",
      "woman\n",
      " \n",
      "Concept 3:\n",
      "government\n",
      "shutdown\n",
      "says\n",
      "house\n",
      "federal\n",
      "partial\n",
      "democrats\n",
      "senate\n",
      "border\n",
      "workers\n",
      " \n",
      "Concept 4:\n",
      "says\n",
      "china\n",
      "president\n",
      "house\n",
      "just\n",
      "people\n",
      "white\n",
      "north\n",
      "man\n",
      "leader\n",
      " \n"
     ]
    }
   ],
   "source": [
    "from sklearn.decomposition import TruncatedSVD\n",
    "from sklearn.pipeline import make_pipeline\n",
    "from sklearn.preprocessing import Normalizer\n",
    "\n",
    "from sklearn.decomposition import TruncatedSVD\n",
    "lsa = TruncatedSVD(n_components=5,n_iter=500)\n",
    "lsa.fit(bow)\n",
    "terms = vectorizer.get_feature_names()\n",
    "\n",
    "for i,comp in enumerate(lsa.components_):\n",
    "    termsInComp = zip(terms,comp)\n",
    "    sortedterms = sorted(termsInComp, key=lambda x: x[1],reverse=True)[:10]\n",
    "    print(\"Concept %d:\" % i)\n",
    "    for term in sortedterms:\n",
    "        print(term[0])\n",
    "    print(\" \")"
   ]
  },
  {
   "cell_type": "markdown",
   "metadata": {},
   "source": [
    "### Bigrams"
   ]
  },
  {
   "cell_type": "code",
   "execution_count": 91,
   "metadata": {},
   "outputs": [],
   "source": [
    "handles = ['CNN','FoxNews','NPR','Reuters','WSJ','NYTimes', 'USATODAY', 'washingtonpost', 'BBCWorld']"
   ]
  },
  {
   "cell_type": "code",
   "execution_count": 86,
   "metadata": {},
   "outputs": [],
   "source": [
    "count_vect_bigram = CountVectorizer(ngram_range=(1,2))\n",
    "train_data_bow_bigram = count_vect_bigram.fit_transform(X_train)\n",
    "test_data_bow_bigram = count_vect_bigram.transform(X_test)"
   ]
  },
  {
   "cell_type": "code",
   "execution_count": null,
   "metadata": {},
   "outputs": [],
   "source": [
    "#Confusion matrix for Bigram BOW with Logistic Regression\n",
    "\n",
    "lr = LogisticRegression()\n",
    "lr.fit(train_data_bow_bigram,y_train)\n",
    "\n",
    "print('Training set score:', lr.score(train_data_bow_bigram, y_train))\n",
    "print('\\nTest set score:', lr.score(test_data_bow_bigram, y_test))\n",
    "\n",
    "y_pred = lr.predict(test_data_bow_bigram)\n",
    "\n",
    "conf = confusion_matrix(y_test, y_pred, labels = handles)\n",
    "\n",
    "cm = pd.DataFrame(conf, index = [i for i in handles],\n",
    "                  columns = [i for i in handles])\n",
    "plt.figure(figsize = (15,7))\n",
    "sns.heatmap(cm, annot=True, cmap=\"YlOrRd\", fmt = 'd')\n",
    "crs = cross_val_score(lr, train_data_bow_bigram, y_train, cv=10)\n",
    "print(\"Cross-Valid Bigram Fold Results are: \",crs)\n",
    "print(\"Mean of Folds are = \",crs.mean())"
   ]
  },
  {
   "cell_type": "markdown",
   "metadata": {},
   "source": [
    "## TF-IDF Analysis"
   ]
  },
  {
   "cell_type": "markdown",
   "metadata": {},
   "source": [
    "### Train and Test Sets"
   ]
  },
  {
   "cell_type": "code",
   "execution_count": 75,
   "metadata": {},
   "outputs": [
    {
     "data": {
      "text/plain": [
       "(16875, 19272)"
      ]
     },
     "execution_count": 75,
     "metadata": {},
     "output_type": "execute_result"
    }
   ],
   "source": [
    "tfidf_transformer = TfidfTransformer()\n",
    "tfidf = tfidf_transformer.fit_transform(bow)\n",
    "tfidf.shape"
   ]
  },
  {
   "cell_type": "code",
   "execution_count": 122,
   "metadata": {},
   "outputs": [],
   "source": [
    "X_train_tfidf, X_test_tfidf = train_test_split(tfidf, test_size=0.25, random_state=42)"
   ]
  },
  {
   "cell_type": "markdown",
   "metadata": {},
   "source": [
    "### Mean Shift with TF-IDF"
   ]
  },
  {
   "cell_type": "code",
   "execution_count": null,
   "metadata": {},
   "outputs": [],
   "source": [
    "from sklearn.cluster import MeanShift, estimate_bandwidth\n",
    "\n",
    "# Here we set the bandwidth. This function automatically derives a bandwidth\n",
    "# number based on an inspection of the distances among points in the data.\n",
    "bandwidth = estimate_bandwidth(tfidf.todense(), quantile=0.2, n_samples=500)\n",
    "\n",
    "# Declare and fit the model.\n",
    "ms = MeanShift(bandwidth=bandwidth, bin_seeding=True)\n",
    "ms.fit(X_train_tfidf.todense())\n",
    "\n",
    "# Extract cluster assignments for each data point.\n",
    "labels = ms.labels_\n",
    "\n",
    "# Coordinates of the cluster centers.\n",
    "cluster_centers = ms.cluster_centers_\n",
    "\n",
    "# Count our clusters.\n",
    "n_clusters_ = len(np.unique(labels))\n",
    "\n",
    "print(\"Number of estimated clusters: {}\".format(n_clusters_))"
   ]
  },
  {
   "cell_type": "markdown",
   "metadata": {},
   "source": [
    "It looks like Bag of Words might be doing a better job of distinguishing between the tweets. We have 9 accounts, and 8 clusters. That seems pretty good!"
   ]
  },
  {
   "cell_type": "markdown",
   "metadata": {},
   "source": [
    "### K Means Clustering with TF-IDF"
   ]
  },
  {
   "cell_type": "code",
   "execution_count": null,
   "metadata": {},
   "outputs": [],
   "source": [
    "#X_norm.todense()"
   ]
  },
  {
   "cell_type": "code",
   "execution_count": null,
   "metadata": {},
   "outputs": [],
   "source": [
    "# Normalize the data.\n",
    "X_normt = normalize(tfidf)\n",
    "# Reduce it to two components.\n",
    "X_pcat = PCA(2).fit_transform(X_normt.todense())\n",
    "\n",
    "# Calculate predicted values.\n",
    "y_pred = KMeans(n_clusters=2, random_state=42).fit_predict(X_pcat)\n",
    "\n",
    "# Plot the solution.\n",
    "plt.scatter(X_pcat[:, 0], X_pcat[:, 1], c=y_pred)\n",
    "plt.show()"
   ]
  },
  {
   "cell_type": "code",
   "execution_count": 103,
   "metadata": {},
   "outputs": [
    {
     "name": "stderr",
     "output_type": "stream",
     "text": [
      "/anaconda3/lib/python3.6/site-packages/sklearn/ensemble/forest.py:246: FutureWarning: The default value of n_estimators will change from 10 in version 0.20 to 100 in 0.22.\n",
      "  \"10 in version 0.20 to 100 in 0.22.\", FutureWarning)\n"
     ]
    },
    {
     "name": "stdout",
     "output_type": "stream",
     "text": [
      "Training set score: 0.9906962962962963\n",
      "\n",
      "Test set score: 0.5111111111111111\n"
     ]
    }
   ],
   "source": [
    "rfc = ensemble.RandomForestClassifier()\n",
    "\n",
    "vectorizer1 = TfidfVectorizer(max_df=0.5, # drop words that occur in more than half the tweets\n",
    "                             min_df=2, # only use words that appear at least 2x\n",
    "                             stop_words='english', \n",
    "                             lowercase=True, #convert everything to lower case \n",
    "                             use_idf=True,\n",
    "                             norm=u'l2', #Applies a correction factor so that longer paragraphs and shorter tweets get treated equally\n",
    "                             smooth_idf=True #Adds 1 to all document frequencies, as if an extra document existed that used every word once.  Prevents divide-by-zero errors\n",
    "                            )\n",
    "\n",
    "X_train_tfidf = vectorizer1.fit_transform(X_train)\n",
    "X_test_tfidf = vectorizer1.transform(X_test)\n",
    "\n",
    "fit = rfc.fit(X_train_tfidf, y_train)\n",
    "y_pred = rfc.predict(X_test_tfidf)\n",
    "\n",
    "print('Training set score:', rfc.score(X_train_tfidf, y_train))\n",
    "print('\\nTest set score:', rfc.score(X_test_tfidf, y_test))"
   ]
  },
  {
   "cell_type": "code",
   "execution_count": 105,
   "metadata": {},
   "outputs": [
    {
     "name": "stdout",
     "output_type": "stream",
     "text": [
      "Clustering sparse data with MiniBatchKMeans(batch_size=5000, compute_labels=True, init='k-means++',\n",
      "        init_size=None, max_iter=100, max_no_improvement=10, n_clusters=10,\n",
      "        n_init=3, random_state=None, reassignment_ratio=0.01, tol=0.0,\n",
      "        verbose=0)\n",
      "Done in 0.359s\n",
      "\n",
      "Homogeneity: 0.033\n",
      "Completeness: 0.062\n",
      "V-measure: 0.043\n",
      "Adjusted Rand-Index: 0.005\n",
      "Silhouette Coefficient: 0.004\n"
     ]
    }
   ],
   "source": [
    "from time import time\n",
    "X = df['Tweets']\n",
    "X_norm_tfidf = normalize(vectorizer1.fit_transform(X))\n",
    "\n",
    "true_k = 10\n",
    "labels = y\n",
    "km = MiniBatchKMeans(n_clusters=true_k, init='k-means++', batch_size=5000)\n",
    "\n",
    "print(\"Clustering sparse data with %s\" % km)\n",
    "t0 = time()\n",
    "km.fit(X_norm_tfidf)\n",
    "mini_labels = km.labels_\n",
    "print(\"Done in %0.3fs\" % (time() - t0))\n",
    "print()\n",
    "print(\"Homogeneity: %0.3f\" % metrics.homogeneity_score(labels, km.labels_))\n",
    "print(\"Completeness: %0.3f\" % metrics.completeness_score(labels, km.labels_))\n",
    "print(\"V-measure: %0.3f\" % metrics.v_measure_score(labels, km.labels_))\n",
    "print(\"Adjusted Rand-Index: %.3f\"\n",
    "      % metrics.adjusted_rand_score(labels, km.labels_))\n",
    "print(\"Silhouette Coefficient: %0.3f\"\n",
    "      % metrics.silhouette_score(X_norm_tfidf, km.labels_, sample_size=5000))"
   ]
  },
  {
   "cell_type": "code",
   "execution_count": 106,
   "metadata": {},
   "outputs": [],
   "source": [
    "df['MiniBatchLabels'] = mini_labels"
   ]
  },
  {
   "cell_type": "code",
   "execution_count": 109,
   "metadata": {},
   "outputs": [
    {
     "name": "stdout",
     "output_type": "stream",
     "text": [
      "Cluster: 0\n",
      "                Tweets  MiniBatchLabels\n",
      "Org                                    \n",
      "BBCWorld          2043             2043\n",
      "CNN               1642             1642\n",
      "FoxNews           1761             1761\n",
      "NPR               1887             1887\n",
      "NYTimes           1715             1715\n",
      "Reuters           1937             1937\n",
      "USATODAY          1892             1892\n",
      "WSJ               1768             1768\n",
      "washingtonpost    1355             1355\n",
      "\n",
      "Cluster: 1\n",
      "                Tweets  MiniBatchLabels\n",
      "Org                                    \n",
      "BBCWorld            36               36\n",
      "CNN                100              100\n",
      "FoxNews             97               97\n",
      "NPR                 79               79\n",
      "NYTimes             49               49\n",
      "Reuters             49               49\n",
      "USATODAY            51               51\n",
      "WSJ                 39               39\n",
      "washingtonpost      70               70\n",
      "\n",
      "Cluster: 2\n",
      "                Tweets  MiniBatchLabels\n",
      "Org                                    \n",
      "BBCWorld            71               71\n",
      "CNN                238              238\n",
      "FoxNews            160              160\n",
      "NPR                146              146\n",
      "NYTimes            166              166\n",
      "Reuters             39               39\n",
      "USATODAY           150              150\n",
      "WSJ                 82               82\n",
      "washingtonpost      68               68\n",
      "\n",
      "Cluster: 3\n",
      "                Tweets  MiniBatchLabels\n",
      "Org                                    \n",
      "BBCWorld           121              121\n",
      "CNN                 78               78\n",
      "FoxNews            140              140\n",
      "NPR                 62               62\n",
      "NYTimes            151              151\n",
      "Reuters             44               44\n",
      "USATODAY           114              114\n",
      "WSJ                175              175\n",
      "washingtonpost     571              571\n",
      "\n",
      "Cluster: 4\n",
      "                Tweets  MiniBatchLabels\n",
      "Org                                    \n",
      "BBCWorld            45               45\n",
      "CNN                240              240\n",
      "FoxNews             23               23\n",
      "NPR                186              186\n",
      "NYTimes            171              171\n",
      "Reuters             57               57\n",
      "USATODAY           178              178\n",
      "WSJ                182              182\n",
      "washingtonpost      97               97\n",
      "\n",
      "Cluster: 5\n",
      "                Tweets  MiniBatchLabels\n",
      "Org                                    \n",
      "BBCWorld            33               33\n",
      "CNN                 28               28\n",
      "FoxNews            109              109\n",
      "NPR                 24               24\n",
      "NYTimes             34               34\n",
      "Reuters             27               27\n",
      "USATODAY            11               11\n",
      "WSJ                 21               21\n",
      "washingtonpost      27               27\n",
      "\n",
      "Cluster: 6\n",
      "                Tweets  MiniBatchLabels\n",
      "Org                                    \n",
      "BBCWorld            24               24\n",
      "CNN                 53               53\n",
      "FoxNews            137              137\n",
      "NPR                 23               23\n",
      "NYTimes             55               55\n",
      "Reuters             20               20\n",
      "USATODAY            32               32\n",
      "WSJ                 21               21\n",
      "washingtonpost     243              243\n",
      "\n",
      "Cluster: 7\n",
      "                Tweets  MiniBatchLabels\n",
      "Org                                    \n",
      "BBCWorld            56               56\n",
      "CNN                 49               49\n",
      "FoxNews             12               12\n",
      "NPR                 37               37\n",
      "NYTimes             46               46\n",
      "Reuters            268              268\n",
      "USATODAY             8                8\n",
      "WSJ                151              151\n",
      "washingtonpost      25               25\n",
      "\n",
      "Cluster: 8\n",
      "                Tweets  MiniBatchLabels\n",
      "Org                                    \n",
      "BBCWorld            32               32\n",
      "CNN                 24               24\n",
      "FoxNews             35               35\n",
      "NPR                 18               18\n",
      "NYTimes             97               97\n",
      "Reuters             21               21\n",
      "USATODAY            53               53\n",
      "WSJ                 21               21\n",
      "washingtonpost      21               21\n",
      "\n",
      "Cluster: 9\n",
      "                Tweets  MiniBatchLabels\n",
      "Org                                    \n",
      "BBCWorld            39               39\n",
      "CNN                 48               48\n",
      "FoxNews             26               26\n",
      "NPR                 38               38\n",
      "NYTimes             16               16\n",
      "Reuters             38               38\n",
      "USATODAY            11               11\n",
      "WSJ                 40               40\n",
      "washingtonpost      23               23\n",
      "\n"
     ]
    }
   ],
   "source": [
    "for label in set(mini_labels):\n",
    "    print('Cluster: %d' % label)\n",
    "    print(df[df.MiniBatchLabels == label].groupby('Org').count())\n",
    "    print('')"
   ]
  },
  {
   "cell_type": "code",
   "execution_count": 113,
   "metadata": {},
   "outputs": [
    {
     "data": {
      "text/html": [
       "<div>\n",
       "<style scoped>\n",
       "    .dataframe tbody tr th:only-of-type {\n",
       "        vertical-align: middle;\n",
       "    }\n",
       "\n",
       "    .dataframe tbody tr th {\n",
       "        vertical-align: top;\n",
       "    }\n",
       "\n",
       "    .dataframe thead th {\n",
       "        text-align: right;\n",
       "    }\n",
       "</style>\n",
       "<table border=\"1\" class=\"dataframe\">\n",
       "  <thead>\n",
       "    <tr style=\"text-align: right;\">\n",
       "      <th></th>\n",
       "      <th>Tweets</th>\n",
       "      <th>Org</th>\n",
       "      <th>MiniBatchLabels</th>\n",
       "    </tr>\n",
       "  </thead>\n",
       "  <tbody>\n",
       "    <tr>\n",
       "      <th>6536</th>\n",
       "      <td>the va s caregiver program was set up to suppo...</td>\n",
       "      <td>NPR</td>\n",
       "      <td>0</td>\n",
       "    </tr>\n",
       "    <tr>\n",
       "      <th>2043</th>\n",
       "      <td>more than migrants will be dropped off in el p...</td>\n",
       "      <td>CNN</td>\n",
       "      <td>0</td>\n",
       "    </tr>\n",
       "    <tr>\n",
       "      <th>1662</th>\n",
       "      <td>high speed trains are finally coming to the us</td>\n",
       "      <td>CNN</td>\n",
       "      <td>0</td>\n",
       "    </tr>\n",
       "    <tr>\n",
       "      <th>511</th>\n",
       "      <td>a new artificial intelligence technology can a...</td>\n",
       "      <td>CNN</td>\n",
       "      <td>0</td>\n",
       "    </tr>\n",
       "    <tr>\n",
       "      <th>12772</th>\n",
       "      <td>the south by southwest film festival has chose...</td>\n",
       "      <td>NYTimes</td>\n",
       "      <td>0</td>\n",
       "    </tr>\n",
       "    <tr>\n",
       "      <th>11146</th>\n",
       "      <td>as the partial government shutdown enters its ...</td>\n",
       "      <td>WSJ</td>\n",
       "      <td>0</td>\n",
       "    </tr>\n",
       "    <tr>\n",
       "      <th>19707</th>\n",
       "      <td>ethics panel expands probe of rep schweikert a...</td>\n",
       "      <td>washingtonpost</td>\n",
       "      <td>0</td>\n",
       "    </tr>\n",
       "    <tr>\n",
       "      <th>1165</th>\n",
       "      <td>rep cindy hyde smith is the first woman electe...</td>\n",
       "      <td>CNN</td>\n",
       "      <td>0</td>\n",
       "    </tr>\n",
       "    <tr>\n",
       "      <th>22248</th>\n",
       "      <td>two dead in marseille double building collapse</td>\n",
       "      <td>BBCWorld</td>\n",
       "      <td>0</td>\n",
       "    </tr>\n",
       "    <tr>\n",
       "      <th>11231</th>\n",
       "      <td>the republican controlled michigan legislature...</td>\n",
       "      <td>WSJ</td>\n",
       "      <td>0</td>\n",
       "    </tr>\n",
       "  </tbody>\n",
       "</table>\n",
       "</div>"
      ],
      "text/plain": [
       "                                                  Tweets             Org  \\\n",
       "6536   the va s caregiver program was set up to suppo...             NPR   \n",
       "2043   more than migrants will be dropped off in el p...             CNN   \n",
       "1662      high speed trains are finally coming to the us             CNN   \n",
       "511    a new artificial intelligence technology can a...             CNN   \n",
       "12772  the south by southwest film festival has chose...         NYTimes   \n",
       "11146  as the partial government shutdown enters its ...             WSJ   \n",
       "19707  ethics panel expands probe of rep schweikert a...  washingtonpost   \n",
       "1165   rep cindy hyde smith is the first woman electe...             CNN   \n",
       "22248     two dead in marseille double building collapse        BBCWorld   \n",
       "11231  the republican controlled michigan legislature...             WSJ   \n",
       "\n",
       "       MiniBatchLabels  \n",
       "6536                 0  \n",
       "2043                 0  \n",
       "1662                 0  \n",
       "511                  0  \n",
       "12772                0  \n",
       "11146                0  \n",
       "19707                0  \n",
       "1165                 0  \n",
       "22248                0  \n",
       "11231                0  "
      ]
     },
     "execution_count": 113,
     "metadata": {},
     "output_type": "execute_result"
    }
   ],
   "source": [
    "#Let's check Cluster 0 - the largest, and likely a catch-all for tweets that did not fall into other clusters\n",
    "shuffle(df[df.MiniBatchLabels == 0]).head(10)"
   ]
  },
  {
   "cell_type": "code",
   "execution_count": 114,
   "metadata": {},
   "outputs": [
    {
     "data": {
      "text/html": [
       "<div>\n",
       "<style scoped>\n",
       "    .dataframe tbody tr th:only-of-type {\n",
       "        vertical-align: middle;\n",
       "    }\n",
       "\n",
       "    .dataframe tbody tr th {\n",
       "        vertical-align: top;\n",
       "    }\n",
       "\n",
       "    .dataframe thead th {\n",
       "        text-align: right;\n",
       "    }\n",
       "</style>\n",
       "<table border=\"1\" class=\"dataframe\">\n",
       "  <thead>\n",
       "    <tr style=\"text-align: right;\">\n",
       "      <th></th>\n",
       "      <th>Tweets</th>\n",
       "      <th>Org</th>\n",
       "      <th>MiniBatchLabels</th>\n",
       "    </tr>\n",
       "  </thead>\n",
       "  <tbody>\n",
       "    <tr>\n",
       "      <th>9721</th>\n",
       "      <td>incoming members of congress featuring a recor...</td>\n",
       "      <td>Reuters</td>\n",
       "      <td>1</td>\n",
       "    </tr>\n",
       "    <tr>\n",
       "      <th>20702</th>\n",
       "      <td>two men arrested in connection with roscommon ...</td>\n",
       "      <td>BBCWorld</td>\n",
       "      <td>1</td>\n",
       "    </tr>\n",
       "    <tr>\n",
       "      <th>1315</th>\n",
       "      <td>house minority leader nancy pelosi says democr...</td>\n",
       "      <td>CNN</td>\n",
       "      <td>1</td>\n",
       "    </tr>\n",
       "    <tr>\n",
       "      <th>5191</th>\n",
       "      <td>breaking president trump walked out of a meeti...</td>\n",
       "      <td>NPR</td>\n",
       "      <td>1</td>\n",
       "    </tr>\n",
       "    <tr>\n",
       "      <th>2733</th>\n",
       "      <td>lays out vision for dem controlled house it s ...</td>\n",
       "      <td>FoxNews</td>\n",
       "      <td>1</td>\n",
       "    </tr>\n",
       "    <tr>\n",
       "      <th>2594</th>\n",
       "      <td>breaking cnn s jim acosta press pass suspended...</td>\n",
       "      <td>FoxNews</td>\n",
       "      <td>1</td>\n",
       "    </tr>\n",
       "    <tr>\n",
       "      <th>1745</th>\n",
       "      <td>one thing the democrats say they will do when ...</td>\n",
       "      <td>CNN</td>\n",
       "      <td>1</td>\n",
       "    </tr>\n",
       "    <tr>\n",
       "      <th>9964</th>\n",
       "      <td>pelosi regains gavel as speaker of most divers...</td>\n",
       "      <td>Reuters</td>\n",
       "      <td>1</td>\n",
       "    </tr>\n",
       "    <tr>\n",
       "      <th>21907</th>\n",
       "      <td>white house aide ricardel removed after melani...</td>\n",
       "      <td>BBCWorld</td>\n",
       "      <td>1</td>\n",
       "    </tr>\n",
       "    <tr>\n",
       "      <th>14572</th>\n",
       "      <td>it s as if a skunk or multiple skunks in a fam...</td>\n",
       "      <td>NYTimes</td>\n",
       "      <td>1</td>\n",
       "    </tr>\n",
       "  </tbody>\n",
       "</table>\n",
       "</div>"
      ],
      "text/plain": [
       "                                                  Tweets       Org  \\\n",
       "9721   incoming members of congress featuring a recor...   Reuters   \n",
       "20702  two men arrested in connection with roscommon ...  BBCWorld   \n",
       "1315   house minority leader nancy pelosi says democr...       CNN   \n",
       "5191   breaking president trump walked out of a meeti...       NPR   \n",
       "2733   lays out vision for dem controlled house it s ...   FoxNews   \n",
       "2594   breaking cnn s jim acosta press pass suspended...   FoxNews   \n",
       "1745   one thing the democrats say they will do when ...       CNN   \n",
       "9964   pelosi regains gavel as speaker of most divers...   Reuters   \n",
       "21907  white house aide ricardel removed after melani...  BBCWorld   \n",
       "14572  it s as if a skunk or multiple skunks in a fam...   NYTimes   \n",
       "\n",
       "       MiniBatchLabels  \n",
       "9721                 1  \n",
       "20702                1  \n",
       "1315                 1  \n",
       "5191                 1  \n",
       "2733                 1  \n",
       "2594                 1  \n",
       "1745                 1  \n",
       "9964                 1  \n",
       "21907                1  \n",
       "14572                1  "
      ]
     },
     "execution_count": 114,
     "metadata": {},
     "output_type": "execute_result"
    }
   ],
   "source": [
    "#Let's check Cluster 1\n",
    "shuffle(df[df.MiniBatchLabels == 1]).head(10)"
   ]
  },
  {
   "cell_type": "code",
   "execution_count": 115,
   "metadata": {},
   "outputs": [
    {
     "data": {
      "text/html": [
       "<div>\n",
       "<style scoped>\n",
       "    .dataframe tbody tr th:only-of-type {\n",
       "        vertical-align: middle;\n",
       "    }\n",
       "\n",
       "    .dataframe tbody tr th {\n",
       "        vertical-align: top;\n",
       "    }\n",
       "\n",
       "    .dataframe thead th {\n",
       "        text-align: right;\n",
       "    }\n",
       "</style>\n",
       "<table border=\"1\" class=\"dataframe\">\n",
       "  <thead>\n",
       "    <tr style=\"text-align: right;\">\n",
       "      <th></th>\n",
       "      <th>Tweets</th>\n",
       "      <th>Org</th>\n",
       "      <th>MiniBatchLabels</th>\n",
       "    </tr>\n",
       "  </thead>\n",
       "  <tbody>\n",
       "    <tr>\n",
       "      <th>1336</th>\n",
       "      <td>live sen elect mitt romney talks to cnn about ...</td>\n",
       "      <td>CNN</td>\n",
       "      <td>2</td>\n",
       "    </tr>\n",
       "    <tr>\n",
       "      <th>6355</th>\n",
       "      <td>we have diplomatically relentlessly worked to ...</td>\n",
       "      <td>NPR</td>\n",
       "      <td>2</td>\n",
       "    </tr>\n",
       "    <tr>\n",
       "      <th>14210</th>\n",
       "      <td>president trump once declared that i alone can...</td>\n",
       "      <td>NYTimes</td>\n",
       "      <td>2</td>\n",
       "    </tr>\n",
       "    <tr>\n",
       "      <th>21531</th>\n",
       "      <td>nigeria metele attack president buhari speaks ...</td>\n",
       "      <td>BBCWorld</td>\n",
       "      <td>2</td>\n",
       "    </tr>\n",
       "    <tr>\n",
       "      <th>15144</th>\n",
       "      <td>i am not running for president at this time st...</td>\n",
       "      <td>USATODAY</td>\n",
       "      <td>2</td>\n",
       "    </tr>\n",
       "    <tr>\n",
       "      <th>16315</th>\n",
       "      <td>while wishing a merry christmas to troops over...</td>\n",
       "      <td>USATODAY</td>\n",
       "      <td>2</td>\n",
       "    </tr>\n",
       "    <tr>\n",
       "      <th>11991</th>\n",
       "      <td>president trump s attorney general pick critic...</td>\n",
       "      <td>WSJ</td>\n",
       "      <td>2</td>\n",
       "    </tr>\n",
       "    <tr>\n",
       "      <th>12288</th>\n",
       "      <td>two business partners of president trump s for...</td>\n",
       "      <td>WSJ</td>\n",
       "      <td>2</td>\n",
       "    </tr>\n",
       "    <tr>\n",
       "      <th>612</th>\n",
       "      <td>a national pilots association is urging presid...</td>\n",
       "      <td>CNN</td>\n",
       "      <td>2</td>\n",
       "    </tr>\n",
       "    <tr>\n",
       "      <th>12597</th>\n",
       "      <td>president trump canceled his trip to the econo...</td>\n",
       "      <td>NYTimes</td>\n",
       "      <td>2</td>\n",
       "    </tr>\n",
       "  </tbody>\n",
       "</table>\n",
       "</div>"
      ],
      "text/plain": [
       "                                                  Tweets       Org  \\\n",
       "1336   live sen elect mitt romney talks to cnn about ...       CNN   \n",
       "6355   we have diplomatically relentlessly worked to ...       NPR   \n",
       "14210  president trump once declared that i alone can...   NYTimes   \n",
       "21531  nigeria metele attack president buhari speaks ...  BBCWorld   \n",
       "15144  i am not running for president at this time st...  USATODAY   \n",
       "16315  while wishing a merry christmas to troops over...  USATODAY   \n",
       "11991  president trump s attorney general pick critic...       WSJ   \n",
       "12288  two business partners of president trump s for...       WSJ   \n",
       "612    a national pilots association is urging presid...       CNN   \n",
       "12597  president trump canceled his trip to the econo...   NYTimes   \n",
       "\n",
       "       MiniBatchLabels  \n",
       "1336                 2  \n",
       "6355                 2  \n",
       "14210                2  \n",
       "21531                2  \n",
       "15144                2  \n",
       "16315                2  \n",
       "11991                2  \n",
       "12288                2  \n",
       "612                  2  \n",
       "12597                2  "
      ]
     },
     "execution_count": 115,
     "metadata": {},
     "output_type": "execute_result"
    }
   ],
   "source": [
    "#Cluster 2\n",
    "shuffle(df[df.MiniBatchLabels == 2]).head(10)"
   ]
  },
  {
   "cell_type": "markdown",
   "metadata": {},
   "source": [
    "### LSA with TF-IDF"
   ]
  },
  {
   "cell_type": "code",
   "execution_count": 62,
   "metadata": {},
   "outputs": [
    {
     "name": "stdout",
     "output_type": "stream",
     "text": [
      "Number of features: 21583\n"
     ]
    }
   ],
   "source": [
    "print(\"Number of features: %d\" % X_train.get_shape()[1])"
   ]
  },
  {
   "cell_type": "markdown",
   "metadata": {},
   "source": [
    "Let's see how many features we had in our TF-IDF training set."
   ]
  },
  {
   "cell_type": "code",
   "execution_count": null,
   "metadata": {},
   "outputs": [],
   "source": [
    "print(\"Number of features: %d\" % X_train_tfidf.get_shape()[1])"
   ]
  },
  {
   "cell_type": "code",
   "execution_count": null,
   "metadata": {},
   "outputs": [],
   "source": [
    "from sklearn.decomposition import TruncatedSVD\n",
    "from sklearn.pipeline import make_pipeline\n",
    "from sklearn.preprocessing import Normalizer\n",
    "\n",
    "#Our SVD data reducer.  We are going to reduce the feature space to about 10% of the original.\n",
    "svd= TruncatedSVD(2100 ,n_iter=500)\n",
    "lsa = make_pipeline(svd, Normalizer(copy=False))\n",
    "# Run SVD on the training data, then project the training data.\n",
    "X_train_lsa = lsa.fit_transform(tfidf)\n",
    "\n",
    "variance_explained=svd.explained_variance_ratio_\n",
    "total_variance = variance_explained.sum()\n",
    "print(\"Percent variance captured by all components:\",total_variance*100)\n",
    "\n",
    "#Looking at what sorts of tweets our solution considers similar, for the first five identified topics\n",
    "tweets_by_component=pd.DataFrame(X_train_lsa, index=list(X_train))\n",
    "for i in range(5):\n",
    "    print('Component {}:'.format(i))\n",
    "    print(tweets_by_component.loc[:,i].sort_values(ascending=False)[0:10])\n",
    "import time\n",
    "print(time.time())"
   ]
  },
  {
   "cell_type": "code",
   "execution_count": 68,
   "metadata": {},
   "outputs": [
    {
     "name": "stdout",
     "output_type": "stream",
     "text": [
      "Concept 0:\n",
      "trump\n",
      "president\n",
      "border\n",
      "wall\n",
      "shutdown\n",
      "government\n",
      "new\n",
      "house\n",
      "year\n",
      "says\n",
      " \n",
      "Concept 1:\n",
      "new\n",
      "year\n",
      "day\n",
      "know\n",
      "need\n",
      "briefing\n",
      "old\n",
      "start\n",
      "morning\n",
      "york\n",
      " \n",
      "Concept 2:\n",
      "know\n",
      "need\n",
      "day\n",
      "briefing\n",
      "morning\n",
      "start\n",
      "end\n",
      "evening\n",
      "shutdown\n",
      "government\n",
      " \n",
      "Concept 3:\n",
      "government\n",
      "shutdown\n",
      "partial\n",
      "federal\n",
      "workers\n",
      "house\n",
      "senate\n",
      "week\n",
      "affected\n",
      "pay\n",
      " \n",
      "Concept 4:\n",
      "wall\n",
      "street\n",
      "look\n",
      "journal\n",
      "page\n",
      "border\n",
      "early\n",
      "mexico\n",
      "year\n",
      "emergency\n",
      " \n"
     ]
    }
   ],
   "source": [
    "from sklearn.decomposition import TruncatedSVD\n",
    "lsa = TruncatedSVD(n_components=5,n_iter=500)\n",
    "lsa.fit(tfidf)\n",
    "terms = vectorizer.get_feature_names()\n",
    "\n",
    "for i,comp in enumerate(lsa.components_):\n",
    "    termsInComp = zip(terms,comp)\n",
    "    sortedterms = sorted(termsInComp, key=lambda x: x[1],reverse=True)[:10]\n",
    "    print(\"Concept %d:\" % i)\n",
    "    for term in sortedterms:\n",
    "        print(term[0])\n",
    "    print(\" \")"
   ]
  },
  {
   "cell_type": "code",
   "execution_count": null,
   "metadata": {},
   "outputs": [],
   "source": [
    "from sklearn.decomposition import TruncatedSVD\n",
    "from sklearn.pipeline import make_pipeline\n",
    "from sklearn.preprocessing import Normalizer\n",
    "\n",
    "#Our SVD data reducer.  We are going to reduce the feature space to about 10% of the original.\n",
    "svd= TruncatedSVD(2100 ,n_iter=500)\n",
    "lsa = make_pipeline(svd, Normalizer(copy=False))\n",
    "# Run SVD on the training data, then project the training data.\n",
    "X_train_lsa = lsa.fit_transform(tfidf)\n",
    "\n",
    "variance_explained=svd.explained_variance_ratio_\n",
    "total_variance = variance_explained.sum()\n",
    "print(\"Percent variance captured by all components:\",total_variance*100)\n",
    "\n",
    "#Looking at what sorts of tweets our solution considers similar, for the first five identified topics\n",
    "tweets_by_component=pd.DataFrame(X_train_lsa, index=list(X_train))\n",
    "for i in range(5):\n",
    "    print('Component {}:'.format(i))\n",
    "    print(tweets_by_component.loc[:,i].sort_values(ascending=False)[0:10])"
   ]
  },
  {
   "cell_type": "markdown",
   "metadata": {},
   "source": [
    "## Bigrams with TF-IDF"
   ]
  },
  {
   "cell_type": "code",
   "execution_count": 124,
   "metadata": {},
   "outputs": [
    {
     "ename": "AttributeError",
     "evalue": "lower not found",
     "output_type": "error",
     "traceback": [
      "\u001b[0;31m---------------------------------------------------------------------------\u001b[0m",
      "\u001b[0;31mAttributeError\u001b[0m                            Traceback (most recent call last)",
      "\u001b[0;32m<ipython-input-124-8309dc8df971>\u001b[0m in \u001b[0;36m<module>\u001b[0;34m()\u001b[0m\n\u001b[1;32m      1\u001b[0m \u001b[0mcount_vect_bigram\u001b[0m \u001b[0;34m=\u001b[0m \u001b[0mCountVectorizer\u001b[0m\u001b[0;34m(\u001b[0m\u001b[0mngram_range\u001b[0m\u001b[0;34m=\u001b[0m\u001b[0;34m(\u001b[0m\u001b[0;36m1\u001b[0m\u001b[0;34m,\u001b[0m\u001b[0;36m2\u001b[0m\u001b[0;34m)\u001b[0m\u001b[0;34m)\u001b[0m\u001b[0;34m\u001b[0m\u001b[0;34m\u001b[0m\u001b[0m\n\u001b[0;32m----> 2\u001b[0;31m \u001b[0mtrain_data_bow_bigram\u001b[0m \u001b[0;34m=\u001b[0m \u001b[0mcount_vect_bigram\u001b[0m\u001b[0;34m.\u001b[0m\u001b[0mfit_transform\u001b[0m\u001b[0;34m(\u001b[0m\u001b[0mlist\u001b[0m\u001b[0;34m(\u001b[0m\u001b[0mX_train_tfidf\u001b[0m\u001b[0;34m)\u001b[0m\u001b[0;34m)\u001b[0m\u001b[0;34m\u001b[0m\u001b[0;34m\u001b[0m\u001b[0m\n\u001b[0m\u001b[1;32m      3\u001b[0m \u001b[0mtest_data_bow_bigram\u001b[0m \u001b[0;34m=\u001b[0m \u001b[0mcount_vect_bigram\u001b[0m\u001b[0;34m.\u001b[0m\u001b[0mtransform\u001b[0m\u001b[0;34m(\u001b[0m\u001b[0mlist\u001b[0m\u001b[0;34m(\u001b[0m\u001b[0mX_test_tfidf\u001b[0m\u001b[0;34m)\u001b[0m\u001b[0;34m)\u001b[0m\u001b[0;34m\u001b[0m\u001b[0;34m\u001b[0m\u001b[0m\n",
      "\u001b[0;32m/anaconda3/lib/python3.6/site-packages/sklearn/feature_extraction/text.py\u001b[0m in \u001b[0;36mfit_transform\u001b[0;34m(self, raw_documents, y)\u001b[0m\n\u001b[1;32m   1030\u001b[0m \u001b[0;34m\u001b[0m\u001b[0m\n\u001b[1;32m   1031\u001b[0m         vocabulary, X = self._count_vocab(raw_documents,\n\u001b[0;32m-> 1032\u001b[0;31m                                           self.fixed_vocabulary_)\n\u001b[0m\u001b[1;32m   1033\u001b[0m \u001b[0;34m\u001b[0m\u001b[0m\n\u001b[1;32m   1034\u001b[0m         \u001b[0;32mif\u001b[0m \u001b[0mself\u001b[0m\u001b[0;34m.\u001b[0m\u001b[0mbinary\u001b[0m\u001b[0;34m:\u001b[0m\u001b[0;34m\u001b[0m\u001b[0;34m\u001b[0m\u001b[0m\n",
      "\u001b[0;32m/anaconda3/lib/python3.6/site-packages/sklearn/feature_extraction/text.py\u001b[0m in \u001b[0;36m_count_vocab\u001b[0;34m(self, raw_documents, fixed_vocab)\u001b[0m\n\u001b[1;32m    940\u001b[0m         \u001b[0;32mfor\u001b[0m \u001b[0mdoc\u001b[0m \u001b[0;32min\u001b[0m \u001b[0mraw_documents\u001b[0m\u001b[0;34m:\u001b[0m\u001b[0;34m\u001b[0m\u001b[0;34m\u001b[0m\u001b[0m\n\u001b[1;32m    941\u001b[0m             \u001b[0mfeature_counter\u001b[0m \u001b[0;34m=\u001b[0m \u001b[0;34m{\u001b[0m\u001b[0;34m}\u001b[0m\u001b[0;34m\u001b[0m\u001b[0;34m\u001b[0m\u001b[0m\n\u001b[0;32m--> 942\u001b[0;31m             \u001b[0;32mfor\u001b[0m \u001b[0mfeature\u001b[0m \u001b[0;32min\u001b[0m \u001b[0manalyze\u001b[0m\u001b[0;34m(\u001b[0m\u001b[0mdoc\u001b[0m\u001b[0;34m)\u001b[0m\u001b[0;34m:\u001b[0m\u001b[0;34m\u001b[0m\u001b[0;34m\u001b[0m\u001b[0m\n\u001b[0m\u001b[1;32m    943\u001b[0m                 \u001b[0;32mtry\u001b[0m\u001b[0;34m:\u001b[0m\u001b[0;34m\u001b[0m\u001b[0;34m\u001b[0m\u001b[0m\n\u001b[1;32m    944\u001b[0m                     \u001b[0mfeature_idx\u001b[0m \u001b[0;34m=\u001b[0m \u001b[0mvocabulary\u001b[0m\u001b[0;34m[\u001b[0m\u001b[0mfeature\u001b[0m\u001b[0;34m]\u001b[0m\u001b[0;34m\u001b[0m\u001b[0;34m\u001b[0m\u001b[0m\n",
      "\u001b[0;32m/anaconda3/lib/python3.6/site-packages/sklearn/feature_extraction/text.py\u001b[0m in \u001b[0;36m<lambda>\u001b[0;34m(doc)\u001b[0m\n\u001b[1;32m    326\u001b[0m                                                tokenize)\n\u001b[1;32m    327\u001b[0m             return lambda doc: self._word_ngrams(\n\u001b[0;32m--> 328\u001b[0;31m                 tokenize(preprocess(self.decode(doc))), stop_words)\n\u001b[0m\u001b[1;32m    329\u001b[0m \u001b[0;34m\u001b[0m\u001b[0m\n\u001b[1;32m    330\u001b[0m         \u001b[0;32melse\u001b[0m\u001b[0;34m:\u001b[0m\u001b[0;34m\u001b[0m\u001b[0;34m\u001b[0m\u001b[0m\n",
      "\u001b[0;32m/anaconda3/lib/python3.6/site-packages/sklearn/feature_extraction/text.py\u001b[0m in \u001b[0;36m<lambda>\u001b[0;34m(x)\u001b[0m\n\u001b[1;32m    254\u001b[0m \u001b[0;34m\u001b[0m\u001b[0m\n\u001b[1;32m    255\u001b[0m         \u001b[0;32mif\u001b[0m \u001b[0mself\u001b[0m\u001b[0;34m.\u001b[0m\u001b[0mlowercase\u001b[0m\u001b[0;34m:\u001b[0m\u001b[0;34m\u001b[0m\u001b[0;34m\u001b[0m\u001b[0m\n\u001b[0;32m--> 256\u001b[0;31m             \u001b[0;32mreturn\u001b[0m \u001b[0;32mlambda\u001b[0m \u001b[0mx\u001b[0m\u001b[0;34m:\u001b[0m \u001b[0mstrip_accents\u001b[0m\u001b[0;34m(\u001b[0m\u001b[0mx\u001b[0m\u001b[0;34m.\u001b[0m\u001b[0mlower\u001b[0m\u001b[0;34m(\u001b[0m\u001b[0;34m)\u001b[0m\u001b[0;34m)\u001b[0m\u001b[0;34m\u001b[0m\u001b[0;34m\u001b[0m\u001b[0m\n\u001b[0m\u001b[1;32m    257\u001b[0m         \u001b[0;32melse\u001b[0m\u001b[0;34m:\u001b[0m\u001b[0;34m\u001b[0m\u001b[0;34m\u001b[0m\u001b[0m\n\u001b[1;32m    258\u001b[0m             \u001b[0;32mreturn\u001b[0m \u001b[0mstrip_accents\u001b[0m\u001b[0;34m\u001b[0m\u001b[0;34m\u001b[0m\u001b[0m\n",
      "\u001b[0;32m/anaconda3/lib/python3.6/site-packages/scipy/sparse/base.py\u001b[0m in \u001b[0;36m__getattr__\u001b[0;34m(self, attr)\u001b[0m\n\u001b[1;32m    684\u001b[0m             \u001b[0;32mreturn\u001b[0m \u001b[0mself\u001b[0m\u001b[0;34m.\u001b[0m\u001b[0mgetnnz\u001b[0m\u001b[0;34m(\u001b[0m\u001b[0;34m)\u001b[0m\u001b[0;34m\u001b[0m\u001b[0;34m\u001b[0m\u001b[0m\n\u001b[1;32m    685\u001b[0m         \u001b[0;32melse\u001b[0m\u001b[0;34m:\u001b[0m\u001b[0;34m\u001b[0m\u001b[0;34m\u001b[0m\u001b[0m\n\u001b[0;32m--> 686\u001b[0;31m             \u001b[0;32mraise\u001b[0m \u001b[0mAttributeError\u001b[0m\u001b[0;34m(\u001b[0m\u001b[0mattr\u001b[0m \u001b[0;34m+\u001b[0m \u001b[0;34m\" not found\"\u001b[0m\u001b[0;34m)\u001b[0m\u001b[0;34m\u001b[0m\u001b[0;34m\u001b[0m\u001b[0m\n\u001b[0m\u001b[1;32m    687\u001b[0m \u001b[0;34m\u001b[0m\u001b[0m\n\u001b[1;32m    688\u001b[0m     \u001b[0;32mdef\u001b[0m \u001b[0mtranspose\u001b[0m\u001b[0;34m(\u001b[0m\u001b[0mself\u001b[0m\u001b[0;34m,\u001b[0m \u001b[0maxes\u001b[0m\u001b[0;34m=\u001b[0m\u001b[0;32mNone\u001b[0m\u001b[0;34m,\u001b[0m \u001b[0mcopy\u001b[0m\u001b[0;34m=\u001b[0m\u001b[0;32mFalse\u001b[0m\u001b[0;34m)\u001b[0m\u001b[0;34m:\u001b[0m\u001b[0;34m\u001b[0m\u001b[0;34m\u001b[0m\u001b[0m\n",
      "\u001b[0;31mAttributeError\u001b[0m: lower not found"
     ]
    }
   ],
   "source": [
    "count_vect_bigram = CountVectorizer(ngram_range=(1,2))\n",
    "train_data_bow_bigram = count_vect_bigram.fit_transform(X_train_tfidf)\n"
   ]
  },
  {
   "cell_type": "code",
   "execution_count": null,
   "metadata": {},
   "outputs": [],
   "source": [
    "#Confusion matrix for Bigram tf-idf with Logistic Regression\n",
    "\n",
    "lr = LogisticRegression()\n",
    "lr.fit(train_data_bow_bigram,y_train)\n",
    "\n",
    "print('Training set score:', lr.score(train_data_bow_bigram, y_train))\n",
    "print('\\nTest set score:', lr.score(test_data_bow_bigram, y_test))\n",
    "\n",
    "y_pred = lr.predict(test_data_bow_bigram)\n",
    "\n",
    "conf = confusion_matrix(y_test, y_pred, labels = handles)\n",
    "\n",
    "cm = pd.DataFrame(conf, index = [i for i in handles],\n",
    "                  columns = [i for i in handles])\n",
    "plt.figure(figsize = (15,7))\n",
    "sns.heatmap(cm, annot=True, cmap=\"YlOrRd\", fmt = 'd')\n",
    "crs = cross_val_score(lr, train_data_bow_bigram, y_train, cv=10)\n",
    "print(\"Cross-Valid Bigram Fold Results are: \",crs)\n",
    "print(\"Mean of Folds are = \",crs.mean())"
   ]
  }
 ],
 "metadata": {
  "kernelspec": {
   "display_name": "Python [conda root]",
   "language": "python",
   "name": "conda-root-py"
  },
  "language_info": {
   "codemirror_mode": {
    "name": "ipython",
    "version": 3
   },
   "file_extension": ".py",
   "mimetype": "text/x-python",
   "name": "python",
   "nbconvert_exporter": "python",
   "pygments_lexer": "ipython3",
   "version": "3.6.8"
  }
 },
 "nbformat": 4,
 "nbformat_minor": 2
}
