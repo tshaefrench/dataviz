{
 "cells": [
  {
   "cell_type": "code",
   "execution_count": 1,
   "metadata": {},
   "outputs": [],
   "source": [
    "#standard imports\n",
    "import numpy as np\n",
    "import pandas as pd\n",
    "import scipy\n",
    "import matplotlib.pyplot as plt\n",
    "import seaborn as sns\n",
    "%matplotlib inline\n",
    "#sklearn\n",
    "from sklearn.model_selection import train_test_split\n",
    "from sklearn.feature_extraction.text import TfidfVectorizer"
   ]
  },
  {
   "cell_type": "code",
   "execution_count": 2,
   "metadata": {},
   "outputs": [],
   "source": [
    "from sklearn.datasets import fetch_20newsgroups"
   ]
  },
  {
   "cell_type": "code",
   "execution_count": 3,
   "metadata": {},
   "outputs": [],
   "source": [
    "categories = ['talk.politics.mideast',\n",
    " 'rec.autos',\n",
    " 'comp.sys.mac.hardware',\n",
    " 'alt.atheism',\n",
    " 'rec.sport.baseball',\n",
    " 'comp.os.ms-windows.misc',\n",
    " 'rec.sport.hockey',\n",
    " 'sci.crypt',\n",
    " 'sci.med',\n",
    " 'talk.politics.misc',\n",
    " 'rec.motorcycles',\n",
    " 'comp.windows.x',\n",
    " 'comp.graphics',\n",
    " 'comp.sys.ibm.pc.hardware',\n",
    " 'sci.electronics',\n",
    " 'talk.politics.guns',\n",
    " 'sci.space',\n",
    " 'soc.religion.christian',\n",
    " 'misc.forsale',\n",
    " 'talk.religion.misc']"
   ]
  },
  {
   "cell_type": "markdown",
   "metadata": {},
   "source": [
    "Quick and simple way to avoid any hidden folders, etc."
   ]
  },
  {
   "cell_type": "code",
   "execution_count": 4,
   "metadata": {},
   "outputs": [],
   "source": [
    "newsgroups = fetch_20newsgroups(remove=('headers', 'footers', 'quotes'), categories = categories)"
   ]
  },
  {
   "cell_type": "code",
   "execution_count": 5,
   "metadata": {},
   "outputs": [],
   "source": [
    "#X_train, X_test = train_test_split(newsgroups, test_size=0.25, random_state=42)"
   ]
  },
  {
   "cell_type": "code",
   "execution_count": 9,
   "metadata": {},
   "outputs": [],
   "source": [
    "#tf-idf\n",
    "vectorizer = TfidfVectorizer(stop_words = 'english')\n",
    "X_train_tfidf = vectorizer.fit_transform(newsgroups.data)\n",
    "# Getting the word list.\n",
    "terms = vectorizer.get_feature_names()\n",
    "# Number of topics.\n",
    "ntopics=5"
   ]
  },
  {
   "cell_type": "code",
   "execution_count": 10,
   "metadata": {},
   "outputs": [
    {
     "data": {
      "text/plain": [
       "(11314, 101322)"
      ]
     },
     "execution_count": 10,
     "metadata": {},
     "output_type": "execute_result"
    }
   ],
   "source": [
    "X_train_tfidf.shape"
   ]
  },
  {
   "cell_type": "code",
   "execution_count": 11,
   "metadata": {},
   "outputs": [],
   "source": [
    "# Linking words to topics\n",
    "def word_topic(X_train_tfidf,solution, wordlist):\n",
    "    \n",
    "    # Loading scores for each word on each topic/component.\n",
    "    words_by_topic=X_train_tfidf.T * solution\n",
    "\n",
    "    # Linking the loadings to the words in an easy-to-read way.\n",
    "    components=pd.DataFrame(words_by_topic,index=wordlist)\n",
    "    \n",
    "    return components\n",
    "\n",
    "# Extracts the top N words and their loadings for each topic.\n",
    "def top_words(components, n_top_words):\n",
    "    n_topics = range(components.shape[1])\n",
    "    index= np.repeat(n_topics, n_top_words, axis=0)\n",
    "    topwords=pd.Series(index=index)\n",
    "    for column in range(components.shape[1]):\n",
    "        # Sort the column so that highest loadings are at the top.\n",
    "        sortedwords=components.iloc[:,column].sort_values(ascending=False)\n",
    "        # Choose the N highest loadings.\n",
    "        chosen=sortedwords[:n_top_words]\n",
    "        # Combine loading and index into a string.\n",
    "        chosenlist=chosen.index +\" \"+round(chosen,2).map(str) \n",
    "        topwords.loc[column]=chosenlist\n",
    "    return(topwords)\n",
    "\n",
    "# Number of words to look at for each topic.\n",
    "n_top_words = 10"
   ]
  },
  {
   "cell_type": "code",
   "execution_count": 12,
   "metadata": {},
   "outputs": [],
   "source": [
    "# LSA\n",
    "\n",
    "from sklearn.decomposition import TruncatedSVD\n",
    "from sklearn.pipeline import make_pipeline\n",
    "from sklearn.preprocessing import Normalizer\n",
    "\n",
    "svd= TruncatedSVD(ntopics)\n",
    "lsa = make_pipeline(svd, Normalizer(copy=False))\n",
    "newsgroups_lsa = lsa.fit_transform(X_train_tfidf)\n",
    "\n",
    "components_lsa = word_topic(X_train_tfidf, newsgroups_lsa, terms)\n",
    "\n",
    "topwords=pd.DataFrame()\n",
    "topwords['LSA']=top_words(components_lsa, n_top_words)   "
   ]
  },
  {
   "cell_type": "code",
   "execution_count": 13,
   "metadata": {},
   "outputs": [
    {
     "name": "stderr",
     "output_type": "stream",
     "text": [
      "/anaconda3/lib/python3.6/site-packages/sklearn/decomposition/online_lda.py:314: DeprecationWarning: n_topics has been renamed to n_components in version 0.19 and will be removed in 0.21\n",
      "  DeprecationWarning)\n"
     ]
    }
   ],
   "source": [
    "# LDA\n",
    "from sklearn.decomposition import LatentDirichletAllocation as LDA\n",
    "\n",
    "lda = LDA(n_topics=ntopics, \n",
    "          doc_topic_prior=None, # Prior = 1/n_documents\n",
    "          topic_word_prior=1/ntopics,\n",
    "          learning_decay=0.7, # Convergence rate.\n",
    "          learning_offset=10.0, # Causes earlier iterations to have less influence on the learning\n",
    "          max_iter=10, # when to stop even if the model is not converging (to prevent running forever)\n",
    "          evaluate_every=-1, # Do not evaluate perplexity, as it slows training time.\n",
    "          mean_change_tol=0.001, # Stop updating the document topic distribution in the E-step when mean change is < tol\n",
    "          max_doc_update_iter=100, # When to stop updating the document topic distribution in the E-step even if tol is not reached\n",
    "          n_jobs=-1, # Use all available CPUs to speed up processing time.\n",
    "          verbose=0, # amount of output to give while iterating\n",
    "          random_state=0\n",
    "         )\n",
    "\n",
    "newsgroups_lda = lda.fit_transform(X_train_tfidf) \n",
    "\n",
    "components_lda = word_topic(X_train_tfidf, newsgroups_lda, terms)\n",
    "\n",
    "topwords['LDA']=top_words(components_lda, n_top_words)"
   ]
  },
  {
   "cell_type": "code",
   "execution_count": 14,
   "metadata": {},
   "outputs": [],
   "source": [
    "# NNMF\n",
    "\n",
    "from sklearn.decomposition import NMF\n",
    "\n",
    "nmf = NMF(alpha=0.0, \n",
    "          init='nndsvdar', # how starting value are calculated\n",
    "          l1_ratio=0.0, # Sets whether regularization is L2 (0), L1 (1), or a combination (values between 0 and 1)\n",
    "          max_iter=200, # when to stop even if the model is not converging (to prevent running forever)\n",
    "          n_components=ntopics, \n",
    "          random_state=0, \n",
    "          solver='cd', # Use Coordinate Descent to solve\n",
    "          tol=0.0001, # model will stop if tfidf-WH <= tol\n",
    "          verbose=0 # amount of output to give while iterating\n",
    "         )\n",
    "newsgroups_nmf = nmf.fit_transform(X_train_tfidf) \n",
    "\n",
    "components_nmf = word_topic(X_train_tfidf, newsgroups_nmf, terms)\n",
    "\n",
    "topwords['NNMF']=top_words(components_nmf, n_top_words)"
   ]
  },
  {
   "cell_type": "code",
   "execution_count": 15,
   "metadata": {},
   "outputs": [
    {
     "name": "stdout",
     "output_type": "stream",
     "text": [
      "Topic 0:\n",
      "             LSA            LDA         NNMF\n",
      "0     just 121.7    just 114.45     don 4.44\n",
      "0    like 120.83     don 113.26  people 4.43\n",
      "0     don 117.88  people 110.65    just 4.25\n",
      "0    know 116.99    like 110.03   think 3.84\n",
      "0  people 103.84    know 103.83    like 3.79\n",
      "0     think 99.4    think 98.84    know 3.29\n",
      "0     does 94.41     does 83.98    good 2.85\n",
      "0      use 83.31     good 81.11    time 2.75\n",
      "0     good 83.25     time 80.21   right 2.29\n",
      "0     time 81.73      god 72.04     did 2.25\n",
      "Topic 1:\n",
      "              LSA            LDA          NNMF\n",
      "1    thanks 52.45        ax 7.04  windows 5.38\n",
      "1   windows 49.54       edu 6.35   thanks 4.71\n",
      "1      card 35.38      pitt 5.63    drive 3.73\n",
      "1     drive 34.65      know 5.63     card 3.52\n",
      "1      file 27.14      just 5.62     know 3.35\n",
      "1        dos 26.8     cadre 5.52     does 3.35\n",
      "1      mail 26.59       geb 5.49      use 3.22\n",
      "1       use 26.23       dsl 5.47      dos 2.84\n",
      "1  software 23.99  shameful 5.46     like 2.67\n",
      "1        pc 23.35  chastity 5.46     file 2.67\n",
      "Topic 2:\n",
      "               LSA           LDA             NNMF\n",
      "2        god 49.78  windows 37.7         god 9.41\n",
      "2    windows 23.35   thanks 31.4       jesus 4.08\n",
      "2      jesus 21.35    card 30.58      people 2.63\n",
      "2     thanks 20.94     use 24.25       bible 2.53\n",
      "2       does 17.71    drive 24.1     believe 2.41\n",
      "2      bible 14.12    file 23.06        does 2.09\n",
      "2       card 12.07     know 22.9       faith 1.99\n",
      "2  christians 11.5    does 22.82   christian 1.96\n",
      "2  christian 11.26    like 20.06  christians 1.92\n",
      "2        dos 11.17     dos 19.31      christ 1.91\n",
      "Topic 3:\n",
      "               LSA          LDA             NNMF\n",
      "3        edu 25.42    like 5.14         geb 3.17\n",
      "3       pitt 12.01     just 5.1         dsl 3.14\n",
      "3        soon 12.0    know 5.08        pitt 3.14\n",
      "3     gordon 11.59    does 4.79       n3jxp 3.14\n",
      "3  surrender 11.55  thanks 4.71    chastity 3.14\n",
      "3      banks 11.17      don 4.6       cadre 3.14\n",
      "3        geb 11.16   think 4.14    shameful 3.12\n",
      "3   shameful 10.92      use 3.7   intellect 3.11\n",
      "3      cadre 10.81  people 3.69  skepticism 3.11\n",
      "3  intellect 10.78      new 3.4   surrender 3.07\n",
      "Topic 4:\n",
      "                LSA          LDA             NNMF\n",
      "4         key 29.71    know 5.44          key 6.4\n",
      "4        chip 17.63    like 4.99         chip 4.1\n",
      "4  encryption 16.69     just 4.9  encryption 3.67\n",
      "4         use 15.82     don 4.63     clipper 3.13\n",
      "4  government 14.45    does 4.55        keys 2.74\n",
      "4     clipper 14.41  thanks 4.45  government 2.58\n",
      "4        file 13.63    think 3.9         use 2.12\n",
      "4        keys 13.08     use 3.73      escrow 1.92\n",
      "4     program 11.19  people 3.61         law 1.78\n",
      "4      public 10.84    good 3.51   algorithm 1.66\n"
     ]
    }
   ],
   "source": [
    "for topic in range(ntopics):\n",
    "    print('Topic {}:'.format(topic))\n",
    "    print(topwords.loc[topic])"
   ]
  },
  {
   "cell_type": "code",
   "execution_count": 16,
   "metadata": {},
   "outputs": [
    {
     "data": {
      "image/png": "[encoded data removed]",
      "text/plain": [
       "<Figure size 432x288 with 1 Axes>"
      ]
     },
     "metadata": {},
     "output_type": "display_data"
    },
    {
     "data": {
      "image/png": "[encoded data removed]",
      "text/plain": [
       "<Figure size 432x288 with 1 Axes>"
      ]
     },
     "metadata": {},
     "output_type": "display_data"
    },
    {
     "data": {
      "image/png": "[encoded data removed]",
      "text/plain": [
       "<Figure size 432x288 with 1 Axes>"
      ]
     },
     "metadata": {},
     "output_type": "display_data"
    },
    {
     "data": {
      "image/png": "[encoded data removed]",
      "text/plain": [
       "<Figure size 432x288 with 1 Axes>"
      ]
     },
     "metadata": {},
     "output_type": "display_data"
    }
   ],
   "source": [
    "# The words to look at.\n",
    "targetwords=['god','windows','thanks','people']\n",
    "\n",
    "# Storing the loadings.\n",
    "wordloadings=pd.DataFrame(columns=targetwords)\n",
    "\n",
    "# For each word, extracting and string the loadings for each method.\n",
    "for word in targetwords:\n",
    "    loadings=components_lsa.loc[word].append(\n",
    "        components_lda.loc[word]).append(\n",
    "            components_nmf.loc[word])\n",
    "    wordloadings[word]=loadings\n",
    "\n",
    "# Labeling the data by method and providing an ordering variable for graphing purposes. \n",
    "wordloadings['method']=np.repeat(['LSA','LDA','NNMF'], 5, axis=0)\n",
    "wordloadings['loading']=[0,1,2,3,4]*3\n",
    "\n",
    "sns.set(style=\"darkgrid\")\n",
    "\n",
    "for word in targetwords:\n",
    "    sns.barplot(x=\"method\", y=word, hue=\"loading\", data=wordloadings)\n",
    "    plt.title(word)\n",
    "    plt.ylabel(\"\")\n",
    "    plt.show()\n"
   ]
  },
  {
   "cell_type": "markdown",
   "metadata": {},
   "source": [
    "I think in this case LSA and LDA performed most strongly with this dataset.  I would improve it by adding additional stopwords to get some of the topics that seemed prevalent out (e.g. \"edu\"). I think this would strengthen the dataset quite a bit."
   ]
  }
 ],
 "metadata": {
  "kernelspec": {
   "display_name": "Python [conda root]",
   "language": "python",
   "name": "conda-root-py"
  },
  "language_info": {
   "codemirror_mode": {
    "name": "ipython",
    "version": 3
   },
   "file_extension": ".py",
   "mimetype": "text/x-python",
   "name": "python",
   "nbconvert_exporter": "python",
   "pygments_lexer": "ipython3",
   "version": "3.6.6"
  }
 },
 "nbformat": 4,
 "nbformat_minor": 2
}
