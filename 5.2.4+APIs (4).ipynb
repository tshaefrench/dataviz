{
 "cells": [
  {
   "cell_type": "markdown",
   "metadata": {},
   "source": [
    "## Challenge\n",
    "\n",
    "Do a little scraping or API-calling of your own.  Pick a new website and see what you can get out of it.  Expect that you'll run into bugs and blind alleys, and rely on your mentor to help you get through.  \n",
    "\n",
    "Formally, your goal is to write a scraper that will:\n",
    "\n",
    "1) Return specific pieces of information (rather than just downloading a whole page)  \n",
    "2) Iterate over multiple pages/queries  \n",
    "3) Save the data to your computer  \n",
    "\n",
    "Once you have your data, compute some statistical summaries and/or visualizations that give you some new insights into your scraping topic of interest.  Write up a report from scraping code to summary and share it with your mentor."
   ]
  },
  {
   "cell_type": "code",
   "execution_count": 1,
   "metadata": {},
   "outputs": [
    {
     "name": "stdout",
     "output_type": "stream",
     "text": [
      "Links extracted!\n"
     ]
    }
   ],
   "source": [
    "import scrapy\n",
    "from scrapy.crawler import CrawlerProcess\n",
    "\n",
    "\n",
    "class CraigslistSpider(scrapy.Spider):\n",
    "    name = \"CS\"\n",
    "    \n",
    "    # Here is where we insert our API call.\n",
    "    start_urls = [\n",
    "        'https://newyork.craigslist.org/search/aap'\n",
    "        ]\n",
    "\n",
    "    # Use XPath to parse the response we get.\n",
    "    def parse(self, response):\n",
    "        \n",
    "        # Iterate over every <article> element on the page.\n",
    "        for posting in response.xpath('//p'):\n",
    "            \n",
    "            # Yield a dictionary with the values we want.\n",
    "            yield {\n",
    "                # This is the code to choose what we want to extract\n",
    "                # You can modify this with other Xpath expressions to extract other information from the site\n",
    "                'title': posting.xpath('a[@class=\"result-title hdrlnk\"]/text()').extract_first(),\n",
    "                'date': posting.xpath('time[@class=\"result-date\"]/text()').extract_first(),\n",
    "                'price': posting.xpath('span/span[@class=\"result-price\"]/text()').extract_first()\n",
    "            }\n",
    "        \n",
    "        # scrape all pages\n",
    "        next_page_relative_url = response.xpath('//a[@class=\"button next\"]/@href').extract_first()\n",
    "        next_page_absolute_url = response.urljoin(next_page_relative_url)\n",
    "    \n",
    "process = CrawlerProcess({\n",
    "    'FEED_FORMAT': 'json',\n",
    "    'FEED_URI': 'apartments.json',\n",
    "    # Note that because we are doing API queries, the robots.txt file doesn't apply to us.\n",
    "    'USER_AGENT': 'ThinkfulDataScienceBootcampCrawler (thinkful.com)',\n",
    "    'LOG_ENABLED': False,\n",
    "    # We use CLOSESPIDER_PAGECOUNT to limit our scraper to the first 100 links.    \n",
    "    'CLOSESPIDER_PAGECOUNT' : 10\n",
    "})\n",
    "                                         \n",
    "\n",
    "# Starting the crawler with our spider.\n",
    "process.crawl(CraigslistSpider)\n",
    "process.start()\n",
    "print('Links extracted!')\n"
   ]
  },
  {
   "cell_type": "code",
   "execution_count": 2,
   "metadata": {},
   "outputs": [
    {
     "data": {
      "text/plain": [
       "str"
      ]
     },
     "execution_count": 2,
     "metadata": {},
     "output_type": "execute_result"
    }
   ],
   "source": [
    "type('apartments.json')"
   ]
  },
  {
   "cell_type": "code",
   "execution_count": 3,
   "metadata": {},
   "outputs": [
    {
     "name": "stdout",
     "output_type": "stream",
     "text": [
      "(120, 3)\n"
     ]
    },
    {
     "data": {
      "text/html": [
       "<div>\n",
       "<style scoped>\n",
       "    .dataframe tbody tr th:only-of-type {\n",
       "        vertical-align: middle;\n",
       "    }\n",
       "\n",
       "    .dataframe tbody tr th {\n",
       "        vertical-align: top;\n",
       "    }\n",
       "\n",
       "    .dataframe thead th {\n",
       "        text-align: right;\n",
       "    }\n",
       "</style>\n",
       "<table border=\"1\" class=\"dataframe\">\n",
       "  <thead>\n",
       "    <tr style=\"text-align: right;\">\n",
       "      <th></th>\n",
       "      <th>date</th>\n",
       "      <th>price</th>\n",
       "      <th>title</th>\n",
       "    </tr>\n",
       "  </thead>\n",
       "  <tbody>\n",
       "    <tr>\n",
       "      <th>0</th>\n",
       "      <td>Feb  2</td>\n",
       "      <td>$2800</td>\n",
       "      <td>this newly~-~ renovated 4 bed features hardwoo...</td>\n",
       "    </tr>\n",
       "    <tr>\n",
       "      <th>1</th>\n",
       "      <td>Feb  2</td>\n",
       "      <td>$3350</td>\n",
       "      <td>Duplex apartment, 3 bedrooms ❣❣ upstairs and t...</td>\n",
       "    </tr>\n",
       "    <tr>\n",
       "      <th>2</th>\n",
       "      <td>Feb  2</td>\n",
       "      <td>$2395</td>\n",
       "      <td>ALL NEW STUDIO WITH BALCONY FACING SOUTH GREAT...</td>\n",
       "    </tr>\n",
       "    <tr>\n",
       "      <th>3</th>\n",
       "      <td>Feb  2</td>\n",
       "      <td>$2062</td>\n",
       "      <td>►►►►►►►► BEST DEAL OF THE YEAR</td>\n",
       "    </tr>\n",
       "    <tr>\n",
       "      <th>4</th>\n",
       "      <td>Feb  2</td>\n",
       "      <td>$1200</td>\n",
       "      <td>$1,200 per month Room for Rent</td>\n",
       "    </tr>\n",
       "  </tbody>\n",
       "</table>\n",
       "</div>"
      ],
      "text/plain": [
       "     date  price                                              title\n",
       "0  Feb  2  $2800  this newly~-~ renovated 4 bed features hardwoo...\n",
       "1  Feb  2  $3350  Duplex apartment, 3 bedrooms ❣❣ upstairs and t...\n",
       "2  Feb  2  $2395  ALL NEW STUDIO WITH BALCONY FACING SOUTH GREAT...\n",
       "3  Feb  2  $2062                     ►►►►►►►► BEST DEAL OF THE YEAR\n",
       "4  Feb  2  $1200                     $1,200 per month Room for Rent"
      ]
     },
     "execution_count": 3,
     "metadata": {},
     "output_type": "execute_result"
    }
   ],
   "source": [
    "import pandas as pd\n",
    "\n",
    "# Turning JSON into Data Frame\n",
    "apartments = pd.read_json('apartments.json', orient='records')\n",
    "print(apartments.shape)\n",
    "apartments.head()"
   ]
  },
  {
   "cell_type": "code",
   "execution_count": 6,
   "metadata": {},
   "outputs": [
    {
     "data": {
      "text/html": [
       "<div>\n",
       "<style scoped>\n",
       "    .dataframe tbody tr th:only-of-type {\n",
       "        vertical-align: middle;\n",
       "    }\n",
       "\n",
       "    .dataframe tbody tr th {\n",
       "        vertical-align: top;\n",
       "    }\n",
       "\n",
       "    .dataframe thead th {\n",
       "        text-align: right;\n",
       "    }\n",
       "</style>\n",
       "<table border=\"1\" class=\"dataframe\">\n",
       "  <thead>\n",
       "    <tr style=\"text-align: right;\">\n",
       "      <th></th>\n",
       "      <th>date</th>\n",
       "      <th>price</th>\n",
       "      <th>title</th>\n",
       "    </tr>\n",
       "  </thead>\n",
       "  <tbody>\n",
       "    <tr>\n",
       "      <th>0</th>\n",
       "      <td>Feb  2</td>\n",
       "      <td>$2800</td>\n",
       "      <td>this newly~-~ renovated 4 bed features hardwoo...</td>\n",
       "    </tr>\n",
       "    <tr>\n",
       "      <th>1</th>\n",
       "      <td>Feb  2</td>\n",
       "      <td>$3350</td>\n",
       "      <td>Duplex apartment, 3 bedrooms ❣❣ upstairs and t...</td>\n",
       "    </tr>\n",
       "    <tr>\n",
       "      <th>2</th>\n",
       "      <td>Feb  2</td>\n",
       "      <td>$2395</td>\n",
       "      <td>ALL NEW STUDIO WITH BALCONY FACING SOUTH GREAT...</td>\n",
       "    </tr>\n",
       "    <tr>\n",
       "      <th>3</th>\n",
       "      <td>Feb  2</td>\n",
       "      <td>$2062</td>\n",
       "      <td>►►►►►►►► BEST DEAL OF THE YEAR</td>\n",
       "    </tr>\n",
       "    <tr>\n",
       "      <th>4</th>\n",
       "      <td>Feb  2</td>\n",
       "      <td>$1200</td>\n",
       "      <td>$1,200 per month Room for Rent</td>\n",
       "    </tr>\n",
       "    <tr>\n",
       "      <th>5</th>\n",
       "      <td>Feb  2</td>\n",
       "      <td>$2200</td>\n",
       "      <td>Elevator bldg ------ all amenities + Feb March...</td>\n",
       "    </tr>\n",
       "    <tr>\n",
       "      <th>6</th>\n",
       "      <td>Feb  2</td>\n",
       "      <td>$800</td>\n",
       "      <td>Black Rock,Bridgeport</td>\n",
       "    </tr>\n",
       "    <tr>\n",
       "      <th>7</th>\n",
       "      <td>Feb  2</td>\n",
       "      <td>$6500</td>\n",
       "      <td>NO BROKER FEE LUX DOORMAN BLDG HEALTH CLUB AND...</td>\n",
       "    </tr>\n",
       "    <tr>\n",
       "      <th>8</th>\n",
       "      <td>Feb  2</td>\n",
       "      <td>$2600</td>\n",
       "      <td>GORGEOUS LUXURY BUILDING WITH AMENITIES*GYM*RO...</td>\n",
       "    </tr>\n",
       "    <tr>\n",
       "      <th>9</th>\n",
       "      <td>Feb  2</td>\n",
       "      <td>$2795</td>\n",
       "      <td>SKYLIGHTS+HIGH CEILINGS! GREAT FOR SHARES*GYM*...</td>\n",
       "    </tr>\n",
       "  </tbody>\n",
       "</table>\n",
       "</div>"
      ],
      "text/plain": [
       "     date  price                                              title\n",
       "0  Feb  2  $2800  this newly~-~ renovated 4 bed features hardwoo...\n",
       "1  Feb  2  $3350  Duplex apartment, 3 bedrooms ❣❣ upstairs and t...\n",
       "2  Feb  2  $2395  ALL NEW STUDIO WITH BALCONY FACING SOUTH GREAT...\n",
       "3  Feb  2  $2062                     ►►►►►►►► BEST DEAL OF THE YEAR\n",
       "4  Feb  2  $1200                     $1,200 per month Room for Rent\n",
       "5  Feb  2  $2200  Elevator bldg ------ all amenities + Feb March...\n",
       "6  Feb  2   $800                              Black Rock,Bridgeport\n",
       "7  Feb  2  $6500  NO BROKER FEE LUX DOORMAN BLDG HEALTH CLUB AND...\n",
       "8  Feb  2  $2600  GORGEOUS LUXURY BUILDING WITH AMENITIES*GYM*RO...\n",
       "9  Feb  2  $2795  SKYLIGHTS+HIGH CEILINGS! GREAT FOR SHARES*GYM*..."
      ]
     },
     "execution_count": 6,
     "metadata": {},
     "output_type": "execute_result"
    }
   ],
   "source": [
    "apartments.head(10)"
   ]
  },
  {
   "cell_type": "code",
   "execution_count": 9,
   "metadata": {},
   "outputs": [],
   "source": [
    "import re\n",
    "apartments.price = apartments.price.map(lambda x: None if x == None else int(re.sub('\\$', '', str(x))))"
   ]
  },
  {
   "cell_type": "markdown",
   "metadata": {},
   "source": [
    "Quick data cleaning since it included dollar signs in the price data that we'll use."
   ]
  },
  {
   "cell_type": "code",
   "execution_count": 10,
   "metadata": {},
   "outputs": [
    {
     "name": "stdout",
     "output_type": "stream",
     "text": [
      "Average Rent in NYC: 2538.186440677966\n"
     ]
    }
   ],
   "source": [
    "print('Average Rent in NYC:', apartments.price.mean())"
   ]
  },
  {
   "cell_type": "markdown",
   "metadata": {},
   "source": [
    "Yikes! NYC isn't cheap my friends."
   ]
  },
  {
   "cell_type": "code",
   "execution_count": 12,
   "metadata": {},
   "outputs": [
    {
     "data": {
      "image/png": "[encoded data removed]",
      "text/plain": [
       "<Figure size 432x288 with 1 Axes>"
      ]
     },
     "metadata": {},
     "output_type": "display_data"
    }
   ],
   "source": [
    "import matplotlib.pyplot as plt\n",
    "%matplotlib inline\n",
    "\n",
    "plt.hist(apartments.price, bins=3)\n",
    "plt.xlabel('Price')\n",
    "plt.ylabel('Count')\n",
    "plt.title('Price of Housing in NYC Craigslist')\n",
    "plt.show()"
   ]
  },
  {
   "cell_type": "markdown",
   "metadata": {},
   "source": [
    "While some of the outliers certainly bring the average up, it seems somewhere around $2,000 is the going rate for an apartment in NYC."
   ]
  },
  {
   "cell_type": "code",
   "execution_count": null,
   "metadata": {},
   "outputs": [],
   "source": []
  }
 ],
 "metadata": {
  "hide_input": false,
  "kernelspec": {
   "display_name": "Python [default]",
   "language": "python",
   "name": "python3"
  },
  "language_info": {
   "codemirror_mode": {
    "name": "ipython",
    "version": 3
   },
   "file_extension": ".py",
   "mimetype": "text/x-python",
   "name": "python",
   "nbconvert_exporter": "python",
   "pygments_lexer": "ipython3",
   "version": "3.6.6"
  }
 },
 "nbformat": 4,
 "nbformat_minor": 2
}
