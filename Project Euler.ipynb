{
 "cells": [
  {
   "cell_type": "markdown",
   "metadata": {},
   "source": [
    "# Project Euler"
   ]
  },
  {
   "cell_type": "markdown",
   "metadata": {},
   "source": [
    "### Question 1"
   ]
  },
  {
   "cell_type": "markdown",
   "metadata": {},
   "source": [
    "If we list all the natural numbers below 10 that are multiples of 3 or 5, we get 3, 5, 6 and 9. The sum of these multiples is 23.\n",
    "\n",
    "Find the sum of all the multiples of 3 or 5 below 1000."
   ]
  },
  {
   "cell_type": "code",
   "execution_count": 6,
   "metadata": {},
   "outputs": [
    {
     "name": "stdout",
     "output_type": "stream",
     "text": [
      "233168\n"
     ]
    }
   ],
   "source": [
    "def multiples_of_3_or_5():\n",
    "    for number in range(1000):\n",
    "        if not number % 3 or not number % 5:\n",
    "            yield number\n",
    "print(sum(multiples_of_3_or_5()))"
   ]
  },
  {
   "cell_type": "markdown",
   "metadata": {},
   "source": [
    "### Question 2"
   ]
  },
  {
   "cell_type": "code",
   "execution_count": 9,
   "metadata": {},
   "outputs": [
    {
     "data": {
      "text/plain": [
       "4613732"
      ]
     },
     "execution_count": 9,
     "metadata": {},
     "output_type": "execute_result"
    }
   ],
   "source": [
    "def compute():\n",
    "    ans = 0\n",
    "    x = 1\n",
    "    y = 2\n",
    "    \n",
    "    while x < 4000000:\n",
    "        if x % 2 == 0:\n",
    "            ans += x\n",
    "        x, y = y, x+y\n",
    "    return ans\n",
    "\n",
    "compute()"
   ]
  },
  {
   "cell_type": "markdown",
   "metadata": {},
   "source": [
    "### Question 3"
   ]
  },
  {
   "cell_type": "code",
   "execution_count": 12,
   "metadata": {},
   "outputs": [
    {
     "name": "stdout",
     "output_type": "stream",
     "text": [
      "3919\n"
     ]
    }
   ],
   "source": [
    "plist = [2]\n",
    "\n",
    "def primes(min, max):\n",
    "    if 2 >= min: yield 2\n",
    "    for i in range(3, max, 2):\n",
    "        for p in plist:\n",
    "            if i%p == 0 or p*p > i: break\n",
    "        if i%p:\n",
    "            plist.append(i)\n",
    "            if i >= min: yield i\n",
    "        \n",
    "def factors(number):\n",
    "    for prime in primes(2, number):\n",
    "        if number % prime == 0:\n",
    "            number /= prime\n",
    "            yield prime\n",
    "        if number == 1:\n",
    "            break\n",
    "\n",
    "print(max(factors(317584931803)))"
   ]
  },
  {
   "cell_type": "markdown",
   "metadata": {},
   "source": [
    "## Question 4"
   ]
  },
  {
   "cell_type": "code",
   "execution_count": 13,
   "metadata": {},
   "outputs": [
    {
     "name": "stdout",
     "output_type": "stream",
     "text": [
      "906609\n"
     ]
    }
   ],
   "source": [
    "ans = max(i * j\n",
    "    for i in range (100, 1000)\n",
    "    for j in range (100, 1000)\n",
    "    if str(i * j) == str(j * i)[::-1])\n",
    "print(ans)"
   ]
  },
  {
   "cell_type": "markdown",
   "metadata": {},
   "source": [
    "## Question 5"
   ]
  },
  {
   "cell_type": "code",
   "execution_count": 17,
   "metadata": {},
   "outputs": [
    {
     "name": "stdout",
     "output_type": "stream",
     "text": [
      "232792560\n"
     ]
    }
   ],
   "source": [
    "check_list = [11, 13, 14, 16, 17, 18, 19, 20]\n",
    "\n",
    "def find_solution(step):\n",
    "    for num in range(step, 999999999, step):\n",
    "        if all(num % n == 0 for n in check_list):\n",
    "            return num\n",
    "    return None\n",
    "\n",
    "if __name__ == '__main__':\n",
    "    solution = find_solution(20)\n",
    "    if solution is None:\n",
    "        print(\"No answer found\")\n",
    "    else:\n",
    "        print(solution)"
   ]
  },
  {
   "cell_type": "markdown",
   "metadata": {},
   "source": [
    "## Question 6"
   ]
  },
  {
   "cell_type": "code",
   "execution_count": 18,
   "metadata": {},
   "outputs": [
    {
     "data": {
      "text/plain": [
       "25164150"
      ]
     },
     "execution_count": 18,
     "metadata": {},
     "output_type": "execute_result"
    }
   ],
   "source": [
    "def compute(n):\n",
    "    N = n\n",
    "    s = sum(i for i in range(1, N + 1))\n",
    "    s2 = sum(i**2 for i in range(1, N + 1))\n",
    "    diff = s**2 - s2\n",
    "    return diff\n",
    "compute(100)"
   ]
  },
  {
   "cell_type": "markdown",
   "metadata": {},
   "source": [
    "## Question 7"
   ]
  },
  {
   "cell_type": "code",
   "execution_count": 19,
   "metadata": {},
   "outputs": [
    {
     "name": "stdout",
     "output_type": "stream",
     "text": [
      "10001 prime is  104743\n"
     ]
    }
   ],
   "source": [
    "def isprime(num):\n",
    "    if num >= 2:\n",
    "        for i in range(2, int(num ** 0.5)+1):\n",
    "            if not ( num % i ):\n",
    "                return False\n",
    "    else:\n",
    "        return False\n",
    "    return True\n",
    "\n",
    "count = 6\n",
    "num = 13\n",
    "while True:\n",
    "    num += 2\n",
    "    if isprime(num):\n",
    "        count += 1\n",
    "        if count == 10001:\n",
    "            break\n",
    "\n",
    "print(\"10001 prime is \", num)"
   ]
  },
  {
   "cell_type": "markdown",
   "metadata": {},
   "source": [
    "## Question 8"
   ]
  },
  {
   "cell_type": "code",
   "execution_count": 20,
   "metadata": {},
   "outputs": [
    {
     "name": "stdout",
     "output_type": "stream",
     "text": [
      "max 13 adj product is  23514624000\n"
     ]
    }
   ],
   "source": [
    "NUM = \"7316717653133062491922511967442657474235534919493496983520312774506326239578318016984801869478851843858615607891129494954595017379583319528532088055111254069874715852386305071569329096329522744304355766896648950445244523161731856403098711121722383113622298934233803081353362766142828064444866452387493035890729629049156044077239071381051585930796086670172427121883998797908792274921901699720888093776657273330010533678812202354218097512545405947522435258490771167055601360483958644670632441572215539753697817977846174064955149290862569321978468622482839722413756570560574902614079729686524145351004748216637048440319989000889524345065854122758866688116427171479924442928230863465674813919123162824586178664583591245665294765456828489128831426076900422421902267105562632111110937054421750694165896040807198403850962455444362981230987879927244284909188845801561660979191338754992005240636899125607176060588611646710940507754100225698315520005593572972571636269561882670428252483600823257530420752963450\"\n",
    "NUMADJ = 13\n",
    "\n",
    "def adjproduct(num):\n",
    "    prod = 1\n",
    "    for item in num:\n",
    "        prod *= int(item)\n",
    "    return prod\n",
    "\n",
    "adjprods = [adjproduct(NUM[i:i+NUMADJ]) for i in range(len(NUM)-NUMADJ+1)]\n",
    "\n",
    "print(\"max 13 adj product is \",max(adjprods))"
   ]
  },
  {
   "cell_type": "markdown",
   "metadata": {},
   "source": [
    "## Question 9"
   ]
  },
  {
   "cell_type": "code",
   "execution_count": 21,
   "metadata": {},
   "outputs": [
    {
     "data": {
      "text/plain": [
       "(200, 375, 425, 31875000)"
      ]
     },
     "execution_count": 21,
     "metadata": {},
     "output_type": "execute_result"
    }
   ],
   "source": [
    "def triplet_sum(n):\n",
    "    for i in range (1, n+1):\n",
    "        for j in range (1, n+1):\n",
    "            for k in range(1, n+1):\n",
    "                if i**2 + j**2 == k**2 and i+j+k==1000:\n",
    "                    return i, j, k, i*j*k\n",
    "triplet_sum(1000)"
   ]
  },
  {
   "cell_type": "markdown",
   "metadata": {},
   "source": [
    "## Question 10"
   ]
  },
  {
   "cell_type": "code",
   "execution_count": 22,
   "metadata": {},
   "outputs": [
    {
     "name": "stdout",
     "output_type": "stream",
     "text": [
      "sum of primes below 2 million is  142913828922\n"
     ]
    }
   ],
   "source": [
    "count = 2\n",
    "num = 3\n",
    "primes = [2,3]\n",
    "while num < 2000000:\n",
    "    num += 2\n",
    "    if isprime(num):\n",
    "        #count += 1\n",
    "        primes.append(num)\n",
    "\n",
    "print(\"sum of primes below 2 million is \",sum(primes))"
   ]
  }
 ],
 "metadata": {
  "kernelspec": {
   "display_name": "Python [conda root]",
   "language": "python",
   "name": "conda-root-py"
  },
  "language_info": {
   "codemirror_mode": {
    "name": "ipython",
    "version": 3
   },
   "file_extension": ".py",
   "mimetype": "text/x-python",
   "name": "python",
   "nbconvert_exporter": "python",
   "pygments_lexer": "ipython3",
   "version": "3.6.8"
  }
 },
 "nbformat": 4,
 "nbformat_minor": 2
}
