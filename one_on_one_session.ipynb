{
 "cells": [
  {
   "cell_type": "code",
   "execution_count": 2,
   "metadata": {},
   "outputs": [],
   "source": [
    "import gensim\n",
    "from glob import glob\n",
    "from lxml import html"
   ]
  },
  {
   "cell_type": "code",
   "execution_count": 4,
   "metadata": {},
   "outputs": [
    {
     "ename": "AttributeError",
     "evalue": "'function' object has no attribute 'glob'",
     "output_type": "error",
     "traceback": [
      "\u001b[0;31m---------------------------------------------------------------------------\u001b[0m",
      "\u001b[0;31mAttributeError\u001b[0m                            Traceback (most recent call last)",
      "\u001b[0;32m<ipython-input-4-ac3568abc3da>\u001b[0m in \u001b[0;36m<module>\u001b[0;34m()\u001b[0m\n\u001b[1;32m      1\u001b[0m \u001b[0mcollection\u001b[0m \u001b[0;34m=\u001b[0m \u001b[0;34m[\u001b[0m\u001b[0;34m]\u001b[0m\u001b[0;34m\u001b[0m\u001b[0;34m\u001b[0m\u001b[0m\n\u001b[0;32m----> 2\u001b[0;31m \u001b[0;32mfor\u001b[0m \u001b[0mfilename\u001b[0m \u001b[0;32min\u001b[0m \u001b[0mglob\u001b[0m\u001b[0;34m.\u001b[0m\u001b[0mglob\u001b[0m\u001b[0;34m(\u001b[0m\u001b[0;34m'/Users/tiffanyfrench/reut2-*'\u001b[0m\u001b[0;34m)\u001b[0m\u001b[0;34m:\u001b[0m\u001b[0;34m\u001b[0m\u001b[0;34m\u001b[0m\u001b[0m\n\u001b[0m\u001b[1;32m      3\u001b[0m     \u001b[0;32mwith\u001b[0m \u001b[0mopen\u001b[0m\u001b[0;34m(\u001b[0m\u001b[0mfilename\u001b[0m\u001b[0;34m)\u001b[0m \u001b[0;32mas\u001b[0m \u001b[0mfd\u001b[0m\u001b[0;34m:\u001b[0m\u001b[0;34m\u001b[0m\u001b[0;34m\u001b[0m\u001b[0m\n\u001b[1;32m      4\u001b[0m         \u001b[0;32mtry\u001b[0m\u001b[0;34m:\u001b[0m\u001b[0;34m\u001b[0m\u001b[0;34m\u001b[0m\u001b[0m\n\u001b[1;32m      5\u001b[0m             \u001b[0m_\u001b[0m \u001b[0;34m=\u001b[0m \u001b[0mhtml\u001b[0m\u001b[0;34m.\u001b[0m\u001b[0mfromstring\u001b[0m\u001b[0;34m(\u001b[0m\u001b[0mfd\u001b[0m\u001b[0;34m.\u001b[0m\u001b[0mread\u001b[0m\u001b[0;34m(\u001b[0m\u001b[0;34m)\u001b[0m\u001b[0;34m)\u001b[0m\u001b[0;34m\u001b[0m\u001b[0;34m\u001b[0m\u001b[0m\n",
      "\u001b[0;31mAttributeError\u001b[0m: 'function' object has no attribute 'glob'"
     ]
    }
   ],
   "source": [
    "collection = []\n",
    "for filename in glob.glob('/Users/tiffanyfrench/reut2-*'):\n",
    "    with open(filename) as fd:\n",
    "        try:\n",
    "            _ = html.fromstring(fd.read())\n",
    "        except UnicodeDecodeError:\n",
    "            print(f'skipped \"{filename}\"')\n",
    "            continue\n",
    "\n",
    "        for doc in _.body.iter('text'):\n",
    "            text = doc.text_content()\n",
    "            clean = gensim.utils.simple_preprocess(text)\n",
    "            collection.append(clean)"
   ]
  },
  {
   "cell_type": "code",
   "execution_count": 7,
   "metadata": {},
   "outputs": [],
   "source": [
    "id2word = gensim.corpora.Dictionary(collection)"
   ]
  },
  {
   "cell_type": "code",
   "execution_count": 8,
   "metadata": {},
   "outputs": [],
   "source": [
    "id2word.filter_extremes(no_below=20, no_above=.1)"
   ]
  },
  {
   "cell_type": "code",
   "execution_count": 9,
   "metadata": {},
   "outputs": [],
   "source": [
    "bow_collection = list(map(id2word.doc2bow, collection))"
   ]
  },
  {
   "cell_type": "code",
   "execution_count": 10,
   "metadata": {},
   "outputs": [
    {
     "ename": "ValueError",
     "evalue": "cannot compute LDA over an empty collection (no terms)",
     "output_type": "error",
     "traceback": [
      "\u001b[0;31m---------------------------------------------------------------------------\u001b[0m",
      "\u001b[0;31mValueError\u001b[0m                                Traceback (most recent call last)",
      "\u001b[0;32m<ipython-input-10-85bc94b45b9b>\u001b[0m in \u001b[0;36m<module>\u001b[0;34m()\u001b[0m\n\u001b[1;32m      2\u001b[0m     \u001b[0mcorpus\u001b[0m\u001b[0;34m=\u001b[0m\u001b[0mbow_collection\u001b[0m\u001b[0;34m,\u001b[0m\u001b[0;34m\u001b[0m\u001b[0;34m\u001b[0m\u001b[0m\n\u001b[1;32m      3\u001b[0m     \u001b[0mid2word\u001b[0m\u001b[0;34m=\u001b[0m\u001b[0mid2word\u001b[0m\u001b[0;34m,\u001b[0m\u001b[0;34m\u001b[0m\u001b[0;34m\u001b[0m\u001b[0m\n\u001b[0;32m----> 4\u001b[0;31m     \u001b[0mnum_topics\u001b[0m\u001b[0;34m=\u001b[0m\u001b[0;36m100\u001b[0m\u001b[0;34m,\u001b[0m\u001b[0;34m\u001b[0m\u001b[0;34m\u001b[0m\u001b[0m\n\u001b[0m\u001b[1;32m      5\u001b[0m )\n",
      "\u001b[0;32m/anaconda3/lib/python3.6/site-packages/gensim/models/ldamodel.py\u001b[0m in \u001b[0;36m__init__\u001b[0;34m(self, corpus, num_topics, id2word, distributed, chunksize, passes, update_every, alpha, eta, decay, offset, eval_every, iterations, gamma_threshold, minimum_probability, random_state, ns_conf, minimum_phi_value, per_word_topics, callbacks, dtype)\u001b[0m\n\u001b[1;32m    291\u001b[0m \u001b[0;34m\u001b[0m\u001b[0m\n\u001b[1;32m    292\u001b[0m         \u001b[0;32mif\u001b[0m \u001b[0mself\u001b[0m\u001b[0;34m.\u001b[0m\u001b[0mnum_terms\u001b[0m \u001b[0;34m==\u001b[0m \u001b[0;36m0\u001b[0m\u001b[0;34m:\u001b[0m\u001b[0;34m\u001b[0m\u001b[0;34m\u001b[0m\u001b[0m\n\u001b[0;32m--> 293\u001b[0;31m             \u001b[0;32mraise\u001b[0m \u001b[0mValueError\u001b[0m\u001b[0;34m(\u001b[0m\u001b[0;34m\"cannot compute LDA over an empty collection (no terms)\"\u001b[0m\u001b[0;34m)\u001b[0m\u001b[0;34m\u001b[0m\u001b[0;34m\u001b[0m\u001b[0m\n\u001b[0m\u001b[1;32m    294\u001b[0m \u001b[0;34m\u001b[0m\u001b[0m\n\u001b[1;32m    295\u001b[0m         \u001b[0mself\u001b[0m\u001b[0;34m.\u001b[0m\u001b[0mdistributed\u001b[0m \u001b[0;34m=\u001b[0m \u001b[0mbool\u001b[0m\u001b[0;34m(\u001b[0m\u001b[0mdistributed\u001b[0m\u001b[0;34m)\u001b[0m\u001b[0;34m\u001b[0m\u001b[0;34m\u001b[0m\u001b[0m\n",
      "\u001b[0;31mValueError\u001b[0m: cannot compute LDA over an empty collection (no terms)"
     ]
    }
   ],
   "source": [
    "lda = gensim.models.ldamodel.LdaModel(\n",
    "    corpus=bow_collection,\n",
    "    id2word=id2word,\n",
    "    num_topics=100,\n",
    ")"
   ]
  },
  {
   "cell_type": "code",
   "execution_count": 113,
   "metadata": {},
   "outputs": [],
   "source": [
    "one = '''\n",
    "Whales are creatures of the open ocean; they feed, mate, give birth, \n",
    "suckle and raise their young at sea. So extreme is their adaptation \n",
    "to life underwater that they are unable to survive on land. Whales \n",
    "range in size from the 2.6 metres (8.5 ft) and 135 kilograms (298 lb) \n",
    "dwarf sperm whale to the 29.9 metres (98 ft) and 190 metric tons \n",
    "(210 short tons) blue whale, which is the largest creature that has \n",
    "ever lived. The sperm whale is the largest toothed predator on earth. \n",
    "Several species exhibit sexual dimorphism, in that the females are \n",
    "larger than males. Baleen whales have no teeth; instead they have \n",
    "plates of baleen, a fringe-like structure used to expel water while \n",
    "retaining the krill and plankton which they feed on. They use their \n",
    "throat pleats to expand the mouth to take in huge gulps of water. \n",
    "Balaenids have heads that can make up 40% of their body mass to take \n",
    "in water. Toothed whales, on the other hand, have conical teeth \n",
    "adapted to catching fish or squid. Baleen whales have a well \n",
    "developed sense of \"smell\", whereas toothed whales have \n",
    "well-developed hearing − their hearing, that is adapted for both air \n",
    "and water, is so well developed that some can survive even if they \n",
    "are blind. Some species, such as sperm whales, are well adapted for \n",
    "diving to great depths to catch squid and other favoured prey.\n",
    "'''"
   ]
  },
  {
   "cell_type": "code",
   "execution_count": 116,
   "metadata": {},
   "outputs": [],
   "source": [
    "?lda.get_document_topics"
   ]
  },
  {
   "cell_type": "code",
   "execution_count": 119,
   "metadata": {},
   "outputs": [],
   "source": [
    "bow = id2word.doc2bow(gensim.utils.simple_preprocess(one))\n",
    "topics = lda.get_document_topics(bow, minimum_probability=0)"
   ]
  },
  {
   "cell_type": "code",
   "execution_count": 117,
   "metadata": {},
   "outputs": [
    {
     "name": "stdout",
     "output_type": "stream",
     "text": [
      "\n",
      ":: 0 (0.013%)\n",
      " stg, london, plc, england, assistance,\n",
      ":: 1 (0.013%)\n",
      " sales, days, second, car, phelps,\n",
      ":: 2 (3.6%)\n",
      " blah, says, ton, ore, tons,\n",
      ":: 3 (3.0%)\n",
      " sterling, start, link, night, fairchild,\n",
      ":: 4 (0.013%)\n",
      " savings, federal, association, home, loan,\n",
      ":: 5 (0.013%)\n",
      " ltd, bond, lead, london, morgan,\n",
      ":: 6 (0.013%)\n",
      " contract, aluminium, gets, metal, awarded,\n",
      ":: 7 (0.013%)\n",
      " record, dividend, pay, div, prior,\n",
      ":: 8 (0.013%)\n",
      " warrants, issue, each, price, receipts,\n",
      ":: 9 (0.013%)\n",
      " securities, commission, sec, usair, twa,\n",
      ":: 10 (0.013%)\n",
      " court, texas, against, state, district,\n",
      ":: 11 (2.3%)\n",
      " technology, sea, ships, anti, investigation,\n",
      ":: 12 (0.013%)\n",
      " acquisition, group, pacific, sale, american,\n",
      ":: 13 (0.013%)\n",
      " stake, gas, group, investment, natural,\n",
      ":: 14 (0.013%)\n",
      " mexico, lawson, buffer, pact, mexican,\n",
      ":: 15 (0.013%)\n",
      " saudi, palm, shipment, arabia, malaysian,\n",
      ":: 16 (0.013%)\n",
      " west, inflation, growth, german, prices,\n",
      ":: 17 (0.013%)\n",
      " debt, analysts, moody, standard, cash,\n",
      ":: 18 (0.013%)\n",
      " el, westpac, costs, federal, cost,\n",
      ":: 19 (0.013%)\n",
      " express, coffee, merrill, lynch, american,\n",
      ":: 20 (0.013%)\n",
      " trade, china, gatt, foreign, subsidies,\n",
      ":: 21 (0.013%)\n",
      " quarter, earnings, fourth, stores, third,\n",
      ":: 22 (0.013%)\n",
      " soviet, union, soybean, farm, soviets,\n",
      ":: 23 (0.013%)\n",
      " computer, drug, jefferies, systems, allied,\n",
      ":: 24 (0.013%)\n",
      " preference, drilling, ordinary, california, santa,\n",
      ":: 25 (0.013%)\n",
      " fleet, port, labour, opinion, am,\n",
      ":: 26 (0.013%)\n",
      " futures, trading, index, chicago, contracts,\n",
      ":: 27 (0.013%)\n",
      " interstate, attack, conference, zinc, press,\n",
      ":: 28 (1.7%)\n",
      " economic, countries, paris, nations, states,\n",
      ":: 29 (0.013%)\n",
      " president, executive, chief, officer, chairman,\n",
      ":: 30 (0.013%)\n",
      " tax, board, meeting, vote, house,\n",
      ":: 31 (0.013%)\n",
      " ec, sugar, european, community, commission,\n",
      ":: 32 (4.8%)\n",
      " test, charges, communist, nuclear, ship,\n",
      ":: 33 (0.013%)\n",
      " banks, francs, foreign, loans, sources,\n",
      ":: 34 (0.013%)\n",
      " canada, canadian, toronto, ltd, montreal,\n",
      ":: 35 (0.013%)\n",
      " traders, cocoa, london, trading, buying,\n",
      ":: 36 (0.013%)\n",
      " offered, aa, notice, institutional, swedish,\n",
      ":: 37 (0.013%)\n",
      " talks, dispute, bp, agreement, today,\n",
      ":: 38 (0.013%)\n",
      " power, electric, plant, amount, utility,\n",
      ":: 39 (0.013%)\n",
      " president, committee, his, who, house,\n",
      ":: 40 (0.013%)\n",
      " february, rise, rose, january, compared,\n",
      ":: 41 (0.013%)\n",
      " japan, yen, japanese, tokyo, trade,\n",
      ":: 42 (0.013%)\n",
      " gold, south, ltd, mine, australia,\n",
      ":: 43 (1.6%)\n",
      " options, steel, conversion, brokerage, communique,\n",
      ":: 44 (0.013%)\n",
      " chrysler, rand, settlement, pension, portfolio,\n",
      ":: 45 (0.013%)\n",
      " copper, china, metals, daily, nippon,\n",
      ":: 46 (7.1%)\n",
      " health, waste, water, ago, field,\n",
      ":: 47 (0.013%)\n",
      " los, angeles, stocks, investors, brokers,\n",
      ":: 48 (0.013%)\n",
      " revs, nine, note, mths, avg,\n",
      ":: 49 (3.0%)\n",
      " tonnes, wheat, department, grain, export,\n",
      ":: 50 (0.013%)\n",
      " joint, venture, letter, project, signed,\n",
      ":: 51 (1.4%)\n",
      " partnership, medical, limited, distribution, cents,\n",
      ":: 52 (0.013%)\n",
      " loan, city, loans, agreement, years,\n",
      ":: 53 (0.013%)\n",
      " miyazawa, plant, manufacturing, illinois, plants,\n",
      ":: 54 (0.013%)\n",
      " fed, reserve, week, aids, federal,\n",
      ":: 55 (0.013%)\n",
      " baker, treasury, secretary, us, week,\n",
      ":: 56 (0.013%)\n",
      " bonds, bond, swiss, issue, mark,\n",
      ":: 57 (1.5%)\n",
      " offer, tender, bid, dec, outstanding,\n",
      ":: 58 (0.013%)\n",
      " branch, purolator, courier, join, hutton,\n",
      ":: 59 (0.013%)\n",
      " gulf, iran, southern, military, iranian,\n",
      ":: 60 (0.013%)\n",
      " acid, asset, owned, computers, sa,\n",
      ":: 61 (0.013%)\n",
      " crop, weather, winter, acres, report,\n",
      ":: 62 (4.1e+01%)\n",
      " we, reagan, if, his, there,\n",
      ":: 63 (0.013%)\n",
      " bundesbank, iv, mutual, marks, call,\n",
      ":: 64 (0.013%)\n",
      " insurance, operations, results, fiscal, operating,\n",
      ":: 65 (3.0%)\n",
      " land, ecuador, veto, peru, pipeline,\n",
      ":: 66 (0.013%)\n",
      " oil, production, prices, output, opec,\n",
      ":: 67 (0.013%)\n",
      " january, february, rose, december, earlier,\n",
      ":: 68 (0.013%)\n",
      " budget, government, tax, deficit, fiscal,\n",
      ":: 69 (3.0%)\n",
      " debt, world, banks, countries, imf,\n",
      ":: 70 (0.013%)\n",
      " banks, banking, funds, money, bill,\n",
      ":: 71 (0.013%)\n",
      " credit, system, agreement, line, products,\n",
      ":: 72 (0.013%)\n",
      " fla, trust, purchased, boca, raton,\n",
      ":: 73 (0.013%)\n",
      " release, nasdaq, system, association, national,\n",
      ":: 74 (0.013%)\n",
      " salomon, brothers, guilders, philips, dutch,\n",
      ":: 75 (6.2%)\n",
      " africa, rain, south, food, strikes,\n",
      ":: 76 (0.013%)\n",
      " nakasone, could, miller, their, political,\n",
      ":: 77 (0.013%)\n",
      " marks, growth, profits, investment, economic,\n",
      ":: 78 (0.013%)\n",
      " rights, shearson, miners, voted, votes,\n",
      ":: 79 (0.013%)\n",
      " oil, energy, petroleum, prices, crude,\n",
      ":: 80 (0.013%)\n",
      " pound, ward, dollar, yesterday, best,\n",
      ":: 81 (0.013%)\n",
      " union, workers, strike, gm, general,\n",
      ":: 82 (0.013%)\n",
      " plan, debt, proposal, dome, creditors,\n",
      ":: 83 (1.7%)\n",
      " air, unit, aircraft, services, airlines,\n",
      ":: 84 (0.013%)\n",
      " merger, shareholders, suit, hughes, approved,\n",
      ":: 85 (0.013%)\n",
      " loss, profit, revs, oper, nil,\n",
      ":: 86 (0.013%)\n",
      " sales, notes, miles, american, off,\n",
      ":: 87 (0.013%)\n",
      " rate, rates, dollar, interest, currency,\n",
      ":: 88 (0.013%)\n",
      " buy, general, common, gencorp, industries,\n",
      ":: 89 (0.013%)\n",
      " brazil, brazilian, funaro, jose, center,\n",
      ":: 90 (0.013%)\n",
      " argentina, bills, franc, month, placement,\n",
      ":: 91 (0.013%)\n",
      " debentures, convertible, notes, subordinated, due,\n",
      ":: 92 (0.013%)\n",
      " corn, price, usda, shipping, stanley,\n",
      ":: 93 (0.013%)\n",
      " french, paris, retail, barley, maize,\n",
      ":: 94 (0.013%)\n",
      " units, supply, december, fell, rose,\n",
      ":: 95 (1.1e+01%)\n",
      " farm, proposals, agriculture, meeting, producers,\n",
      ":: 96 (3.0%)\n",
      " philippines, philippine, financing, manila, associated,\n",
      ":: 97 (0.013%)\n",
      " oct, ohio, johnson, chemlawn, conn,\n",
      ":: 98 (0.013%)\n",
      " yeutter, vehicles, affiliated, vehicle, motor,\n",
      ":: 99 (0.013%)\n",
      " offering, preferred, common, proceeds, fund,"
     ]
    }
   ],
   "source": [
    "for key, contribution in topics:\n",
    "    print(f'\\n:: {key} ({contribution*100:.2}%)')\n",
    "    for i, __ in lda.get_topic_terms(key, topn=5):\n",
    "        print(f' {id2word[i]}', end=',')"
   ]
  },
  {
   "cell_type": "code",
   "execution_count": 120,
   "metadata": {},
   "outputs": [],
   "source": [
    "??lda.get_document_topics"
   ]
  },
  {
   "cell_type": "code",
   "execution_count": 90,
   "metadata": {},
   "outputs": [],
   "source": []
  },
  {
   "cell_type": "code",
   "execution_count": 121,
   "metadata": {},
   "outputs": [],
   "source": [
    "??lda.inference"
   ]
  },
  {
   "cell_type": "code",
   "execution_count": 122,
   "metadata": {},
   "outputs": [
    {
     "data": {
      "text/plain": [
       "array([1.2829622e-04, 1.2829622e-04, 3.5820153e-02, 3.0075325e-02,\n",
       "       1.2829622e-04, 1.2829622e-04, 1.2829622e-04, 1.2829622e-04,\n",
       "       1.2829622e-04, 1.2829622e-04, 1.2829622e-04, 2.2704571e-02,\n",
       "       1.2829622e-04, 1.2829622e-04, 1.2829622e-04, 1.2829622e-04,\n",
       "       1.2829622e-04, 1.2829622e-04, 1.2829622e-04, 1.2829622e-04,\n",
       "       1.2829622e-04, 1.2829622e-04, 1.2829622e-04, 1.2829622e-04,\n",
       "       1.2829622e-04, 1.2829622e-04, 1.2829622e-04, 1.2829622e-04,\n",
       "       1.7070265e-02, 1.2829622e-04, 1.2829622e-04, 1.2829622e-04,\n",
       "       4.8054587e-02, 1.2829622e-04, 1.2829622e-04, 1.2829622e-04,\n",
       "       1.2829622e-04, 1.2829622e-04, 1.2829622e-04, 1.2829622e-04,\n",
       "       1.2829622e-04, 1.2829622e-04, 1.2829622e-04, 1.6206250e-02,\n",
       "       1.2829622e-04, 1.2829622e-04, 7.0734799e-02, 1.2829622e-04,\n",
       "       1.2829622e-04, 3.0298945e-02, 1.2829622e-04, 1.4112905e-02,\n",
       "       1.2829622e-04, 1.2829622e-04, 1.2829622e-04, 1.2829622e-04,\n",
       "       1.2829622e-04, 1.4834500e-02, 1.2829622e-04, 1.2829622e-04,\n",
       "       1.2829622e-04, 1.2829622e-04, 4.1427374e-01, 1.2829622e-04,\n",
       "       1.2829622e-04, 3.0254776e-02, 1.2829622e-04, 1.2829622e-04,\n",
       "       1.2829622e-04, 2.9838923e-02, 1.2829622e-04, 1.2829622e-04,\n",
       "       1.2829622e-04, 1.2829622e-04, 1.2829622e-04, 6.1774362e-02,\n",
       "       1.2829622e-04, 1.2829622e-04, 1.2829622e-04, 1.2829622e-04,\n",
       "       1.2829622e-04, 1.2829622e-04, 1.2829622e-04, 1.7313730e-02,\n",
       "       1.2829622e-04, 1.2829622e-04, 1.2829622e-04, 1.2829622e-04,\n",
       "       1.2829622e-04, 1.2829622e-04, 1.2829622e-04, 1.2829622e-04,\n",
       "       1.2829622e-04, 1.2829622e-04, 1.2829622e-04, 1.0628997e-01,\n",
       "       2.9693563e-02, 1.2829622e-04, 1.2829622e-04, 1.2829622e-04],\n",
       "      dtype=float32)"
      ]
     },
     "execution_count": 122,
     "metadata": {},
     "output_type": "execute_result"
    }
   ],
   "source": [
    "bow = id2word.doc2bow(gensim.utils.simple_preprocess(one))\n",
    "gamma, phi = lda.inference([bow])\n",
    "one_topics = gamma[0] / gamma[0].sum()\n",
    "one_topics"
   ]
  },
  {
   "cell_type": "code",
   "execution_count": 123,
   "metadata": {},
   "outputs": [
    {
     "data": {
      "text/plain": [
       "array([1.37087176e-04, 1.37087176e-04, 1.37087176e-04, 3.07984333e-02,\n",
       "       1.37087176e-04, 1.37087176e-04, 1.37087176e-04, 1.37087176e-04,\n",
       "       1.37087176e-04, 1.37087176e-04, 1.37087176e-04, 1.37087176e-04,\n",
       "       1.37087176e-04, 1.37087176e-04, 1.37087176e-04, 1.43771227e-02,\n",
       "       1.37087176e-04, 1.37087176e-04, 6.46264702e-02, 1.37087176e-04,\n",
       "       1.37087176e-04, 1.37087176e-04, 1.37087176e-04, 1.37087176e-04,\n",
       "       1.45604368e-02, 1.37087176e-04, 1.37087176e-04, 1.37087176e-04,\n",
       "       1.37087176e-04, 1.37087176e-04, 1.37087176e-04, 1.37087176e-04,\n",
       "       1.37087176e-04, 1.37087176e-04, 1.37087176e-04, 1.56509921e-01,\n",
       "       2.00531352e-02, 1.37087176e-04, 1.37087176e-04, 1.37087176e-04,\n",
       "       1.37087176e-04, 1.37087176e-04, 1.37087176e-04, 1.37087176e-04,\n",
       "       1.37087176e-04, 1.37087176e-04, 3.13944630e-02, 1.37087176e-04,\n",
       "       1.37087176e-04, 1.37087176e-04, 1.37087176e-04, 1.37087176e-04,\n",
       "       1.37087176e-04, 1.37087176e-04, 1.37087176e-04, 1.37087176e-04,\n",
       "       1.37087176e-04, 4.79622297e-02, 1.37087176e-04, 4.77043875e-02,\n",
       "       2.14802474e-02, 9.10102427e-02, 2.35225394e-01, 1.37087176e-04,\n",
       "       1.37087176e-04, 1.35534685e-02, 2.60578860e-02, 1.37087176e-04,\n",
       "       1.37087176e-04, 1.37087176e-04, 1.37087176e-04, 1.37087176e-04,\n",
       "       1.37087176e-04, 1.37087176e-04, 1.37087176e-04, 3.66741866e-02,\n",
       "       1.37087176e-04, 1.37087176e-04, 1.37087176e-04, 1.37087176e-04,\n",
       "       1.37087176e-04, 1.37087176e-04, 1.37087176e-04, 3.62463184e-02,\n",
       "       1.37087176e-04, 1.37087176e-04, 1.83053277e-02, 1.37087176e-04,\n",
       "       1.37087176e-04, 1.37087176e-04, 1.37087176e-04, 4.51357290e-02,\n",
       "       1.37087176e-04, 1.37087176e-04, 1.37087176e-04, 3.72203402e-02,\n",
       "       1.37087176e-04, 1.37087176e-04, 1.37087176e-04, 1.37087176e-04],\n",
       "      dtype=float32)"
      ]
     },
     "execution_count": 123,
     "metadata": {},
     "output_type": "execute_result"
    }
   ],
   "source": [
    "two = \"\"\"\n",
    "Whales have evolved from land-living mammals. As such whales must \n",
    "breathe air regularly, although they can remain submerged under \n",
    "water for long periods of time. Some species such as the sperm whale \n",
    "are able to stay submerged for as much as 90 minutes.[1] They have \n",
    "blowholes (modified nostrils) located on top of their heads, through \n",
    "which air is taken in and expelled. They are warm-blooded, and have \n",
    "a layer of fat, or blubber, under the skin. With streamlined fusiform \n",
    "bodies and two limbs that are modified into flippers, whales can \n",
    "travel at up to 20 knots, though they are not as flexible or agile as \n",
    "seals. Whales produce a great variety of vocalizations, notably the \n",
    "extended songs of the humpback whale. Although whales are widespread, \n",
    "most species prefer the colder waters of the Northern and Southern \n",
    "Hemispheres, and migrate to the equator to give birth. Species such as \n",
    "humpbacks and blue whales are capable of travelling thousands of miles \n",
    "without feeding. Males typically mate with multiple females every year, \n",
    "but females only mate every two to three years. Calves are typically \n",
    "born in the spring and summer months and females bear all the \n",
    "responsibility for raising them. Mothers of some species fast and nurse \n",
    "their young for one to two years.\n",
    "\"\"\"\n",
    "\n",
    "bow = id2word.doc2bow(gensim.utils.simple_preprocess(two))\n",
    "gamma, phi = lda.inference([bow])\n",
    "two_topics = gamma[0] / gamma[0].sum()\n",
    "two_topics"
   ]
  },
  {
   "cell_type": "code",
   "execution_count": 124,
   "metadata": {},
   "outputs": [
    {
     "data": {
      "text/plain": [
       "array([0.00014504, 0.11121283, 0.01971041, 0.00014504, 0.00014504,\n",
       "       0.00014504, 0.00014504, 0.00014504, 0.00014504, 0.00014504,\n",
       "       0.01861148, 0.00014504, 0.00014504, 0.00014504, 0.04049384,\n",
       "       0.00014504, 0.00014504, 0.00014504, 0.08689582, 0.00014504,\n",
       "       0.00014504, 0.00014504, 0.00014504, 0.00014504, 0.00014504,\n",
       "       0.00014504, 0.00014504, 0.08127526, 0.00014504, 0.00014504,\n",
       "       0.00014504, 0.00014504, 0.00014504, 0.00014504, 0.02468311,\n",
       "       0.00014504, 0.00014504, 0.00014504, 0.00014504, 0.00014504,\n",
       "       0.00014504, 0.01928862, 0.00014504, 0.00014504, 0.00014504,\n",
       "       0.00014504, 0.08799753, 0.00014504, 0.00014504, 0.00014504,\n",
       "       0.00014504, 0.00014504, 0.00014504, 0.00014504, 0.00014504,\n",
       "       0.00014504, 0.04051079, 0.02627189, 0.01621567, 0.00014504,\n",
       "       0.00014504, 0.00014504, 0.00014504, 0.00014504, 0.00014504,\n",
       "       0.00014504, 0.00014504, 0.04216   , 0.03285354, 0.07170033,\n",
       "       0.04113631, 0.04738518, 0.01583654, 0.00014504, 0.00014504,\n",
       "       0.00014504, 0.00014504, 0.07727709, 0.00014504, 0.00014504,\n",
       "       0.00014504, 0.00014504, 0.00014504, 0.03362538, 0.00014504,\n",
       "       0.00014504, 0.01945917, 0.00014504, 0.00014504, 0.00014504,\n",
       "       0.00014504, 0.03408605, 0.00014504, 0.00014504, 0.00014504,\n",
       "       0.00014504, 0.00014504, 0.00014504, 0.00014504, 0.00014504],\n",
       "      dtype=float32)"
      ]
     },
     "execution_count": 124,
     "metadata": {},
     "output_type": "execute_result"
    }
   ],
   "source": [
    "three = \"\"\"\n",
    "Curiosity is a car-sized rover designed to explore the crater Gale on \n",
    "Mars as part of NASA's Mars Science Laboratory mission (MSL).[3] \n",
    "Curiosity was launched from Cape Canaveral on November 26, 2011, at \n",
    "15:02 UTC and landed on Aeolis Palus inside Gale on Mars on August 6, \n",
    "2012, 05:17 UTC.[7][8][13] The Bradbury Landing site was less than 2.4 \n",
    "km (1.5 mi) from the center of the rover's touchdown target after a 560 \n",
    "million km (350 million mi) journey.[9][14] The rover's goals include \n",
    "an investigation of the Martian climate and geology; assessment of \n",
    "whether the selected field site inside Gale has ever offered \n",
    "environmental conditions favorable for microbial life, including \n",
    "investigation of the role of water; and planetary habitability studies \n",
    "in preparation for human exploration.[15][16]\n",
    "\n",
    "In December 2012, Curiosity's two-year mission was extended indefinitely,\n",
    "[17] and on August 5, 2017, NASA celebrated the fifth anniversary of the \n",
    "Curiosity rover landing.[18][19] The rover is still operational, and as \n",
    "of February 15, 2019, Curiosity has been on Mars for 2321 sols (2384 \n",
    "total days) since landing on August 6, 2012. (See current status.)\n",
    "\n",
    "Curiosity's design serves as the basis for the planned Mars 2020 rover, \n",
    "that will carry different scientific instruments.\n",
    "\"\"\"\n",
    "\n",
    "bow = id2word.doc2bow(gensim.utils.simple_preprocess(three))\n",
    "gamma, phi = lda.inference([bow])\n",
    "three_topics = gamma[0] / gamma[0].sum()\n",
    "three_topics"
   ]
  },
  {
   "cell_type": "code",
   "execution_count": 125,
   "metadata": {},
   "outputs": [],
   "source": [
    "import scipy"
   ]
  },
  {
   "cell_type": "code",
   "execution_count": 132,
   "metadata": {},
   "outputs": [
    {
     "data": {
      "text/plain": [
       "array([0.30274955])"
      ]
     },
     "execution_count": 132,
     "metadata": {},
     "output_type": "execute_result"
    }
   ],
   "source": [
    "scipy.spatial.distance.pdist([one_topics, two_topics])"
   ]
  },
  {
   "cell_type": "code",
   "execution_count": 133,
   "metadata": {},
   "outputs": [
    {
     "data": {
      "text/plain": [
       "array([0.4921023])"
      ]
     },
     "execution_count": 133,
     "metadata": {},
     "output_type": "execute_result"
    }
   ],
   "source": [
    "scipy.spatial.distance.pdist([one_topics, three_topics])"
   ]
  },
  {
   "cell_type": "code",
   "execution_count": 134,
   "metadata": {},
   "outputs": [
    {
     "data": {
      "text/plain": [
       "array([0.37748321])"
      ]
     },
     "execution_count": 134,
     "metadata": {},
     "output_type": "execute_result"
    }
   ],
   "source": [
    "scipy.spatial.distance.pdist([two_topics, three_topics])"
   ]
  },
  {
   "cell_type": "code",
   "execution_count": 135,
   "metadata": {},
   "outputs": [],
   "source": [
    "distances = 'braycurtis', 'canberra', 'chebyshev', 'cityblock', 'correlation', 'cosine', 'dice', 'euclidean', 'hamming', 'jaccard', 'jensenshannon', 'kulsinski', 'mahalanobis', 'matching', 'minkowski', 'rogerstanimoto', 'russellrao', 'seuclidean', 'sokalmichener', 'sokalsneath', 'sqeuclidean', 'yule'"
   ]
  },
  {
   "cell_type": "code",
   "execution_count": 137,
   "metadata": {},
   "outputs": [
    {
     "name": "stdout",
     "output_type": "stream",
     "text": [
      "braycurtis [0.70863555]\n",
      "canberra [0.75452321]\n",
      "chebyshev [0.55158917]\n",
      "cityblock [0.70863561]\n",
      "correlation [0.28397451]\n",
      "cosine [0.29919385]\n",
      "dice [nan]\n",
      "euclidean [0.6963077]\n",
      "hamming [1.]\n",
      "jaccard [1.]\n",
      "jensenshannon [0.74923541]\n",
      "kulsinski [nan]\n"
     ]
    },
    {
     "name": "stderr",
     "output_type": "stream",
     "text": [
      "/home/probinso/git/Tiffany/lda/venv/lib/python3.6/site-packages/ipykernel_launcher.py:5: RuntimeWarning: invalid value encountered in true_divide\n",
      "  \"\"\"\n"
     ]
    },
    {
     "ename": "ValueError",
     "evalue": "The number of observations (2) is too small; the covariance matrix is singular. For observations with 100 dimensions, at least 101 observations are required.",
     "output_type": "error",
     "traceback": [
      "\u001b[0;31m---------------------------------------------------------------------------\u001b[0m",
      "\u001b[0;31mValueError\u001b[0m                                Traceback (most recent call last)",
      "\u001b[0;32m<ipython-input-137-bc27d3118cce>\u001b[0m in \u001b[0;36m<module>\u001b[0;34m\u001b[0m\n\u001b[1;32m      1\u001b[0m \u001b[0;32mfor\u001b[0m \u001b[0md\u001b[0m \u001b[0;32min\u001b[0m \u001b[0mdistances\u001b[0m\u001b[0;34m:\u001b[0m\u001b[0;34m\u001b[0m\u001b[0m\n\u001b[0;32m----> 2\u001b[0;31m     \u001b[0ma\u001b[0m \u001b[0;34m=\u001b[0m \u001b[0mscipy\u001b[0m\u001b[0;34m.\u001b[0m\u001b[0mspatial\u001b[0m\u001b[0;34m.\u001b[0m\u001b[0mdistance\u001b[0m\u001b[0;34m.\u001b[0m\u001b[0mpdist\u001b[0m\u001b[0;34m(\u001b[0m\u001b[0;34m[\u001b[0m\u001b[0mone_topics\u001b[0m\u001b[0;34m,\u001b[0m \u001b[0mtwo_topics\u001b[0m\u001b[0;34m]\u001b[0m\u001b[0;34m,\u001b[0m \u001b[0md\u001b[0m\u001b[0;34m)\u001b[0m\u001b[0;34m\u001b[0m\u001b[0m\n\u001b[0m\u001b[1;32m      3\u001b[0m     \u001b[0mx\u001b[0m \u001b[0;34m=\u001b[0m \u001b[0mscipy\u001b[0m\u001b[0;34m.\u001b[0m\u001b[0mspatial\u001b[0m\u001b[0;34m.\u001b[0m\u001b[0mdistance\u001b[0m\u001b[0;34m.\u001b[0m\u001b[0mpdist\u001b[0m\u001b[0;34m(\u001b[0m\u001b[0;34m[\u001b[0m\u001b[0mtwo_topics\u001b[0m\u001b[0;34m,\u001b[0m \u001b[0mthree_topics\u001b[0m\u001b[0;34m]\u001b[0m\u001b[0;34m,\u001b[0m \u001b[0md\u001b[0m\u001b[0;34m)\u001b[0m\u001b[0;34m\u001b[0m\u001b[0m\n\u001b[1;32m      4\u001b[0m     \u001b[0my\u001b[0m \u001b[0;34m=\u001b[0m \u001b[0mscipy\u001b[0m\u001b[0;34m.\u001b[0m\u001b[0mspatial\u001b[0m\u001b[0;34m.\u001b[0m\u001b[0mdistance\u001b[0m\u001b[0;34m.\u001b[0m\u001b[0mpdist\u001b[0m\u001b[0;34m(\u001b[0m\u001b[0;34m[\u001b[0m\u001b[0mone_topics\u001b[0m\u001b[0;34m,\u001b[0m \u001b[0mthree_topics\u001b[0m\u001b[0;34m]\u001b[0m\u001b[0;34m,\u001b[0m \u001b[0md\u001b[0m\u001b[0;34m)\u001b[0m\u001b[0;34m\u001b[0m\u001b[0m\n\u001b[1;32m      5\u001b[0m     \u001b[0mprint\u001b[0m\u001b[0;34m(\u001b[0m\u001b[0md\u001b[0m\u001b[0;34m,\u001b[0m \u001b[0ma\u001b[0m \u001b[0;34m/\u001b[0m \u001b[0;34m(\u001b[0m\u001b[0;34m(\u001b[0m\u001b[0mx\u001b[0m \u001b[0;34m+\u001b[0m \u001b[0my\u001b[0m\u001b[0;34m)\u001b[0m\u001b[0;34m/\u001b[0m\u001b[0;36m2\u001b[0m\u001b[0;34m)\u001b[0m\u001b[0;34m)\u001b[0m\u001b[0;34m\u001b[0m\u001b[0m\n",
      "\u001b[0;32m~/git/Tiffany/lda/venv/lib/python3.6/site-packages/scipy/spatial/distance.py\u001b[0m in \u001b[0;36mpdist\u001b[0;34m(X, metric, *args, **kwargs)\u001b[0m\n\u001b[1;32m   2040\u001b[0m         \u001b[0;32mif\u001b[0m \u001b[0mmetric_name\u001b[0m \u001b[0;32mis\u001b[0m \u001b[0;32mnot\u001b[0m \u001b[0;32mNone\u001b[0m\u001b[0;34m:\u001b[0m\u001b[0;34m\u001b[0m\u001b[0m\n\u001b[1;32m   2041\u001b[0m             X, typ, kwargs = _validate_pdist_input(X, m, n,\n\u001b[0;32m-> 2042\u001b[0;31m                                                    metric_name, **kwargs)\n\u001b[0m\u001b[1;32m   2043\u001b[0m \u001b[0;34m\u001b[0m\u001b[0m\n\u001b[1;32m   2044\u001b[0m             \u001b[0;31m# get pdist wrapper\u001b[0m\u001b[0;34m\u001b[0m\u001b[0;34m\u001b[0m\u001b[0m\n",
      "\u001b[0;32m~/git/Tiffany/lda/venv/lib/python3.6/site-packages/scipy/spatial/distance.py\u001b[0m in \u001b[0;36m_validate_pdist_input\u001b[0;34m(X, m, n, metric_name, **kwargs)\u001b[0m\n\u001b[1;32m    296\u001b[0m         \u001b[0m_validate_kwargs\u001b[0m \u001b[0;34m=\u001b[0m \u001b[0m_METRICS\u001b[0m\u001b[0;34m[\u001b[0m\u001b[0mmetric_name\u001b[0m\u001b[0;34m]\u001b[0m\u001b[0;34m.\u001b[0m\u001b[0mvalidator\u001b[0m\u001b[0;34m\u001b[0m\u001b[0m\n\u001b[1;32m    297\u001b[0m         \u001b[0;32mif\u001b[0m \u001b[0m_validate_kwargs\u001b[0m\u001b[0;34m:\u001b[0m\u001b[0;34m\u001b[0m\u001b[0m\n\u001b[0;32m--> 298\u001b[0;31m             \u001b[0mkwargs\u001b[0m \u001b[0;34m=\u001b[0m \u001b[0m_validate_kwargs\u001b[0m\u001b[0;34m(\u001b[0m\u001b[0mX\u001b[0m\u001b[0;34m,\u001b[0m \u001b[0mm\u001b[0m\u001b[0;34m,\u001b[0m \u001b[0mn\u001b[0m\u001b[0;34m,\u001b[0m \u001b[0;34m**\u001b[0m\u001b[0mkwargs\u001b[0m\u001b[0;34m)\u001b[0m\u001b[0;34m\u001b[0m\u001b[0m\n\u001b[0m\u001b[1;32m    299\u001b[0m     \u001b[0;32melse\u001b[0m\u001b[0;34m:\u001b[0m\u001b[0;34m\u001b[0m\u001b[0m\n\u001b[1;32m    300\u001b[0m         \u001b[0mtyp\u001b[0m \u001b[0;34m=\u001b[0m \u001b[0;32mNone\u001b[0m\u001b[0;34m\u001b[0m\u001b[0m\n",
      "\u001b[0;32m~/git/Tiffany/lda/venv/lib/python3.6/site-packages/scipy/spatial/distance.py\u001b[0m in \u001b[0;36m_validate_mahalanobis_kwargs\u001b[0;34m(X, m, n, **kwargs)\u001b[0m\n\u001b[1;32m    271\u001b[0m                              \u001b[0;34m\"singular. For observations with %d \"\u001b[0m\u001b[0;34m\u001b[0m\u001b[0m\n\u001b[1;32m    272\u001b[0m                              \u001b[0;34m\"dimensions, at least %d observations \"\u001b[0m\u001b[0;34m\u001b[0m\u001b[0m\n\u001b[0;32m--> 273\u001b[0;31m                              \"are required.\" % (m, n, n + 1))\n\u001b[0m\u001b[1;32m    274\u001b[0m         \u001b[0mCV\u001b[0m \u001b[0;34m=\u001b[0m \u001b[0mnp\u001b[0m\u001b[0;34m.\u001b[0m\u001b[0matleast_2d\u001b[0m\u001b[0;34m(\u001b[0m\u001b[0mnp\u001b[0m\u001b[0;34m.\u001b[0m\u001b[0mcov\u001b[0m\u001b[0;34m(\u001b[0m\u001b[0mX\u001b[0m\u001b[0;34m.\u001b[0m\u001b[0mastype\u001b[0m\u001b[0;34m(\u001b[0m\u001b[0mnp\u001b[0m\u001b[0;34m.\u001b[0m\u001b[0mdouble\u001b[0m\u001b[0;34m)\u001b[0m\u001b[0;34m.\u001b[0m\u001b[0mT\u001b[0m\u001b[0;34m)\u001b[0m\u001b[0;34m)\u001b[0m\u001b[0;34m\u001b[0m\u001b[0m\n\u001b[1;32m    275\u001b[0m         \u001b[0mVI\u001b[0m \u001b[0;34m=\u001b[0m \u001b[0mnp\u001b[0m\u001b[0;34m.\u001b[0m\u001b[0mlinalg\u001b[0m\u001b[0;34m.\u001b[0m\u001b[0minv\u001b[0m\u001b[0;34m(\u001b[0m\u001b[0mCV\u001b[0m\u001b[0;34m)\u001b[0m\u001b[0;34m.\u001b[0m\u001b[0mT\u001b[0m\u001b[0;34m.\u001b[0m\u001b[0mcopy\u001b[0m\u001b[0;34m(\u001b[0m\u001b[0;34m)\u001b[0m\u001b[0;34m\u001b[0m\u001b[0m\n",
      "\u001b[0;31mValueError\u001b[0m: The number of observations (2) is too small; the covariance matrix is singular. For observations with 100 dimensions, at least 101 observations are required."
     ]
    }
   ],
   "source": [
    "for d in distances:\n",
    "    a = scipy.spatial.distance.pdist([one_topics, two_topics], d)\n",
    "    x = scipy.spatial.distance.pdist([two_topics, three_topics], d)\n",
    "    y = scipy.spatial.distance.pdist([one_topics, three_topics], d)\n",
    "    print(d, a / ((x + y)/2))"
   ]
  },
  {
   "cell_type": "code",
   "execution_count": 138,
   "metadata": {},
   "outputs": [],
   "source": [
    "import numpy as np"
   ]
  },
  {
   "cell_type": "code",
   "execution_count": 147,
   "metadata": {},
   "outputs": [],
   "source": [
    "x = np.asarray([7,8, 9, 0])\n",
    "idx = np.asarray([], dtype=np.int)\n",
    "jdx = np.asarray([2,3])"
   ]
  },
  {
   "cell_type": "code",
   "execution_count": 148,
   "metadata": {},
   "outputs": [
    {
     "data": {
      "text/plain": [
       "array([], dtype=int64)"
      ]
     },
     "execution_count": 148,
     "metadata": {},
     "output_type": "execute_result"
    }
   ],
   "source": [
    "x[idx]"
   ]
  }
 ],
 "metadata": {
  "kernelspec": {
   "display_name": "Python [conda root]",
   "language": "python",
   "name": "conda-root-py"
  },
  "language_info": {
   "codemirror_mode": {
    "name": "ipython",
    "version": 3
   },
   "file_extension": ".py",
   "mimetype": "text/x-python",
   "name": "python",
   "nbconvert_exporter": "python",
   "pygments_lexer": "ipython3",
   "version": "3.6.8"
  }
 },
 "nbformat": 4,
 "nbformat_minor": 2
}
